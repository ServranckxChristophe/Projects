{
 "cells": [
  {
   "cell_type": "markdown",
   "metadata": {},
   "source": [
    "## TP 2 : Traffic flow \n",
    "\n",
    "---\n",
    "\n",
    "Binôme : Khaled Ibrahim & Servranckx Christophe.\n",
    "\n",
    "---"
   ]
  },
  {
   "cell_type": "markdown",
   "metadata": {},
   "source": [
    "$\\underline{\\text{Objectif :}}$ réussir à modéliser et à décrire le système qu'est le flux de la circulation sur une route à une seule voie.\n",
    "\n",
    "Pour se faire, nous nous plaçerons ici dans le cas d'un trafic instable pour lequel nous pouvons utiliser l'équation de convection non-linéaire de la densité de voiture. En outre, nous procèderons à 2 simulations distinctes afin de mieux comprendre l'évolution de notre système sous différente conditions initiales (CI) et limites (CL) pour la densité de trafic. Nous aurons ainsi les deux ensembles de conditions suivant :\n",
    "\n",
    "Première simulation :\n",
    "\n",
    "$$\n",
    "\\left.\n",
    "    \\begin{array}{ll}\n",
    "         & x = numpy.linspace(0,L,nx)\\\\\n",
    "         & \\rho_0  = numpy.ones(nx).10\\\\\n",
    "         & \\rho_0[10:20]  = 50\\\\\n",
    "    \\end{array}\n",
    "\\right \\} \\text{  (CI) }\n",
    "$$\n",
    "\n",
    "\n",
    "$$\n",
    "\\left.\n",
    "    \\begin{array}{ll}\n",
    "         & \\rho(0,t) = 10\n",
    "    \\end{array}\n",
    "\\right \\} \\text{  (CL)}\n",
    "$$\n",
    "\n",
    "Seconde simulation :\n",
    "\n",
    "$$\n",
    "\\left.\n",
    "    \\begin{array}{ll}\n",
    "         & x = numpy.linspace(0,L,nx)\\\\\n",
    "         & \\rho_0  = numpy.ones(nx).20\\\\\n",
    "         & \\rho_0[10:20]  = 50\\\\\n",
    "    \\end{array}\n",
    "\\right \\} \\text{  (CI) }\n",
    "$$\n",
    "\n",
    "\n",
    "$$\n",
    "\\left.\n",
    "    \\begin{array}{ll}\n",
    "         & \\rho(0,t) = 20\n",
    "    \\end{array}\n",
    "\\right \\} \\text{  (CL)}\n",
    "$$\n",
    "\n",
    "Commençons sans plus tarder par le traitement de nos équations."
   ]
  },
  {
   "cell_type": "markdown",
   "metadata": {},
   "source": [
    "##### 1. Réécriture de l'équation de convection non-linéaire de la densité de voiture & discrétisations. \n",
    "---\n",
    "\n",
    "#### 1.1 Un bref rappel théorique.\n",
    "\n",
    "---\n",
    "\n",
    "Dans la partie théorique de l'énoncé de ce travail, nous avons vu que le flux, instable, de trafic peut-être modélisé comme la convection non-linéaire de la densité de voiture. Il en découllait donc pour notre problème:\n",
    "\n",
    "\\begin{align}\n",
    "\\frac{\\partial \\rho}{\\partial t} + \\frac{\\partial F}{\\partial \\rho} \\frac{\\partial \\rho}{\\partial x} = 0\\\\\n",
    "\\end{align}\n",
    "\n",
    "\n",
    "où\n",
    "\n",
    "\\begin{align}\n",
    "F = V(\\rho) \\rho = V_{max} \\rho \\left( 1- \\frac{\\rho}{\\rho_{max}} \\right)\n",
    "\\end{align}\n",
    "\n",
    "Avec,\n",
    "\n",
    "$$\n",
    "\\left\\{\n",
    "    \\begin{array}{ll}\n",
    "        &.V  \\text{, la vitesse de circulation (en km/h)} \\\\\n",
    "        &.V_{max}  \\text{, vitesse maximale que peuvent atteindre les}\\\\\n",
    "        &\\hspace{0.9cm}  \\text{voitures lorsque $\\rho→0$}\\\\\n",
    "        &.\\rho \\text{, la densité de trafic, c'est à dire le nombre de voiture}\\\\\n",
    "        &\\hspace{0.9cm}  \\text{par unité de longueur (en voitures/km)}\\\\\n",
    "        &. \\rho_{max},  \\text{la densité maximale atteinte lorsque les voitures}\\\\\n",
    "        &\\hspace{0.9cm}  \\text{sont \"pare-chocs contre pare-chocs\", et à laquelle}\\\\\n",
    "        &\\hspace{0.9cm}  \\text{correspond une vitesse nulle}\n",
    "    \\end{array}\n",
    "\\right.\n",
    "$$\n",
    "\n",
    "En appliquant la $règle\\ de\\ la\\ chaîne^{1}$ sur l'équation (1), nous obtenons alors: \n",
    "\n",
    "\\begin{align}\n",
    "\\frac{\\partial \\rho}{\\partial t} + \\frac{\\partial F}{\\partial x} = 0\\\\\n",
    "\\end{align}\n",
    "\n",
    "\n",
    "Nous allons maintenant passé à la discrétisation (afin de pouvoir résoudre numériquement notre problème) de nos équations. En effet, nous n'allons pas uniquement discrétiser l'équation (3) mais nous allons également discrétiser l'équation (1) et ce dans le but de comparer les résultats obtenus par ces deux discrétisations distinctes et d'en tirer d'éventuelles conclusions.\n",
    "\n",
    "---\n",
    "###### [1]. La règle de dérivation des fonctions composées ou \"règle de la chaîne\" s'énonce comme suit : Soit f une fonction dérivable en a et g dérivable en f(a). Alors la composition g o f est dérivable en a et on a : $(g◦f)'(a) = g'(f(a)) f'(a)$ ou dans la notation de Leibniz si $y=f(x)$ et $u=g(y)$ alors : $\\frac{du}{dx}=\\frac{du}{dy} \\frac{dy}{dx}$\n"
   ]
  },
  {
   "cell_type": "markdown",
   "metadata": {},
   "source": [
    "#### 1.2 Discrétisations. \n",
    "\n",
    "---\n",
    "\n",
    "* Discrétisation de l'équation  $\n",
    "\\frac{\\partial \\rho}{\\partial t} + \\frac{\\partial F}{\\partial \\rho} \\frac{\\partial \\rho}{\\partial x} = 0$ :\n",
    "\n",
    "---\n",
    "Pour se faire, nous calculons tout d'abord la dérivée $\\frac{\\partial F}{\\partial \\rho}$. Nous pourrions calculer cette dérivée à la main mais nous nous proposons d'utiliser ce que nous avons appris au cours du dernier notebook de la série *Space and Time — Introduction to Finite-difference solutions of PDEs*, e.g. l'emplois de l'une des fonctionnalités proposées par $sympy^{2}$ : le calcul d'une dérivée partielle. \n",
    "\n",
    "---\n",
    "###### [2] . Sympy est une librairie pour python qui propose de nombreuse fonctionnalités similaires à celle proposée par Mathematica tel que le calcul de dérivée, d'integrale, etc."
   ]
  },
  {
   "cell_type": "markdown",
   "metadata": {},
   "source": [
    "Commençons donc par importer la librairie sympy."
   ]
  },
  {
   "cell_type": "code",
   "execution_count": 1,
   "metadata": {
    "collapsed": true
   },
   "outputs": [],
   "source": [
    "# Import de la libraire.\n",
    "import sympy\n",
    "\n",
    "# Permet le renvois des résultats dans le style \"LaTeX\".\n",
    "from sympy import init_printing\n",
    "init_printing()"
   ]
  },
  {
   "cell_type": "markdown",
   "metadata": {},
   "source": [
    "Définissons à présent nos variables, l'expression de F (donnée par l'équation (2) ) et calculons enfin sa dérivée par rapport à $\\rho$."
   ]
  },
  {
   "cell_type": "code",
   "execution_count": 2,
   "metadata": {},
   "outputs": [
    {
     "data": {
      "image/png": "[encoded data removed]",
      "text/latex": [
       "$$- \\frac{\\rho v_{max}}{\\rho_{max}} + v_{max} \\left(- \\frac{\\rho}{\\rho_{max}} + 1\\right)$$"
      ],
      "text/plain": [
       "  ρ⋅vₘₐₓ        ⎛   ρ      ⎞\n",
       "- ────── + vₘₐₓ⋅⎜- ──── + 1⎟\n",
       "   ρₘₐₓ         ⎝  ρₘₐₓ    ⎠"
      ]
     },
     "execution_count": 2,
     "metadata": {},
     "output_type": "execute_result"
    }
   ],
   "source": [
    "# On définit nos variables.\n",
    "v_max, rho, rho_max = sympy.symbols('v_max, rho, rho_max')\n",
    "\n",
    "# Expression de F.\n",
    "F = v_max*rho*(-(rho/rho_max)+1)\n",
    "\n",
    "# Calcul de la dérivée.\n",
    "Fprime = F.diff(rho)\n",
    "\n",
    "# Affichage du résultat.\n",
    "Fprime"
   ]
  },
  {
   "cell_type": "markdown",
   "metadata": {},
   "source": [
    "Ce qui est le même résultat que celui obtenu à la main si nous réexprimons ceci en mettant $v_{max}$ en évidence et en simplifiant quelque peu l'expression:\n",
    "\n",
    "\n",
    "$\\hspace{2.5cm}\\frac{- \\rho v_{max}}{\\rho_{max}}+ v_{max} \\left( - \\frac{\\rho}{\\rho_{max}}+1 \\right)$ → $v_{max} \\left( 1- \\frac{2 \\rho}{\\rho_{max}} \\right)$\n",
    "\n",
    "Ainsi, nous avons obtenu grâce à sympy :\n",
    "\n",
    "\\begin{equation}\n",
    "\\frac{\\partial F}{\\partial \\rho} = v_{max} \\left( 1- \\frac{2 \\rho}{\\rho_{max}} \\right) \n",
    "\\end{equation}\n",
    "\n",
    "Et l'équation (1) devient alors :\n",
    "\n",
    "\\begin{equation}\n",
    "\\frac{\\partial \\rho}{\\partial t} + v_{max} \\left( 1- \\frac{2 \\rho}{\\rho_{max}} \\right)  \\frac{\\partial \\rho}{\\partial x} = 0\\\\\n",
    "\\end{equation}\n",
    "\n",
    "Nous pouvons à présent passer à la discrétisation de notre équation de convection. Pour se faire, nous utilisons comme demandé dans l'énoncé de ce travail personnel, la *forward-difference* pour la dérivée par rapport au temps et la *backward-difference* pour la dérivée par rapport à l'espace (ici, par rapport à x comme nous travaillons avec une équation à 1 dimension).\n",
    "\n",
    "Pour rappel, les discrétisations *forward-difference* et *backward-difference* de la dérivée partielle $\\frac{\\partial u}{\\partial x}$ (par exemple) sont données par :\n",
    "\n",
    "* Forward-difference: si on utilise les points $x_i$ et $x_i + \\Delta x$ alors la dérivée devient : $\\frac{\\partial u}{\\partial x} \\approx \\frac{u(x_{i+1})-u(x_i)}{\\Delta x}$.\n",
    "* Backward-difference: si on utilise les points $x_i$ et $x_i- \\Delta x$ alors la dérivée devient : $\\frac{\\partial u}{\\partial x} \\approx \\frac{u(x_i)-u(x_{i-1})}{\\Delta x}$.\n",
    "\n",
    "Donc en appliquant ces deux discrétisations à l'équation (5) il en découle l'équation suivante:\n",
    "\n",
    "\\begin{equation}\\frac{\\rho_i^{n+1}-\\rho_i^n}{\\Delta t} + v_{max} \\left( 1- \\frac{2 \\rho_i^{n}}{\\rho_{max}} \\right) \\frac{\\rho_i^n - \\rho_{i-1}^n}{\\Delta x} = 0, \\end{equation}\n",
    "\n",
    "Où la seule inconnue est $\\rho_i^{n+1}$ étant donné nos conditions initiales. En isolant cette inconnue nous obtenons :\n",
    "\n",
    "\\begin{equation}\n",
    "\\rho_{i}^{n+1}= \\rho_{i}^{n} - v_{max} \\frac{\\Delta t}{\\Delta x} \\left( 1- \\frac{2 \\rho_{i}^{n}}{\\rho_{max}} \\right) \\left( \\rho_{i}^n - \\rho_{i-1}^n \\right)\n",
    "\\end{equation}\n",
    "\n",
    "Que nous pouvons maintenant traiter numériquement.\n",
    "\n",
    "---\n",
    "* Discrétisation de l'équation $\\frac{\\partial \\rho}{\\partial t} + \\frac{\\partial F}{\\partial x} = 0 $:\n",
    "\n",
    "---\n",
    "\n",
    "Procédons maintenant à la discrétisation de cette seconde équation. À nouveau, nous utilisons les deux discrétisations demandées (forward & backward). Nous obtenons ainsi :\n",
    "\n",
    "$$\n",
    "\\left\\{\n",
    "    \\begin{array}{}\n",
    "        \\frac{\\partial F}{\\partial x}  \\approx \\frac{F_{i}^{n}-F_{i-1}^{n}}{\\Delta x}\\\\\n",
    "        \\frac{\\partial \\rho}{\\partial t}  \\approx \\frac{\\rho_{i}^{n+1}-\\rho_{i}^{n}}{\\Delta x}\n",
    "    \\end{array}{}\n",
    "\\right.\n",
    "$$\n",
    "\n",
    "où\n",
    "$$\n",
    "\\left\\{\n",
    "    \\begin{array}{}\n",
    "        F_{i}^{n} & = v_{max} \\rho_{i}^{n} \\left( 1- \\frac{\\rho_{i}^{n}}{\\rho_{max}} \\right)\\\\\n",
    "        F_{i-1}^{n} & = v_{max} \\rho_{i-1}^{n} \\left( 1- \\frac{\\rho_{i-1}^{n}}{\\rho_{max}} \\right)\n",
    "    \\end{array}{}\n",
    "\\right.\n",
    "$$\n",
    "\n",
    "Ainsi si on réintroduit ceci dans l'équation (3) et qu'on isole la seule inconnue $\\rho_i^{n+1}$, nous obtenons alors l'équation discrétisée :\n",
    "\n",
    "\\begin{equation}\n",
    "\\rho_{i}^{n+1}= \\rho_{i}^{n} - v_{max} \\frac{\\Delta t}{\\Delta x} \\left[\\rho_{i}^{n} \\left( 1- \\frac{ \\rho_{i}^{n}}{\\rho_{max}} \\right) - \\rho_{i-1}^n\\left( 1 - \\frac{ \\rho_{i-1}^{n}}{\\rho_{max}} \\right) \\right]\n",
    "\\end{equation}"
   ]
  },
  {
   "cell_type": "markdown",
   "metadata": {},
   "source": [
    "---\n",
    "##### 2. Résolution du problème suivant la discrétisation de l'équation (1).\n",
    "\n",
    "---\n",
    "\n",
    "#### PARTIE A .\n",
    "---"
   ]
  },
  {
   "cell_type": "markdown",
   "metadata": {},
   "source": [
    "Comme à notre habitude, nous commençons par importer les librairies \"numpy\", matplotlib et JSAnimation. Cette dernière sera utile pour \"animer nos graphes\"."
   ]
  },
  {
   "cell_type": "code",
   "execution_count": 3,
   "metadata": {
    "collapsed": true
   },
   "outputs": [],
   "source": [
    "import numpy\n",
    "from matplotlib import pyplot, animation, rcParams\n",
    "%matplotlib inline\n",
    "from IPython.display import HTML\n",
    "rcParams['font.family'] = 'serif'\n",
    "rcParams['font.size'] = 16"
   ]
  },
  {
   "cell_type": "markdown",
   "metadata": {},
   "source": [
    "Nous déclarons ensuite nos données pour cette première partie à savoir la vitesse maximale du trafic,la longueur de la route,..."
   ]
  },
  {
   "cell_type": "code",
   "execution_count": 4,
   "metadata": {
    "collapsed": true
   },
   "outputs": [],
   "source": [
    "# Déclaration des variables:\n",
    "\n",
    "v_max = 80       # en km/h\n",
    "L     = 11       # en km\n",
    "rho_max = 250    # en voitures/km\n",
    "nx    = 51       # nombre de point de la grille des positions\n",
    "dx    = L/(nx-1) # intervalle entre chaque point de la grille\n",
    "dt    = 0.001    # h"
   ]
  },
  {
   "cell_type": "markdown",
   "metadata": {},
   "source": [
    "Et nos conditions initiales, e.g. une densité de voiture décrite de la manière suivante:"
   ]
  },
  {
   "cell_type": "code",
   "execution_count": 5,
   "metadata": {
    "collapsed": true
   },
   "outputs": [],
   "source": [
    "# Conditions initiales pour la densité de trafic:\n",
    "\n",
    "x = numpy.linspace(0,L,nx)\n",
    "rho0A = numpy.ones(nx)*10\n",
    "rho0A[10:20] = 50"
   ]
  },
  {
   "cell_type": "markdown",
   "metadata": {},
   "source": [
    "Vérifions à présent que nos conditions initiales ont correctement été initialisées en réalisant le graphique de la densité en fonction de la position."
   ]
  },
  {
   "cell_type": "code",
   "execution_count": 6,
   "metadata": {},
   "outputs": [
    {
     "data": {
      "image/png": "[encoded data removed]",
      "text/plain": [
       "<Figure size 432x288 with 1 Axes>"
      ]
     },
     "metadata": {},
     "output_type": "display_data"
    }
   ],
   "source": [
    "pyplot.ylabel('densité'' ''$(voitures/km)$', fontsize=24) # nom de l'axe x & taille de la police\n",
    "pyplot.xlabel('Position'' ''$x(km)$', fontsize=24) # nom de l'axe y & taille de la police\n",
    "pyplot.plot(x, rho0A, color='#003366', ls='--', lw=3)\n",
    "pyplot.tick_params(axis='both',labelsize=18)\n",
    "pyplot.ylim(0,55);"
   ]
  },
  {
   "cell_type": "markdown",
   "metadata": {},
   "source": [
    "Comme attendus, la densité de voiture au temps t = 0s est bien fixé à :\n",
    "\n",
    "$$\n",
    "→ \\left\\{ \n",
    "\\begin{aligned} \n",
    "& \\mbox{50  voitures/km $si^{(1)}$ x} \\in \\mbox{ [ } 2.2,4.4 ]km \\\\\n",
    "& \\mbox{10 voitures/km partout ailleurs}\n",
    "\\end{aligned}\n",
    "\\right.\n",
    "$$\n",
    "\n",
    "\n",
    "Nos conditions intiales étant fixées, nous pouvons commencer à répondre aux questions qui nous ont été posées.\n",
    "\n",
    "---\n",
    "###### (1) En effet, puisque $nx = 51 → dx = 0.22$. Par conséquent $[10,20] → [2.2,4.4] $km\n",
    "\n",
    "---"
   ]
  },
  {
   "cell_type": "markdown",
   "metadata": {},
   "source": [
    "Avant de passer à la résolution, commençons par définir une fonction pour la vitesse du trafic qui reprend simplement l'expression de l'équation (2) (que l'on a divisé par $\\rho$ pour n'obtenir que l'expression recherchée de la vitesse). Cette fonction nous permettra de ressortir la vitesse du trafic pour un temps donné compte tenu de la densité à ce même moment."
   ]
  },
  {
   "cell_type": "code",
   "execution_count": 7,
   "metadata": {
    "collapsed": true
   },
   "outputs": [],
   "source": [
    "def v(rho):\n",
    "    return v_max*(1-(rho/rho_max))"
   ]
  },
  {
   "cell_type": "markdown",
   "metadata": {},
   "source": [
    "Définissons maintenant une seconde fonction qui s'avérera utile pour toute la suite.\n",
    "\n",
    "* Motivation de l'introduction de cette nouvelle fonction:\n",
    "\n",
    "Après une première écriture et résolution de l'ensemble des problèmes posés, nous nous sommes rendu compte que ces résolutions pouvaient & faisaient appels aux mêmes algorithmes aux paramètres et variables prêt. L'écriture d'une fonction regroupant ces derniers nous a alors parrue être une manière élégante de procédé.\n",
    "\n",
    "* Rôle & explication de cette nouvelle fonction, la fonction \"$evo()$\":\n",
    "\n",
    "Cette fonction s'articule en plusieurs parties.\n",
    "\n",
    "→ Dans la première partie nous posons simplement l'ensembles de nos paramètres et variables qui resteront fixe tout au long de la résolution du problème (aussi bien pour la partie A que pour la partie B).\n",
    "\n",
    "→ Dans la seconde partie nous posons nos conditions initiale où nous voyons apparaître la variable \"CL\" qui n'est autre que la condition limite variant d'une partie à l'autre et que nous devrons fournir avant l'appel de notre fonction.\n",
    "\n",
    "→ La partie suivante est le coeur même de notre fonction. Nous commençons par définir un tableau de dimension $(nt$ x $nx)$ que nous pouvons voir comme une matrice A où chaque coefficient $a_{ij}$ est lui même une matrice. Donc dans notre cas, A correspond à un \"tableau de tableau de densité\" pour tout temps tandis que chacun des $a_{ij}$ correspond à un unique tableau de densité (pour un nt donné).\n",
    "\n",
    "Une fois ce tableau définit nous lançons alors une boucle for pour les nt. Cette boucle va donc passer de tableau en tableau donc de $a_{nx,1} → a_{nx,2} → ... → a_{nx,nt}$. Ainsi, a chaque pas, la boucle va calculer pour toute les positions la densité correspondante étant donné l'équation discrétisée utilisée. Dès lors, en utilisant l'indexation vu dans le notebook \"02-01-1DConvection\", nous n'avons ainsi besoin que d'une seule boucle for pour faire ce que nous venons de décrire.\n",
    "\n",
    "→ Finalement, la dernière partie est celle où figurent les calculs des vitesses recherchées (minimale & moyenne), pour un instant donné.\n",
    "\n",
    "* vitesse minimale initiale : nous utilisons notre fonction $v(rho)$ pour calculer la vitesse correspondant à chaque densité et ce pour l'instant initial ($t = 0$). La fonction $min()$ fournit par numpy nous permet alors d'obtenir la vitesse minimale.\n",
    "* Vitesse moyenne : celle-ci sera obtenue en faisant à nouveau appel à la fonction $v(rho)$ qui prend la moyenne des densités (de par la fonction $mean()$ fournie par numpy) de la dernière étape de calcul pour un temps de simulation donné.\n",
    "* Vitesse minimale finale : Cette dernière est obtenue de manière similaire à la vitesse minimale initiale à la différence que l'on prend les densités pour la dernière étape de calcul.\n",
    "\n",
    "Remarque : les valeurs calculées à chaque appel de la fonction sont stockées dans un tableau afin de pouvoir être récupérée en temps voulu."
   ]
  },
  {
   "cell_type": "code",
   "execution_count": 8,
   "metadata": {
    "collapsed": true
   },
   "outputs": [],
   "source": [
    "def evo(CL,t_sim,v_max,v):\n",
    "\n",
    "\n",
    "    # On pose l'ensemble des paramètres qui reste fixes d'une simulation à une autre\n",
    "    dt=0.001 \n",
    "    nt=int(t_sim/(dt*60))+1   # Nombre de point requis dans la grille pour la simulation\n",
    "    L=11                      # en km\n",
    "    rho_max=250               # en voitures/km\n",
    "    nx=51                     # Nombre de point de la grille d'espace\n",
    "    dx=L/(nx-1)\n",
    "\n",
    "    #On pose nos conditions intiales \n",
    "    x = numpy.linspace(0,L,nx)\n",
    "    rho0 = numpy.ones(nx)*CL\n",
    "    rho0[10:20] = 50\n",
    "    \n",
    "    # Définition de notre matrice densité pour tout temps et toute position\n",
    "    rho=numpy.empty((nt,nx))\n",
    "    rho[0]=rho0    # Notre première matrice densité est celle correspondant à nos conditions initiales.\n",
    "\n",
    "    #On calcul notre densité inconnue pour tout temps\n",
    "    for n in range(0, nt-1):  \n",
    "        rho[n+1][1:] = rho[n][1:]- dt/dx* v_max *(1-2*rho[n][1:]/rho_max)*(rho[n][1:]-rho[n][0:-1])\n",
    "        rho[n+1][0]=CL   # Notre condition au bord\n",
    "\n",
    "    #Réalise un graphe des densités finales en fonction de la position\n",
    "    pyplot.ylabel('densité'' ''$(voitures/km)$', fontsize=24) # nom de l'axe x & taille de la police\n",
    "    pyplot.xlabel('Position'' ''$x(km)$', fontsize=24) # nom de l'axe y & taille de la police\n",
    "    pyplot.plot(x, rho[nt-1], color='#003366', ls='--', lw=3)\n",
    "    pyplot.tick_params(axis='both',labelsize=18)\n",
    "    pyplot.ylim(0,55);\n",
    "    \n",
    "    \n",
    "    #Calcul des valeurs recherché et stockage de celles-ci  \n",
    "    vminI = min(v(rho[0,:]))\n",
    "    vmoyF = v(numpy.mean(rho[nt-1]))\n",
    "    vminF = min(v(rho[nt-1,:]))\n",
    "    \n",
    "    \n",
    "    u[0]=vminI\n",
    "    u[1]=vminF\n",
    "    u[2]=vmoyF"
   ]
  },
  {
   "cell_type": "markdown",
   "metadata": {},
   "source": [
    "Passons enfin aux questions et à leur résolution.\n",
    "\n",
    "Remarques préliminaires: \n",
    "\n",
    "* Pour obtenir les résultats recherchés dans les bonnes unités nous procédons à une simple convertion de nos résultats. Ceci explique la présence du facteur multiplicatif \" 10/36 \" ci-dessous.\n",
    "\n",
    "* Chacun des résultats affichés l'est avec deux décimales uniquement et ceci grâce à la fonction $round()$ proposée par numpy."
   ]
  },
  {
   "cell_type": "markdown",
   "metadata": {},
   "source": [
    "---\n",
    "1) Quelle est la vitesse minimale au temps t = 0 s en m/s (arrondir à 2 décimales).\n",
    "\n",
    "---"
   ]
  },
  {
   "cell_type": "markdown",
   "metadata": {},
   "source": [
    "Pour répondre à cette première question, nous faisons simplement appel à la fonction $evo()$ étant donné la condition limite, le temps de la simulation et la vitesse maximale"
   ]
  },
  {
   "cell_type": "code",
   "execution_count": 9,
   "metadata": {},
   "outputs": [
    {
     "data": {
      "image/png": "[encoded data removed]",
      "text/plain": [
       "<Figure size 432x288 with 1 Axes>"
      ]
     },
     "metadata": {},
     "output_type": "display_data"
    }
   ],
   "source": [
    "t_sim = 0      # le temps de la simulation en min\n",
    "CL    = 10     # conditon limite en voiture/km\n",
    "v_max = 80     # vitesse maximale en km/h\n",
    "u=numpy.empty(3)  #On définit notre tableau de solution (de vitesses)\n",
    "\n",
    "# On appel notre fonction evo\n",
    "evo(CL,t_sim,v_max,v)"
   ]
  },
  {
   "cell_type": "code",
   "execution_count": 10,
   "metadata": {},
   "outputs": [
    {
     "name": "stdout",
     "output_type": "stream",
     "text": [
      "→ Vitesse minimale du trafic à l'instant t = 0s : v = 17.78 m/s\n"
     ]
    }
   ],
   "source": [
    "# On ressort alors le résultat recherché\n",
    "print (\"→ Vitesse minimale du trafic à l'instant t = 0s : v =\",round(u[0]*10/36,2),\"m/s\")"
   ]
  },
  {
   "cell_type": "markdown",
   "metadata": {},
   "source": [
    "---\n",
    "2) Quelle est la vitesse moyenne au temps t = 3 min en m/s (arrondir à 2 décimales).\n",
    "\n",
    "---"
   ]
  },
  {
   "cell_type": "markdown",
   "metadata": {},
   "source": [
    "Pour répondre à cette 2e question, il nous faut spécifier un temps de simulation (de 3 min pour cette première partie). Quant à la vitesse maximale et à la condition limite, celles-ci ne changeant pas et restant en mémoire, il est inutile de les redéfinir.  "
   ]
  },
  {
   "cell_type": "code",
   "execution_count": 11,
   "metadata": {},
   "outputs": [
    {
     "data": {
      "image/png": "[encoded data removed]",
      "text/plain": [
       "<Figure size 432x288 with 1 Axes>"
      ]
     },
     "metadata": {},
     "output_type": "display_data"
    }
   ],
   "source": [
    "t_sim = 3   # En min\n",
    "\n",
    "evo(CL,t_sim,v_max,v)"
   ]
  },
  {
   "cell_type": "code",
   "execution_count": 12,
   "metadata": {},
   "outputs": [
    {
     "name": "stdout",
     "output_type": "stream",
     "text": [
      "→ Vitesse moyenne du trafic à l'instant t = 3 min : v = 20.56 m/s\n"
     ]
    }
   ],
   "source": [
    "print (\"→ Vitesse moyenne du trafic à l'instant t = 3 min : v =\",round(u[2]*10/36,2),\"m/s\")"
   ]
  },
  {
   "cell_type": "markdown",
   "metadata": {},
   "source": [
    "En esquissant le graphe de la densité en fonction de la distance, nous observons que le signal carré de départ est devenu un signal plus courbé.\n",
    "\n",
    "Ceci nous semble physiquement cohérent si nous considérons le temps de réaction d'un chauffeur qui n'est pas instantanné. Par conséquent, un phénomène de propagation de l'action \"démarrage\" ou \"freinage\" se manifeste ce qui se traduit sur notre graphique par une courbure du signal carré."
   ]
  },
  {
   "cell_type": "markdown",
   "metadata": {},
   "source": [
    "---\n",
    "3) Quelle est la vitesse minimale au temps t = 6 min en m/s (arrondir à 2 décimales).\n",
    "\n",
    "---"
   ]
  },
  {
   "cell_type": "markdown",
   "metadata": {},
   "source": [
    "Pour cette dernière question de la première partie nous fixons le temps de la simulation à 6 min comme demandé et nous ne redéfinissons aucune autre variables pour les raisons évoquées à la question 2). Nous refaisons alors appel à notre fonction et nous ressortons la valeur recherchée."
   ]
  },
  {
   "cell_type": "code",
   "execution_count": 13,
   "metadata": {},
   "outputs": [
    {
     "data": {
      "image/png": "[encoded data removed]",
      "text/plain": [
       "<Figure size 432x288 with 1 Axes>"
      ]
     },
     "metadata": {},
     "output_type": "display_data"
    }
   ],
   "source": [
    "t_sim = 6    # En min\n",
    "\n",
    "evo(CL,t_sim,v_max,v)"
   ]
  },
  {
   "cell_type": "code",
   "execution_count": 14,
   "metadata": {},
   "outputs": [
    {
     "name": "stdout",
     "output_type": "stream",
     "text": [
      "→ Vitesse minimale du trafic à l'instant t = 6 min : v = 18.58 m/s\n"
     ]
    }
   ],
   "source": [
    "print (\"→ Vitesse minimale du trafic à l'instant t = 6 min : v =\",round(u[1]*10/36,2),\"m/s\")"
   ]
  },
  {
   "cell_type": "markdown",
   "metadata": {},
   "source": [
    "Comme pour la question précédente, nous observons le même type de comportement à la différence que notre système a put évoluer sur un temps plus long."
   ]
  },
  {
   "cell_type": "markdown",
   "metadata": {},
   "source": [
    "---\n",
    "\n",
    "#### PARTIE B.\n",
    "---"
   ]
  },
  {
   "cell_type": "markdown",
   "metadata": {},
   "source": [
    "Pour cette seconde partie nous allons procéder de manière identique à la première en veillant à procéder aux bons changement de paramètres et variables.\n",
    "\n",
    "Nous commençons donc par déclarer nos nouvelles variables et conditions initiales & limites."
   ]
  },
  {
   "cell_type": "code",
   "execution_count": 15,
   "metadata": {
    "collapsed": true
   },
   "outputs": [],
   "source": [
    "# Déclaration des variables\n",
    "\n",
    "v_max = 136     # en km/h\n",
    "L     = 11      # en km\n",
    "rho_max = 250   # en voitures/km\n",
    "nx    = 51      # Nombre de point de la grille des positions\n",
    "CL    = 20      # Nouvelle condition limite\n",
    "v_max = 136     # Nouvelle vitesse maximale\n",
    "\n",
    "# Nouvelle condition initiale\n",
    "x = numpy.linspace(0,L,nx)\n",
    "rho0B = numpy.ones(nx)*20 \n",
    "rho0B[10:20] = 50"
   ]
  },
  {
   "cell_type": "markdown",
   "metadata": {},
   "source": [
    "On vérifie grâce à un nouveau graphique de la densité que nos nouvelles conditions ont correctements été initialisées."
   ]
  },
  {
   "cell_type": "code",
   "execution_count": 16,
   "metadata": {},
   "outputs": [
    {
     "data": {
      "image/png": "[encoded data removed]",
      "text/plain": [
       "<Figure size 432x288 with 1 Axes>"
      ]
     },
     "metadata": {},
     "output_type": "display_data"
    }
   ],
   "source": [
    "pyplot.ylabel('densité'' ''$(voitures/km)$', fontsize=24) # nom de l'axe x & taille de la police\n",
    "pyplot.xlabel('Position'' ''$x(km)$', fontsize=24) # nom de l'axe y & taille de la police\n",
    "pyplot.plot(x, rho0B, color='#003366', ls='--', lw=3)\n",
    "pyplot.tick_params(axis='both',labelsize=18)\n",
    "pyplot.ylim(0,55);"
   ]
  },
  {
   "cell_type": "markdown",
   "metadata": {},
   "source": [
    "Comme attendus, la densité de voiture au temps $t = 0s$ est bien fixé à :\n",
    "\n",
    "$$\n",
    "→ \\left\\{ \n",
    "\\begin{aligned} \n",
    "& \\mbox{50  voitures/km si x} \\in \\mbox{ [ } 2.2,4.4 ]km \\\\\n",
    "& \\mbox{20 voitures/km partout ailleurs}\n",
    "\\end{aligned}\n",
    "\\right.\n",
    "$$\n",
    "\n",
    "\n",
    "Nos nouvelles conditions intiales étant fixées, nous pouvons commencer à répondre aux questions suivantes."
   ]
  },
  {
   "cell_type": "markdown",
   "metadata": {},
   "source": [
    "---\n",
    "4) Quelle est la vitesse minimale au temps t = 0s en m/s (arrondir à 2 décimales).\n",
    "\n",
    "---"
   ]
  },
  {
   "cell_type": "markdown",
   "metadata": {},
   "source": [
    "On se sert comme annoncé de notre fonction $evo()$ comme précédemment et on définit un temps de simulation de $t = 0s$. Aucune autre variable ne doit-être définie étant donné qu'elles l'ont été durant la partie qui précède cette question."
   ]
  },
  {
   "cell_type": "code",
   "execution_count": 17,
   "metadata": {},
   "outputs": [
    {
     "data": {
      "image/png": "[encoded data removed]",
      "text/plain": [
       "<Figure size 432x288 with 1 Axes>"
      ]
     },
     "metadata": {},
     "output_type": "display_data"
    }
   ],
   "source": [
    "t_sim = 0    # En min\n",
    "\n",
    "evo(CL,t_sim,v_max,v)"
   ]
  },
  {
   "cell_type": "code",
   "execution_count": 18,
   "metadata": {},
   "outputs": [
    {
     "name": "stdout",
     "output_type": "stream",
     "text": [
      "→ Vitesse minimale du trafic à l'instant t = 0s : v = 30.22 m/s\n"
     ]
    }
   ],
   "source": [
    "print (\"→ Vitesse minimale du trafic à l'instant t = 0s : v =\",round(u[0]*10/36,2),\"m/s\")"
   ]
  },
  {
   "cell_type": "markdown",
   "metadata": {},
   "source": [
    "---\n",
    "5) Quelle est la vitesse moyenne au temps t = 3 min en m/s (arrondir à 2 décimales).\n",
    "\n",
    "---"
   ]
  },
  {
   "cell_type": "markdown",
   "metadata": {},
   "source": [
    "On change le temps de simulation et on rappel la fonction $evo()$."
   ]
  },
  {
   "cell_type": "code",
   "execution_count": 19,
   "metadata": {},
   "outputs": [
    {
     "data": {
      "image/png": "[encoded data removed]",
      "text/plain": [
       "<Figure size 432x288 with 1 Axes>"
      ]
     },
     "metadata": {},
     "output_type": "display_data"
    }
   ],
   "source": [
    "t_sim = 3    # En min\n",
    "\n",
    "evo(CL,t_sim,v_max,v)"
   ]
  },
  {
   "cell_type": "code",
   "execution_count": 20,
   "metadata": {},
   "outputs": [
    {
     "name": "stdout",
     "output_type": "stream",
     "text": [
      "→ Vitesse moyenne du trafic à l'instant t = 3 min : v = 33.77 m/s\n"
     ]
    }
   ],
   "source": [
    "print (\"→ Vitesse moyenne du trafic à l'instant t = 3 min : v =\",round(u[2]*10/36,2),\"m/s\")"
   ]
  },
  {
   "cell_type": "markdown",
   "metadata": {},
   "source": [
    "Nous observons le même type de résultat que celui obtenu dans la partie A à la différence que la \"vague\" à un peu plus progressée (pour un même temps de simulation) étant donné la vitesse maximale plus élevée dans cette seconde partie."
   ]
  },
  {
   "cell_type": "markdown",
   "metadata": {},
   "source": [
    "---\n",
    "6) Quelle est la vitesse minimale au temps t = 3 min en m/s (arrondir à 2 décimales).\n",
    "\n",
    "---"
   ]
  },
  {
   "cell_type": "markdown",
   "metadata": {},
   "source": [
    "Pour cette dernière question, aucune des variables ne changent. Il suffit dès lors de sortir la valeur déjà calculée par notre fonction lors de son dernier appel à la question 5)."
   ]
  },
  {
   "cell_type": "code",
   "execution_count": 21,
   "metadata": {},
   "outputs": [
    {
     "name": "stdout",
     "output_type": "stream",
     "text": [
      "→ Vitesse minimale du trafic à l'instant t = 3 min : v = 30.79 m/s\n"
     ]
    }
   ],
   "source": [
    "print (\"→ Vitesse minimale du trafic à l'instant t = 3 min : v =\",round(u[1]*10/36,2),\"m/s\")"
   ]
  },
  {
   "cell_type": "markdown",
   "metadata": {},
   "source": [
    "---\n",
    "##### 3. Résolution du problème suivant la discrétisation de l'équation (3).\n",
    "\n",
    "---"
   ]
  },
  {
   "cell_type": "markdown",
   "metadata": {},
   "source": [
    "Pour cette deuxième approche du problème utilisant une discrétisation différente de la première nous allons comme annoncé en début de ce notebook utilisé la discrétisation de l'équation (3).\n",
    "\n",
    "Ceci implique une petite modification dans notre fonction $evo()$ à savoir la ligne de code dans la boucle for qui rend compte de notre discrétisation. En respectant ainsi la discrétisation nous avons alors la nouvelle fonction $evo2()$ suivante :"
   ]
  },
  {
   "cell_type": "code",
   "execution_count": 22,
   "metadata": {
    "collapsed": true
   },
   "outputs": [],
   "source": [
    "def evo2(CL,t_sim,v_max,v):\n",
    "\n",
    "    \"\"\"\n",
    "    \n",
    "    \n",
    "    \n",
    "    \"\"\"\n",
    "    # On pose l'ensemble des paramètres qui reste fixes d'une simulation à une autre\n",
    "    dt=0.001 \n",
    "    nt=int(t_sim/(dt*60))+1   # Nombre de point requis dans la grille pour la simulation\n",
    "    L=11                      # en km\n",
    "    rho_max=250               # en voitures/km\n",
    "    nx=51                     # Nombre de point de la grille d'espace\n",
    "    dx=L/(nx-1)\n",
    "\n",
    "    #On pose nos conditions intiales \n",
    "    x = numpy.linspace(0,L,nx)\n",
    "    rho0 = numpy.ones(nx)*CL\n",
    "    rho0[10:20] = 50\n",
    "    \n",
    "    # Définition de notre matrice densité pour tout temps et toute position\n",
    "    \n",
    "    rho=numpy.empty((nt,nx))\n",
    "    rho[0]=rho0         \n",
    "\n",
    "    #On calcul notre densité inconnue pour tout temps\n",
    "    for n in range(0, nt-1):  \n",
    "        rho[n+1][1:] = rho[n][1:]-((dt/dx)*v_max*((rho[n][1:]*(1-(rho[n][1:]/rho_max)))-(rho[n][0:-1]*(1 - (rho[n][0:-1]/rho_max)))))\n",
    "        rho[n+1][0]=CL   # Notre condition au bord\n",
    "\n",
    "    #Réalise un graphe des densités finales en fonction de la position\n",
    "    pyplot.ylabel('densité'' ''$(voitures/km)$', fontsize=24) # nom de l'axe x & taille de la police\n",
    "    pyplot.xlabel('Position'' ''$x(km)$', fontsize=24) # nom de l'axe y & taille de la police\n",
    "    pyplot.plot(x, rho[nt-1], color='#003366', ls='--', lw=3)\n",
    "    pyplot.tick_params(axis='both',labelsize=18)\n",
    "    pyplot.ylim(0,55);\n",
    "    \n",
    "    #Calcul des valeurs recherché et stockage de celles-ci    \n",
    "    vmoyF = v(numpy.mean(rho[nt-1]))\n",
    "    vminI = min(v(rho[0,:]))\n",
    "    vminF = min(v(rho[nt-1,:]))\n",
    "    \n",
    "    \n",
    "    w[0]=vminI\n",
    "    w[1]=vminF\n",
    "    w[2]=vmoyF"
   ]
  },
  {
   "cell_type": "markdown",
   "metadata": {},
   "source": [
    "Ensuite, afin de ne pas surcharger ce notebook et d'éviter de laçer le lecteur, nous nous permettons ici de donner les résultats d'une même partie les uns à la suite des autres, les justifications et l'emplois de chaque algorithme étant identique a ce qui a été fait dans la partie consacrée à la première discrétisation."
   ]
  },
  {
   "cell_type": "markdown",
   "metadata": {},
   "source": [
    "#### PARTIE A .\n",
    "---"
   ]
  },
  {
   "cell_type": "markdown",
   "metadata": {},
   "source": [
    "→ Déclaration des nouvelles variables."
   ]
  },
  {
   "cell_type": "code",
   "execution_count": 23,
   "metadata": {
    "collapsed": true
   },
   "outputs": [],
   "source": [
    "# Déclaration des variables\n",
    "\n",
    "v_max = 80       # en km/h\n",
    "CL    = 10       # Condition limite en voiture/km\n",
    "\n",
    "# Déclaration d'un tableau qui va contenir les vitesses \n",
    "w=numpy.empty(3)"
   ]
  },
  {
   "cell_type": "markdown",
   "metadata": {},
   "source": [
    "---\n",
    "1) Quelle est la vitesse minimale au temps t = 0s en m/s (arrondir à 2 décimales).\n",
    "\n",
    "---"
   ]
  },
  {
   "cell_type": "code",
   "execution_count": 24,
   "metadata": {},
   "outputs": [
    {
     "data": {
      "image/png": "[encoded data removed]",
      "text/plain": [
       "<Figure size 432x288 with 1 Axes>"
      ]
     },
     "metadata": {},
     "output_type": "display_data"
    }
   ],
   "source": [
    "t_sim = 0    # En min\n",
    "\n",
    "evo2(CL,t_sim,v_max,v)"
   ]
  },
  {
   "cell_type": "code",
   "execution_count": 25,
   "metadata": {},
   "outputs": [
    {
     "name": "stdout",
     "output_type": "stream",
     "text": [
      "→ Vitesse minimale du trafic à l'instant t = 0s : v = 17.78 m/s\n"
     ]
    }
   ],
   "source": [
    "print (\"→ Vitesse minimale du trafic à l'instant t = 0s : v =\",round(w[0]*10/36,2),\"m/s\")"
   ]
  },
  {
   "cell_type": "markdown",
   "metadata": {},
   "source": [
    "---\n",
    "2) Quelle est la vitesse moyenne au temps t = 3 min en m/s (arrondir à 2 décimales).\n",
    "\n",
    "---"
   ]
  },
  {
   "cell_type": "code",
   "execution_count": 26,
   "metadata": {},
   "outputs": [
    {
     "data": {
      "image/png": "[encoded data removed]",
      "text/plain": [
       "<Figure size 432x288 with 1 Axes>"
      ]
     },
     "metadata": {},
     "output_type": "display_data"
    }
   ],
   "source": [
    "t_sim = 3    # En min\n",
    "\n",
    "evo2(CL,t_sim,v_max,v)"
   ]
  },
  {
   "cell_type": "code",
   "execution_count": 27,
   "metadata": {},
   "outputs": [
    {
     "name": "stdout",
     "output_type": "stream",
     "text": [
      "→ Vitesse moyenne du trafic à l'instant t = 3 min : v = 20.64 m/s\n"
     ]
    }
   ],
   "source": [
    "print (\"→ Vitesse moyenne du trafic à l'instant t = 3 min : v =\",round(w[2]*10/36,2),\"m/s\")"
   ]
  },
  {
   "cell_type": "markdown",
   "metadata": {},
   "source": [
    "---\n",
    "3) Quelle est la vitesse minimale au temps t = 6 min en m/s (arrondir à 2 décimales).\n",
    "\n",
    "---"
   ]
  },
  {
   "cell_type": "code",
   "execution_count": 28,
   "metadata": {},
   "outputs": [
    {
     "data": {
      "image/png": "[encoded data removed]",
      "text/plain": [
       "<Figure size 432x288 with 1 Axes>"
      ]
     },
     "metadata": {},
     "output_type": "display_data"
    }
   ],
   "source": [
    "t_sim = 6    # En min\n",
    "\n",
    "evo2(CL,t_sim,v_max,v)"
   ]
  },
  {
   "cell_type": "code",
   "execution_count": 29,
   "metadata": {},
   "outputs": [
    {
     "name": "stdout",
     "output_type": "stream",
     "text": [
      "→ Vitesse minimale du trafic à l'instant t = 6 min : v = 18.78 m/s\n"
     ]
    }
   ],
   "source": [
    "print (\"→ Vitesse minimale du trafic à l'instant t = 6 min : v =\",round(w[1]*10/36,2),\"m/s\")"
   ]
  },
  {
   "cell_type": "markdown",
   "metadata": {},
   "source": [
    "---\n",
    "\n",
    "#### Partie B\n",
    "---"
   ]
  },
  {
   "cell_type": "markdown",
   "metadata": {},
   "source": [
    "Les conditions pour cette ultime partie sont données par:"
   ]
  },
  {
   "cell_type": "code",
   "execution_count": 30,
   "metadata": {
    "collapsed": true
   },
   "outputs": [],
   "source": [
    "# Déclaration des variables\n",
    "v_max = 136      # en km/h\n",
    "CL    = 20      # Condition limite en voiture/km"
   ]
  },
  {
   "cell_type": "markdown",
   "metadata": {},
   "source": [
    "---\n",
    "4) Quelle est la vitesse minimale au temps t = 0s en m/s (arrondir à 2 décimales).\n",
    "\n",
    "---"
   ]
  },
  {
   "cell_type": "code",
   "execution_count": 31,
   "metadata": {},
   "outputs": [
    {
     "data": {
      "image/png": "[encoded data removed]",
      "text/plain": [
       "<Figure size 432x288 with 1 Axes>"
      ]
     },
     "metadata": {},
     "output_type": "display_data"
    }
   ],
   "source": [
    "t_sim = 0    # En min\n",
    "\n",
    "evo2(CL,t_sim,v_max,v)"
   ]
  },
  {
   "cell_type": "code",
   "execution_count": 32,
   "metadata": {},
   "outputs": [
    {
     "name": "stdout",
     "output_type": "stream",
     "text": [
      "→ Vitesse minimale du trafic à l'instant t = 0s : v = 30.22 m/s\n"
     ]
    }
   ],
   "source": [
    "print (\"→ Vitesse minimale du trafic à l'instant t = 0s : v =\",round(w[0]*10/36,2),\"m/s\")"
   ]
  },
  {
   "cell_type": "markdown",
   "metadata": {},
   "source": [
    "---\n",
    "5) Quelle est la vitesse moyenne au temps t = 3 min en m/s (arrondir à 2 décimales).\n",
    "\n",
    "---"
   ]
  },
  {
   "cell_type": "code",
   "execution_count": 33,
   "metadata": {},
   "outputs": [
    {
     "data": {
      "image/png": "[encoded data removed]",
      "text/plain": [
       "<Figure size 432x288 with 1 Axes>"
      ]
     },
     "metadata": {},
     "output_type": "display_data"
    }
   ],
   "source": [
    "t_sim = 3    # En min\n",
    "\n",
    "evo2(CL,t_sim,v_max,v)"
   ]
  },
  {
   "cell_type": "code",
   "execution_count": 34,
   "metadata": {},
   "outputs": [
    {
     "name": "stdout",
     "output_type": "stream",
     "text": [
      "→ Vitesse moyenne du trafic à l'instant t = 3 min : v = 33.87 m/s\n"
     ]
    }
   ],
   "source": [
    "print (\"→ Vitesse moyenne du trafic à l'instant t = 3 min : v =\",round(w[2]*10/36,2),\"m/s\")"
   ]
  },
  {
   "cell_type": "markdown",
   "metadata": {},
   "source": [
    "---\n",
    "6) Quelle est la vitesse minimale au temps t = 3 min en m/s (arrondir à 2 décimales).\n",
    "\n",
    "---"
   ]
  },
  {
   "cell_type": "code",
   "execution_count": 35,
   "metadata": {},
   "outputs": [
    {
     "name": "stdout",
     "output_type": "stream",
     "text": [
      "→ Vitesse minimale du trafic à l'instant t = 3 min : v = 30.99 m/s\n"
     ]
    }
   ],
   "source": [
    "print (\"→ Vitesse minimale du trafic à l'instant t = 3 min : v =\",round(w[1]*10/36,2),\"m/s\")"
   ]
  },
  {
   "cell_type": "markdown",
   "metadata": {},
   "source": [
    "---\n",
    "\n",
    "##### 4. Animations :\n",
    "\n",
    "---"
   ]
  },
  {
   "cell_type": "markdown",
   "metadata": {},
   "source": [
    "Pour bien se rendre compte de ce qui s'est passé dans les questions précédentes et afin de bien visualiser la situation, nous pouvons réaliser une animation de l'ensemble des graphes (correspondant chacun à un certain point de la grille de temps) générés pour un temps et une discrétisation donnée. Ceci nous permettra de visualiser l'évolution de la densité en chaque position au cours du temps en plus d'être un bon exercice pour réaliser des animations.\n",
    "\n",
    "Pour se faire nous choisissons de créer deux animations pour la discrétisation de l'équation : $\\frac{\\partial \\rho}{\\partial t} + \\frac{\\partial F}{\\partial x} = 0 $. Une première pour la partie A et une seconde pour la partie B.\n",
    "\n",
    "Créons maintenant les animations désirées."
   ]
  },
  {
   "cell_type": "markdown",
   "metadata": {},
   "source": [
    "---\n",
    "\n",
    "#### Simulation Partie A - discrétisation de l'équation (3).\n",
    "---"
   ]
  },
  {
   "cell_type": "markdown",
   "metadata": {},
   "source": [
    "Commençons par redéfinir certaine de nos variables.\n",
    "\n",
    "Remarque préliminaire: Le choix du temps de simulation est arbitraire."
   ]
  },
  {
   "cell_type": "code",
   "execution_count": 36,
   "metadata": {
    "collapsed": true
   },
   "outputs": [],
   "source": [
    "# Déclaration des variables\n",
    "\n",
    "v_max = 80       # En km/h\n",
    "CL    = 10       # Condition limite en voiture/km\n",
    "t_sim = 3        # En min\n",
    "\n",
    "# Déclaration d'un tableau qui va contenir les vitesses \n",
    "w=numpy.empty(3)"
   ]
  },
  {
   "cell_type": "markdown",
   "metadata": {},
   "source": [
    "On définit alors notre graphe animé à partir d'une nouvelle fonction reprenant notre équation discrétisée. Les conditions initiales & aux bords seront préalablement rappelées."
   ]
  },
  {
   "cell_type": "code",
   "execution_count": 37,
   "metadata": {},
   "outputs": [
    {
     "data": {
      "text/html": [
       "<video width=\"576\" height=\"360\" controls autoplay loop>\n",
       "  <source type=\"video/mp4\" src=\"data:video/mp4;base64,AAAAHGZ0eXBNNFYgAAACAGlzb21pc28yYXZjMQAAAAhmcmVlAACCqG1kYXQAAAKuBgX//6rcRem9\n",
       "5tlIt5Ys2CDZI+7veDI2NCAtIGNvcmUgMTU1IHIyOTAxIDdkMGZmMjIgLSBILjI2NC9NUEVHLTQg\n",
       "QVZDIGNvZGVjIC0gQ29weWxlZnQgMjAwMy0yMDE4IC0gaHR0cDovL3d3dy52aWRlb2xhbi5vcmcv\n",
       "eDI2NC5odG1sIC0gb3B0aW9uczogY2FiYWM9MSByZWY9MyBkZWJsb2NrPTE6MDowIGFuYWx5c2U9\n",
       "MHgzOjB4MTEzIG1lPWhleCBzdWJtZT03IHBzeT0xIHBzeV9yZD0xLjAwOjAuMDAgbWl4ZWRfcmVm\n",
       "PTEgbWVfcmFuZ2U9MTYgY2hyb21hX21lPTEgdHJlbGxpcz0xIDh4OGRjdD0xIGNxbT0wIGRlYWR6\n",
       "b25lPTIxLDExIGZhc3RfcHNraXA9MSBjaHJvbWFfcXBfb2Zmc2V0PS0yIHRocmVhZHM9NiBsb29r\n",
       "YWhlYWRfdGhyZWFkcz0xIHNsaWNlZF90aHJlYWRzPTAgbnI9MCBkZWNpbWF0ZT0xIGludGVybGFj\n",
       "ZWQ9MCBibHVyYXlfY29tcGF0PTAgY29uc3RyYWluZWRfaW50cmE9MCBiZnJhbWVzPTMgYl9weXJh\n",
       "bWlkPTIgYl9hZGFwdD0xIGJfYmlhcz0wIGRpcmVjdD0xIHdlaWdodGI9MSBvcGVuX2dvcD0wIHdl\n",
       "aWdodHA9MiBrZXlpbnQ9MjUwIGtleWludF9taW49MjAgc2NlbmVjdXQ9NDAgaW50cmFfcmVmcmVz\n",
       "aD0wIHJjX2xvb2thaGVhZD00MCByYz1jcmYgbWJ0cmVlPTEgY3JmPTIzLjAgcWNvbXA9MC42MCBx\n",
       "cG1pbj0wIHFwbWF4PTY5IHFwc3RlcD00IGlwX3JhdGlvPTEuNDAgYXE9MToxLjAwAIAAACHYZYiE\n",
       "AD///vdonwKbWj8GvHB9fsaIAiAs4mEuWojcxDJl9vy8FKmt9Z+XhTBImUi2LqQdX0ooWMGYvtgL\n",
       "Zmytjn+JKzjsFw70Ua9U6BSryTe3oVDc4/RjKUy8vp+sKssRKueoJ5otT+rGEmwyJZdFmRWrpm/m\n",
       "E+9agQxuH1LOAKSSQ5s25eKrKsSWlsABxA/vis/AKiWXzFF62XCGrVE9rt8c3/Shh6dzxI9ttsrF\n",
       "dyYXv8Z2cS80AAADAAADAG7LY/0Uy9cfbSOhloazMUa2wKKor/7lBG5y3EcL/GmY4un6hVjg93ly\n",
       "cwf8MJw/OmodyOz1mHa2M99K7xltZX3eu7zgklAFKhSYEz+cNCJjiBi+WLOh82AAtBMlXUSlXPog\n",
       "XWFJjP+jqQP3YU/Ej3pStjOMlV/ejEZi+6G6mF9eJ/QyyYYBrPe3AjGGoPGePcdOAAAacwXPldkt\n",
       "bbS8ls0EOL48JKZ3IZJ1gMmgbLgINoMDO6w7f3KUD8w2u7RYvmcrOTvkpgIGFZSoxUC7tMLvZW/D\n",
       "MXocqgrbZufYvI2+E8fcWkhS8uSZY1nhh25lSfb389aNLr1FkU1SpyAnpKyDxHJpT1aCwvJn2iHd\n",
       "pvyE53P2YeKLGNl2MfecYB3mZf2T6r5w8RXM2pxdNgVbd9rcpvUpqcSMn9FzIGN/K7Sn/OujdvSU\n",
       "/2hhseuccPFK2fOE9rg3EEsG7B/jusPw8BnAFSmRiDB6GFl3NcxEc6RK4DWuhX4XH/Wh9yM/BgOf\n",
       "zYvtaCkk1IxP6LNCiFRYAfSqDGADR61ryFZ2E0dMp3rQaJIZWve1XX42K6mQlg6ByqhYR8HcWsxe\n",
       "Dlta8nGloGD8yHPDz4Cysd7TklCcuEX/iKnev39U6SUX3ifrDxAXRwkaIyRObEsjek1diYuxO7ZX\n",
       "xCcRxQZUP5B1bAE4q0VllgOWl8VQ2MJUXT0lXHW/0zMmf57H0tPf0SNkR1UJsbF8B/00EiEEL/6w\n",
       "GYhBTjr0dbADJfgYewMRJC/x6kp/1GruQBfSTos1VDqnS+EUG6h+kFx/W9/OQAQ7C3D7Neyl88q7\n",
       "JFqsoVhddVs93e/ShJ0xhSTCCfwFrWpkmK5ic2hs1dEGSF03KvmbzTEyBDZQsW2LWAEoBOksG2B/\n",
       "LLrvmNS7gjsSpN7ZgN5us/jd0tVYuoMp6dDNAPsgY57jFo6FWiXiJBVDLQ2ljmrO6t7S2ljk5l3B\n",
       "Vjk793z2mlrDBJ6HPq1VUwuKiZalNR+T0+XfUnMeWIFMSw1ch2l5osv4SuulivAtIosdyQuaMBZC\n",
       "a6J0W5zHl+KZUhncIZAiyd5UPhGzFrhtdJOrkvHUYWcnoC3U5+VXNLZBgF1FOkQ6GsJLC62j3c7H\n",
       "/i6IF1wxs4uaVzWIPnSlXX6JguDpqx0K+QCyW8dPWteUNvfpKOVAQMLnRF+gMFssOg7AG+SVdti1\n",
       "wwFQ5lQ/gEonEDY5pZc9n9swbel+SR/9T2yQLmIJQOK6hNomqfOvWyKXLzsDwxFaqTTZt7cFIZTw\n",
       "KTd7NqVqMIwqQyXnBYBirtKbOPJ7hs+MnhmWFD81xcNL0MmyViSCoFAAB9aO00ntk9iCotdsWlPv\n",
       "UBnLV44RegGeDK6B0SsCq0VtHTicGlIzaCZEQnAR8nHZc/YmGCZG5QuEFDw4bDaI9yMJ7OFp6kMx\n",
       "7fijpQWSBNFRi0dht45FJJJbKMLp/vp1LhFaGHu+NrkXz6imEbJm+8m1jQp0+4+LlU3d0wlHrszI\n",
       "wtKFprd2f1aQu7Tn624m5kiRFf5WDjT8f89DXJ7Xc6Cp0u3Z/uEw1/abtNmWc8QiExhUuCEwuXb1\n",
       "0m+aN9qL2ZOGhgIPjnZsjNxg4bUUF4rA5/1/qrXxNkmfuz/cpV4vnC8aehk9gh2JuVJRqSsPAhop\n",
       "6RQayW4gu0w0dS5gVyYkkDpPRdij071FztdktFypaORH7/aAO4MY811cew71gce0Al3R6zJpbQ+3\n",
       "Jwvz5qq8p1hVo45PHL3oH77COPGHfLaCRUU1J9o7rgq7vffi7BamLtkcc1cfAnl7ufo+zK0YdPBy\n",
       "ZYih3B4F4Wobt5NAbFiuCC9Zhl1G5O5csn65iT5wPmDTzUYQY4Pdpu1sRt2AV5aTw8tppPh9GolN\n",
       "SP5OxsLiqCy6Pn1kzQ5L5NIzLppzeBKcxVjZm2rKCEx/3gFpA9hyGSHVB5mCd4CGCoVyBUUWZVxs\n",
       "HzNY88ColHno/qkJ1XDovnXBP30O8Tlc0/wCZH10NVE/e8yunoZQn5Z564XbJfVT4TBf4Evc/hpn\n",
       "c9SbLJBH9UKy5gHs8NQiIZetkhcfvSkEvCF7f45/acZHFyPPhDUPKRYcmA0AAPHLZGX/rcABykTw\n",
       "vm1FjXzSo2ubSxZ4tMp8PRbXRHD8U13BxLZSiIfTJk9VfDqqrhqEixXZWZ0jnMaE2+AsPVBusmvI\n",
       "QvbbhOwuNvuzY7eFtDhh37pcikI73RtW6mJhPYy0gzMat+WTCQEXQL9YLjml+YJpTeFbLVN4x0nj\n",
       "JF0pnbuxTSw0/hqgKQYJGBusrt4u/czcepReW5aFm3Tn0WENv0Y7hTgx4tc/YPuYtpOScVjGv3XN\n",
       "38YE1azUg5dCctS+Zt0+0FTh34+2/r1ZgjenrekUYbCQrP+kRMCAObdB+oRRwacFWQX2zjoBQKjy\n",
       "gOWgZyqDQtZgZTEGJJZtAqG7vr+EvvjKwoEnv5ldU3oz+1/unIUYAP7ExQ0aPmBT+Ek/vF6/HhJJ\n",
       "WwcIANPsEy3uQ0wPKWlqi+MzxkrOsG6Ij5AyvGLEJ8qpOvLgqgPndPES/alekItTJ9emAjpLabln\n",
       "mJzniodIy1AU3EVKP+4/wLVDSzpDb9n6TM2m5v+kzjbCjk9mH5Unytbvu5Wb+ey2/L0B9VgMqS5j\n",
       "P/zYw+LPZS0b0ATdOc4p7Qf9v3Go2QFSMQMvOVa+GkjInAOjbPnrt2mcElnvWlIGwR0ppUhkdZJI\n",
       "fFvrUYCq46/x5+/fwkO3tFzLhn1JrdA0rnpU/e9g53EQbXmMmeWI798iS3I+iny9Q03A3eJin/yn\n",
       "wqfhU4MzGjtB6f0+8tW9rERmKdwyIPFuaEO/0Upnd5PjoXW4CSIiN5vdlX5s6jB/MGIYLXUlan3g\n",
       "q9VOMuk4cZwNzuQTahbhFPPp2fGondDu1tHeF4ng5TIpAsL1EWGGXpIKCu5uatwYJSWszJqx2ZOV\n",
       "dIGZ4My5gk0V9+cfU9mtGFL8wYfl5L9qsWm2VOzaShRvW1l/c2aY7SmmW1UHQUONwWMNEJdGElaP\n",
       "MvJo6uCdF0DnbkX/jBMG8H/4njg9X8puhj8LgdmWy03ZsrmNhcJcfWLMtfXSb+77e2HVMs9q/osR\n",
       "aJy9kv/NocPtAtFo6OWi4FeHuzUV0IMp9oKB8usUjgeUI4C72CwN5fB6nsXv9N0JaNtv7NlhCulE\n",
       "MMjsZIK8DKBDXpcP4EVBozp/M/gxPy47XHEpFeYzkdMT7+/IYigI7nrNCY4x+tdAqUn+CW7h4CwZ\n",
       "gqPtImiQxWw6ccOTVFpGJI/NILW1vv/AL1JRF5bZIsG7zasS2IuGOabOPUTfIqDQcM+ZDjesl6ng\n",
       "NqAVA9ywkOgffuESPq+sZPLWsG8LqVh0v3iSQzMVdMbxGFmRIOxMwTr1A/sLQOw38FMQP1Id1Z+d\n",
       "MipUijKCE83DayZJw3K3eU75ZxKSwkfDtBZWV5y57PMrCHIANcUedZ5C38hAp82eJqHJKulINVyn\n",
       "9gS5vQNfoUqQ8l1F/HjGwkoQGpIlUeguV5y55aZjQhX3mbusH52uJ1Ymg7SuXnWjiIp/f54mJf9e\n",
       "gCLmL3OwNPNDCC9Yy2VIFSzCFztn/ISl1LOE2rs3Q3MUbp2GJ/6GdMFFGS1GCrSz7czB84D2nO3e\n",
       "DCxBbg2L2mmcY26kA8tMhLImWleCMVNStfqzzDcj27szC8L5al/p9SnnBGYwUbF7AAu/aOZFpwkq\n",
       "oQtDw8RZ8fVmIh9R9ucU8I4wCrhi1GNp2fAXAERFR4Fnr9IIpEdfRzScvBPOQHRZEfixEHHRg3FG\n",
       "mgLaupr2xiU+MVevhnBKzGyZoOWSTw5IDRtR7BTmra13p1/RrM7pxK1LAC72jYHFcUtbDLaM4Nlx\n",
       "W4rrn4jFwWAbdDIded6/eBAk98w8sI00qPh6kPIPyXWbzwI3mTLTS6J7N4JY52CcvmnRtWhmjT4j\n",
       "FH0MNCkrORCfaI3FQK7w/e3Y3kdxy+8IYkoIg0JED9K5FXKQ6iJGC7PWCMC36S+8LZoHI+quasru\n",
       "WxbHwQzpY3CL56atuMs1EPVAXS/71wGPHBleHcp2yVLiPHqxtoh8ThGExe1aGLS2uh3+ukB3t0iQ\n",
       "afxKMN4P6RgC87U3xGc8oKRAXUfMztG8XANzhsV9QtTbBwFmgszHVsV+13FFvJpx+tlgPaiXegST\n",
       "8X5DKK+tFjvOgXFl43c9IuG32Gm7HfhmXnJI+CK9oERuyOsI18X7HpPnnJlfojWRrMEfzO/WMUde\n",
       "XmweMdRAX8NXFyeQEpsxxQeuPEw9GK+JCBg6y1PQjhG3zrHYlNeexJOCUtYSsJy/SB815qaiwNGK\n",
       "mB2+J9CbBzeJrV1A1jxXjmG39j57y+5OHDtJ25XPyn3H0bhwVwLHmZBu2fi+D8FCoB9+gaSZfuI0\n",
       "Vi3skU1UCj1EuokXbfVijNfeKE8wHhyABfRNNfF470Bg0T0eFzRG2BhuiUwbGiVgl3C7FoOIAAmL\n",
       "k1bD1tPDMv1f2eS8gkgF47nlpoTm4s/ZjmwCTd3xgL02/JSp0G/9LJRf+aHPP1ktJiU6lO7wSmsY\n",
       "D3aDptRfSdL9Wy/75a4cKDwCJtVi8HaCj2FWLoOLhuHBhQVedXNZH9lJH/sEOtmcNApTD693iEkv\n",
       "/zzuHQFkBbw0lzZ4HL9EOd2N+QAIsrfEV47fb7m+lSBSmxk93JOCOJNAB9Pr+4YXtbRzNbLdsJWw\n",
       "GqYT68VqQbervFzD1SnuSeMoMLhPjaYTU3ZXZdpdWLtKzGEseIhHOippUr3cNXwJXuLrJwwVw5+f\n",
       "qhH3123Kgwg4t0p3t9/Mg4d6eI3KbRpT48Y4CwxPl9RR0Vafx+oLPs4+vIKNokJFI5iPfjqj8f8n\n",
       "WLafjr3WLL6XYDYIkEd5ba/S2qN98BpjmUqtWFwKErh/StKN+1rSM6v+CnOPIydDSPGlROb5EQJn\n",
       "QQP160m9r8NcsUXB9dm957bJzTin29aHcH4AfJTWeBvu4iYppN5HdDBHbHkX23WtJN8+722Wv3Ky\n",
       "7U4rpLES2AMzGxkrrqdGP6aPti/U9vjo8f+/CuFHP3F7EuuzombafUCkjlvVu2qB7nf9+CP16uet\n",
       "doL+QZC/I+3fiDvFAi5ZxtklAvK1GklQZWpdjWc+/AYtsO57JoKqZyLvVVHQ1OSXJ+V28WBBqcT5\n",
       "Dz4qdLqd3KBC7p/eUH+Y7P1CBcUEUkbklLp7gLIVXtQ5O2ZPQepJvWwY9lpK81tvDOMTWbM8XIas\n",
       "pdxeImUwnGKWE96k4jCRg/Mv7Y83k1DKIvkHbI/4HptZhcNXM/QvGTI5k3/JwPnF8ASp+6/LLHUJ\n",
       "Y5ToQr7ZJ63QnT3wrdsSLbt78I/DfJylPMUCJfduHylJDWo+SGuW9mOPdQtBi5l7wESraKkONoYM\n",
       "QrZp9zjs/0FX1ra/cumQSaJPr23M67UKJQXlCmOdRWqtNG4RNesgvSggDNpuRubFzzo6lh/2eIqq\n",
       "baFHDZ/M9tdnCyLjep/oJ2L5MOTkBplZNQnK3KR5/hHi8Enx2P+zKOVnfisqV1LPAGzueCwUWEpL\n",
       "8wA6QfMAoSIQKRNTDPkpplx9PLEv7zthNb55K0HJQPQTLYCeOKhIO3rI5NkU+cO5SGNteCrFId/9\n",
       "1mLgwZB2E0eAU1jy6Rte9JGUCcIpXbu72iMZDRWxY3NMlRqVsWFqc/eVjYZf6zSNGKvDpHMBkVRV\n",
       "SDmqUfeg4TlgdzBFkXcetDxfLBxaUoKqYy6+Fu5OzQlfalCsvLg49OggIk4N7CcMd6Upq9fvDHHW\n",
       "sIagJ1QG+fxopM5cVhpOs1bawolktAwcjBGLgA9U1VYZTr7X4Ah/GvDsmQpJz4aLbAU4KIKjeZPl\n",
       "f6SE/sRGfAhlHKY6qnif37vmSdM/2Ax6tZ+keOT5ClJz7uDlAWkaGb76nQXZOGa0fbKJprwvOA5h\n",
       "VKpU6hsWg44ujfCajA52rjWNPXlCMjfn6NjCEiVPxszmzp/NAXZ0uuCcnrhal06pI58u2Jxry002\n",
       "tXdck/+DfieRbbdzQbK2Osj/YlYgnZD6vO2f+F/pRRCNaT7+hFpKuUMayVgZmuxTEPZd4nT064JP\n",
       "iP9SIChKmUMEKagu6mT1Nxna17fMrAWocuwKV3dS/+iBBhv+Vkq4t9JMBKXRKOK/lSxxH3c6hiqf\n",
       "daavFl/63O2lAtAFFpjNHy59uxe/E+sluWKQuy760wZz9vQHz9idXWqJ+OP/Gc1nfS+LmVCgjCNU\n",
       "zTxocfRU5N2+PZ1pzgke0Z65gRnkAUs69exZ89lUivUmWrCGUSwIrD+ACUOxOblOf8PPf7IQ5ACB\n",
       "S+N6qVKHDBIckLyOdgUelN3ahg8WGpMKCMX/drifWW7+SYJMBRBnSXXH8EujxNzK5ZeXekGoD1++\n",
       "Nd2nonHP80hNOmpPrAv4qrjJbP8vtidA9tXjKVSkcu/utOOoOU94ZwMqsIKx6C1eFyn4vAL+bptm\n",
       "zJEuN/+28KdQqr7MT5y5NX84CitLJlxjYveQUrf013oOxgdWLFyqh6Sof+dppvXZcJPNzM356Htf\n",
       "9cJ/AEoLAWFGJl8Gc0kh/z7nYd4zI8Cdi2hKy7WzeyPfckUPO3TfGSIzJZSvlq/049nX/P2VcOIY\n",
       "9FPmt2uhf2B4ptUXbUtnLCxPdhjCXE7EhEUNnP1YbvgPqcfFqSmMEBlW+prQZhpWlu1tPmfwi8/P\n",
       "RTuJkgvuKfyZzg9YC4Ncn4LfZJqYRWqcFReHYzz7tOx7+4BLBTQDAAADADMkOtxPmTrxDGCqnr+Z\n",
       "tb7DbHhMmQLKQ+afgLr0P4oslpFqUK961PSVNO3J1te9IF4RrEemM8EEfS7iazL/17+Uj4JYRW5u\n",
       "qyXCTABbT18Wa9nibVku6aFd2HrjTHTFoSGC8tRyWQ0qo8qokYK8bd0DNt6q2oHw0yW8x5Zj9Ig6\n",
       "TC3kOf+tFk+G2R4IDpxwQaFmNRTNC09BsqUVtLaNfT7oE7I5qnaoAQ73N62blM3fReNB/G5sz4Rw\n",
       "cvR9xKQbjExMMTFoRGE/WcmaFRSxJ5ihZIM5Wq+R17N0GBeay60Uug/6lddP8wpyF3QC0Fq7VF2J\n",
       "nDIw47yHeulehnjxN+0n0IVlTMU764MGH9EYyUK2ZIhWopXHBHXcGY7ittHRCxMLZCTzWM7sR4IM\n",
       "fpbLlZa/bqSy/bTkADh31c7jaQv+dF7CosTW4B/J9lILVbCu/xXdm+kFJx3N3qEfS1smN6zvvibi\n",
       "MA8Uot5942pYERgq8oyN4rz3RT9hCZbiXMSkPNDT6xzW2PpGnjJognyvPUmHaXNYjaOQ4s76L+WO\n",
       "xuOoscJVI2D+XX6W1xaejmdajtepy/hK9Tzktdif/S68K4VCO+X/zZGN9V8duOpP+TRpU/MwpINl\n",
       "i3Bf0hG1g+XaLI44LkiU288PLCWUoBqdCaQYWTTgLLy+PgCNzt2390jaUlbL1qubh7bnTw6ceipR\n",
       "iMux2l5NRMv0Rwiuk9AItFPgEiUQf/Sa57oozei3oZvqCIDfHfNI5o/6HrMh98NlmYHspP/ivCqL\n",
       "7RO9IImEgkD/+lqFe7D1MRo6bqW5YuvBQmMyECwfSh+SQJ5W4HFKX9ngvvywGKPJ5dkJOPgTsYrx\n",
       "7WUcH8vicOgA7Dz+v2+DScwECGG/jTSXx9pbI0SwfxhM9twU6frLMRDvQGjG69dlykivjPBHmzm+\n",
       "RCSJywH2s99wRQ6eAuQn1uB+90oBjX4iBI78RV6YYbHEG13oxCD5AXcY4A5kOleSye6fD/K37SQw\n",
       "vb77/UBqeC4IlarkfC1aYSIUAxH8D9yA06bNeBD+7ld+Zxc7rTZ59JAZiMP+WO3yXSiiP2H12/xw\n",
       "35UvQ/WtXokiOJxjCONqpqovXQrlV3jhbCE10GfW9tK9ELrvdS48+G0Y/xkXW7RXArqeGfUjBWSf\n",
       "tZhBFUoOHNcxnW6VPVBT80ZOYHKHJD/GaKrTOkAxS6sa46B7gYNcSNn9Ar+734Jfmk1nkK0nNbdu\n",
       "VUoM1M+h8g1K+JG3ieLeLHiUHB78whmvaFzW/+vgi5QBSPzAbCw/dMezpMkvQsvp1/6L+iXi8gLU\n",
       "LP6fv3C8/jnqjv2IiwuSaFeMl2xqT51+BBdXy3GcJ6QxYKecXuLq9L/g4CyvzLDDh+WlK4jFwDfR\n",
       "ZQpRrblp2WVpMeIPNoNvPgkUeoAmmaNs+b8UJAneSulQXcVgyLG+3UrQ0fh/querKXlHzzQOqH/x\n",
       "tmtTR/dR9iC5uzzI+kNrLpIWmVEcb5wgyQ3yTKoBFTtzJWvQ73klaAUm0hgXFOzZvnjJSxlZsdmn\n",
       "BCRAVlPdosfsH1D7uLWhW//9UHRdfw/Qn4s4uBkHv3lkq8zM1IyDbF6MlaeP1Chhg6WfB18wnagT\n",
       "ZvDRBlsDTW4f7Dn6WVC8vMs+R7uUmoq8979I/POfu0l4bEVBXilvKxtTcXkxfNQwpOD+s12oGDoV\n",
       "Q9izvqr4RTFdYIQ/rJl4dhkP/AGW1Gw1bx5WOr1WeqdJAvrCgod4p8Zgz5B+mcFGDKEszH6NN+Jq\n",
       "hAWZqoR+pQVGVuVp5QD2QMBQCgo9zfby5I81iQcNul9XrwTtKH0aowHLU5brjzp/CfehCXWaK6Cp\n",
       "pjeEMo+EMpbfkcUFOw+C+pmbY3dT4IKVormgJE+St+mQK9308oIhyjU0VHcWebNsKlWBl39HSw/S\n",
       "jyOpHagAk9bgOg7REnrG7Elxq2uHB4IXFt4vzCIlUiutOEANDS0jwJeWQ1WOl2gevC15KdyNr19u\n",
       "wGGGBOOZzCqPOaTXlrh3DjqP7ALvA5f7FyvBIkkOCawHK/aLAM0fi4tO4KLmSeYgIb/xae4GqtrO\n",
       "4lLHH9w7trJQ4sfkOale+F6kCXGzSYCaOUdvZw8OC/AJ2zWmCNMEFg0zlWgUXxDJbQq06H//N70C\n",
       "esDiIZgSrLLHVOxe6gtlJ+mSi0M7Ijd/oTqPBbkUu0cX+d5oFMxpd4ScvR4flUTtziT/ZYQl/W+t\n",
       "wG52BAfHo/6YbrF83/jVIcAAP2q2Bujd5Z7Xo+Xb8xXvMplL/9PZYzOf0BEg7KRPt3kRCpwnAeBO\n",
       "c7r48UCIwjgxQ3KVpz1wsKkshVLQ0k0D3bSvU1yfOFEYrBX7b44JZR5sZ2FbLycE1NSPOBW9ZjKW\n",
       "gN/Cc82E248bcUTujb6E4kw+bkfzWEtoDIfQ1gSIA4fBHvUWhuiFDU0/t//7kBXgFIICl+L/x2fK\n",
       "wcbRU7UARsvd/Er10VDM0RVpum8ZvTxO2MnxrEuHGyXVeANzxC1i+gAuPk4NVwZptRxDEnkZa73o\n",
       "zYsAdflgyHx8X5KWUI0kIl2g4UxIAL+Cmb1tBLCveXxOCXdCNvlYIus2h5vYqLGDbhE+xmyNXN0b\n",
       "Gk3XN2LXDNU8K10xaSuWiTeBpN5DX1Tpa0XdpeRpoMOkBiFkwftgULLHgIRKcwAp1znc1I8/jopU\n",
       "OAtzSlE6pK42R9AYFOVLpC9I4FsKNq+d0UBBJ3XUWCaLkaTb9WbtJjG5QOfDa4bCBoAYsqmKF+lw\n",
       "CCtXa5KYt1HMJV1fNDrWMhc/puuXjZQkpdm6PpYjKc7R558xsmULQwhg0CZklr2UYFWFDJ47VcqO\n",
       "6UVLBpZwtKXPjfvVrOgTmozlIoODS8eFk9SRdOZJQ6Bj0Vgx+eR1R/2Se/s6rYyzxi5+1ECMU9ZY\n",
       "AKlzzgGq2H1VljBpHutgUmNq77WvnDdrdLUrlFQusndrmWQPFeiwZdM6y7sRp4930s8mPkfuAQh7\n",
       "dLl6qvXFzHycH3vE7iZYN1OvaniUUwrlnamxiZA//upsMSyusQwqAWFm4hT2hFtppY8r1c5gdrV5\n",
       "7fxndnpNnOaW/pUtZ3Z8BD5/60p4keOFybM7u4PGv6qDoRWFkE4ZwYUpUrUBitZkbBWRQKkrOwvi\n",
       "eTlimPHmiHT6AOyhf03hruyBTTxc+F8K3iMtnDBRLU/UKnTl+zuJkrNc8YUVvXTuGYLd0Hdwdcn3\n",
       "W6l1szGtU8wwxrv9sktqa3fZNPf/SoV+Lk+7cXWQ/az/d1PtGw7hVdtfs0BN8gA5APQlN6mXrOME\n",
       "2B3EnvKpU3fJa1zpTlkKqij83QoU7UDDt1JnJi0whnbfqPhCjvyai0Pndon8UXczDLr36bjKX1ca\n",
       "JyEqL5Wajal+IkN0PPcUwGyxgoCLovy6CvWm6XJZIc6ubiQOfeSLgcq2m9fOGZn73D9yAPGZTlvW\n",
       "+QvOX8Dvd1apieg3WJBUkxRzq3jqWB8Tf/xSXW/ESdOccTvsWRhCCVAT8k3wNHCHrLV+iD/zsrTM\n",
       "gWlKPRk/NGd8djW/RrBSOWKYtZYAijLcFYM1eoX+HvOiZbBTA7fvAG2yWa3Uz+yVioVTiU1VI16R\n",
       "tm14UZ5YiDb9mrG7JAngFnuQbOWBL3tV/vVJICyvssqJEndKFdYPYcoSwyGxH8DQbTYbGHhpt+rC\n",
       "cKrsVpTEdXL68iHCMGy2xhPfDZGNP2HuN5M9dj5hemgLWPqtkjjhtOj88ZG8XmaB8JC6KncH3ZLf\n",
       "H8MxSV/PPeVI4OL2UnV7dhGhgABTCbUC8Vkca2M7bEuQp1kfkY5wQtM41pOGiU3TZYSit7o/lvUB\n",
       "2x+UUPpfCXx19THwFenVQDvDCPoEP4EEHPzzF3U4l9eaSLZJjd1NicRMD07HndXWDOiitkxBovCA\n",
       "QCkIrQDwe4fOFeUGIduf9pn2NDFTEF3chKyKjb3bUaIfyj7+LKdJF5qeK1Cqr9l8PCYR6TFxHWrF\n",
       "hdE3la7froaJxF2AQcf6FT/cXyvmD2AORV+Kqu3fheJwPKicv3wDyj6sYaezgFrSQ06G2UHwNC07\n",
       "q7/ngc5TjDB7wEV1y5Qkgdb7wZHqdCVnU37hfXykeJBRmbirj3yu4/oJ//ZflsBp4bvAEv/9pqfU\n",
       "ry+5ltSsYas/+I3zWLmvBhlhOqFUMEP74NS7dvSjmaw+878BdLSJc7O8J5RU2EtfYO6PeNh8y1/m\n",
       "yxmfu9u5wvMDDpx+3JhdM9Wb/HqB9PbkCN0KTbU1IlelCAdc691w8ab19/CcUPiRfARFGm65J6bv\n",
       "H9DNoj6XyLi9qsG1AZB3WcOialEiyIxDg1XiV635oJT9YF9YJFYkGcL2yuFauKh5m7Iqdjd59LnF\n",
       "G09RrAWP7joONBZXlz+K72r+lXUNnNWW7lmbb90kJvHK5M5aQNXiOerAoEjzAxrKXxJ6yjrNSI+u\n",
       "Z/9HopuX2u6cEa99E1FBxlUiifpUEkGqd7KFrQWzpJKk2Kp7K8SO7uMzmuZPs4BOe0rvIF3766TO\n",
       "Aqo/2Jhd3C/5/vDdWePTPzJi2gmnqmv/BXo5y0u3hZ14lzxlzks20eKg+QAAAwAAAwAAAwFxAAAE\n",
       "ikGaJGxDv5Bo/tHtSqBHtXQJwCXBsnCQ4aEbeQ8/fa798j9iuUV9SdVCx+fI7DP/F4DxQU87ugCe\n",
       "N6s51uONPeOW5C3UUappIVIG9ZOAstGRmTDrY3ibU7MH0IpxiQDws3C7QM6XNyj3DZb+dm87qiTt\n",
       "Wnv7m8mH/625IptqtyHRCGpAgSeZ2QhjFJHZyzAti4GY2Gf3yx6fC9/n1TbszPhcT4NoTywCVAZw\n",
       "+fk93GS7wzX66is1A4KvbsDxbkXMTY2IMO0DhAyx3gGbgJIGTH9D00fFgmGzo7SfsUc+fJM4muGw\n",
       "aUlFs6H7WSeNoq4y4x5j4b/FNlyN/caJ2cRKG4Xvv31Gmd5VzMIwYSbkGYopPLYJ98sjYQ0efI4g\n",
       "EStbBW6viVc5dOSCpZpmzTzRRG+REgPmvKf9sqa9S9ePntl8GEr/8sLcKjd00/3/XofXvtpE3D63\n",
       "5zR+kiNrbKbGGJv2BAFLaJBZe1Gu6oO0wnlj/X2f9cba4VhkUbxcc1XJCZLe5xqfrlTFJzJW0nzt\n",
       "DvPDfz6X5RZzK1TkiU9BEiKsBiPBu+nF992Ppe44Yu+bgKHGttX0aUZjT8EAEWp/NoFtfQl8SDfp\n",
       "HUMeTG7P1g71dlfcwXeopEz7WlinW26lLl+vitXu2lsOLIuIghFSo0UvOtGgHgzjomm4jG0OzUQQ\n",
       "rhV1vhdSdL0yIXQlpL3ITKfC1Fb1K/fOakV8ajP1Is7Zbtb1tE6+4qoO5oluere6Mfb1VrCMZb/8\n",
       "Oeqlb41RC0Cfp1AMufHPacz4plpSvT4cntqK0SIBDsAJVUHNK0EvJo4QiPlnFKRuo982DuqOxTEu\n",
       "w1+yBtnz55lzxHHdMBmsEIkuE/tHdtXtF284RjDxCCOUBlY3dKRgcjIR91qRhtOBbgZbslcdkrNd\n",
       "75NvwiAaTjCkkLGeqZJmUYCFAkbcZWvIUqcAkDoJENyUNKP+BmLNIxmH1ufD4TUitXJJKPXiluv4\n",
       "Xgiv0XyUcI5rgUw09EYRqbxfkhzJ6ffLeu9QJHNBa907o/70icaH1qfHHKx4G+6ZdmL4EVsvPHbV\n",
       "9aHWeMUGYLnYBMqAXXM8Tk33ZexAeD+8o3CdVQ/w2+eZciCZO+WmfjGB/I1MJKuDuGtldfpHT+p2\n",
       "qqrMF5ifH384nKRblf3JmvfVqHS8GYO50Dk/46gXnUFDBSlMuRU9JuDu6TkE5jvaPTlpjM0spv0R\n",
       "LaEoBPFEBK44Br9PIsmdSo7fh2cezsOwWGakA/7KzKb0r03+VzlmMunhjpcBhJazm2cBGvBWWz4n\n",
       "tMY/uNM4WPq+5oe7hMZWiKaxjPfjwSi6O0lGgd/PLuNeA27k70MyXCggf1UEGIja5qNcHDeGDLeF\n",
       "p/x4IZJ0pkETPhV5Fmw/t3djg32AhJ2gY9LO3tjrjD96meLzEVKUEMIYF0EWL+5PiRebghizZhpv\n",
       "+5wwNY2YPX/2wyk06j/dWdHwpLlszGg2lEHy2etNmvOMtKj3q1cS1H+j5vTg6BN/Gugrt00DCmuT\n",
       "aJgGK5Html414SFyCNZt3uZ1Em1IUYUAAAHZQZ5CeIZ/73ijBlfqDw9bWhgAXRam8o9uvU5eLcor\n",
       "SavNN3yaJH2zZp/hE+7qt4YqNwFg9IUUdTHGkV9dcA6LrdFO4IjEwg8XjEuVJjK924MPQowOUoQ5\n",
       "8UHCPjY0ZuSK9Lx/2zdfiGlKOU/RPpBlQYathvW8e6JGAsuxJh4LfaM1Rak2wrJAihLIMzqx7I8Z\n",
       "QvSYQmjRyd16S/lqF2vSNY4TCYNSGNfTDGgIO6g9eC6Xs6jhF69Umn9boGywDAykhjfCm9R1ZjxB\n",
       "ESe/akeiuJmXqea59YUHcLqAYxwOxftLEYL2A1zJKcyKMfcR724MNWItsrJ8IfhmXh/A/0IxgwIV\n",
       "o0FyPnxYVITA0eOpFJX0Rd5la7tRvyRbRgbOhk1CVVaDq+gJ58ZyyeIJszmt2tEkTe8JyzBN0UsQ\n",
       "F4Tjii5HbSMQ1HuK6+hf6cuU7ztCxNH+vwabpuyG4RpQTZriJxvucfyiE+3HfxndipeJqqYKyKOP\n",
       "X5EDrMEN76W+sDT0Fr45Nnbwd9VUViO8FFErtj2V3lWRNCebzrf6iCdiIrOGkZW/FAyZrTlJeiok\n",
       "ImCzUB8T+jyFUajzh7nbYjontWDXlG04eg8ItXO4Z4md4HLAy6K+7wnyhqUAAAFFAZ5hdEK/8Qyb\n",
       "khT2ioeNYAJ0GUx1iC9O3s5ocbCRui2A6C6iDnBrzDooa9ZBs852PwUGG/MMb7JHVmQrpJtZm0Jh\n",
       "IDaQm7eYEZSV//L03D9CBQqIYk3lGd5i3vDRNLqHp5MtdQHYf65zFqU7LuMIdP+xYQUoIpHQ4Jxk\n",
       "/g3YHTYfRH+eaCLStZuCmj3QFcjwwbf3kEbr9kuiadvfikRCiYBLXzweUAR8IXe9CFcYlsvK+3Zk\n",
       "Nh5M3Jya/VAgOk5hdVaxNEvG/a30T+L7Dt4yxsQjy09cw9vWJBzOaOhE6vGGOdaQH9Qzl+MC+iOX\n",
       "BowsNdR9qX9A4NBWWuD59FrsZAdInv/P3g7tL164A7vpDvKYg7uTP7DnzZkarQ4MtJlybsrkvsjZ\n",
       "h39L8s0u0n2dVNWDuqywhIxlcJKEDcNK6MJef+AI+AAAAUQBnmNqQr8AvvCO/CnrKQ6V4ATSFvbY\n",
       "l7I6kOaACmLe5kH4s11xlKx9hlA+NLRPf3vgOF282fl/SCl7Rx/9cR3Kls5H0e/qm1INoG8Zi2sA\n",
       "VweN/CorX7jZq57y4gYi6+i37/ZFrS1Rd0ukXG/AJzx76rrJsdN+T53nHPMA8O5tEX4mZxFjJcTF\n",
       "v7GErrKPx9JKXojTMcoamIEgM7wchrcV3LqGlQiEAFub1t/nospptNWSqlb/uAEitUKTdDz5J917\n",
       "CoQ9FcVP7QW15EsSrRty0tAmvGPgkge8QCH2HmQ1kfE3fmn6ukZcegNZ8OMiMdT5PTgdgLwoC7rP\n",
       "mlpUie0r1MgeLuSWLSggpFg6LXcFbmrJKgszkm/MlKaWn2XQwy/rXSOecOlldWXOUfZjyBT7p6PV\n",
       "NtjMnPPV40o7ggINbZuAxYEAAAMoQZpnSahBaJlMCHf//qmWAHHHIuNPoAJ2+FdPjxQZf9K5A28J\n",
       "juLvNYGZDAth4LxWd0/yNnErduumeja9PVNHNXbRss7X0gwOjyXNFuUXopDoowV9jl6lK5uYnlE8\n",
       "ngVj0t4mzdTssAhW5pdBEPkydmyzbFENiLbkfingBlHaeTabkExLeeIuvJS6ZJ1jpipasZvjIupI\n",
       "9P8N+cNKp3+48xiY8rI1cAnYUQnkdH907r8nXbe24ICP18U8FWYkQoAtX0ttRdAWcWt737TXSSr6\n",
       "KDYzG/iTTm5eUf8lV2fqR9rvz+YkHkmC6MkLGAwl+p03NUXt6yecqWjVrQneOExegWwjkSu/6GzL\n",
       "WGJCziE1Tzutw1R5/G3YwLmo4If/tY9KRfUDJVOP9S6RwnR/Nf49MeDDpx1GYer3AnXWpv1ZLXTY\n",
       "Yec+sX0A51DVDhJbJ1mKFvhw6b1o7NolXHeOKBq0UcIekF0463s4VQ7ChtRn0Tn1O70cOmZf2vTq\n",
       "6SnXnkOZl3TWrUEukXwRTEj0moONzRH75xaekf+WIncYMZ/W5YunHAPBckpNYnODgoybBUB5DT9N\n",
       "YQCHO3L4zRw6f1v8dUIHCWb9EzjIGjhKbdbv90GNNAqmHXTbusvtY3dE9sx/UKeN7F2DaS4L8PP6\n",
       "JZ3IyXXl7npXJZOrBxTnaVZStc8aFlsRhXd0wRzuGrDbF8sWWi57RsYzoqHyS4bupvg3EezGP0uD\n",
       "oklkbiFsISVmKZmqs6392IevTwJurYVAZ+OfPChFcdCrvfxGhTgMQQJbhlV02FBxqTkhHxCNr7sN\n",
       "rPk7Hn9hF5uwfKZzXsnIsBbYChBBXDinq6jP51Xh1M94PkA8DRgyA03vfMGgggvLBZQP1U08Ou5X\n",
       "zdXOf5cB6Mx9AOkkD3yhKo06WcxUCs46HFZti8F/f91jIe8U54qMe17RQDp5wFBXivf3moUmUWn/\n",
       "M1hZqS4yQ1XWTqV66090E52ANaNy4PAB5o2UgJ2v3pxaZiq/uRbmn6jFvVMcEC+LFDyuQ3r6sLjQ\n",
       "SU2gK9PQmYI0gBnrAzun1Cvs78hAtn6QHntG3swDpwAAAY1BnoVFESwv/wCGpgPpuS5gAnVpLQE0\n",
       "k1ceomyAPamAEcd/kYY12tGbb10AVqxQapX8KWfq6UMP4/+gPEAuHHBQXQs1RJR6lzF3/jUE8C4I\n",
       "kqdri/gsmbrRZq1pWV9i3I4SOMSfgZTd9uFE99a3JvOVGLmakpZCsWzWiKaZ+kiwCvG5JOSZzXfC\n",
       "EDrGwTF58JcWGAq5Uvz75Xrhw8LPkX9vIgez96hb1/GaRt4D4f3I6AFM2z0sYTzSarKNe5L2GkNc\n",
       "oGOYXKSxCEpinWirPi8Dlh3oCY4e3+HDQ+UeI82xLDUsmQn9VUy+3EjQEhNZdlDObkdfd7ZcToiH\n",
       "Se78gtfuI0orjKw0oD8RmdNQRpv4zU6G5qejRQoVI8lszk7KRXOGW6ZDOAx/YhGsrhv2EL8XGcNI\n",
       "Rj9ea6cNT0SOaRmENmcH4vZzrGmNW9Rw56YtOOIV4RLGNrn4BB1N+LdktvlDgJQ8jNkth35Pfni/\n",
       "T9io6hSLhD2p6+B0yq5FxKwTVlpqaWKHR2W0TojYAJuBAAABiwGepmpCvwC5xaWEBOCAFtL8RgtC\n",
       "q1+CAg9ETOiIYo02fhcVIe6wNHI3QWxhA0vChdatNcWfLd0kfpXpI5HCxOdfIY7yzOUlMIgAUP3p\n",
       "CrA+b0erxFtyRYveI9U+8mxX4k6Padn/95UJ/CfFmmK+WvYXbmbKmWfXlleZVNNDnoeCwMfVZFfv\n",
       "ldrPsJ9SFFSiUvrBs3/M8WMhfDTTc8YVmcIvIAIgkf3IfYnJzgjgCiJXcXIZNj5nCWFCJFbo8v79\n",
       "EUNoUq+FPZr2ECcj+0x1G5ir9K4d9F0G48Eoz5pfxLJ5a+c1IQWe+uYQnpyFBnd94oXx5EhFPGNH\n",
       "u8KxVkmK3+IkNI5k8f4fLzFjrkc0NWSVFrlt+xW9S5BCIozFcVvRwE3zomdbW1ycbZOt+wiBIEvK\n",
       "dkRiZPbwpH4riIBNUJcT/0yjAZGIs55MUu1xCPx575tU3rBUW37xMCmt1Y1EspTe/2mMIaU+VoIt\n",
       "9Wglutum1uBslF9xADydSbf7dUUMPXC5iyt+N+2nvsJfAAADeUGaqkmoQWyZTAh3//6plgByeL9A\n",
       "A+/MHjACWNQl/+1dmGnauAzD5UN9MhKG7AbLMhWK4S2tu7Ou9FRQOC4cVRBS9fIugfhn3scyiTWL\n",
       "i4rWWmMQURkWsZihipDI5Q8rsw3y9a5KG+Abotu/sJuihUlEb6ROL+wlVrYPOC1rRZ3NQaAa+0Lr\n",
       "27UoG6J1xImDDjJknHa3Z5c/LMSX+//T222y2XdOaz2jCcipWTKjJP411jPYf75ahKPSmywl4t4G\n",
       "RL1eMQ9vLUiLhRmZjPKXJqlxJFEIsSHwGuyDBM2aiU0683Rvs75PBwvVFKseNbogCLegnaL+UmML\n",
       "yWuskn/mAHfCH5Cjn9GBds5up+GeZMriPP20hnTh5BVa3QHYz4jS2ymCdGuAsiHcJ3CAcN7rE9WE\n",
       "8QwZMkR6JZv7C7YBkXX4NmyHUxTLG1lonBBv7IyO93/qm0OhY3uyIBq1PvghG5bScNCWL3HsCJfd\n",
       "9zsQ7E2pBB0Rp5rHGytcbD7FxzYjEeK9rgQP4xJ/wCtJzeBL8LlTL8/Pbh7BgNTETFtFusvkM5Xc\n",
       "okaF0lqq7BhW9fOX3XHUOdM9FFvC40Vkg1qghID6ZyClVN8Y9vsQiOCz48vydnxbs+lWIJa0XAcd\n",
       "3I/PYxsqpZ+FxE+1ZJ5v7puzl9UZSUwqH/akxZdsIRTDwZGoVY7iAKda7cPChYTDxoJ8XFZHQoGJ\n",
       "jG68RuXpFyB+RAwzgORZUR5pnx7KTN/58sfkMEvzOUuSnuBVlVnZBJAnGWqRoSTp0OcpkFlvOQgW\n",
       "fLvU0biolfSJ9ZByHWUjGUjTzCgiqJuqoCN1QN8CpWq204EDJdXfGPTlKy9OQ7qZAIh+nATMeF7B\n",
       "feImbJBexgpVWcHdMDACdx+BKWf+xkCEGrkDUWwACrmL04EQaPJO4cvKipslEx4AKnuMLloNhkNc\n",
       "Xuy7TcRk6juX1GSa3UbEvB43sIP0b/VLK2ZvhJqLs4JUjkNVd4KQQHKvAS/mox36V7LTgz7GutD9\n",
       "kSXdJpIDkY8AQ9/B5WDZf1mA6lr1fugEjZe53TGvChsZ+/zzfNluHAjjRD4poXKSUhNVoGYC8sE9\n",
       "ACrp1YCWQ0QYdJgntccGWSkXZu96KiHxvpA6pW2s7SOTHq/a9GtjSwuTJlVBoP/rgtgzGifWaQ34\n",
       "nQzLd1O3vMYBMubYDeYAAAGbQZ7IRRUsL/8AhPh/Lvtd/y7QAH6G6lYtJZcoG0UOVhiu+k3D6a+x\n",
       "fKZfpy4ztcPPgVIBvbgGoMSUhAlWBpXqhjxfT/cv3cJYX5iOdVFp980R4QsU2hT6BigNHbbd1JGV\n",
       "neaiVVny6RA7aB8Pdqz5DP623JL+JmSxHBEW+pnG2+gOwn2fcWdCvPnDVk3yC6y0hNRxdAAjuKQg\n",
       "sQUTfNcb3r6AAAHLfjPjH9WE/dXLz/bzdgDC+RFPrH88XuKHp1jiabpzVd37WPUBIZ/DTsQ65HdP\n",
       "cLwTa6WdIVAy5fcz/2ZQrOK06+6F/hR6r4AUx6w0iAR6pLoMyglbFLa9GJhyPvrwaQWpm0oNLOok\n",
       "/XdIN7uE1WYxtP3DjyaCMR51HtIKi6dNIaaQq4kbHn+K6wxVDFlZ7viucpb8ur0AovDHmumBpDNd\n",
       "6RuIqJdKmdyIIi+SVam3P8UnAxMA6FPkAmbW9pf2ide1bpfwON7WY1R0GVcWAnRWMEqG0OzIqKVx\n",
       "zddMVySBhoD63k3a7i0/gevKzG+P9l2YTnLaAJuAAAABOwGe6WpCvwC6YK1kbnhpvACZsXPXaFGs\n",
       "nu/0Y2CydasDMq8WfAmdKWfKuTAXz6GuJ7UIuH4NVw/yag6Y/biKTYqDzGFf8C8K9LUA8J2yMqb6\n",
       "F/rL7c+msWTo3hkWIqCjCi8UE2VVlCu6XmNP6fLUndHtmuCNyKthA56FbPeVaeVyN4o2L+EFSnVx\n",
       "3DeBDk6OKqgoKdr0HasTXQHOw2IlDGbbUu3FpKCF3jV6LodjUVnrl9omnyu5YsSYTHV0N9RwhM6u\n",
       "l8JSZJH9U0zz94Ubm4qVAEF5bQ0cnSOwsSTXvi67mp7xFI7eJLjDVYbuTNTyxr5y+BBW9q6OkG93\n",
       "1jdt1VZyejN5SzzaIjzsuoY0j/x6g+/3ENm2rAaAhCca2HUmuLFj3Atx44EQmylmSVWsalRCMI/L\n",
       "PBKH4TCXgQAAA0ZBmu1JqEFsmUwId//+qZYAb0xpeoizUAE61iTRdFzlGAjod5HICPTq8xPEELJO\n",
       "hjTazqqoNi+P/i0W1VplJKHf32gjnIdftT7mL+GhT7/CPaOdng9T42ePmTG/rqXmQ+dEPkWtRQGS\n",
       "pilrtWMkgJ2ixQqOVKITBoEdpHt6PrQ6BscZ83hXyw1Goww0mojfWoSbt/sCwuDvXY688Ap376K3\n",
       "SIlgL8PEaMmDNfVA+oSUmeRBD9N0GCr7C0tCrSgoEqo9jIkHatVzj1gAFaSJJpR15XcdCHn/W5SM\n",
       "0/B2ucLlgSwx4vmbHSvmcVuL7lw5uSfXeJtSGPREcMwFA9YIBgpFi0dWrRvnpjJvcIuViTHmsAtG\n",
       "ni/ICz98xymlwif0zD2CUZ2vuj3H/cmXzm9trEwAsyhyGHi5SayohVmAK5dfrJDujBQ6qXFAASAf\n",
       "Eg4RK0LyglrBCQooHyH5VARYihMsRGxUrvGLNhg966+zQUlEKDwKJfq0tQg7c1V6lgpL4PzZ3HxR\n",
       "ATZLwgf4o8QiEvCPzV6DB1MPM0UbxYcSxbXQUwFQD+N4U5fLr0/SZnuKHccSXu9GzyqP/2eGuK6Q\n",
       "xRp0ySOumJTTEqOZw5PdBNoLFCOf/6aCxhJwotI+K8aTBmsK+xAZMcmNRTJxKnM6sU2mlzPcxB7u\n",
       "+PD/1AvclSzUw7V+9mOmf2x2FUGl5C3dBm/LvXlFhvz2vQ5sp1aLf+4GZyMtKC7254n4gOI/2Z4f\n",
       "s1qZgTcRAWq5xiDcGqQo++UcuCDQyHqzs6W6EWUwKQU0VARCax3Qy+JnMk8A0Cx0QjHb+xZL79BT\n",
       "a4NG+mp5RRm4jbVD0OT1uW0eJHb6tukrVBBtfpmpqdbuMIYxWE8Z52xbGHmiecAFxpgKo0+ESauD\n",
       "fssWZ1eRcN1wjgsIB9hUWPLxqLDVWB+aQIY+LcQZapJGmzWdQeuhmxWC4/9RtOEQ/pGrcKNb5MdZ\n",
       "36G6F+83WsUxKcBhlARqz0CcFOmjzzSIBT9Z8jcUL7IwP0FZ0f55mOQgvFfgMrbIOy/1316/RP2K\n",
       "4JqD8VjTmAHe5guQ6RAuEWU2PnPP65hy9UdjZrG/AjnW/4KFDcufQIVKQBbPmUsovI+YAAABgkGf\n",
       "C0UVLC//AIVo/J2m78wAtLH/1cCjobxuqakBC4Lw5iDFr2SoJnRHOSWmp+Vz76wk/Hy62qDH1AE9\n",
       "X50Lz/2zCFo7cV+TKfnDpZv6scMytHHroeQPlJZ7IKoNxigIMbcABMgQnet22AztWgpFOjhAdCNF\n",
       "l5kWI5hcbJsMSVHncpGKTFZJOi1004DecW/Xcnlm9/82k1MBAsqBe9gT4i5GTd3FXpgCy/i9ItNN\n",
       "x6l3Jhe0Y9ic3j4iH/PLvYraqzYkNL/C3ecVeE//mfAQ6gDThxs1oooD9Gv8K9iGVJVqnhZbcWue\n",
       "WyaMLlVA/EY3F9eyV6BDEC0Wp/3aclwBPMyS5edz+u1pr/LMtNpi7wO8wVOfexXImua9Jcf9O6mS\n",
       "b5aMWy7g6FUneavX3oJtNIlni57yx5YEN0ahbJwSJSG/2Sg+9LCR8hJWrq+7CIMDLo2bKnZM1G9/\n",
       "ssTeNYV7eK6EN/UUlEnF0dIM0NaeravjEjuPGFzsB0weKhptwBiS8AakAAABMwGfLGpCvwC6V5Da\n",
       "sO+305fl5Y/YHQbxpmKBTNQAe/371Vdi+6AOIUSK7i/ks5tKNQ9Vr3H9K617miPXWEWvDebmOyEx\n",
       "ecGyn2joh1wpSJz4AD8Ly8aKPPpiLetZpyJ7TvD8+5EYP0ySDb0294JRIiR/o8RQggYljgOAvDg8\n",
       "uba73YWoK5YfZQlWjnJW/KAyf8wu+9g4pqdKHsk80gROKFG3i1JiZdlClqWaUwwGKXHEvL6zPmhj\n",
       "93FzxDsYPWTUn8kWuUehgh8j1FwV6uN1ntPfNeIgvPlowmu714sx9YzQGMaUFQqHw/xAfmi1rvnG\n",
       "AmbJTUbBrwens/3xl97FbsqZTrwDmUvI8OwgSmhTHnvTfdJM9hWGG46jto1qMGxzFJI70+YjjMZ6\n",
       "TpLPzlQPbFEvyDkAAAOyQZswSahBbJlMCH///qmWAG+91p9JYSQPMlwEjbKY7LSffKDIy3VC6Jju\n",
       "61UiZaVIQUygFqr9IZIYfXGEnwANcKGc0tHECv31hIGKRr/UD9eQPqRFKGd91CSmxuLvDpcgakAN\n",
       "nTO7Ncr1viB9059/ZKDo1b5hnRg6u1G2jBacYe5dxBcd8j9xL9pFd4uIf0FwmYCDdJV9fzuJ0Ig0\n",
       "gW1qf4lJEbawDMTKFxZssb7vYric77HZLm5UR07NUEE89MXP90PKgVLpffF8zFd3VzwyhnTMcch4\n",
       "t07WY4TQ7HkzBVOrdexcaR0m56YFUfHpmx383aP5dYIU4d1BYq5p8rKg4srB469Oboa5RlphejeD\n",
       "zmRYmJ82+zTpuSase29s81e9LcnfSTax5YZGmrZWCN2pio/flzgYG3T5mERwAFD2PtHuo/Lf+KP8\n",
       "nhIhgD5MR/3yUzZX8nylUyvrsAjWmHok5r6vubbvtRVQoE7Ek78yEi/RbAYryfSjrezeJP/ZMZ5J\n",
       "h4FnzvlWqeyJ4Uo9PNUimMzbC51Bf+itNPzjAwfnvz7WcySHNOY91M0Bngi/zxIMfYHt/1OFVULh\n",
       "q6rI+yg4e3ueE3hoz6gg7Hie/xhFsMnM2qmPMib3qlCZHqOR5cE8UZDviCdZKEQts9WWmPp4WBAH\n",
       "/TZtiYl+WIjMRqhdiuvMgTlUpIyEeebqTOadd2oUG2PfMHwy41ztIxOunZ15T6tKJCRAF3fBOfxe\n",
       "uXS4+k9G0rLcdvXiXkMj5PDo9t87/igTwvNf7fFwUkLIxzLhL0oRQ0PN+uOsiF8i1FDUvVjJtHf8\n",
       "idiy6DG2M0xBsnMq6K0gIve+GvdC/iCbyRHEd8buYzPCdoT1H+LRkxKsImYC0+HgkqTN3dZlkVIp\n",
       "rxg/siPO0pdoecnZEQYWHKLHkYaQvW1+L8yWCA6B9Qh4tKU0JSD1jWBuQ9mbjzAmfFdijkKZ/Efz\n",
       "myhWcpxkVO/1Tkpjj5Hu0G+IhrbXNy8Sg7go1gfbajcFWXC8fYdy44kH3/Zv0TAYBc+nXSDevBHo\n",
       "ndNJ3GXn/WY0c64kbYc5vBPGpMORcPFJcnRdhhNr58w3bictzaooRgIXAgKg6IbSpT9ww3PbbdTp\n",
       "XQVSbhgxDt+w3PR/yeff2nPsRgb/2J1onRtsrvWZuoEF8fyoZA/y5wTl6LJuSGQnzwDGUe1vMYOw\n",
       "akxKR1greqo3j6evFT8gOADvyUrGUpIDTep5S1dzr+N5febjL/ule2FLvIVhHQAFJQAAAZtBn05F\n",
       "FSwv/wCG+ZScnDud1HLcEXsak36uMbcoOUUwt0QwHrfbAANiQMEznk8y7RAOhxhoc9y1p1mKHdfw\n",
       "M73PdMLppGOu1AhyUICuxNggQ89tRZ8Tou1J7pxpzZ7CkKj3p5dpCDlru5glecn8zct4vE7433Na\n",
       "X7uefwvgP9J2PH0zwpzjt7ofeAU135vnspuhnWnVaOjEt14G4O2fYAGtUU3EOefRRHQYKtiKAVTT\n",
       "KzpvMf9/55y49HQK8w6nmQIxdo6yYYwdlG7NxTS+/S4PtUVTNxd+eZM5kM2QKvz1BPLrkF6IHWdi\n",
       "kOnDBZPUiMcx9hboY0AbvOjYepuOMMCbebjOT3lH2ow3HFZy/rSc5pq4GC1Hd8/U4BppMVm2+/ZR\n",
       "rTCsgnxgUSLGIrTJY+u8DtdqaWZ8S5jqZeRJRuXqySONJYc0/xwb9dcni1h3DM0QTjsp3QtbaqSk\n",
       "vEfXFLWOTecGflGRFzJ9MSqu7/YnhkwocoqxY9OeUIjY5axalEPsKq3S0CMXW3kSYxlO/UIla7Un\n",
       "pZOngQpDLuEAAAEvAZ9vakK/ALpXp9vAyfN9Xas393lePiUKCsYEu3tX92jeFyTFRDwoEvwEb5+W\n",
       "gnkWFuzuqafgBHTuWo1R316lFkB6Ub9tANvcNdchfnkri85UkPc+suKL+RPlYDZJpSiRTIWgeHhT\n",
       "ZzvHRbe+fggco8zv/RFB9GnrU0A4wbu2rqK/hcfv3XvFrkrNFJ+nMiwWSCU/GtbPE85yQizw8llY\n",
       "vN3v1FpRZLpdnzote9aOTO0fQxaLJh4IQi7QpE2p0flyPjOjagIQDtaeVOcbz/2Z5nHkviKcr7RP\n",
       "EOgI2fnnNc/zY4smRqlndmWJeWTdLrY7LJyrfvFiV9uMvoMLFMKJdTlylGnd6KK/CXKTkGT/R1aN\n",
       "m5Ai+1ZPONYad8yaGU2qOvCeM6DjUOIPesB7wDKgAAADcEGbc0moQWyZTAh///6plgBsqk7qcAFv\n",
       "XZXj7nrZQ/LFnlzhFywemZT/aa+sqWmJ3SqBNnS0qWN2qyxx43yBEz2YSN7HH1hO5Zzv6jlEhn5V\n",
       "1qguPldPQ28JKanxWDmCCb3H3Z0XlQB1lp0G4/gxyMarDh6qoZgT2Ukruyxghde48Eoi2pKAPppX\n",
       "RmPHGWXAJYVdrxOxE9D4s6nPkOuKyP0orxZj3V9dEh33PrrkReviGQOP+/xKpKQv1TjX4h2bbXre\n",
       "0NWE2LkF4efRZvfhXdxSoR5bQ7el1Yh9iKDwVNvVlQDy9IOSHW/NBGdPDFRDzHeJp7rdQdtoyuLw\n",
       "yv8HUpx4HpRS+9X4k6qf5y9nsuaXCSa3xGCPF9/vC7XUUOhZkbhl8ukyqyDHF2u6tCjh1CRlCqug\n",
       "FwjDgWyVqrdEcYgzfyvcg/4X+JlOzcp+5Yq8zw9W/GgPi/2rw/f6qbgdSFNYkkdo834Q0heWKrak\n",
       "BG5DgXpBCQTo34qonPduBn0ldXadu+ShAx1qFrNyFtToUjbuwjspHOYQFZZLi4aT53St8AhAGrha\n",
       "CWW2dMLYEngUW18/VerT7rwGwkyYEqtq6StDA+eOJpNb1hQO7djtBaLdcUfe2xymQ7YbnH3EJoTk\n",
       "sLn5StGgcsfx4bRoyn6sLs/Fg7nsC8jK6TA8OLzeTrv9jr8R3KhrVq4PXThxEDRdo6LQZhuIsDKp\n",
       "i5pCEu761O9kYTUloSTuwo0l+MajRZmgIqy+PUT0BqPujJQKH3CFS3CW0Ii3jQX5sxKVSRXlBwr5\n",
       "9ZXFVyKvJ8T1/+97HTz+V/LYHOWv+xmOSzWBLJA5BHFYFE0MK/QQodGt4H9SWpFPwfMHkMxk9pPn\n",
       "wt8WPGtSDpIwf+Wozrzlz42GVndg08XiLdRtyf/m/AixOxOU408v+mK1pw351DYoCT4boshnEgSx\n",
       "3M2l24p17LibbO6ef6P+W+NhJfYq4xvSqyQCTjGlWov4w3Fckr+B+7qwWVOYb59d01FQV1XzK4LD\n",
       "93gIz0gviNcF+a1r3RkX1U2lotwhYAYgBHQrdSWLB6VfsfEbHm5c1V/O0TVlbig0mS/BEdx9SPep\n",
       "qj3PG7C3iI5RlCmGc+F5O9YkRDK2IE44BjqCBGhmf0n8tGnx7RQT1Splf36npW9T2fjlMLgYwKkp\n",
       "mYAAAAF1QZ+RRRUsL/8AhvnbQlh0PdICz6LQAdtCJBTxIaAAsmHOlZk9sL9Qb9dCvv+kY/G5RawO\n",
       "iogj4LwTr5zf9Do93vvtZNjwDT7QMouZsPwf6Srt2+fdu4mjK3fie3E81tbOqtPS/uRsK4627k9X\n",
       "6YRV4ZnTuPHwvWD39JvoSYcDWkL3UTurwdOAZmNxFJW4RaER6/OoZZ95Fu3B7fREDhKEcyDvI7K2\n",
       "21xF/BZPs9ddtZFMl89gFD80bIFF7eMeyS0YvwvVyaDezk103sqICoV0hnLVy+LtxhTmngyhEngd\n",
       "3WgdUAg0LeINJW3m3MT9pG5fyyLCf68QCqsmqUPzabcaxubnTXgSe07cYB88RpEul8Hu8CkDJbGv\n",
       "Vb8I6iONffv14svhy7vZ3MckJ+Dmd+nh1k3Pon4xEPn7Xp3ob6RLQuhSyh5BtO3DBiNncZCq8Zjy\n",
       "5eLXOeDs0MqwO6CR3AVwQU8OsL0H+j0aqZYFNDHGbFtZQ4MPSQAAAUkBn7JqQr8AulhW1G8I8bVA\n",
       "BxjA+vW8ft1sY2qV4w6jPGPBRIBfD+d7OY864+U94IccOQYzL4hURPTX8XHPJNGTOzTMlUdUW+dq\n",
       "sOYnxo6S+FfTc9d+w1uIqVs6vo0mCDMDmR6spO3eeIi7JVFmYO34EMqi2hGwz4OO2v5klITbYimW\n",
       "t45qvWzZ+ENHwz+GO+LtTZjCksuB5Iw6pW79HkUr/MmxK+v+3FQfpsAut1EbYxSdCvUS7vh3w0Ns\n",
       "h8I2qxoxuLy6CCEETasr7td8RJGBWaQcSqnzayYnvFWo5PtD9rHHLbO7PwVECnJ3oTHyoZr0kxPv\n",
       "6bGim71dvyQ6PTg5T2bCGX9bzrrRiSPcPdjfvKuUQsE9jPAW5Q/dtXJI9BE5wAE3hTCFhG4AtqWc\n",
       "G/Qa+eEPYcivPEPO4CvFdKosf5PpWH57c+Cq4AAAA3xBm7dJqEFsmUwIf//+qZYAbT3Wnzow72gJ\n",
       "JsqMZaD+oD/8KBzKBCaDyyz0oLDRsCdEpeq1TJYzxtrKdYL5ODokzwt/qAqMMID8ht/qwExFjGrG\n",
       "tFR0LORfMdsBNSySYlqTTF2HDSkYs/SKJcxNT9o4R/5BO9bTyoIAgHQOPZh7RQfyrxIfIqsnhVg5\n",
       "7ZTOO38BLz9dB/Wf2wR5TKkIuSOWNPqMQHszeT3wj2cEj7FIapS11BjGRoojZI80xNo8T+zALKfH\n",
       "TKad4pe3rsk5xi9lmyDKpGSVfQCFJvugJf4jBpYL00M0rtodo27pe9dFwlbNg1kOwE9+cNjLYCMh\n",
       "fWSgjQJVuP6COom5BcEAdap6cP04wPoxtOLFbBOA7IPDdkAO+2YeE+0A+m9sitAC9/8ecJlj47nv\n",
       "LuhTlPHEYrIEdUYBKrREhhotJDEiiyzWO6gE43k9DcHWwqYyikRZjvj/SIaLil3zlAhJ34Q/EVJ1\n",
       "TfSB9s9jMK+smRk2NKu2fML6ssGlIccu/sOQw3P5+AYRGV7qUfLc9ABRONHeugVYl+dzCFncDBDH\n",
       "siE3mXRg1ui2cGugcvAij02vMxRWKgFbQ3ilyIJC/rnH6YwpkMMwo3JntdnktzLUTiaEl8gubHnW\n",
       "0QIX5KdDXb4gezfUuXTjiBEntYhQ0YFgiTA9z6Atu71jg36rxIPFjh6GpgvwOq5LW56dyT7JJHqu\n",
       "wvxsQcrswQtbAuQLHjgMt9xaAyGRO31Te1Oz9KR6CfCtVmcYmQHMrdHGdYB3naRT6BInKAU2OdYk\n",
       "ogV9dqTRx+EmKSOYHJzK0BxLZu2jGr+Hadt2lMdhpizh7XuDqBNy35V+svRViCqI2gNGBIVI3QCF\n",
       "F9CLHTGC2KUtyb1jyRMtIsn3rejMwzuDAJQ9yT9IJP64nc5ja6Wy7HIbFxmrsM4+tEFk2wAnLKaE\n",
       "mhXa+b22i6S0SDoAHM2kEeMPLcsCbqBEJkJ5qHxCoD6ZWN4vl0XDXqrvPIXPaef0165eVgAM6GBq\n",
       "NWbdiajA06QQc3ou5Gg1X1mKLTZTU0lfK4vyP2Vx5IahpNmVJ15R7wEg7CPg7BNqUlI2QFOl17H6\n",
       "3bG89jFEveKikgKqoE5Kc/Anz3o4iMdSbkHLSEn55LXSNKR32qenmlHDdvMut6Jvt1t30JfWp5+9\n",
       "h9psCSFoVpZGvs7OAAABrkGf1UUVLDP/AGSYeYYQpLNgn91ABaXlVbsWZ4bYm0J60ViTm4MSZ1Mz\n",
       "TKmfDfSz94AA/7Ph/PXBciup35sDqGm0yoAzgiCZIjrdrgTn4T1eFK1uLpzT+R17Yh6DRIf3XJn1\n",
       "/nk17apuRYOJavR9OkPEvLtde+7/daTsccMnbjpd/yYzb3E6l2EgCbpXpzHF9iPBghk3aZb3zbJr\n",
       "+3Ph/XsZSZZ8bPmlMCN+xRwduPZejQPCsA/fKmFAu256JLblZBZKYeLl4OS51l86iRWMcji73yeR\n",
       "Dy2ux3cO5X+ISoRo40vFTYAYisG6ZnjeME/DEUfvWN6GQ6b8ygCVmMeRIxxBG8tYxQ0DJgzV5go7\n",
       "QxKwOSC1kU/mGvrxRyuqpjTOdtMdn4pYor1b6xva3suiqVbT6IqXV0yc7CnlLAkMjlYxP7yRbb1R\n",
       "pQ2bU04J5BZn/m/zncwvRfEOlKn7IiubU48CA+DEItpuC55mAffkK/vxMfM9BitzKS7HfvUWIVz1\n",
       "l4tNJFEbzYm1WahAkrRUYSrWCv4DmvI29ZtBSDIh7LV69lAvEhwsO30ABAUbtmEAAAEyAZ/0dEK/\n",
       "ALomdRvlNoPj+xUdM+SWvpP2QAkXqRB/bdrY+t3OKULgvg6PuyyQphXB6QfY/itw//KG8BmGTJUV\n",
       "yPwWGaxr30UvLQrmqobn5lBpZbJrtSeu7AIBMzCZ9iINai7kWD96rSCI8aFwdF06YP+EzpGAXsbK\n",
       "gJhV3ZQvs5cYKMNdzuS1UZ/YMDRJxfSw5ega/2Kp6DgCJ+UeJsCk2MyhcxfC8up31rljprfDOXwG\n",
       "nwISHdSNGGWfN8Uzn6Dges/gxWDvQYq35q1CqxRC/kvD0MtelFqINsJH9C83I9pqg4rwlIy8PYTl\n",
       "u5ak/zp/apYSOqnpmANu3YO7N4d2H2S+bJWeCdSKEBJbmS4LheNdFqffRpUS+X1eJVHMfA818YMq\n",
       "kn0Ak6QcDxEAYN1qUSbMAAABMQGf9mpCvwC6WFdL0jGK7ZnaKaN0ESPyPHc4AP3UjegOz3HuGjvy\n",
       "4Uu8WerhsMxHB7BKImqMyfiKw5dy3Qne7RYnG54vAPIomv1VJ5dqtak5XNKBfq30WjQ8TpX2fs+B\n",
       "ewuetmoT3FeEJ+HvjeaCBXBIABqQwAJb6EYDYNq+IOAkjPidQtjynYIRzgTlMdJqpuD9A8bUbYPs\n",
       "My2tetmkM4Hod1I8zGkYaN5j/pMY8uBriKDsHwVy/L/o0kQYYDUPCEQfWZiUsmqvsXEYfyEvcTix\n",
       "UjXpSklBmE0Fs4dox66NeHRHc0zPury7xHqdnmxfHDbSTHqi5ruLb+XceiGskugD3bLGfngyJ7Pj\n",
       "uqQAIlRYO8T0okFc7Z/x9vWdEh7oc1fhw3FFoR+rt+w8KyzYGZqxAAADakGb+kmoQWyZTAh///6p\n",
       "lgBqKk7LI1yqGnhUK8v2GACbUdAqWHzQj/srgNIVzpk10CzXXib/cbZoczAp+17zjORuK9FcOd9R\n",
       "jGuxjb4VIyiS7JZPSB2eq2qgg/SmgxztugeOUPrm60ZYHvj7AomHCiG6+f4curl/PC0My16wYkCB\n",
       "2wHRwgxOoN2n5pNdd2IDM+nMBWgLRoNMiqR8ll/5deUepY9OZD6In5WwNDwZfA2nXXV6QS2VMbs0\n",
       "RU8NXIiB4iiLtMIn+oqWx5uIvsSeSKmCEuX5H6rH+/3LwsmnfG5nfkWLqz0nz580K6/etarMvyQj\n",
       "xoOmWobzQyFooT+gpS7kKM6W9yZwJCjoVw/j/kRNT8dGpnba+zjJ3n9Dh9YU0UJ8bDIWSBXKc9+o\n",
       "lPDDn/W4K2Hw1y2j5cdKPErbnp7W/coCUwev7gjzbibCq0HoCEWB37d8CeWMlrWq0fnEA3d5FxAJ\n",
       "BhsoMm/OMHdi519bGg7CX4nMES2YiyKuij/GRvSyoeQ7SELm9I6Ru/OnFth/EZXOWDjQrDMyCWwu\n",
       "KXX5nBqyH45npZFq8ybMNu1gbdjmmN1DFpDkBRkaoqCzaCNmG+KSZLROlgA29j4QqLVxHBXjKc3N\n",
       "fJyGGBWJwTwJIzaRfChbhbSv0LWbtrSpurdrNWqlD6++RDROeptUwumE1Jp7MeUUZW8/9pFt2BIg\n",
       "3Qc0XepczxpV04xs7AjWwRwKOEOftjhSOHLkHIZCiAb8DAi4G3xqB6et8f8cgDVfs2mbPq4TPdpW\n",
       "arWOs4hT4UqJJn07iamZ6KzjdZD5cuo0f171+Eh9EfJ4CYsTmjJP7SAGBiyHvoHFSzgxQLV+mvnv\n",
       "++AkxVn5wYi4MpZ5/K70SHLmXNAwk0lrTRa1hTT7/B5t/QOqSXp75gyTruVZwljFAhdzx9oT+dFT\n",
       "AcGHfqxp2UnbKGauQJ6dHWZhn2bVQpEcNTzIO1cDq8nn5e+jKQERAUcau4vSRjyIzi6eRKktUu48\n",
       "wBBzyCWlfeTzabU01xejy7jbJ4jqvEVLjil/R9mIwBIX5TzPECLA7xdyqkQ/nqcvgqKnJkULSuMX\n",
       "WSe6T5mEhEKFZiOA/tLxUlSZX+SFYy8+T5ZTukogj9VTl0He/ooozZTcMhMJCn+SLqoq1uuoAASs\n",
       "KnYUBW0AAAF8QZ4YRRUsL/8AhvnZ2Ld+329ytmmHmJ/ACc+PbGi0XSA1lFwXn6UbZFB/hYT7oDHA\n",
       "wiSyXYVa3WdEHDA6sQ3jdrGhTVR9BcZ0mFiVUfbEzxiqMQDCbOPKw2GtwQHCmfw5CiSglsoaaIV6\n",
       "nZIsq6mja77MAYgSLUDZzS+egLFHfbxrS2/SzDfSBGDYjO7payv/hG9iBFL73mprdhdgn41qdUDp\n",
       "RK4oonqxHciSyFBKcZ7nPEWGR3mj9fvtiaRJ7g2mABeFC38Nyn49CauVpn+xZlWu0PqaGxEdRzCi\n",
       "MOIPqsZTl2dWUuoNw1QBifmw9mgkU4iLQMvBX+1p0fl9meXQCp8wQx9UPKmS9TTdL6f70MDvJMB5\n",
       "867/neEQCDfs+V0fXmxIXiPbKzvrioBI9X/mrUN+HpgozWYq+7U+tOD2Eld+JuvsjVfGLuoLHrN9\n",
       "902Y7EagIenJddU18xIjigAfwp4b+kiuv2kIuwWGeverPOQ/AWUPzjeY7LraoakAAAEXAZ45akK/\n",
       "ALpX/UfxDWSXJdDoC+NoqDz0AJc+lCI9G3Nwwz9HN0DpMkvC11kkBMwlbt3kO9W7H20LLdq+05SQ\n",
       "Nf1PMSHdPh+FjBsAYU0RsqFtX17rEDblzrgiZzlhR2/daQidv5yWWSVUGH4HhJHdhPvhmK/BDrYp\n",
       "si3iOx+N071Ujtp3ox1oe7QSHQM4y2ByJeTeHD/pFki/ByqAAtvZ9wzmYDhcN4rudQRr3HK0kl34\n",
       "cc7H6QLZgGWihWUaiuCootaKb8fXpGYhLHp9y0rdpty/PJvSQ4N13K93RQGGUcGNPRzPhErykEm3\n",
       "rFYH5Q7+/EpEiX8CNpztRDNt58upRwah46z0XxcQY1HCb08y5LUIyxS3z9AxAAADUEGaPkmoQWyZ\n",
       "TAh///6plgArv5UVDVQP3pskpG2diwAycTTiPiGC6DYlW2E8vRlAkG99XOM+vbnnJ85mAY8O4kOh\n",
       "Rku4PWd7ES6biJtuVZhUOXqeHk19CU3nAllZ5dusfguVQx0RDnfwPbn4sPolGUbSDWDfKDZGH+rZ\n",
       "uuczqmu0cTEqmSLYhlkv6J9aVpQuLMFXylSNIEaFjdum5wkSFZozdYflXEiuU3DbuivN5XNWkMNF\n",
       "tivtYAIAT0C04fGsug42Rje8ZOBh2Ok0ag1kZi9Vx5PR9uDkGA48A16u1Ip8A8VXYzS9OUclLJyY\n",
       "+IJoXHNQdpXUJjPHWceGbnlMBti3AZqwFCKdWAEcnv1+XUSa994qFHUJHEHkGc3N1uwdT301uPt/\n",
       "0LudCYBc581O0klxqtKzCNF193z3gNPdtMq7HwieqOPT7nftHgffoEScT3tMywXu6KtJYr2xE56P\n",
       "3OXZ8o/srpC4wnJBPCYarQzPU9zUoRrLqCl1kLKdeUHsghnudsyoIcP+JZIDDWVEZpYERvnJpKDO\n",
       "PC22bBj9E2KXqx2hESZH8vrvtEtf8WvYvPh9WITl8MVMyPX8uTHhmsQnYHrDoyLg3FKJYEbRFL6k\n",
       "4bXQ4BvV3Mha0mFO+bvJ9HDqkrEGS0rOMhSf+7eTsRRXntBFvU6wBVkXh67Gwz3FgCMcuqMYy6/Y\n",
       "TVOA6oCa8+6yzVGoo729Zic6GxAFuCVcftJ0O3ZVOEqQjYHTrTMg9sq+y6MHiNJ8laahajIwEeAH\n",
       "XHJZejlh3gxAcOXYNV6kTZoQtAyyRJhI597l0Ll7pFQNs1LMR670xvCh4nyH9IkJoiyjptptw5In\n",
       "tXDAHLczshiGZ950pkttTYGq+ghdl3eYvaI6BT9bAXu2961qOzGxKA1AUYp1Oul53qWcIW2s2Oxd\n",
       "Snf7zfcGCdSPw2EKwwgM1SerpgEpVebsW7apzVjUSGn6a20nDlSuq5CDh3dqDbl3PNK8MD4p7BEQ\n",
       "4SfQ8LE1XZvdIUGy5vYtoTOIsQ9j23AeAH/g7uJvQOHFAtcXdQg/vwX+W2IpOBBhBbmF0L4dKgSC\n",
       "iTVw9ZSkSfrOonhGMu8tZR5sy6ZDFFU/VSaA3jUpd6fm/dDapNznzAJeAAABikGeXEUVLDP/AGSY\n",
       "eUcXuSSPhu6a/7eUamLiajFUAEKFTauH50XA+ZTExFWIGdLubx8M9y10DBLhPxqS155eoaOMw79h\n",
       "hL3D1tyUxEgHVtFf1Ecm5r2THrJEIOWFBlGVFs1C6DOkNxyyCShkK/WeQain4GOgfFGAqVwfH36R\n",
       "3TUz77hE5gf+5ZoIKJEfPQ/td1HBIwr/JXst175PkQiFe7isZsmm1W4mL/cN08ERYgqpAlyBCJcS\n",
       "85g+2/Gux9JhADuCisQ/3NVefbeUWKuUYqEN6KdSxY+7ZRQndxFIpxqC2pOJJ3A2Tc5ALUgeQE2P\n",
       "wk1/2aAfp/zItjPtGUXrYpoL6iOGOApkHDAQ+fSGRFhlVnYynbirEwOmqKo4d288uS5JG6XEgsa9\n",
       "+WlK6aa110FttXRB8HGFq984c37kb4E73Z5U+OsPgD97BwAJkH3e0Ge4cPTzc9E68m5ga5/ZmOig\n",
       "ZiOgAVE7ZizRxLQMRBOrIFXaZMOtqzckIolyMFiNLe8ySV+AtlJ+hqUAAAEhAZ57dEK/ALomaRNK\n",
       "GB+pww+c+sN6FcoAFoz+AEs/t3MlE8UUhfsyIfk+wl+Jo3LUoHEcL+BIH3ssFicIz6gzIHGFOndA\n",
       "xQomOhRwkJ8Hw+gJQk/JHQ47tbsKWukMnSu6wBI1ERtoYSk3Q4CvkPYJITvJtJL9nas7+dKLeO4A\n",
       "1NQrThz0ZtkB8FfGbOXT0reTojkkd+rW4OR1G66QT0pK69xVXPRFZBblq1vwAKj8Wszsp0XAqiWG\n",
       "BQTkeNJ08HIcM7Ok5dVfZYa0jis+ZRJoKfq1/9a/qUn4D2Cdo/pLS1ORhpYe1psB+E5Ob1slrrF2\n",
       "KgOZV23weHBa/HBTFRfnaIyguA08Ed/LPWBOJb65IfvEmPlt0Fi6Wqdp3y3UgD4sCQAAASkBnn1q\n",
       "Qr8AulhKw8oXw3tGmwqOURXACahOTCF1rdo9DcOzgaXVi1vGQl3IdO3+E2VXZJJbBKjwBeoniNU6\n",
       "ZTTtJb3dK2K3JYcoPhqS7PbDhbVtTM7jeabADgnVsUOyAUxEOEiiP6uaRSVwxXk4wUCchwX+vn38\n",
       "dCdJCDRDtHLfXIeTti9S9gbeLFIVPJfCEADm5t0T9xu1PzOLPzE6NeeqtEho0A96uRTYRqABevB7\n",
       "rREWwIVGQiwGm0jyP54Oa9dY4wnlAvazlxV8Xq/YSMT4gzVDHZ7bW91PnYFbJLWtcV2d9lCQ1TQT\n",
       "bwmVV4sAWafPplKLGVtduDlnjSshm5Ete1rqDJOLCpm2capsPj6rKH7jiIC36B97LwkDcvGwO7vo\n",
       "Tkvum2NSlQcAAAMSQZpiSahBbJlMCHf//qmWACpaQDcvRABbQrPzoXdPhcQgTfrag4NmD0DDxRaZ\n",
       "ek+tMNzahwzlm89x9OkMHLH/qKpVIAn7DDs84bt778wovNK3WC3fAEBDrnpLzX2hEqVF0bx8P6jv\n",
       "QSHb61ijmWew6L0NpMUNJbuj55bIPxqoiuOm2gqpbm6B/wxeLDKefJHj9dcoLqRDbnmGeQvndcEI\n",
       "aSMcG9DBUlBup643XX+YHp7hYabj3K79FCTonfGGeVr2fcWGmCwZWxMcvM6CgGt4RQPPwlWslLVC\n",
       "/my8qDD8KgwmGE4IzcAAiKSzFtY+Bauaanyg0t8TuZQO0HTXMecGitU2N2os8PXpUVlNEN9c45T8\n",
       "/nbT54bKUP564pWWFt8b/X97PqfG164IvmcOOTqYK+xxfvTQhueSUDjFciTsbam6M8/n61K82//t\n",
       "CNcp+5uxGdjOpvUsZFNwDgYJMmuMBkgH3Ah98JbtA5rDcFZivhr/xowjjkAA5Bagpt90NlUAm44f\n",
       "h2x1cwtjDmvA7jbHI/kRomWvB375rFgXHmfenifh0zpDnyD5aWqW9Z34qe5DbhNE+4VyhPPMiiw5\n",
       "KhEa98uogxIuE/vs6WunKZ85XUbv9lIUQn+IJNFAiYGvaxBSRMPwPoxE9PYpmQBjFjV5mgkEPopu\n",
       "SFB58HdW6CpmK/AkOKeW4yRiLtS3nPsnX2yY1Q8thOJ6emzRf2xBZbGaGSxQU69g9l/JLD18U2D6\n",
       "yLfA0o3BGOKTdyjuEnYV+safOlZt9+U/ZSsM4/9vLsJxki4RbKvhyKOiCVL5hRXmcweXcyEg+47e\n",
       "LhyvLAj8jabtrlgVSECWPP96awz0I0VflLT+15HRTWvY39Xp4GXddjUIzqN/6FbmttgqE8tJ0Yvc\n",
       "RQe/zzzIN0HEpXSbZLZEfwQRH8wSkUoD+gGV7vYzjbSl2ucK5YNsb0cskrymbXWYfC/l3imf+dx6\n",
       "EXAkXFpIA2n8cPLxxwKsUq1wJI2NTMHFwPJ+O1ghK1pWA+idpLeMjeVtZvdabkHGW3mo10DawNSA\n",
       "AAABvUGegEUVLDP/AGSYeOzvDI/5egMFpQAlA+Jc83WfumyOxUkfJMI2QtbFFIzF7V09CtC521lg\n",
       "+NrHeJmeRn6WuRsL8TYkUZkkojXmsgpN1YjwO3WmtkK2Xc+wN6bf1iV+g3yw9EDN+67oaYuQMMJq\n",
       "ExZnpVSpOJgMHvSdQm7TqKyz3L/0eqFO1ASIPW5cOIpTBOD097m1jqJCKqRrcOPq9YeidtejByMk\n",
       "7iH7H+Mv0I+Ved0bClreF7kxZwEr+BZIbLlt/MxupHBG1WTTn7CB0n0pmXg7IRb4hTNF1KeODucW\n",
       "dCWsQU0G7ABh1nqjZX2aqa9TGXKqU+rtuxyxu7Kyw2LauOlaLXxfZK10XLXc/PZnRGrg8RrWMoCe\n",
       "7WK8lDBIwbiJW64Ym6BS+qnb4Yv9WNSIS5eO0NqgX4y0+c0pJa1DUL68uyI7rY77Z/fEl+0hKxMi\n",
       "GD1eck/+Cp8D2wxSjOwT4y7s1mpsQcNBBfXhY5HX8lXByJ/fkR5/WrUrrh3L6F0henb96Wv/tcxq\n",
       "6u9Dr/dNvs/DTNud3hhHqBGze8iKYO9xkqj7L6F1xYlC+/JA3gSUWov9ewPwdyRUhZUAAAEPAZ6/\n",
       "dEK/ALombMP5k8lxymJVYE0AJc6M0CYnD/ObDmdjPx+C/949MaBBhjdFFulesql5EgUGbITUWP9Y\n",
       "ssKaMwdajftzlaqBupk6ZJDLfBnHQ///2Ff61S6nwZ0JdW4Bp9+L9u7b1C1ygBqYad1crAcr8kNk\n",
       "dGIleJzzqQ7BG0ZQSPuINk0K6n+Qd8hC1NOB6uf4k1OHo6+msH9U9Jx72HM8gOI0bgk7ahUPgx3d\n",
       "Datax7voMUQblr9MVNWpA0qIlaXMn3veuOdWaPVWvBUI6VwcV/gm+RYEXmegER6J1cdRzFBE2zTk\n",
       "wgOLIfkv+24CCrG0YfMI5WkkOF4TLDBsrxmJ6+6KhFDXPukaIgASMAAAAUUBnqFqQr8AulhPYqGq\n",
       "nlzgAlRneiPvykRUFBSYOF6nsDmZQwtZQUmGY1UnsR7EWXseeOzFY6udD08U9vquBNRcYH7OLoA8\n",
       "HIYD7PBVAKXciAK0rDPp+tCihtk8p5YQrnGRFPHW3bxClE25rpZ8VREKmKtolxVPHD/ICaqXyMM5\n",
       "AujRloqN0lGDA2sFh2nraEMPFjr8nE+qyDKxWNWdfETH5HIKjGMPKQhW/UyU7vBC1zoSU3cNl7f2\n",
       "auYA63Sa7CXwE5YErFBIAovaBLliVlQ9gGoF8XURq9s5etvMC1joFt+YcXbgVVIJL583PkW2EkHK\n",
       "G+3Pmtf72e3SoeYrLAell7qwgPT4sPjBy+HCjLXT6tITqHubD60ue4XcKxwWyLDhj4yAgQtH/OQK\n",
       "m8Ty6q2BRG1SPJH7HYm3kofcZd1JYsBRCSHhAAADNkGapUmoQWyZTAh3//6plgAqnPPGaJU+Zdcu\n",
       "gAEQDn+Ts1pf5Xjl+DmMNte1CSlnD27VuipUbtmJE+7q6yYm0I240blTUTwrDIuIPTdermEc61wq\n",
       "GsuXYSkYKpRkEH0aBn9ya5Y0gUI49BIkjrhgEtwSdCQNgUpgAB+LY/m694GIhduwbSOglqOLTHoz\n",
       "Zqj52sACMdtXBUqIIdvXxqXQe4unVfcq0xWScOFisJORv+JtwdBBo70wCJ1VLXLgnzO3MUtkzMMb\n",
       "FtdNC/+QNyyEJbuibrJ4W9NLLmcBtQHQ5b7ThqHVoHFHrwTS0wxHz57D46h4AasHs9YN/6rQyZRY\n",
       "K3KfCyMD2RVQPQKslXsIXhsdk69ZH45oR/GVsRvNCqNm1IqrGL0EskGRY50ZQmUNRQ0GyWxJUpaW\n",
       "8MZQ7PxOvIrAvzHHvX5ilincVJOpqx5CKS5dqbK9+5BvRcWBhXQViVWbPGB8ZJV2v2v/IV35XGjM\n",
       "aNpVq9KYNNjTZGN/UU/guiMFfXSjLf89oZJKRnh1YqP/KSELozxYB/YNj4gamGFmMYqF2i2XqYxn\n",
       "LxJmSo0Mhzq18zomlKjlBGrZUjCSQLOvdSZxeZqNdyMghBV+l65EMRzgjOr5GaSngMCcWhe7/Ikk\n",
       "z3zMwOTb3UyJaUPdxQM3RineggkAe2exEAKV0tegkiez1Zm35pcQHEaC/eeT8mRqtyvQ0CkwleSI\n",
       "/BgdXb/19Fl1T93kcQGZ5TrRLi8xZytadZSh3uS49OkHcp9NV91dXVrzRZQ0txPwJ6mxTC4EGRof\n",
       "Rb+8d0jjF1ejqcsyhnICrHB3tmK2xMBdI+gFRc8GA0oZKans78d50wX7F9zeECzBiIR/R2P+xRRL\n",
       "B83z7Lojm94OQ+kyu3aJx2kvtjR25xboBk4rr9up8bkkW7bhn+GXUxDbCgIOXofznT85DWM/c7NW\n",
       "oxpbWbidEz6TskftxRsR1MZIp/H8wsHY/4jKCuSW12ZuwTBojdTdM5hWh/n8/cKaUN0Ie6tT8hGM\n",
       "2KWJVZ3MaWhtuIlTgl0blpgzoL3RIfFwuk3JgjhzpDZfRmMEJuY8snHkenIvSu9dm28mI0SXPAAA\n",
       "ATxBnsNFFSwv/wCG+dqTN4tJlzVB70Fg967vQAmgeLvDYE0aieFgJvKMzKI59pax6Vt+28ADxCKY\n",
       "/pT02juvv5O5ZrmSsuhjYxa8PWW2OClLUY3Vvl8TcAyzHyB7ZFahNRfwyKjvg/ancTlFLbGMzd8/\n",
       "gOih1LVKpeGpHY00dYGfqVxQOG+ELwU0vbWshqgWR/sH+5uiH8kCAvvpSu8Zh6qeTLKCRiu1+wgh\n",
       "DGshWqKWaG2NVxZjGJSgQkXf+b6LJsFgzsTL6W1b079pxrCAXI/ly2zHrCYP60a6i2jBLmtkzhH4\n",
       "m6fZ0zDxE7uEsGEp0El/LtTcQLCqh7eck2O52lElmWW3Rl8bzy4NzOeqzJy4QDxmTp1gbPmIsHZw\n",
       "kJJGd/Cm72skEFAHtCu5YHUFecMMsY8+DNg1nqe00GfBAAAA9gGe5GpCvwC6WE9iodCWLYucDvRA\n",
       "B/MZPfLx9vNKHxcRdJcSHvQBX0J9OeUCl8ir1w9KGu1ZDUG1jX9tXfF+J7aiIUfD3rqYCs5X++M7\n",
       "fgehR+TjLdYDkD6bZeS8SVImsYe3a7YskCkBpNwmHY/a9RtFUWCqyFptHzy8tG6q/p+ZrBS+10IZ\n",
       "emg/KHw32y0qsDFyh0Vt2mCIWu1cXme9Hw6nFVhn9Dq1IeKphi0CS2aEzWu2nXh/OpwgdgNXEcsF\n",
       "894t48sBevO1TcZNHgotfprhv/hzU4Pc1jInjtOuUIuuY31sD9RZgWcuYkTw61GkaK2JLgB/gQAA\n",
       "Aw1BmulJqEFsmUwId//+qZYAKXwt8AXqk/dAL7J2ZPDbrxdT4Qs265RzW2AqnqC5n4jdAh9xdTwX\n",
       "pqAz8Q9qOQKNhscyR5KKr/MCqxWu77QD6J4nha1awN0WI1q+wEmVcv6qR1ZCXaBjIPFysRyRbTcG\n",
       "fRDHsSUXkj5hU547d2RQa79remQcDHHgRxJLh8kkxWB6G06YWn4/iRcmDQ51Wv6rOlk5dl8rvTk/\n",
       "/iG3Sf2mEy331K6IhHMrjTbj86ADNBLgFrAt9sXjkuvwy4kIw9xM7hxlWB4iMT4vIylzj++Xw/VV\n",
       "23a7yiMUSwnA5ufq9l1cVF0PMRpV26zmI4pz/JomZXeQyjX3byyfFP94o7fs75TAgHcv6Dtqa2l2\n",
       "XxXX3sAJPoGXUcnvY9zsjnGrnI+uBouT+3crhue8JjRvQuvAyO4cdw4cfA1YhNTwaHFAt7tK4GKW\n",
       "2O6LDlWXBSLqfc2ANbRU3SGzXmNicvu8fTlS5oRWNj5uLZDApXnA7vt+JUVBBYqYwtMNmVi0aQR/\n",
       "O9/qqGUjIs9x8+JomLUCi1bVVrKbjZC+9wZfGPr5J+I9IXWzI8ifqWLRasy+K0W/suF0ywSHfINc\n",
       "Iwdzsj7UfehOqW/dS4jXoIkY+C94A2dOR+shOU4vOkjVakcZjnFegwT/o+Ww0kLQ6aB1EvRRn3ZT\n",
       "lYpQRQ7foYgxNN/VmtFnprmzjuSMm6pEQhb9e5r1gk5qkrvPzX77wCT7csQa0Z0eKvgcYd9uABph\n",
       "6pRIJrZDIi7wFftrIEARJ4iXPSC7y8yitlDxzFSg8LMyXbs/P/HNb5tZjr279cRmsBatdqnBM1Ov\n",
       "E2Kz9nyH4a5NK2Z4ARKOWD8f+RYtp/qqK6bX6Niv+6NaF5pJKjpWkC7q/2pXmLFhUONOp88H5Uy2\n",
       "CIIBGkvEWOYOeshyhUySuBVE1HJB+fPIy7qLVovGWCxx494Pn/DwSZ3xvH+NTv1hUPYU8Xz/6GIz\n",
       "IC3s9rCUD8tN9pHEmXxa/NSoIZf5SD3Lm+yXuE2RFAPLA5Zf0cu7YKGBAAABgEGfB0UVLDP/AGSY\n",
       "eUcXtn3/tJ45AAuGI48KvccVpG2uKW3CuRxmgBZZyMefyBZ33Kl5nW9kDbXKmUig97PC0W1+IaiP\n",
       "OcQIyShF3lyM+yV0t91wCI+EFm2hAeJxUPlHRsZA7S6axnEbv3SHxI4xUkV9lCg3OqfHmAMbpwXl\n",
       "LwZ3PpfLiVQpCWcTUzCjlhDHAjyd2IadRWlgtUNBtNckhZGLfQv7E5fELoDLXymTvFUoUu/pphAW\n",
       "YEuwU0/WF70JwD/oKbth1Sl8IoC+eoRLttDG9Gj2ZVJx0/zhJyu0N5JhqnUK0DdBzg+DAN0OMVwz\n",
       "utQNWX2PtX1fqcnys8M0SZJzisTKdY4c7Ft/0/S3akv3KtxKrfcy/BaU2ncbL6YK7SMUHms2iXER\n",
       "8tFXIuLn+rKa3Erg5lhi+4shq6SfRt+0gs17XTovtRb5mn+J/JwJYjDjVazhxeAk0L9NDUM6GPXp\n",
       "tQGK3OdtCn1xn6VdK6NsoN7l8XSAW4pxSOJRtEYfcQAAAPYBnyZ0Qr8AuiZsxA2WnysTub/37Dys\n",
       "gBMrPmiM6ZdSDR8WJcHd20VJwR6qmIwh+27F2EqA5utpER0oyfxs9CmfLi20L2xQpdjDYvLTEAAA\n",
       "qjqL/vDNGAoADrTFltQDugZ6H9CGmUjbpcr9GW0o1IB+aGscJWdzpxGKliQvvItrceXfnCXP/lef\n",
       "ACMWGVpDYos6HXpG8dpkX3PRH2u0k78YQhuNy8WQ/9fcw49REfCRoYQ5ecxFfIoW0ReNeasphWCb\n",
       "soQ1bhW59kOgHUtf7XRi1Z3f8vZj7u1phKO2vViU6q2LcKXqySURnYT7UXu7p14yWEDVEHAAAADu\n",
       "AZ8oakK/ALpYT2KpH3prCLy26lzdYgQAlz+GPssETpYNoVUhQL4b/GS2EFQh9WHPBsVDDR66xLy/\n",
       "9iNNvvktvr5T/2DqSLtElvy+kt1jsGsyr8E4a0lMV/p5lRioSCwFdaB/zAt3C6oNetlPsqWPDNKX\n",
       "6SY1vE2mMN3idhS41nUSHcsf9KwrH7AfIVhC8pgQx9dqGx7Xshcp+NT9bAv2ieX7hDCniZ0yPbze\n",
       "L14KoYFakGcb9OqYqGNW3bcmekf6s9P5OnVoMZRi7gBckl1pvVkdaooEc2HfY4M4RZpx4fKrM2Ld\n",
       "kv9BavwBWi6HgAAAAs5BmyxJqEFsmUwId//+qZYAKUIcN8mzaney6AD9k0ScT9gyPQKRC1mmI2VK\n",
       "2VjM8qn1tDwb03DyEkovDsjIY7TY3x2cio2FJusaEYBPFsZSAydpm3aJ1Q9W5koI0CQBUFe2soZz\n",
       "5Dqfsk2WmC97mhibgnA3LmZwoUXM3ZCg94v1OF4r/omuRk2uzyYDT0O8eZw8nJTPxdxEyhdHtHaD\n",
       "QVB3GVxRBE9+8unVeX4Sv3UPPLErmBcqI+C3mi8rhsmXkuBFdzasw7aOKT1KpVZ6z1Git3RqarR1\n",
       "ez6U9sHyHtbgBEZhSayDyAJdXpTk+PTStWeSAwvxLGTTlcjVb3dZD2iEwQP2f8bCIx0sgOFJP6x9\n",
       "k+RFbIh52SfBQiPJjqQtvEbC9beLWVXxwyIXsgZ+kRSvk8RlH6cMQdOl2o+e+QQ6NyXplRMmcbeb\n",
       "A/lRcDhYaQDkHVsbypLSXHv1hg8PIgUMrEoCLxagIcxp/FeUDgeORGO01A2h8+lKpagMUIWsIYWH\n",
       "ineUbZ2Gsuxftf9azXFHzqPIJsLUz049BYdk4bjRUweCwFVpBW7WCMVVO7zzM1LKF0fGe931gXBj\n",
       "KTBnd4bUAV7/Yy5z99eT1aIenIMLwIMkqxORdgLS3WFh7t4OKchq9H2puxHC+ywDClFvm9NDNV/l\n",
       "eAXcfjiOCPw2IKbOdY5AHHazCuUKV6BL/ZegFREVvrDlhu/UN2wcwmENth55gIoGR3JOVnfN3RP2\n",
       "F2f/hzqgk0qS/bMoxUecmsUD1mlcKw+EN2WMrqqaWniRrCs3sa7Bd5nUMRZXYWXj5Ndr41uDBK5p\n",
       "c/JkHVrwuzQdlkA3ePWwSWWyZvGVm98mo/PsZZ4hFEu2c54gNuDB1EsIWPcVUESnhpnBBpjmpa0W\n",
       "LEMs2q0uc5LwFLIQqAS1X3DpBS6OgJF8ORyDEXsk1F6Z6sbcJ7mVlP9R3xqMVwoJAAABPkGfSkUV\n",
       "LC//AIb52pM37RapKnJOAE0yo5gwPtt+cnjWBtDHbcPXjlxx4M+EDKiuJBZ+tEkpw1OC+26qKVW1\n",
       "jiFfGtbYY8DoJUf98AevcUBuqi9VJykX+jHx+qZrHoK4JRZXGqHd0jB1ZR43PJ4Bu70rOy0rtc9w\n",
       "gpWvUsCLOxSHplv3GDaIaDMd3M8V1Xbv4QItwjsnPR0Xt/K8p5V4ND/6Pgx3wD1EYXKc7bQZ3+Hj\n",
       "qM/vt1wxnWpoXcbuYReetrDZqgn3OnR6IVZgnG0OaXfIFd/aGCf8zu4+02cxBT9SERoAG/LFwR7V\n",
       "I+HnGutcQ1kG72LIpHM/Qkt8ynABz1ZI6a9a9p+VhwNCURt6yfo7w7ZH2gBnbEIBrChuOPZQ1bQw\n",
       "Hb4hs1NIyqnzk0P19N+B8fjDpUwIWlFOW6QsoAAAAQMBn2tqQr8AulhPYqkf/xzFTZRnP+gAujCF\n",
       "kAvkS3UfOD17mq3kgQND1kGRKSDKiGs9kBnC5crHb6iGYrF9KexOqAiQtoQicO7VZr3KNwLaLzf9\n",
       "P2B7brVpxyT7dFuuy+UdtEft+aRH7IDKW4RlTRPAjPNpqTUd47rrnymnh/V/6QMBod8iCM4LZ3w6\n",
       "DIKViQYpbodQH/sD3Lq6W0c7TFcGMlWYyZI7vHwyMUcRXVHbjd5W5vcuNHVQWPFqaWe2e5J0J+Fc\n",
       "rj8W342HsBGRo3XgMFiAgEsSOWj/T+Bx7SL/UJTq969yFrL8dMXFNT19QHr93iMN5CudmAyLnaXU\n",
       "Sqi5pooIAAACPEGbcEmoQWyZTAhn//6eEAE26bzumOuBgGb68FpkR5r3+XC4tbxdK1CycLqhWgXe\n",
       "hmt5xbgV3GVGVPQH+1lG4MKTOcfxSQE99GphYLNmyDd5BUsyNniPYRarNl9pJc0//4I4zV8QJoqy\n",
       "x8S/hZQV/0tzwpc3pxMttOZTH0n1hq4Uo9sWkuq0fMGziLz0JukHQDRzMSxt3f857rGQ2n+ccwqs\n",
       "X5mPr5T4MGSCtzfX+uJ8qBdhctQOAgMVY4bP3r7IoBZ6RQyiYD2d57z5G+NL9OEZoTLDGyo+25KE\n",
       "UhUWzfk7kxpak9VkT0zDE7yuFq7IvaFsgPunGNM5r904QsVhlNB4ta0TOGIQ9QPisfk4EusKs/LS\n",
       "kT6yprXEKkfPIT0kzJU4cPTeH7R3ww2JH2FDVevz3nei6JcJWrgKs5V96ftDKoaiTa2ao9wnRMtD\n",
       "q1D10ysJmF+7f2up+IbkCyGsGZVvoiSc+c7cj28u0Lv/96YMobCrqMIRkMp59Rl5qlqbehM5cjcC\n",
       "QD8nBncv0y4+JQO7vrN++2H1YVvZffWBq68YacNln2jmEIRk1nZAw3egY9ckRbDH98jhtBny1vug\n",
       "EWmPtLY8CnHPOMNbVhA6oDGng7tXelTESeyF3nWPit9LLcH3eZCaZ1baK4/eLLTRwxnrIk6qcKSE\n",
       "lB6c86+YS0m1mihfmJ5Jy3uaKObvWu7O/vGUs2n2bJnePjSGv8XkR9TtBYCMhlAymGPu3tSZfW4f\n",
       "8sjZhwweQbE+Wg8ZAAABj0GfjkUVLDP/AGSYeUcXtYtaMpc/cAHGJVNM7KMbCqrqq6WqPGQOM223\n",
       "p1br5j6bO4PBnx7JSMmPLx0E5Vglmr7UFToVrnMlEpnRjyySl6zXHgAWxkXVDJF/grDa0CDBIVbn\n",
       "v43Y/DlaRwy1+zGnE7u+Es4cM+Z158Kc1TFoJ/mUrVG7K0cuEhid/btaZjtyXVP+eCtcN93asZgm\n",
       "8JJVWPB4q4SG3vuuFcthbWcvxDPoW6Hyd87dc2fVEaubnHM/SsZcTlj+NcyLvi+rp4grNWRpjcSO\n",
       "C8AAAB6HZFAmCeUFQawH6P0KzAGP9cKHGW7+2IRKlZX7LWzLVBgeasypsm6wJCTxPmT6bKp0Yg2+\n",
       "qncGG7jgSTLVlHQS+UagCmqNu5rul50HS9A6UBkGxwxzuzLcrMGqHfn4dwaEZU/B5NhCYTt2vklf\n",
       "7Fr1o+6/E7TP2Wf9FVpzIlqnsqgwYMqDUx6MZAyihoGUOWUrFfxHqSUmmcZ9Vu+AWdxVwvRV56xQ\n",
       "Hf5apUlsIaLxd2Ml3GIxYQAAAQcBn610Qr8AuiZsxA1tU4Ag5cHesEIcRuexzxonLKp7cSAxQjfB\n",
       "NqOJ0/rogupw8/MtB5WTldtLrfH6nlABFDYII3pgBu2fLS56Bjl3xTUc7uuV+nts8wM1FS/Secjy\n",
       "uUaKajTH8tfycIblSnQlr4WcYmnKHfO5SQ3NwZgGPD79s8q/WgZr7ClmlJJqdgmYQRy8iQu/J/IW\n",
       "7rO55QmJFIGDtekp5Frkc0DlNMb14bUG8Q9pUSVmV3vL7gW+RoVXDyg0wmAMxoAqll59m+XkDnew\n",
       "s1WfvwqMXior7tNFAS0OqPr6wuZCHjosVtZqs+b2RWUBtRkfwZEH6bCL/1mdRIp7uYBlOnYwIQAA\n",
       "AQ4Bn69qQr8AulhPYqjWfXNz7JDsgfED6jACZWh+2/hePcIcmcQNUJlUT3C1coG0Hpw0UllNDtu7\n",
       "OvA7oKsJ0u3+CcLzil9c+xockcZi1ueQHpD+/wm28KwuFU4DYY4NjvG0LgW1z5+DtJFvy5B7HJB3\n",
       "Tc8g23AX+ZXOjKJLC9OK6hSWRrWvjOFohOIvOffGmDxorqbCw4Ll5CL1RWD3vuxJ2G9PJYDLHXZ2\n",
       "tCxO0RByAAqbXMkxhpx3zXKevJ/Qw4cOgr/IR5Hhr/C6VtZHR4HIF9hqqA+//SepAymy4DxvNQQy\n",
       "H7iDS7/1K8bT0hm3ncgrnHXUUXwACHxvKTNmluNf/DX483FQpEUVUYZ1sR8AAAGhQZuySahBbJlM\n",
       "FEwr//44QASb3FxYmENtZuAFosFggQ4gRmpzM1B+PGy2Tt/iogcNgUSGxQawfvw3HiJVlfSZI8+S\n",
       "VEdViRxQszfMS8FgfoXeb74aJ8DR/TGVRq6GkbUc0Jk8Z3V4hobc2H3Ml94rD2NS6YBqkMn5Rmw/\n",
       "C2D9gXyTc9bDqpKaOYLzPfAI8YRsJFZsvYyEU+qZmzC8QV2pRtrbeEgBjJ4KFQaiLR64uh1BN025\n",
       "TG7pqH+mDEK3EHNHOmSxvkVB65Nx2iu7KtkYvURe6Df1z9vaxgAEbCwjh3LcuNbalH430btBiDPp\n",
       "4q3lV2oIxfQ5qmCuGHfQMM+DjAOiJYnVisI+FKv1RZCRW1LqOwcH5zy1nJBnNlSYAj7A/Kv2KuTN\n",
       "LW60oeCUln5WaBqeyawzEqgOcml1pmuamOLyWMqcf9u5n9iT7Ru3T6UlbeQ7NCxQDgks4evDs3Jp\n",
       "h1NWrceZMo0KNNCaVNiRS57p8hK7ImCz8/m4Cvgtt5bhX7iB1IimLNNmJnWE4PvTM8kQldXiRJ8y\n",
       "n9FdTk5p6AxYAAAA8AGf0WpCvwC6cn8te2DU7dB6fDs06gyAB9Uwv5Urr5P84j1fLeIZuxjsnyXr\n",
       "y9/XCl9c+FE98IoR/KYWclvl2gV8hANGxJPJ/d+soqtVb3coqdOckhUlBp9eDOcse9ZYimhl5VJc\n",
       "0nbgAAADAeR1Zml0KTFkfwlBm7CvTeXJnujcgTn/A5HpZLpRNRcaXc9Icd7d3/QAcGmoGa6ydb2B\n",
       "6t4xUlKYIM9XWdf7+rv7o7O4CudGvkuEk3s4cJgEW9bTI6wqzjzJC/xDLz2BdmOgl/eebNXO8k3Z\n",
       "WjLLbdzPgBFxC+Iuw4Oevng6592dPZ4KmQAABVNtb292AAAAbG12aGQAAAAAAAAAAAAAAAAAAAPo\n",
       "AAAJ9gABAAABAAAAAAAAAAAAAAAAAQAAAAAAAAAAAAAAAAAAAAEAAAAAAAAAAAAAAAAAAEAAAAAA\n",
       "AAAAAAAAAAAAAAAAAAAAAAAAAAAAAAAAAAACAAAEfXRyYWsAAABcdGtoZAAAAAMAAAAAAAAAAAAA\n",
       "AAEAAAAAAAAJ9gAAAAAAAAAAAAAAAAAAAAAAAQAAAAAAAAAAAAAAAAAAAAEAAAAAAAAAAAAAAAAA\n",
       "AEAAAAACQAAAAWgAAAAAACRlZHRzAAAAHGVsc3QAAAAAAAAAAQAACfYAAAQAAAEAAAAAA/VtZGlh\n",
       "AAAAIG1kaGQAAAAAAAAAAAAAAAAAACgAAABmAFXEAAAAAAAtaGRscgAAAAAAAAAAdmlkZQAAAAAA\n",
       "AAAAAAAAAFZpZGVvSGFuZGxlcgAAAAOgbWluZgAAABR2bWhkAAAAAQAAAAAAAAAAAAAAJGRpbmYA\n",
       "AAAcZHJlZgAAAAAAAAABAAAADHVybCAAAAABAAADYHN0YmwAAAC0c3RzZAAAAAAAAAABAAAApGF2\n",
       "YzEAAAAAAAAAAQAAAAAAAAAAAAAAAAAAAAACQAFoAEgAAABIAAAAAAAAAAEAAAAAAAAAAAAAAAAA\n",
       "AAAAAAAAAAAAAAAAAAAAAAAAAAAY//8AAAAyYXZjQwFkABb/4QAZZ2QAFqzZQJAv+WEAAAMAAQAA\n",
       "AwAoDxYtlgEABmjr48siwAAAABx1dWlka2hA8l8kT8W6OaUbzwMj8wAAAAAAAAAYc3R0cwAAAAAA\n",
       "AAABAAAAMwAAAgAAAAAUc3RzcwAAAAAAAAABAAAAAQAAAWhjdHRzAAAAAAAAACsAAAABAAAEAAAA\n",
       "AAEAAAoAAAAAAQAABAAAAAABAAAAAAAAAAEAAAIAAAAAAQAACAAAAAACAAACAAAAAAEAAAgAAAAA\n",
       "AgAAAgAAAAABAAAIAAAAAAIAAAIAAAAAAQAACAAAAAACAAACAAAAAAEAAAgAAAAAAgAAAgAAAAAB\n",
       "AAAKAAAAAAEAAAQAAAAAAQAAAAAAAAABAAACAAAAAAEAAAgAAAAAAgAAAgAAAAABAAAKAAAAAAEA\n",
       "AAQAAAAAAQAAAAAAAAABAAACAAAAAAEAAAoAAAAAAQAABAAAAAABAAAAAAAAAAEAAAIAAAAAAQAA\n",
       "CAAAAAACAAACAAAAAAEAAAoAAAAAAQAABAAAAAABAAAAAAAAAAEAAAIAAAAAAQAACAAAAAACAAAC\n",
       "AAAAAAEAAAoAAAAAAQAABAAAAAABAAAAAAAAAAEAAAIAAAAAAQAABgAAAAABAAACAAAAABxzdHNj\n",
       "AAAAAAAAAAEAAAABAAAAMwAAAAEAAADgc3RzegAAAAAAAAAAAAAAMwAAJI4AAASOAAAB3QAAAUkA\n",
       "AAFIAAADLAAAAZEAAAGPAAADfQAAAZ8AAAE/AAADSgAAAYYAAAE3AAADtgAAAZ8AAAEzAAADdAAA\n",
       "AXkAAAFNAAADgAAAAbIAAAE2AAABNQAAA24AAAGAAAABGwAAA1QAAAGOAAABJQAAAS0AAAMWAAAB\n",
       "wQAAARMAAAFJAAADOgAAAUAAAAD6AAADEQAAAYQAAAD6AAAA8gAAAtIAAAFCAAABBwAAAkAAAAGT\n",
       "AAABCwAAARIAAAGlAAAA9AAAABRzdGNvAAAAAAAAAAEAAAAsAAAAYnVkdGEAAABabWV0YQAAAAAA\n",
       "AAAhaGRscgAAAAAAAAAAbWRpcmFwcGwAAAAAAAAAAAAAAAAtaWxzdAAAACWpdG9vAAAAHWRhdGEA\n",
       "AAABAAAAAExhdmY1Ny44My4xMDA=\n",
       "\">\n",
       "  Your browser does not support the video tag.\n",
       "</video>"
      ],
      "text/plain": [
       "<IPython.core.display.HTML object>"
      ]
     },
     "execution_count": 37,
     "metadata": {},
     "output_type": "execute_result"
    }
   ],
   "source": [
    "# On définit les axes et autres paramètre de notre animation\n",
    "fig = pyplot.figure(figsize=(8,5))\n",
    "ax = pyplot.axes(xlim=(0,14), ylim=(0,55))\n",
    "line = ax.plot([], [], color='#003366', ls='--', lw=3)[0]\n",
    "pyplot.xlabel('Position en $(km)$\\n',fontsize=24)\n",
    "pyplot.ylabel('Densité en $(voiture/km)$',fontsize=24)\n",
    "pyplot.tick_params(axis='both',labelsize=18)\n",
    "pyplot.tight_layout()\n",
    "pyplot.close()\n",
    "\n",
    "nt=int(t_sim/(dt*60))+1    # Nombre de point requis dans la grille pour la simulation\n",
    "x = numpy.linspace(0,L,nx) # On initialise notre liste des positions\n",
    "\n",
    "# Nos conditions initiales\n",
    "rho = numpy.ones(nx)*CL\n",
    "rho[10:20] = 50\n",
    "rho[0] = CL       # Notre condition au bord\n",
    "    \n",
    "# On définit la fonction qui permet de réaliser et de retenir en mémoire tout les grpahe afin de créer une animation\n",
    "def trafic(i):\n",
    "    line.set_data(x,rho)\n",
    "    rhon    = rho.copy()    # Notre première matrice densité est celle correspondant à nos conditions initiales.\n",
    "    rho[1:] = rhon[1:]-((dt/dx)*v_max*((rhon[1:]*(1-(rhon[1:]/rho_max)))-(rhon[0:-1]*(1 - (rhon[0:-1]/rho_max)))))\n",
    "\n",
    "# On appel la fonction trafic pour produire l'animation    \n",
    "anim = animation.FuncAnimation(fig, trafic,frames=nt, interval=50)\n",
    "HTML(anim.to_html5_video())"
   ]
  },
  {
   "cell_type": "markdown",
   "metadata": {},
   "source": [
    "Ce résultat nous semble tout a fait cohérent avec ce qui a déjà été dit. Notons que nous analyserons tout de même plus amplement tout ceci dans la section suivante."
   ]
  },
  {
   "cell_type": "markdown",
   "metadata": {},
   "source": [
    "---\n",
    "\n",
    "#### Simulation Partie B - discrétisation de l'équation (3).\n",
    "---"
   ]
  },
  {
   "cell_type": "markdown",
   "metadata": {},
   "source": [
    "Nous redéfinissons à nouveau certaine de nos variables et nous créons notre nouvelle animation."
   ]
  },
  {
   "cell_type": "code",
   "execution_count": 38,
   "metadata": {
    "collapsed": true
   },
   "outputs": [],
   "source": [
    "# Déclaration des variables\n",
    "\n",
    "v_max = 136       # En km/h\n",
    "CL    = 20       # Condition limite en voiture/km\n",
    "t_sim = 3        # En min\n",
    "\n",
    "# Déclaration d'un tableau qui va contenir les vitesses \n",
    "w=numpy.empty(3)"
   ]
  },
  {
   "cell_type": "code",
   "execution_count": 39,
   "metadata": {},
   "outputs": [
    {
     "data": {
      "text/html": [
       "<video width=\"576\" height=\"360\" controls autoplay loop>\n",
       "  <source type=\"video/mp4\" src=\"data:video/mp4;base64,AAAAHGZ0eXBNNFYgAAACAGlzb21pc28yYXZjMQAAAAhmcmVlAACFHW1kYXQAAAKuBgX//6rcRem9\n",
       "5tlIt5Ys2CDZI+7veDI2NCAtIGNvcmUgMTU1IHIyOTAxIDdkMGZmMjIgLSBILjI2NC9NUEVHLTQg\n",
       "QVZDIGNvZGVjIC0gQ29weWxlZnQgMjAwMy0yMDE4IC0gaHR0cDovL3d3dy52aWRlb2xhbi5vcmcv\n",
       "eDI2NC5odG1sIC0gb3B0aW9uczogY2FiYWM9MSByZWY9MyBkZWJsb2NrPTE6MDowIGFuYWx5c2U9\n",
       "MHgzOjB4MTEzIG1lPWhleCBzdWJtZT03IHBzeT0xIHBzeV9yZD0xLjAwOjAuMDAgbWl4ZWRfcmVm\n",
       "PTEgbWVfcmFuZ2U9MTYgY2hyb21hX21lPTEgdHJlbGxpcz0xIDh4OGRjdD0xIGNxbT0wIGRlYWR6\n",
       "b25lPTIxLDExIGZhc3RfcHNraXA9MSBjaHJvbWFfcXBfb2Zmc2V0PS0yIHRocmVhZHM9NiBsb29r\n",
       "YWhlYWRfdGhyZWFkcz0xIHNsaWNlZF90aHJlYWRzPTAgbnI9MCBkZWNpbWF0ZT0xIGludGVybGFj\n",
       "ZWQ9MCBibHVyYXlfY29tcGF0PTAgY29uc3RyYWluZWRfaW50cmE9MCBiZnJhbWVzPTMgYl9weXJh\n",
       "bWlkPTIgYl9hZGFwdD0xIGJfYmlhcz0wIGRpcmVjdD0xIHdlaWdodGI9MSBvcGVuX2dvcD0wIHdl\n",
       "aWdodHA9MiBrZXlpbnQ9MjUwIGtleWludF9taW49MjAgc2NlbmVjdXQ9NDAgaW50cmFfcmVmcmVz\n",
       "aD0wIHJjX2xvb2thaGVhZD00MCByYz1jcmYgbWJ0cmVlPTEgY3JmPTIzLjAgcWNvbXA9MC42MCBx\n",
       "cG1pbj0wIHFwbWF4PTY5IHFwc3RlcD00IGlwX3JhdGlvPTEuNDAgYXE9MToxLjAwAIAAACJ/ZYiE\n",
       "ADv//vdOvwKbRYV/gtP4uACg3DQrhOrqSrbZjnCsSRpPwfl2yxMOHgVz/6jkVAqhY/Z/QB3oJtM+\n",
       "8L4AAAMAAAMADi2se7/8+Po7YOAz5oAp20ZBYSw+3E9Js8fEKPfZEz1Igo/pfg0brXrXRXoSZ4JB\n",
       "S/7HGKeFCGRSXXBeEraWn872l2wcJPWG1X6UYk2DJyXjRVAaniHylh7P1gBvoH8epT8n3o/6Mv5C\n",
       "2A2qtyR3cTM2lL+decQHGJI04RYygIDbV9eNEpCZxPE8jfHNefIMG7S5pEAsaZAAAAMAABIKW0AW\n",
       "T5HVyVhKecaodkQ9SaijAluPZdH+5mw3GhcjuhaWPOhLT3HsFx4Da5zalJ51c9dlprFY+NM0ZM9E\n",
       "JDNz277r9jCfayQ0kd0fNqfbLGoK27WgZCjgSPDX3JqqcqKQsOuZ3OmyB3gabw2XM8O9O0phzGod\n",
       "PKI2uP7JnSk72pixXS0aulhVif7ICwmzdc7OEuS65y9wq4fZF2qyz4Rwwg2jymGZf9cA0EZnuCd/\n",
       "60sZ5L9eUJl/LzxrLiVo6l0jgAYcY+tMmNW5Q+zehD0Xdpe9d5/WUybjpglSiyALq53Slc8sanqH\n",
       "psMYZ1dqHExQpDIsH3R/ep+46LdeSRDYj+KKC00ID1c9FSqNW4YY41jwWH/iF0e//3vErwIzIIub\n",
       "gHukAv2ZYNxT+dX8ycrGpT1UWaPI5n0vpE1QcwBYigHebOEGAdfpnEqHOUAhaoj+8eBq9b7cwUkA\n",
       "A0NPRgwzWgPw+cG516By5Qypjlf76LFtn9S3miUhPf1Ae65gUafs2cJ9+8zPLgS79HtNRCqH1xKG\n",
       "jD0x4KD06fb5H+2UoNtoSBplQBvO7mcIq7T2/y2BQKq4VEXaF/udeKyHf1TGWBzEOdFIJv0qxogh\n",
       "/4QRmC7xP9SrqNkSP+2rK2ZJu5DG+ZWavpylnbdj0MomhURcJ2+oSFGre6COsad3vnwjd6Y3uBgA\n",
       "dqKcvyluqbAcDBf1hXku4K+j8KNcVAa3yUfKumVSDQ4c4A5biR8Yb5nMhnnllcsMaAdvR93gSgAP\n",
       "LSGhJKIK9c2Z5sNw84w1Txl517XCDQVFdPCgVMyaZHVrs0MH+Qk4pNiaDsNHjnNee+1yhk8ZmJbZ\n",
       "w0nUsEZ2PYJi6zWy4uy6S7Levbfj4KsVO2NylfJu1M+Eeqvf0R3Eo7++dJzPNsfeJguXBU7I1Rc9\n",
       "w5VVCpBkKQE4mziHJzDa83qBBUMCcCbHXCvMorpVayF3Efqh+QONYeGxEmHZmZqnjmCHX99VC/BE\n",
       "VubJp0q5Ykn6Mk8i1J+YpTpjCuiy1Oo6JtNPKdx+mVsfa3BPno2/T67MeQ55yFAvxAA1KnBZjhHP\n",
       "4x8vzs/yXxaFc4MBcoSjXyZvtSu7zAhXL6O0a0QADAgqNMFh3x8naLxXf/3ZDrAwl+WoYdLL0JTB\n",
       "qhkT7zrTTEmQfh7243vku6p3kxCrLFaIl4j4Bs+SD0zQrMohaUzblYlVj6pkN1ZCh4+8rp/KLVGh\n",
       "mO+TtbWsGv65rX/4STIGoFFoekNx3Kh8Tt+zjsFEeqW5ZcuB5puyn1HMEvvM6k7mEBpjoVJp/s4D\n",
       "bpN+s9yqoFJEClqazDNMkiHPcaKZK6ZrrUda2gE8sPpUHzVNyV/cci0Pu5y/4YM+KRMG/0vAMHr0\n",
       "rCcpMBsv++UcNI5HlwZ2Z8zF9G1+kh1+18Hs1PHL2jJWbQqBmfiXd4FxEp2F28xkcURJqTosfL/p\n",
       "darMIt5k89PXV8fHJy4RG4AL/Fa6SGwZO5uED0C/bdQFY6cMM8WlvXJonT49guoXHCgxVlJyIxLt\n",
       "+AkMAXnuf4QanzDRZv9X6y9usaHiLtRNpNC5QmTdaw36RgkeiWMBNT7jzP93a8uo6Mt9onk5yT5j\n",
       "3Q3w4bgLVl/6gXUyAXY/++Te1fuXBVH86vvHZ4r4x99Zc+DboNTUo1IKHQxqsk9pvDAkLfmc+Fvh\n",
       "R953Dr/KjHtLIHT9fOHljWYeeCJvdLzvNIQpcrN3wTRbeciTkkhn80HO+lh2OcQYPCIkGqwXIUrt\n",
       "ncUU17I4XiMW2MnRNiO+NiMwX7stWupPtpzIZfnzVzGBAu5aBTlixt7nskPlwhj34t/WIn7o279o\n",
       "Z2gVthQt9ClDHKrPODBu53ZLB2eORJISAXneXNZwgv1st+csMGokrlFUWtbbT1eEFYnoSMy7WeNU\n",
       "DkqMMCBoocVJlCfmFvC7h7h7NZ6cTzC991IAVITLSc+HM7nW++DvyAF+DXJ4b6QswkLUy4wIasAu\n",
       "OYOuWTR3Y7RcRWtlTVfwADJ+GLyTON72CKLGt5zCwYOZqLrNreHVCpgeV1cvElgHfo55A1W8k6PA\n",
       "XlzPJ8hCj59Y3KARRkIZ2foQzeZWlwev1HyTheAK/djSw1XJVWrBo5VZ7TWNHbYLaxmkFQm6/yxJ\n",
       "6fqV9zfiS3Zs7+06tqU/t4Gz754WfPknlJkypg4yBWf81hDq7imMmiQyodKzJfImlzEHNQ8KZ5KI\n",
       "HTn3mK5uW7d5jH0VurYdCWGwXts4ilV7lJZ3jMm7DaVJ0njfMeShQf3EQWRVv8CT/apjgtS6mvKg\n",
       "IkwEg2ppYZ/g8dD9fcO0qccL9jughbbdVD+OyeTCWBsG44OMPOyPSynuE4/7LjlR7hB7iLWzlew6\n",
       "z9khSG691olSqvcb7Ha2b2EMh6Datfgp1m9/R0rCqz0DheI3DnIWnndU5MQqS+eK72bcn7bIB1tM\n",
       "FjgY4OYS6X4gEoYcRdQP62ZY5XXyJgp+yAQ+TO2CrU8gkp4oETr9rTlkyNArA17/taA6FAFAMfU4\n",
       "RIrtmwqxXubJ+Px8+YwiKV1Yz52LnS2AvgMP8+sGk1+jjX4DZ4WA6ww1OgrKIPIu0fQp+FWKENAS\n",
       "ZFxrOZt7tTHz22sByy9MUCIkzYchre1Tc+FIHjH8zm4LL3l2BuIxMMK3X1m9OwDa+NU5qfJMfA+i\n",
       "LY+AuVJ3BJWbNteT/aI+VX+Vbwp+VTWHkVS5OxIAZt3XVT9rxmbUhQ39fvbF6NV9oo1ADYFdi20e\n",
       "Nh9xin6/skX2173Cmoz2lB3x1mrzWYy8FZGq3TSmJH/147GU7zSv+DanO3++1YQ2X/WTz+ePNKoE\n",
       "aIA7zox9/6jxftnqwJ3fE0aByPn7ezMi3DQtCU0aNBfF0adk4zwXcunA5C/Wo84CYrydLPHJaqiE\n",
       "8vZnMo8Oqpc/nq3jcAiltosN74QBubbOOk7km1L2Loo5p2wrdhy5zzKMhlXgWy6rz7yTnPHSfm7k\n",
       "5fA1CmkUzORogj/fltsy60dd/4zVgnGMQ2TteZAmjs+2MENoPOyFXD7j/MNcPzID9PQ+QI1cdJhj\n",
       "nlZNKwr3Bu14GuhvtvgtMCFxHygxU1hNZDL4pUcx4Zk4Lvp3bWeGN8AIPkMt85yQRxnXA64vcrir\n",
       "6yCmWH+ZRspG41Y6yNI5Ak0jBnZx3u8eRLq8V2ZOk9glSRtrdmtFQncI6oCN8imB+k9iaoCnThn2\n",
       "Q1ive3pQE6+1aBwFTfF/Er8sN3ZJ1NLIz7x8TMCTk9alNE6pD4uwWPp0ObJRCh/JT3O5iFLf8tZe\n",
       "rha0on2nYTKH6Y0RrK0ndW2A2sohMw3qjX6rLCQUK2xk3A2LQzE2dqWtoFjA5S406NTgmO+FpSKV\n",
       "uqeluDEwWQ7wy58OOEdT8mtNmCBfpi+IDOFgjJK3HWkpdxiUy4jiw8sQGLAO18tnvZq4wBZgCK7a\n",
       "jUuXVKSv8owGXAgey69nrOZMo32QCJ7EkscZIcm+IAvLnT1kmFSExjie2sK6+wGJiTB8IFBix/1L\n",
       "lLKRY0lTAwI2phcBPlm9ukzfuxVa3l/lgk3Zc1E+sJIGJUstxDIsZtIi8ORt9HGDSHa3dR9ev0k4\n",
       "FAwdLuTDd7wFlZuD+VE5d3uInKPzvItXtZzcrK0R/YC3IA1PDcoX1B/At2fJj81DBk+FZlGvCOx6\n",
       "tijNJ8kYrv1HayeC7r+JlppsgIdZbpixVjt6BOW9LqXZxrrXEYTqCWho3CpbJvBWxJIHIa3s+WXd\n",
       "aW5wIQNhOYe7qOY+GQw53kufueYG/p586qB7q4RaV/T++lDy3Ja31DmJuIzZ35EuBR7JV5c3HLT3\n",
       "kO25TzT5H/XvqXduKs186NZuc8HRuacYc9m9hJSJse6JoI8RW170vRmbGXFMTIjlyHFs0CUrxvxV\n",
       "qLMs7w0Og+bogsTlpjOJn6Aep3UVtyPHBp7vWVk16VNEhvE+aYjoTn7ezk9dLou8Br1127v+h+lb\n",
       "Z9T35eXvGLHs3vp8zT3ecoScB5Uw6SXqvM5ebIgMvKVUHbVkRG0qFvdP2g1P9uZ5nr6Tnv5CTI3n\n",
       "jLDbv6ELOeFZffEXaSZNfsZseMhcezmxMTIYD5Q1ktxghnqhyh9EySLsxVDNhps6hz7ayYZqZF7t\n",
       "xNH5Zm2lbF0LFz8tnvg6MzFOe/teeZikBhAWVFxJFJsknEhTvHQ03v5BUfbBysdR7M9qA/wTXQkS\n",
       "+1/y1Xg+O0mt4HDMCfvUPwv3sUnR+K/p3r4053h3hxCc+UbYjtBz0Cu2qEQaOY+8VNg+DPhPbuHT\n",
       "0GdMal4urdpiLVGslytCvGi02aqrrBMYatQ7jVTjbUoh9RqNkDfSsrAyY4xVRTI14Oh9fuVGWsG3\n",
       "hMX3y+VHAo/r6n8ioCeYtKaFoe87NpWum+/WkND0BO75CaLIKYju2les3LgJ7297eubgUIzMDeXU\n",
       "R5AmIknKySLDRje5PDeH2kNLIddJVrHvr8FTn/lyISsst00Wf/qS4Np1xlbJpbkcghtW4EzoTZtX\n",
       "EuCP6Dsu2R/5oaMU8XZjndeqljQo0UqHPTbwo1firgH75IdnVOmLbg61Z85nZl6wpS+SUooodX45\n",
       "iP7W4cMXoaeCmVjyqB/Kaasd6OdbXNktTlcQXxStTUKT0Mfc5sdDcZqAnPeuQynmVDCusGq80zMW\n",
       "clJJad6WKRgGgKK9FSbhQ5Ck7ETcRDuofFc+yTvz/mVcRyxIOlWFw5RjVXXk0D6xOPcHHqgnS/Kv\n",
       "n/rIwh3meQlImaKjpcWA/cV2WxJ4GevbL00jFLmeMSMWS5XRUf8XF08TANMfe0vTJIhQxMMqksR1\n",
       "sIwgqpbF+qE9mmxJ0c1cjWqqUkYIoM3alNIRwgV+RObuh4U55IFWePeL+XIt3WxPRJrZI6dAmFqm\n",
       "Be1XbhuIjFYjJ3aN6wqjEJ5gqNfMFSsGzdLIulzDHViuVqUTP5QLTJMVrnR3Nip1dbtveqLaQuM1\n",
       "JKO/602fwwc+sg+wXkqhV0ZlJxj00PmAV3RUrCR/Bb3sPUy86SKwKL4Y9sbPruOsHRTL2ZhtuxnJ\n",
       "IEIgT1LVESkl9z4P++lpbGPsGdhGpbPhxUk6Nkqlfk1nibewRBxWBni/fLVEoxPag4B2pRM8FUW1\n",
       "yk2PALmCcwdo6RzzE6E0VpYiWsSIycqej4JGQM4iEIYUZo0/ajservFZf/caJ8738DCfgZdxeuQX\n",
       "RkzJddhVemSYC1HBO2fAYD3PZuNi7HewqcAaN0X8XAR4BKok0GywX0+pKRDMC0zGKQhRxU35+yDc\n",
       "8qw3YvTFJRvWLFz3YTOJ+5fXcOZ1DkewHvdUFK/uIQGH1EeVpI8u5YAzoqSkX2qAQ2qfpzllO8sn\n",
       "mCU4b5lM9SIyW0c3FEmsAJOR0MJiK4ESy1XIIvzNl4f4kpktqo6xDeT6QGLVdIfb8Lzfin18eLzW\n",
       "x/0o9aBUhg53kPdsEJaKJMw2aHzhhy9PfVeUq8FznXPjX62u9lEAZsIQgXPqVOUavXUr/UGLM+Cl\n",
       "8IH7a3zXy9qStjvPuz1S6dnjhtKDihRJGCd/NeybjXK6PiBjYm8q5jnKO8YBth5/Ko6k7FvVtl4R\n",
       "fwjsJvXteHuXncYn0gPVdRAcKRFuTrxu0o8GRdBaVRjzo56XkZMIwlXKwGbuA/cqdKrpqe/JJrsv\n",
       "xdd2s4wjI6rvSLeQsHz8Qw3ruZA4gE1BkxpqhPZmpkxVKMnOH8hZFZWFbOOi3ocjK2lKUmkAJM4A\n",
       "Z2kmuk9Dxi4Umqd3zyK9KXScgKQ4BYN5wf40X/EDsJr/j9orE+qe6BKt9pNuBDrSHQ+pVnb6zecg\n",
       "B+uvrV4b6Cus6YJVpwlwA/U8MK+sEVu9p5dEwcQIQ51Ai3Gfb/BWIOrfwJH46N10+OL8BHV7PxHj\n",
       "pJ7JKBKd2OWVB/yC8Uk8v31ojSUJ/IC21sNzxoDT/Uw9aJxysL//2rHU+8iTdsBh4KUniLfQ1oOW\n",
       "N27tMc7mjbThbf8nGj497TtDKS5os+XmEmqPWb5vtnXU6KgzIsXZsE3irw0JhymY98604YD3jR4u\n",
       "Jg4Hci9WQ6fDuakMX2KoL3CcHObpO0Jep5mS1LwElTNeeWPMJJ72VPyNzfX19ZLd57DQdkn30oEW\n",
       "u2jT1OQrHatIudPgAOWmcVHbkCUcgHfzoOnPmpVVV1S9mXxDRr23WvUtl6/iLvITOg7hWGJR4k8E\n",
       "hexHuVcpX0I1c6G1czSC8Wm1skhxcJtQBewx7PW3fRuIDKX7jph6LsT2anUn3Xgs+E5BGaJVh9qx\n",
       "HiIAAb4H313aMQAaxbbiZe6zek3maDbKSMgzg3zfkQRIXYrGCcUtmpU1CG/owK0uaIB4a/3twbTv\n",
       "hGKQOFvyWI/DqIJHXPvqSoYen2lv53z0GvoDOrNeX+00wBLXTf+c0SszViV1JkDtfvMC4+xU7KJE\n",
       "G/DYs0T0aATLZsNGuNBXiEnntmRPWxGX1bpwArpz9aBH5wX4hR0vfgoM1kfdRV+GP+kFloDWvtpw\n",
       "nUvJ0AmM84+Ue5VYGYZEakFYqxH9r9lpy9OFco8zHAtTAVWbhvrJ8ZT6nmrSw6iMKxVcsAACuMfi\n",
       "fxVp/zwbvDGPnmeyM5/nRfpidC1lCL0FmNuYTdkuxQsHk2dq8mVYzbiRbDPp4Qo5Pur8jqNPam/D\n",
       "G6eTS3SfFRwdN6d8POEIvVgnek0aBDExV2AqEA135aTDKYk1fu1PyU5lEooQTgqD0IyYeZ4ST73D\n",
       "UhZnqZu+TfvTRdV0v44kG8ZCUNqWMLLT5ka452uiYUV2/0r7oSSHy2YNTyfXSSnXf+nhN0NBSg8v\n",
       "fWRJN35PDwddx+XrmH/gvbwvtiXaMV44+MaU8HEpCxs0O9TNa/F43MOh/GJS7Ewv/HsbBu1FEZL6\n",
       "WDhLiPM6pcp0ZKN4Kn5r5gvSrbU37ZddMUSAcWqyWSa/zw9CyYzlKf/lbtkfQnX4usVoTDPJ3upo\n",
       "xhiGc0UGVutteTV9xU9DlIiVzQ9nPA6CnSXTnYinLAjTqwWhzkLPrVAwbyfvheY5qRidUbSR9nRe\n",
       "Ca50ZH9O+d33ECebP0BrD7/xRdeOpoY9MWK9Xks+PunOQQm85j4w5Zb+e9pOL9j4NKuVIL9rEM9o\n",
       "z0BAa/k5pJ6qi3JnwnFnLcOfB+3ejlq59Jli68xaQTNB4FPagZcxOEApIxm22bdbNGkopSeIuuXC\n",
       "TqJCBpVwnF9wW6dFXdgy4MH0l1qdwUd1gCxRY4N1gHA2abdQfgsHThcaNwMSWFIkiQv6ud8XmTo8\n",
       "irMra+mjmslxHXmMsRHnRldgo8mrQrDzZuDyKZTQcCNSr5+YOaJpAzdFrirZ3EsKt7Wa7ox5C/lK\n",
       "89GYt0BEef6MqVnV7J7Hmv/X/gCQgQDDTwKpH27pFDAJRm3hwAALyZvPpO6zaBGCBWNATKBoP2st\n",
       "qfn40tlo3P/v/Fr7+KeNRTuQ0MAavYF+ndqJ+N7YJ53JBXYaRK7GAPiv27baEAS0jol5goX62fRv\n",
       "ZMn120MwvNzlivZC9yeVl/i4rCaQGKm98PJHlMgrFO1midy8G8Bm0f4KhDfSJeCsVNmxlSC+Pp06\n",
       "zj8XIfqxiFrY2EEfi9YjR5fEnp4Kdwv1c4w9CFX2kEGESnSavqCokXCK+kfuNKIAiqQDlrWD3/1x\n",
       "ek+qhX6steJRBrwsnOiY4yxDPEf9JZf1dlBKLKNlpjvCwXloSUaVv2EvLlYf/97wUTO0RR5pE2xz\n",
       "ocjDQ6m+OhcXTgWRjSoSLyo88gnwMCivw2WGv/xRIPSWLjHI06aHms8OeithYJKONFy5blzsyBej\n",
       "XuJpGvIRZvOtBpP7HGcfRoLdq+WutvonjXje0aDyF4tMfUIRlqeH4/jBBDD1tJcWiDKxJuzyqoWI\n",
       "MvXScM8dKzHP4ncGcgujMvhmJZcR42HCPyZP2KsVfVun6twXwjDyH/oAJTx6AgetlteSzw3uMGI/\n",
       "NHY6kp+IDFZL2UmwI3eM1u6AgS7jDWahAbD1Oli29tLWyDr/tWL2pzlfImkA3cPn5DkUysktYfiG\n",
       "G70jIJTpMPDrw2V3UbAGb2LlHcVPjX+Y3nuJE2fUJEtoYD44TjHpJ5Ht00/xGfjy1RZGBalUuOvy\n",
       "z/2ZQXk0eDHSgX2IBlCrcbn3Pvmycv27CYgTXPtQfzoNk3nAKsWQZtcbgBicLeZeQjf7UMOOyK8w\n",
       "LlOBngure1isqy92IBwqELmAtM3NqC2AVQd8afFPcA9PgA7cYTVO4yq6Q4ARptnfS58xIVGBsTsi\n",
       "AnHrTiQ2YL0uCu9Df7lItohe6XwhMfRDnBhqdbyB7j3CLy2Y+qTijY96MRCm9q3WSNAWnen/4JPW\n",
       "Pjo4Y2wi+4II7nvVDYapAWDHBjvOc3VFzWGoMfYo41u/qLmIj8wW5WQ9LoSw5qagUAcTSRCzRxJY\n",
       "+NK7KANzPIjGrVkw/xwLvW+bs/56qwft+40ytU1dD50/nAk4f+jFfWzkKLW+VV8Zz+7Hi8OyzZbG\n",
       "18H/7d8uGJSUtzN7nVYVHBYlcW6r3TEXV4osHrfwo4qAP8kUfINSmbwZuwyASXSIcDsCu1tabk1n\n",
       "vODL/aZ4wifFle9d9C7RKkoyFiyIpnxqNxs/2EDub39bVYO/BJ/XCYV8G70tRJUHChO4cviNYNuj\n",
       "AFaWRLxY7IKiZEMujkjeJ5Fb2FMlLjreIU7OPFdbBYoKkEJmbt+9rqvepdwor5X1ZIJyTgu3x76e\n",
       "vex3HbQUmgkRXICYDKuQ8bPLyjYlJclL8kHD22G/d/joXhbjnoK4MYvwAWNOS+8p3ytrC3uVuaTI\n",
       "YyH7GcGGL3SjlkPLW24ouQ//EvfsnZ6Wb1ar4ENlQSYiHKmUZZwMHSAIFGNMmvfM4N6d6fhdJuGK\n",
       "zDZt/PR6XMupQkxZsWb/Awvc/8ZETjv2UnyrJ1oSATwYZlQapyFSTfvbnN4ZsQtblWB/1DK3Gop+\n",
       "ChenXSV/QpoJ0IUQyqy4fZjh8VV4YYdbLdDdeuObYCUNOe/gVvUNlql434KjI4tJrjtdx7zFOuDS\n",
       "k3rWAM6mIzXQdTatnsZwMKZXZtc2dCsyCy2PizzoKC/ph4sTBcvCMQj/hciOAL3Ao0Uxqo+AV8Rd\n",
       "s2+F8Dmzj5kJiDSjR6SyI6VvmBat6QdpeucY023NZnSCyJ50+oLnoV0bDRL4LA9JuFInsWmUcXWS\n",
       "UUHp42vyb5OqTelL5m10wegJJ+Kxz/d5Yc/tRwcWFGQhP3Yi3XtOhHLheBT1FSrmp5pwyL6YjIYe\n",
       "vrdLEp739D2935G6a8VApgZOrAWfMbrRCgB7GQBIiBIVNlXnlZURFELRbpglNBjp4DvsqVqKWJZc\n",
       "PaJfEh3v5wG1krK2vx84Dui+YAvqv5oMXvbPqMpQ6hOOEtu5DUR0THbP5V52spMs/bkB/SOa6sDF\n",
       "zOr8x3htZbnXTAER8d03dS2ZFSH15FOtgDhBNnFcesPqq3TwzX8dH/97Wx06hknzyf1pZVO7MXzU\n",
       "pVB2purkcjOzzSI513dBbGrLm8EVma/HjHOD6p2WnO2REa5oayeXwAWHfyh1UpgGYpkKHJdl+NTy\n",
       "pXqt/XVW+Pwmr4bD4C/9w0P0uUTg9xCwFCRL2F6N9JokEdBMHwLm4XY/wPeCsdH8ysoonP36+4cK\n",
       "5lFwXl7tpj9ud+EBP4DpBGacdhG4AptX2DgzS9HP8cI5FoTII+6MH9nNjpiciv+7ee6C7y8Hm7FE\n",
       "NORW+I3z2hd4gVkH1cZGE1GBCpG0w1hjrj2IAt0OHnhjTbD5+fnJP4Wi1HDHNHY4ZoWwvR6Nl6fM\n",
       "bGYuZpOeGMYIZif4MI4kCX9Rzxv1Eu4MhFj6p80kCoolaxL7MNC4pnJOfoxLgJF1umDooE4C6Rd2\n",
       "+ihX7xxeJaJDJ9cnPdGGI0dlJf0FdA5TCRdmPH/+1nVlfgZvN6QRi/AqtP6nYufIx7323LjfGl8o\n",
       "w53kG0qSHvVXwP4hMeM9QJ2bHNACXQ81aA6wwHjkJL85p1plR/PLAViJDbpKU0FB/3U+4zTHXFWD\n",
       "jr03VyOD5boe3+X0xYdX6u+eiXO2nTEZiVbHW0QQ26qzrziQ1tlOL0XFN63sSkeWc+YSII32OUzS\n",
       "zNMJckHFNcBrg2YayPq4fXhArMQH/v2RmDiNzCcYZniBIHkiFx5i3EDrWLmAmmv2IS8RbGG5DFRJ\n",
       "7UwCaLUQlqnQ3RO82MasB/jWlkqB/3vru3oImSoR8jJNpRvxNZgi4t/6toKY5OokwFuE3Hl/1TJb\n",
       "7ZSjis/kRbbF00ertFPJjt6o971PPYs8prBLddgNaY+jYzlzqiNKa5EK71pqh+17/i7+6OaRKJU2\n",
       "/5FhQ/xVYDw1PkU65Gg1aJYPP4NpGBQtud24KI9YZbq/azlyn14l9ADJW2qHX25GiMVFGU34Pfhz\n",
       "nODHH+5RN+4QnB4n85G2I2z0fLi6iIgbxoeDOy1/SuqYuxncJt1XKr6fTa1iIdhrYEXfx3UH7ne9\n",
       "tdCtUDjBCtkXSly4dhHB3p7mAqogQZb5jLUoYquBj8421Yz4XqdPKQgQ0isBQHtiE4xEnZsNrcFj\n",
       "MaUca7a9sIJCrtq2yrbGCbuin5pyNR1kD2LBteiVUKnzDwiKeQFfwRj1GtQ/+jc9OdrFuhRjUsio\n",
       "SxT4aT5vFpfySR3Tbsd5rmjXO0MiaUztov6L3xPbRrMI8YYsdMc0SV+GPZQ+R5QpvE6Wwn0nUYyz\n",
       "FMVC5rBJ3dji+n/rbqAqL7wnF2NL2Ey37F/HmRMQMWRtWSknsYfv8Mdhuh/h+YExNr2lqtpa5H5/\n",
       "TtE+DMdQDYgQBzt+i7K824CfsLJKlPcxYFjmHZxm6E1m7XtPGsUohJ+yjPHz7TN8E9SfhkoS7vMo\n",
       "oeZQQ42X7ki2t6JBE9LqJ4ckl2WOeUqru6KiWMXTXXuEQX6sEMxnTd8sQ9jo9UHXTmh157t3WDc5\n",
       "0TWk680DAlvZLkckljw5ueUfog2MR+U7bkbAfFkPu6cb7jJAp+3M0MgUSLEkEQAQQN6MVP6aNHUm\n",
       "P9vXXAW5qqV8IbYzjhTfd4bSKndUM3L2yBbxhBDdYR4Jm4NACEXmMy39bcXowN0ZgpALkBGOCMXK\n",
       "ksSzAjgMunIptJ9L7CWa2XWda/+BDPiUwB8TMlwRnQBUpBxfwLrVLOvAnbengvkRPJBNDXRYhKRG\n",
       "0FBj8h5zLGtTjm8KDL9psuwvBYU8J4bkTmiquAM+0rZvXptaV/waw+IRnIM0Prmfz/SXhcCAv3m3\n",
       "VgjIDjFrY7BaZoDjxQD1/hyRZLcNMIq2LQlaEdFmYZ3H9QMrM8JwOKTCTg3zLwVzwcqAV8SOHjCW\n",
       "eOlN2rFKpwb4plApbXECBnCPuX9ONAIepcJiTAPZwec1BMKGeyVTrpKeQaQVrMLDxVtL2E98jDz0\n",
       "mrAWwJLrJ+qQa9ZWu3WKeA76q/oDnGOXWoiClUTqNmXbL442y879Nth8QnwWvr2tv//Ml0Rszji9\n",
       "b2JZiUgu9DS4jfx5sOw4VILMHFPbIOy8VWuMIO1qEN04YS9Lbps4wVMncxlYF4/4MCEAAAMYQZoi\n",
       "bEO//qmWBeXgVACJYT3sGcsQbnGUMmq2XfkLl8M9z4etepYyMv+RDqZ0yHF/+Y/uJjqTzvBezf9J\n",
       "dMQxjhcbArsg9YK48ZC+Kc3SyvqvwTiqoOEN6B8izwgG4vvYk7zQr3PTBU1JhlX4OaY5zJifsWh1\n",
       "TTJ7Ywna4CwLs+WJAbUp2aZSIxGLe9ufGHth3X1SJp79nXrwb3ZeNK7yklxLvJGpYsK+2/fSDBsU\n",
       "FAjaNdi+BH7ntS1FkdM4NofxEKDKl4ssm9+UjFY/22Bv5k7hbD14Olq7lwEHgpCX/dVUwgICI0Za\n",
       "NLef8kY369Y/KK/b14OA+wI+fTK/E2ooIsa1eYzJkWRxir4BPYCF2HpQ/CbUuMVTYe0ye5ZKUPBa\n",
       "kERKMAwIHCPXEMDqGH029IzeoOm2BaG26KApy8cN96F5XBo95XHhPLifTIbPzF/XyF21GZZDgkee\n",
       "aNXVdHFwBkF0jc1nDJXD7m/xvB+yOmjtsit/fgtdcVoX4mvwz5G+CBeJcDk0micVDARZFqaJwwyL\n",
       "mhJMOGC6AownAM6HNoiWWuZJpdYT009hek09hOq1RXwCnI8CXPP9k3C0yhA0KU10I4HmFlidyLAe\n",
       "32WxAJooSDVjMtOK89j8iDSvpHOFgYmIpLuvOpGLI//2lPprsQc6SPxMSsgloCy+zxNRG555sNhp\n",
       "H50nD+0je2RIqDD0IpL06oNsavvmUqp+hvDxmYGJdzZt09Nkd1xn6Ml5VM2PI70hWP8TzT2FynKk\n",
       "Rsz39fNXmZN1ZeAgXUGTL/nIaNulL2YYpcRnB2v4lnYBp/6EztczABbu5PAsEpWS4wdINV9J1/0J\n",
       "L6ocWcXQ5RaRN0ONjhaMq6htt1/PlDidnTzd8OyKokTwXe+E7gyqNBm7kCKx6FkyXZ+z7G/ixSFv\n",
       "HFxvzXsKoePqfunj6w3/3tdICy3EEQTBocVI+AttnbqwbwZyhKVWn8qVPH6k7QYuvfY1kNI/6SSG\n",
       "S1nAef1s5Bu71LxbeBgLYECo/ma4eKV7xXJWU/RtEGeQHY9c6EgYOKkzy5Bw69M4AAABlQGeQXkK\n",
       "/wDiAjqP1MyWB6Fl9yOaG7pSquE3qo3y9bgBJEeP3JoP80XBoKLIxG7K/t7Strf3JnVoJYwWCs2P\n",
       "oHKEkVJ2pu1Hs62SLHa7Gt6oNi8YhMfZyNhYfNUfhG2NUcKn+So9r/oBxSUNWQFCt5ptsmITFqEK\n",
       "SMyu9WgyNINW7A2AA/B3lXyiwRPsUgm8WaEtnDWkfeyAiafRCYlfa84O7+E0X2Jx6HI3HAFXnqZQ\n",
       "lK9HNC95EGF/N7TVo8sPdR5fsxHV5jutgXdgBFjqrak/sK8HAkho+Xjk3Unl67xiqM1zentrGgor\n",
       "cO8fkrUIZODZrizqDsmCpCgvjEavgPdqK1z0YvR3ZQQriABog6IRj4wNp6fqYAcTNv/L32mbaVWX\n",
       "8WAFBtJhoGKA6sb94FZpH2m+vraTABBn/zRyUWAnRRfpPMHZn78QM5VH7xDq1hwo7+8KPG13w9qa\n",
       "lp8r98mNl3YoD1E0aJJeOf7ZfSeBhlwQVuOb2bTHCzxK6gghWAoTDDMyppPTGbvde8yT7TfnDJo5\n",
       "tQAAAu9BmkU8IZMphDf//qeEAOJwmceWZJ2iDABLUrzQHigiuHke5PVVRaV6mdi/sreV7D/PGeXQ\n",
       "mMqAFZaJcj18bsOCQaiJnn2/Tw+CiDOk99u461hDfzojZlYWaxe4mudJXzJDYbXfEtNDXJKo7U6W\n",
       "xLuutF1aVvyW7dt06i8tY6BAVsLwpmt7qP6YZVc0uP/TxsETJAxolqJQaZNJF2haKnmxtAnJRNMR\n",
       "+AlTPcHm0vomIbdFGMHIzbA54SF6x0AwSmAvJQUR9jk3TtysG99CMrbQY3wWHE6avVA6gzh+tCvM\n",
       "rJHRra3z0Fl25vKTt5Prt/dV4SIun8TZlTRk5RF4XWjbJzOn0FgBe800BCGC1XlaSv9FW5mrb5WJ\n",
       "lQQeYJeT9wP4lIJG6mw2gltuV8AGlAKjtz5OqR5ZXaz/wZte91G1LLj26T0tLfn72thmE0ACAiCn\n",
       "HWx8euakt71qiYG83te1sl5bB5Q1hJ5EC70FYNt8cCb4BKevYpkcdjlqBXr8pKOYV5Dg0hWciu91\n",
       "NIes4bQU8GNceL0Jw5eTledS1+KMf021dKl9u7XPqUSX8QjA/d9iuspNgZSP62SDIvgNVQGhMZS3\n",
       "eVnEDrLIdhgP9ScFAi3r6/eg0pQiAewnTqMmrJQG6uBRXFwZaY1wDPdhvRAXxCxGjTG97SiCqRuv\n",
       "yqCTDBFF3Dq4goZ37yB/dV6aQa7E/Q6X0yPqa9ZdWoeZfIgGtwF1QENaaRH86P9+W99CfSK4UoA+\n",
       "Te7WjgkswueYBOGcEcp3X3MgAfRW+S0uQqQ2J414VPlFzkWXNsf2ctYRP5WDSNPkiVfIRfkljMDg\n",
       "5F6A/s5Ne7hM3IIXR+66BPhzL2ehMy4j5n01gS2pTg7PJc8GfD3f5p//+w6+4TzSpwVJd+ewJ66M\n",
       "Ddda68D1Kbt6DnnSqwp8BT1nP2tB5oOMwkQlIMfpMlVKGyQcf6kIKWXrgV11c307kXbSYIvxmSW0\n",
       "PyeOdrPKB21a8p2AVezaAAABp0GeY2pTwv8AhuLo8P9uU96Q6P86SVOYtIX97xPAEZHp2xvfpu+7\n",
       "fQggwk2nv6MWKWIu3DRlWh34QspIebM3pMIFr2Wgu1fnWvThw/c4P8KoAtrWnBNIlzWkYJKr7SQR\n",
       "gykHBvBl8AZTZvctyZ1e06/lnwW6U5Zw7M52/J7kXyUas78bVElZE8LX5rfzX8onWYZr9saRz3T3\n",
       "VOWbcTZmIks/raLVIQoA0WD4QIAv17bt5xezSuuCtptm0EcpJ2LXr5N77VmyeVlIxndH18j6iFRV\n",
       "D9okrmUftZWtBX35gULwJiWL+90LLLznkMEKZu2BJsLAMObj+uohqaUKPYMxV82ZAV2WAbQVS/fm\n",
       "3SmBnDdi8T+LPGxz1cd7yDp6lJZJzG1NEy4aNZfX9RR99FdyjOG3PbVJeZJQlDHOLuySldhPCw+x\n",
       "N6sJHrT4p0B2/7ht8rkkgaG1fp/n89YAkMKk/NpIrnb84PMYtG4TKkEGefJdHWioGUB/kxag9+Wb\n",
       "JXVpDMBXzK2KKX1MM3K8c13YJ+Uns4XVdAcIb/GDzYS81+eulUbkwVQyYQAAAXcBnoRqQr8AuACb\n",
       "MgQydcdqECgSj07/sGSR4trMbwTRLqgAnAuo+0XJDv0oiLBLcRdGFK5nhsjuCkNNIcjIr8GoquvT\n",
       "ML36uwKWkZrRvM6fxDTk86WrW/uQ8d6GcgcMp0Xq0Lb3uDdY3f5NRHrJ8jXB1QqPUYjawAZq7RT2\n",
       "bfwMpRNvQpPab83mX2YMOOlQOHAmF6rK1aDJ2u/mJPpMiT7JG0BvryVK4V8LOhkU5XxVgdr3OT5R\n",
       "PJYouKmkUYlNR259m9GijDLNv+XHSKWrVZtQap7YOq6xBIM5cLrjgRlT6+7ox+ScqmCNQubEm+4Z\n",
       "9O4d00WH7M+7X6i/dl4rR2zrwX82Rq4CX8jN2JJ9MkYIGf1/fyFtm/TizyU8VWBWKrMsiBe71xAz\n",
       "7hQMHxLoarK/VEZ5fBeGtot8sayAS9HCSCfjTk5Bk+ZNkfrVrE1ozg5Z5NNaEUlQUVLCAoxJhj7H\n",
       "fhpKkp4+Zp+nLorid2NP+coGcO4AImEAAALPQZqGSahBaJlMCG///qeEANwAOkWCdFSRH4LLbOA7\n",
       "nKvZOZvOAAE7Irfndf1KefIiKnQPpEcDulyeVDmzHtYwUzlqgdSKsiDHwJcXN4xvH5ssbozixqJd\n",
       "JqpneKt8miE25xC6ZOIpLelNOE3zRSskDG6S0i5WO+2ev0T2stT2eZqm75jgV+4hzQo80syaB32V\n",
       "v/oT1+vryiXaDfFsY7tV6jXrhQr4stYr4mhN6uzPrUFV4BbUzHd1NDARBi+TtilesIasZOG6yfo2\n",
       "RJ4bg0NIcvUcvzykGZtpvgle3X5ceN2jCQruaNi7auGwqB2lW6JIeKWLITYd535uYnPL+Lm6kD+m\n",
       "7XPDfw62qAtJe1fAzUMjI72FHPdZJwvNqirxgHMT+RveJuiQwLFJHmJZjcGbx/P6T2+uKp74+2h4\n",
       "0lRDVHbPFZzpSrFnEQEJiINGrKjKA1UcnnRuc7MG7DlGhDaOhodZ/eo9FFMuqzEwrmEX2jLAp0xN\n",
       "K3kAnvkcGhAggzcfdHq7LuwSBxjWckDajd0NkWbbJAaZnHDAeiCdA1PsnEC9QfvwrbEHpsULfmK8\n",
       "Xc6ohXyy7ximsy1GhiNCv/pG4H9z4t/b2xvJnG6aoKc0bPKsLZxo2IekRW0KEoCOZzCKHARv7q9G\n",
       "dO3vEeVfCItOLHFITPETnO1+ozegrHo784eyjmz0m7qJ8N1eRAHtkcVwo6F765XwBCjbks6AgKZI\n",
       "/jgRj2Qe8KdLvurvvztLrP0QDoplfE++MJCS4DbRVdEIh0ptKG75fUci+wrNqjL87ikz+KugSRw8\n",
       "iNcFfEydfPuRZcT/XKrb3B5jxTW6JVCFwKeOLPfikB+psJBuETne8PRz2Dvf5pGtTTfTpnGiiNGR\n",
       "HIDbagAC1AJRSQAC0HVPUrAIuRrHukZxXh0yJ/bh2gyInVBw++9/UkYUvzYI4V8QuTJV+sjlwxQo\n",
       "picfJvkAAAKPQZqnSeEKUmUwId/+qZYAb7Z/wW8VoAvyDUde0GY566QJA9zuCB8KgfolehXFlARA\n",
       "oZI6X6AyhW2XcakxZ5O/Q2aRi1MkgopobcvVc8WUMjIMHysQ+Cw7hqtcOdn6cRCv7dAZxyAdAGrI\n",
       "VHrHfAmKB0MhiIFR6fFf/ZwNVfPgFLLF27huXgAjngq9Zs3h9oQRwKPYM4xpiaiWPSta3xNs4c80\n",
       "imaI1/slKGTVy0f9x3Dgv/xbqnoOJRYrG/KEfRF0KK4qItcF1du7FSTeqPcwAqtRUO4Zp9d4egDd\n",
       "g2BBYapYWDiu53n9+2kk6AdQ1zwsvgR3emy7ze/9L2YrEfqVu3d9QpDpilbo3ObGOK+Vv81UYlki\n",
       "GnYmQ3gdsCzY0drUlTLS55wKc88NbcIKX5j1Zh6TUvx00s9ZGvSH/CnDXGP3tCstxYZEavBfDO1p\n",
       "/bactHxjkIED1F58c+NUU0/eClEsL+DMttMg3b5VzEn3SwgWF94WmrNKmriEl0KnPbX0JtO4kb7V\n",
       "Me4iyvvPTNf1C/PyooJqszInKr6ucP/qymvAtii318EShXLADaB9MU7dPD45Qt9magIxYw5H7fi3\n",
       "uy/vuzMcdXTeOQ6jL+h7ZeE37MtdYpL2cg+Gc9VIBvm9sQ0FE8RpRVGevC0Taa1yNBCYwxIxNVEv\n",
       "W/CdLso/ITsbsLTKr5G/+ArCTIvCLBg3O23pBqlcOxQIy2Z4K057bxYg05yHeO+GUY+s5hunth+Z\n",
       "9yk3u0vfUpmJOW9T/+fGbf5kZJ6Gy1/ZLHjRExOu/2p7q71OlBSGDjcmwFVgD3YAMDinfCH6s4qc\n",
       "xXknGyGyUfybmbdnGJtaesViNsK71emHhGowgdXak0tomxBUwQAAAslBmslJ4Q6JlMFNEw7//qmW\n",
       "AG+4vV5EwXjABtUW7uXubg/5wvEs4/nJs9KOg2de6nSu+YmWqFyEGwXFqjuZVyxCMcVyKq/acXJn\n",
       "V+p/fPqj/7F3VRd7sXT/1/qdieI2yyQWY8EBZjrRn2IlRk7dD+Hk2SYPha1zTvTjzsODQ432BRDI\n",
       "PrgtvfcHlWkLgCuA/K7aqfNuAh6IkEJ8aTBmvDNTxcRaCfu66URV5aEjD+wsE7VRaNUQOCKQ3G+l\n",
       "mffZgER4CEZX6MXLanoVbpGyhk4qtliz0hbpmrs7Ol2DjKMYPphBzRqQ33wlXqUkJOXMFGoS6Sl/\n",
       "FpmXOj4OtAv8y84VMsHeVvNZm4cfhZc1/xuOopBYGbrTo+/y+nRGStgMUX6BDa0qq/uBD/NTrfF+\n",
       "LPrC+IKnWPxD0BBgwaJSmUha93c+sxXjOJQ/htk3egJ/eyqGsXJZK3yksGHcARwwZDsRtfAVZqZv\n",
       "tUcRm36UgVkdvJOvuz/ygDcwM//6c6PF2/Zr+ExVXxj+/Yr9ccm3NMoqznNHnCZ/JbCBpZ8PRWZK\n",
       "db764V+LP1XmeaGuDCAvC4nW6Pg7k4vKZ+ZTGTLtIXpvhrsRFxb8WXcYFvualR83y+/1VOv6q3M0\n",
       "mS4qE01z3LFFG+9YLzOtl6SF9Ae1Ks0meEOUJ3mcUoe/cvSkwFzaM3lKFiWUCYTcy5hZtEnjlG0j\n",
       "HWbHbbQmOgjjZKUb6ZEQIOMez4Q3N/3JJOdT/u6s6p3J19y+yGFyHG5xbM4LTYAdslt6O0igFuY8\n",
       "YstkNJT1/7SUKeYmeVAWmkLG/Hk4bjrp2CEJ8UjpYsBq8pcIZC6SLNY0sE8hbbszUQEeeEdfBS36\n",
       "p/AzTfFjh9SLo2vpMjFRU7uBUxr2li/hN8UxOZjqe56/0Er/C4dXZijCxZsEr4PskOCAFXaq6pUd\n",
       "1KwvAnexWUEF9rYGLAAAAVoBnuhqQr8As9pktUZvQsAONoFIoZIUt3krX/vTYugo4NK0xPFtjcWJ\n",
       "MxqItijIuhER2ASBCOK9r9GXRz+is7NL7V0Ge5+0XTWcHzgAz/Tkk6J57WmTkt//DdCTN2L+HmE7\n",
       "TMMS0lfxCw5bbvjoxyxgSQHQZz6FL+xEbvGDcgKfofq/caZtZLb/yQ3P1By5aPKz0lCtGHNIBbwZ\n",
       "Pa1mM3NA1fOi1nsVH98JrwvNb87BTA4WagXSmuiZlMAUKZVO941ZdufKWuIcNw7O5mI8l8Ips8fz\n",
       "AXFK9tqdEMVJSPfqA9RPWZDtOBmcF+/Yn/IUJVSIyEbYsCXTM1rcmEf183AN0dKeL3dnNEP+ex+M\n",
       "rrbY9Utx5iTC+N9QMVagC6ZRUi43XW0vevFXB0c4CpxmLWAgMFlQgtx3aoc3xVZw48hRuy0HFrqg\n",
       "GqJ4Q/U4Mi3SkrgEqDHY6uScrNUwAAADJ0Ga60nhDyZTBTw7//6plgBssC6gtADj3HMb0K0uvzf3\n",
       "gYTsg5x0zrhet0jY4Kz+dAqo4cBOMOhG0x41EYjhJ2yJ+2sy5lw9zxM9pIQcUF6UtXZ9taZgyNMS\n",
       "IHQeOIsmR/oanqnqBmg1ERfHnuGQjxJy0BFuFhRI5saILjp18fba8Qg8lVkXODHXYeuEa1ICzm9N\n",
       "I5eH7nRs60pE38+iPAD61jHeYzO8O5ss+65fkxiNUfVD3u6OuUk0TBy1SCRb6v5AVE+keCsLLz4o\n",
       "IaiwEz7CYp+wOssFGWOyx/z9yXvDswv0yeEL1axJjVEFGl4SIjhpx62d7wx2/V9svrACYc3M9H5l\n",
       "HyAaMsf1ydzCxeI1BeomQh7yade9z1NXVz+/G1vQTZLRn5GqXyJe35fRmQhYAZChBfJs36Jym9CJ\n",
       "sxZuT+Hh92VfrmURE+E3ZiPTUELxyNXYNkj/SyfjZmFlYyZJhkFOhfyX2vOjGRoWQ4+08HfBgKNk\n",
       "RK8h5f4KUIt1Jo/ipGUXERUJRAke/9yFNh9ZyAENiY2W52r0j+GI+/ky+zjCeqB4KzzdqAZD8hBG\n",
       "UhCrXSCadmjcs7wIurncYjZZHZ5RSZzkfw6G18cckimJH+EPbso1WQpqyTZvXICu7A6vjwT9/qVo\n",
       "HFRzRBrECM3XayTWbgHrKzRT8wtsHK18QvNkApktrOQoQFadf3yVbuhQ4UjT+llZhSfQApiFiQkM\n",
       "3osyjMuoz2NUyzQN/K+zKHQC3j7e8RsyuWIWqizVi4uMXkHSQupabEnYBfpyA7jOP2rsyrexqbU3\n",
       "4iIRrF531EUP1fma44Q/bmh4z41X9KZb+ww/rOEe98hoIpoPhzto6s29w8Cajv5siFpXff+R/qTs\n",
       "xWLRvXLIVtHdMjNsa3H4j4vzQzD7w+N8r/pI5LHvH4wu7Grqtn0EEQI+Avm2z+CFrHGv/arcRejw\n",
       "svqyOuIQjjCEZm5PHTnnNlLmJRMXQtZSSmJGtcBEPp1l2CHq55Dy2KjAeWIEyuJp7HMg68wyTLOk\n",
       "oPkZp/XEP1wYP9Ae2AXhOk8pj8XhDCh7CPOo2q+4b+AIeQAAAVwBnwpqQr8ArwKd7BOar5nGL9+q\n",
       "AE1Pdge/ew+6RXtifXYKVia/ZqXWeN+i0Eilb9z7HaF3DvAoFxTo+71UBA7jx4wyA59xOyXAVVEc\n",
       "jh2dLwVd3VWcrs/OdVKUSNpAbx/TYKH1y7/fp3qDk2kc8KUhalkMIVo+KByVG+FuBXxofdHCzplC\n",
       "WlF9cM/PGGKTmSah/rnX+uXKs3oSdFP7kY7ynI6pd/xgdET/FonYGlRs3d6su2yq1f7Z5TU3TCbi\n",
       "EKdrGyvTspxao3aohpQwtPjhtdxnmcxVkP1IXDFQF4JMm+2L5iQXdUEPMK3+Ai+cODOcOjtbsAyT\n",
       "yr9c0+KQA8+oipuTJl+M+mJ66qdYjFszs15NEyrzg69gNiU/D87jaw6+31A71NSbJg0MHfTAySBT\n",
       "aXLgHQ018hG3cwQ5/BiSdm04lBVd7kQeM8NMk9cWy4Qww3oOIQ+9cd5Ib0AAAALvQZsNSeEPJlMF\n",
       "PDv//qmWAG0+flsWVwz5Yb+LFZOy/epIHRQj2xSq9WKZdxda3EU9M1AnZSCauTlEfXD5JRoFPHfI\n",
       "mqg1yiP21yUf5sITh8GY3ojPjdBw2uirZ2ZqQVVfhZ/fJ8vPlpRjgE9grC5zV9GwPhrRu8lRcZ8H\n",
       "xTVoC3yy6UrUJJTxxpt8kSGm0VhFZ7WrN8n8LCsWerW+Udhm2NUNcNqEr4QsiMIcaAVHZX9lL25a\n",
       "ercdH77xUx5wjYFxnIUCmJ49qslO/naafESQfr/C1PrtwcBO25YPZ9yeFP8JpmCrpaCVGLRill+4\n",
       "LNLVyQzxvvylGbdO31/PqxbXHzlC2z5S7PQQXbGNOkxz9KzccLb6Uqhi98mFHV8oxhLUNv8rc/CK\n",
       "SCJ4KI4obkL2NVllKyCNWm55eiazCV2YcNu6VCUIMOcOtVZMSyL3mb7+12RnlT1AQNyHfN85hGU/\n",
       "k+Mzs2IC2EfQwVL6e15SCuRkSwDwBLxWSKFl47kxa9oMYM5z7c4zHS8uY9TjPIuwZyJIbwViixbU\n",
       "RcAbNTRq0inA8P/TGC49pUnN4b8gWCdC981QIiEzAladwyIZdSDM9DKCCrDxRRyjJ0cCy8ucU0w4\n",
       "V1srof7i9e/sEqdHqEon0itCKrjEwfvVhh0+pOqUuHOlB7JPped52asctmDj+Rb7L1/E25mUG2t4\n",
       "8OLPh44YQNR+isnSCXgOTY3tTXphwwjKNBWriHzj9CDZb8GCfnFtv9Yt1TohVzWW/h8mU7u8Nue6\n",
       "0tVysVXJNaZ7db+SHWq87jNnEm6SJdzGtKZypVHC78hZavrr3l3/3EuQ231Z9MDg48/z5E2+xJnz\n",
       "bBrv9mTRyYARM8/8wh/ED2Ldlz/dIgNNA3c/TF/hXc27iUYwwjanA17If3xho8pBwPZu4Pi2laSA\n",
       "IcSvG/FE4fuxhdKQObErQtK25UPMjYNHZXcUdyDCzv4rFDGSPdTLM9n4bBAsO1nyZCsmnvXT7ZgE\n",
       "fAAAAVIBnyxqQr8AsTT8dpYIPNRj+U9SizwkL7OAD//g89x7ExZWsAsZysz0fFEfrMgOQBv//WQg\n",
       "dNNaeBOZUV/wARTYL7Nzk5A70cX+e51XiM7z+TF5RhJnidw4yK6L4veQ97lwVsfJQJQI7QnCbmdi\n",
       "eOYxeOzBP+RK6U5Vqs0FKD8UsadS5l9qDZlch1J5JlQ+eYZWU01RnJMzeJcTRLMSE9Din9oWG4h0\n",
       "vMzKM1hZSaL3WeJlzFTYmcfvPs0gP6+jSkMXfmjjUJ+0vovuflPm9S8flTHHqdzlN2zAdeIAiHI7\n",
       "ZiDp1D+i9m2fqKieEzUjGcaKc4aEziCj7tOfCua80GxXSUBStz0aJpviKtSBO1Eg9M80q6FTTg6a\n",
       "0MMMcIPMYsVWHtdELjx/BhEn/G+4+syFl1rWiWJjrW0Yxzo8reKmqnO/8hr48UTarxGOHDZI08D8\n",
       "gQAAA1JBmzBJ4Q8mUwId//6plgArelXdjRxABKIxuTbUo4WkzF+EGBUB7+C3GcB6+pCBomK/ipzY\n",
       "MKQ4YgEAMHQOmzQlUqU4RJS94z0CO8OmDdrW3ox1bCK00X/sMIffymqb1LJoZF/lf9RwzB3UeO35\n",
       "569kNFXOF/avBJWBRHt/7/8zK2YY7tL1omHE+5n1zoY1L63uXKypPl+p0bV5atZHwXPCl0Kinl5M\n",
       "sbTj68F749U8MoQUnUD/YHSVe7/XWbKTl3/VxjXk88dZ2kNfvWz6En4ziVVGlQQR7Wcnr32OA5AY\n",
       "ekLIefStDdUPF6f97Zl6EvAa7XT2j9KeSKlGVAIZG9Z93Y5jGttRQT3FxcSE+EUx0zycxmTstj/b\n",
       "8C9IuugmqVoOQKMGisHilzHzSrSkwbeZhp4fwmgocdLKgejvX0TBF+kiJGbCE5Y9aKxYRfqXv8GK\n",
       "bPMywBOzvAYJ6Yk7vMolLjImK946VE2cA66AdfJY9DBGBUKQArVPXUV86B6b3/BHLC6fwjcxrBZ5\n",
       "dL234YRXflHuWwb+RLXITCr5EcLCx3mgE7kV9Eph5Qi8VxMxBKOCFK+0hWHDSE2fkCE5lrkAHVCO\n",
       "8uZV+gtpGBQ8OeEYt8urUzKqpho9ikX9o8GmmCzsov6ZzT8Y562oCJW/Y4/PQ1idKWCNP1+go8Jm\n",
       "TrBleV/EUL9Pf07dX3U9shkByPJbdioFBhToDd4w/58CDRY2IFPbQMe6AqcP0BRZqoLIvzUlk3Rp\n",
       "1ry11toz4k5GqZH2Z/a9olGtnoidEEY5YKPb6w+bFFTUkUKolq3IZKpttoCySoYDdhHHM5C63ZRv\n",
       "j6rlDIrFCRhs2tw2ePFV00v+Khy2JmwWXnZi/4HFbSRw7av/MwIeOf+Qp/Qn9GD5lG59wuLzlO1n\n",
       "/f6Qyrs1l8ob5Zt9o/fuYfV+KF5QexKqUtpsGPRBXas3de0KzSz1HiAqXAHtYZLs3EKVSDj6mM+C\n",
       "dNkdCxoqiB/OTS7eGMGZ2gATtjUEDpHvcv2p4bkxM9BdCeuaF0o/8NAqutsZtssZYNXzrsEfqBn5\n",
       "Xl4MGem6niVWTykhwM5J48JZHlY5xuT48PAsrOUDMEThtqm53/va6QFlr5YBahbeT+l7d59Q5Pzh\n",
       "AAABg0GfTkURPC//AHxS/lUHrpT6LdUxVGP06gAfuq252hkY7+Dgt68F7UPk5vkf/7hZFENtcH2X\n",
       "ktB3juN1kTygcTwLStPk3kIToZFxT/8T+F9i1Fw+s8eNCVto11A4Nncx6dT2O9YH1ZxKLVTXhdRk\n",
       "PBriKA8KgC4DbqYMJPN88/OPkRwtbxGu/C8QUSV7PtrcGE68iI/1UF1Xo1VBzDyR3qXjO0HTlX9O\n",
       "r/9wBjljxcOwE27Y5gBRrBExegQqT32tXmTG0iGqH/Ki5+i9Gh379MqCxgUu+kymeOx8rxMYbHfE\n",
       "XbAiiAF6LfDrKwBSFvOJ0PAdtUNj+mg3hMKNKfAO+KgKDHoFZGmUn7VYzaACl8JQiBVab+PNZVpe\n",
       "tdgDcSV+PaAGFT3LFxlZUXxfTeD0Kmt3WlL8A2prPevgPWbmaYYJTAfCj+/Lk2P8YYzZw8QRQI9v\n",
       "YnHkrD4dZ0qRqiox6wxUiT2lDUNU5AlO2j2BqwNJ71JNcvT/u8Hvvg4lMbZMSMONGQAAAUABn29q\n",
       "Qr8Ar14Mg60FYEvAA8jmCilvKlyR7OlfGIIAJ0JuHRRCmb/NXTXPAHWo/QH47AHDhRBCySN5wwfD\n",
       "3MkLFeZ81poAhTp/LEeh3Yw60kMIvlbPNi7Q7Z6k2Q6Q0IjUb84L0io32niWIOlDxl69HUgWp1gF\n",
       "9f5/KkvjTCKQOp1Gqm+aZRr2H4Kjgypqxcp+TF5bohwKxQ7kqEqMGpUi8DkUS4NyijjE/9OJ/azZ\n",
       "eGVf7DROghJfvjQBQQSm7l6XjViqZiyPTel/GkzaIwXDYKR7DSEI9IPz6y276wFSg9vVwGkqHvS5\n",
       "Nx2Yx37ovb8X4CrojU6nb7GjnbkYIj5gYh4QQs8TDY7ZEWm1XAeHbc+tQzG8vSue6XTM71at9+jU\n",
       "Bk/IQ6EzZMGRAXGCACe5ldBJ9Ujylgdqx1A/bnAW0AAAAsdBm3JJqEFomUwU8O/+qZYAK7zzxbUZ\n",
       "NtV4Hn6j0PjIADsSCzZMDwzIzxJB7clsXF6dIMXCcx1GimAiIeTkVi/u4RzFas/4PdHxkWsLW/e/\n",
       "0ySodif84HnhqupZafQbKQ33vjArOMFV1QycKHZmxAP0lsCbQ0weUPIZRGZforIH6Pavo9zNQDXK\n",
       "j3iD3ih6gxT6q24qDLj8EB80pS4SiXgOrf5WiRZRRwn24AhWp70jfTnGTVLK0IL6mUZgxk3vKdis\n",
       "xN7n/EKZKUVsKvCgm8XJ6iD5fgkcpupx/7XT3lh2+Ys5QLsInwjTEHmOvW8gADGL4ysKtU9Bq9vH\n",
       "LrohziU1yWajMhLJDEV6xhH2+8nwr55QAkxSGPeorAKiKLUvffA/KZCC6TwS2GJJt9/vfQoDeqZB\n",
       "z2ym82WR4rmllDcyVOhpUKt2NR94YpdLK70otqNXedymRuCRylTVTwEFCw0WyIMSp4zZfEFgx1uw\n",
       "buKPVyIVzfb6j0ttotLDZQ8BOLRfBygI5JAxyr3alNbpH2OM/n2pXsW5BuEWN+e08L87u073brws\n",
       "R84n2cL3j3qObTB1cZlzbE2F0NZ2vNVa3+H/lcKS7sNahu1RU6iydRsuga3bEyZdJo4GqH34UNOr\n",
       "6nzLx/yc0RNOdMNaQP25q8hvJbzTAtIW74oQvxCddIrtfY5hHeKf4Rmv8NIW3WU2fWPPswo+l0jK\n",
       "wSariAg2bfvmAXD9LizcB/J+LxnxVLx/6kcHG93qWb5rzXZ0J7V+v1+5IUIqaMYTtmun35atEIFD\n",
       "Mohzm56gS5QHP2mKxnvInNEQYB06oNqq0nPKNZLn1LL9Av+/Xw4RAAkY0muSmOSAv4AY6V287XYq\n",
       "CUbdjgNtkv0+b0SzrefhRTqWXD6DShcn3+U8ym5rTqpHIsCHfi3q8JDGLhjMXFGSrfGmtzMyFX5M\n",
       "q5MAB/gAAAFLAZ+RakK/AKzyFk7+y89sCihDoeWp9U/+YATtBvJ9R4W8T2CeCDshPfT1cNemUOe4\n",
       "XDEGvUDu/RmDie6W7QaCPU3m2MDNF03eOOYZGqj1OHUh1fQcDLvZ+8EXWTFH1eO8USHcMK47pbyM\n",
       "7K0Y7VqFASVzJqCcf55S/jDmDuq/BUw8bX7hFm/x2FMZIpABh1VHETTtapRGmhhDAsZZ6np/85Pw\n",
       "2lDsccj2ogqUdf7IdnOxy1olvuUuHjVo8oelgZB50IssMdjz7+u1/dZYTy1nkfGklRUsfBZM2D4e\n",
       "3+VqOvSi2vKeqYzhlAFZJLwiKci7u6BAwVY8i3gnukFzFwEwxc+Um/H41QRAqnNMYWJeqNDoWksr\n",
       "nbF3kXndeS7MmidoDdOwfavzzG3GZG0Ixq20SGdeDAxNKGv9ECcQqb3kFfPQv2+Vh1YUXdrA/wAA\n",
       "AxdBm5RJ4QpSZTBSw7/+qZYAKpwt8Hn6+4AWyFJcgK6kZ8cuMC+groIcHU6A7/jfslD2m4l8OdKd\n",
       "XQKx2MvGBUPJtUZhLMZiLC1GeKnkN5Flh6X1aVxGzh2aHjgj67qy0vNB3cmmSQqj8JrT+FTkKr9+\n",
       "rf8jnlK4txGz2Z6QIPI8yvWq4oeO7oqnidGdYJlqFOYTKRYXKlAiD0RXJCyhGMpbDP81A4aHn6ZI\n",
       "zFOhplB5xV+vysb5W0DDJmWvhEQPkcj5x9HRuKwNOE10Fv2gV8uWG2l/V0dwPhMu3ZCfz3134/kl\n",
       "IQSPF9JMZJwNuofVEUKBU+anWnYwhV0SGXj2g76YqzFh3tCEdL2WP2vLFKfJ52Q3tXQhIsOPpLH5\n",
       "xZVnRR0TagN9A6bMowRfiBF+n8Mf4Ysm7KYO/5Ak7tbnS66Dvr5QnL8iULQ7uFv7ASKiOTJz6Lw7\n",
       "Vtw24yf3tZO+BGKFPDU60fvCeWhWXR2LHzpahFXF1AilOODI42ysRR0uPOZ3CB3aidoYmCVIIes3\n",
       "gA0tzbdzu+yQJR4EOh+9GVDahNHqt+wt8KXoBZRPyc0aAxaEG7ZkgIDE8zaqwjRmeJ1fUt98MLte\n",
       "08fNO/UWghjTmmWC5Gcve0jHqWWtqZdNBBPGJBs24f4ZWENgpcReLMXOrpANbxtFR+DpA4eyya2J\n",
       "7CM1yl0fbeRHsE11DX7KkBrtq42VsqDq7cc/kGJd60yIqZGXqbqknraF7I/p7tcc3ySyWL1ALUqk\n",
       "KvbiQ6cYC8wtAN1kgYBCXIkQHRJyBh6IYP0J8gv8JQlZWlLohCAtS+LC0YdoV5PrLQC8iDv/JNzh\n",
       "e3Z/3hpA2Ncb1cNOOrMORbZZJBO6MlMNFB2ASCicPeSQGCrmILfi/lJaoK9I2EoxPYEED26nsE7N\n",
       "S6tFbko0OyBx3YO2VI3aLC0+LAaJSh+dlKU/99jhAzBdWoC7JIMc0SVQjP/IP+5LFWlizAhvuRe7\n",
       "HE64+wV7jSO6OBcYxhDMxJnaqZARugxX1lK8iMh/wgoCPJdzQ9NVXxn24YliCYKCY6A2YAAAAWgB\n",
       "n7NqQr8ArLTb6f8dZEwoAFxf0zrjCN62/w/228+cIptZK8Wg017vTqPz5mVw0MMsqiHSKUE4fiIG\n",
       "SNFkfw09Z19U9O4mtqVQ9HOJ6UWWBEBJ+tFDVvWSmn9WdqjcFiimAg6pM5qMv1XIDleDzfXe6iR/\n",
       "uilQAr7DE/yGaGBAffwfVXpQBq8jnlmCG4eMYWSM8/7uX7Xh8nvJt0uqxL/Sax7BTmb0QOeWgRt8\n",
       "IVkwHLYFrQ6f5AKFfmeFToE010agYsQ8XOoBew29/nmZhNHmbEMMQJ8cCLAmTl7Htvz6WHYGHieY\n",
       "otoyiJ/7z4xg3Wt/4yJGVnD3xZmrc1CKB7xjRS0LBaK6UsQLXg+84wzprL328Tn7ciofeDWqkx5C\n",
       "vMiIhCnZHhdBwgtjxIvr1+Cn1RyDR6G2gCKEfEABkyFu8liZAeshg8KX0sl7WFoilzGmhuV5lEgH\n",
       "wej1+7H+xEv3NdFv+S7RxiwAAAKuQZu2SeEOiZTBRMO//qmWACqc88bMWfMLiR/wAc2gm4iwug8s\n",
       "Nn5NK3io+9EW96PJBJZens0d5A0gcZUivB4TwDTIB+60hcN1c74uz9TkkqnzxZnTr0xetQcbFPbh\n",
       "TNQ4ICN7UF5GQT8ueYtUnYxNM0oCwzfjuW2Lx5/us3Zvv/InBiGyXtzsT2YDEnT7HhfSyVOxV5QO\n",
       "IfDkZFfFDdHCVfwOYZ9ormRTsQlIKhFDGdY5xeSwkro07XcZ/WYp5f4z9r/zaHemyayGrmqROODs\n",
       "hLW1drc+eE7oYY5ngFO2QpbQ8VvQ44Gap/cpPb1dFfTN8hZh6VZaNP2t7ZkXqWnMTcjgKTUDg2ju\n",
       "+g+4a8ylCWdYDyCCkMMOEwmdN0kfAp/EHv15HLEM0O8O9WATnuCtuFwn7qk05CCSGxAGT5V5fohC\n",
       "DllAipsFqlpGo5pYf4PcUaXnpm086cRcx7JZQucRnEXXpBaWvG6YYsP1vHQoWeXqWI2+QXpMv0Nm\n",
       "x88y9abQPsigPw30OQLLCLQ5UCgELKzPH7tiSbqI6Qvpi7jeGe0XVzpE0fNhOOCF29pUVNGKAGcj\n",
       "PNNSR7pKro5BOa3DWKhHYpuuusxRjfYd+Th7pJKjRz8iZzuWIlS5tqQrTwxbm7KYWtvQ5Q3oDFej\n",
       "36uweFi2LDA+VQ1UNNAdHT3BGAMCw44b2TXaZkUl2UedceRLOPtZvySBh71PusCzDnWm8pYfOJh7\n",
       "23xSk6hQhCVJrbK84SA+vNDTLqhO3BQOgbzPG4IfNNiINSHfM3toGJngesLplr42qQ6g0KrmoxQe\n",
       "H8F/8PUfC6O4AK2waYad3aaAb9csnp7tKdDjXRa+JrPFbY8cxbl5W41Kqtks02lU3BKW/NtEzAaj\n",
       "oD9DVrDE5XEi14IRRU8Q+q5+nfloWjEAAAEyAZ/VakK/AKPyZ1sGrue1pqWOdSX7Sx8KgAB/IEst\n",
       "EyHZgtWM62ZgC6RQSOaCi63FrSV4E/n67SFlnUWD+2cHx3ZkAhEIvAWKrwOIDx7SHAqBDXKzqUhn\n",
       "eMotrRrcsc3vYg+QCwfkIj6bL7ItN+JYhoc4zc7UBWx+uPd2B3PYbkGnY5Me8OfVYmnhjBAPyLAw\n",
       "RXb5nIHW2bvCN8oiq1uAxIp+fOvV1pkCLhKD/82ncEFkLFDtc5w4JYDGjVEHrDa3D5n05XI7iVJg\n",
       "ByTg0VlEInFM8EUN3BB7pkEN/Hng0BK82h9LEtvIVrEfeIxGwmduVir3AOANAe+DJXf4m2YmHCLg\n",
       "OIjWr24GtllbNS5Na26yDmxQdD3SFm7XZgoM5oMqqKHoCeOSAxN3PGZ8i47fsFJAAAACyUGb2Enh\n",
       "DyZTBTw7//6plgApOipXmvQAPzYKE9gnrAvoQNXYin2sXbnXTKnABNRNZrjF3+Dq385mTk3gtml7\n",
       "qGIgh0mJkM2uaYn9YjNVqWeWrDoUN5tl+XEHDs8vtGBDA2MjCIF/+k+2HqHJZDnjHBlzQ/u0HcS+\n",
       "AMFtz0STDUkZNX1KauKARKuXZscJ/NZ2a3vCu4KINJEXwO+50MIt0tuJ7qiS9r5bQT/m1W3Il7Sl\n",
       "I1MMM9vQyzZnqsabw+OLI72L5UlArf2FKskhNBUgmOtBx5Xf/g4c6gHnfsZu/+A7qK/2c3PkTH/7\n",
       "/ers0V0va6PsZCgQnUIBlVwWiQYYeXOKl5LBxhqwEGw2RprB2O85He95Lbbyy0X9bJHCw2kc3loQ\n",
       "UX56iEVINqKF9j3hYXJOlKeGINZIhwNOnZxJSkOVU7EbNMCdeORIE8O+QxPXv6LeVeQMdKY3K/wC\n",
       "H26QVpeo5IrYaGmS5rXpVguOSP7jS8AmaS++8oYViBUjQ3f23Puu9Iy0d7E/TJOwxTaceDuWx4JH\n",
       "E/wiSlMq6TqUZ8mPQi1BbBgEAzmx8RFQvEglwSo/19JJcPx9rLnHu6LtWGIZXXaZM5Jo0jRG7OHK\n",
       "mGquNPRNKZwLbhTzJS4L0sxhEE2KTwqA5JOq8xXTIAS9lxs0ToBYrER0Oz7aXqXp/7ay/E0h8ttY\n",
       "OJXwNCGGXy/CyIdut3BjIFjZGqLQ2734l3KxWCt/eQUOpMjQMDOoMUUgUEhn+XQL37XvHad557BG\n",
       "Pl8cd8bnPf58XlWOcwzlFxAsyfMBb4Zcc3g0e6Vbz59mONggsaeDPo+8sjFDy1HV5fMmuNo2ReiR\n",
       "RLCm7oKYPyq6I/fNs+5Z/gm8+FTAXktZcqIsAdN3GuOq9x8Lt/bnXf03Y1M13HgmFNyCFqKRsA8j\n",
       "pvBItw+ge0kQwqegPuw/RcNuV3BVfdD/AAABMgGf92pCvwCj9OxE7voxlvE/gBNVSWxngObYsNyP\n",
       "goRrMR1eoj22nHlkV7GV+TVq2YOxP3J2EuBOb7oxVrDTdvW4mQ9dz2A4uWmxdl3EbRBdeXXSeXeE\n",
       "HWWL2p1apLPeEI0xHhGu6WK2q2g+dFk2ZfQ+oiWNbflU2U8DZc+ZD7DWB+jzOg3QGb5nNzV082Ti\n",
       "KHuU7nyJcdIH32LpocwICPDmJg00RFzdzNQ+qz0bdrqbnIVpF3f88fY/pZb2OA8l9yG9FNJ1wGoB\n",
       "zWEH3Wh/PkeoBJNCZG332mxQHuzsSe8nwyW1l1N9uB9btSItLnhEYEiWk85SB8nQ0/57WjgwKpOR\n",
       "nTAWQIbn94ghGLW8BWzUoG/2QX0MhVcFt4XARHKlhnLC6X05kkhlZmXJo+AkbIZ4EQAAAvpBm/tJ\n",
       "4Q8mUwId//6plgApfPPFv806XE1Gbf+aj2gADtLVmFUv9wy+0/7b2nPofPOezvNmialDQDJwjz1S\n",
       "RSDi/QcHKMukJkjscXJ7EflydOvofL5nYTBZzOlSyzatPMDAq+58GVxY9xYKhcECb5e8NgnBs/pH\n",
       "SiNHHMiwsln727vTxyNS1QEUA/DCxBhUX8lulq/ADUVKMKac/d1xIoI7UG4JkDW+awkp2rZnoets\n",
       "EcybVFYTrGfXZ56XTBC1P6Kj4WKfZdX51IeHC7PK4Cs5NrTYLKi6vigPDKW8QmF37bAbnRoQzWoK\n",
       "5FKkiwbb8wQi+OKAQvivSpSxkJpAVew8KvIsR9U/Mw8ZBVFpdkYU00J7K8Yik4VP6hFOoXEOpPMS\n",
       "SHlW/945uWmOM40j29mc7Bz9HQgwnKgQTcSwiy9Z5ZS5rKJRk6Op7uiCoUrktl1SXDhbp6wpDiFM\n",
       "l9BvPolrYby1o3YiH+wKxAd2SAg9QbX/9avq+JIt1n3POEcUjx7Slx0Nn3VTtjwGF4imizxv9S4A\n",
       "wJvNoVyCM7jxZABPattVgMiK3/L9dyMawGbJW2vjTeIYMiRX8YijQcJJPdehX27V1tuPGAGbRIOC\n",
       "69furWqVPOHm/tIRsuXIX2A81ulJmasxyc4E4U2dWcmi05tB37KcodnDe3savQwwwo+oXy0h7zBP\n",
       "Naae6zk5MLoMoCAJfJ0VuTaHhMRi4P6w3Lld6nlr52QHaW0wbqbO9OpUi2EcXxrqtCIFKG5ERaly\n",
       "qaJpKTK7K7gCxXNebuHKKqlfzwsmaXmkg3LFLlJzmN/4hzeP+mbejhDtqrZ5+iQTXTMgF6uStNH5\n",
       "/FXglsc+JJmgQ4BJ+rlBwuvzMHtadOum//QJRWNX3RqU/aWwKcJ3CQ9YH6kosOWQimHi1p/MW8Ia\n",
       "gxxjWo99ZiZ1yNUxWrjACSDYZS227ziLOVXq8YRj9Kr0HOSDnEfa3MDAGH4hj2Jv9kyPr7zs14ce\n",
       "oHU97qVE3VuY9nIhaM+/CbgAAAFnQZ4ZRRE8L/8AdtwHh3X1AKSeuEyz05S2eX6DQnPlKPf7no0x\n",
       "jOFdqConXxv9ag0snnNFW989EcjniIQdfzu63gNqAOOMzUOs6CwzmgwIVA7BrHQfBMU1+LpIhQ7f\n",
       "KKzFURsWgf9Z5yzzOjvAvDfYqqQV77s2OPuFUY5WpyqIf1k7NlKGwbmmddLk27nq/KEC6p47WgqD\n",
       "vf/s5a1qjRzO4VLnd1qH5UnfJYJow4woZcF7K1PYVs2pri7Ncn1wQfxePpz/RNrouZRs/PBUsv+N\n",
       "+G/vLgz1ktcMltKKjRNaGmb/UMMXVBiwUL8PWQSW6WAmjrw6ZIojMwzgAuLccROwM4848cITp0h+\n",
       "JM4tGYcRD1lPINa47VhzLlhY6ZHIwM0ruNpjdT1EwoBV3prj8APyyhcuQLEYdeNxnUzEPgHHLeUU\n",
       "0OV0dpkS0R7aZuc/aW0IC1Uergy6bkN8ee4y8NUws1gGAK/Ek4EAAAEGAZ46akK/AEFj0ZmvV8Qy\n",
       "4AJvnY6D2Uv6VuCQDPln580sWN/oemy5nxi84ggW31oSz51+kcmxCDq0GTdyzm0026i8s1Nrs6PN\n",
       "OhaINDS8lALzA/0mUAiFdn7kAY+gPgRKjIH3rf6p9Djk8uw762xDu6P7J/CfK+KgYPh8GlQfRLe0\n",
       "kc7ClYnX8uxefAEIOUlo22FMcpUZTbOFR37egUAkwePhjSSMYgY4u4w/YjR+AemRfck3vEIumXrI\n",
       "8FIkfKZ4Z/1ZFyXtGbmuHE7Cc2ndMPvOdBUUzfNALv+23VRfI0tU6NS/VBedVm4mnxBXMca3FLeF\n",
       "IQejhkIbGDUjhhl1zs3FdCUJUAAAAtJBmj1JqEFomUwU8O/+qZYAKCKmV9lQAXUQnqgMZZ996FCL\n",
       "HrnYqZfJX7Tb9MASsTb8A+jbXK1zcCh68hx26x9XVVdVmJgo0keYOqF5l3MNdVAW3yNDNrvwKC7L\n",
       "pQzIKWuJadmkl7i+LYTF+xWbBCJGPT3SQMmWPIR6MejahQ2lj60l0cQkZO8/TqTPLGY5LMS0mQxz\n",
       "2TkyE04RL5uJnFHqU/EYRhwtbcIBPlTe6Hih9Mj4wSHmDJDMv9D3hTVe42PHzCMtJmhhVmVmOCcW\n",
       "Th4A2DBK+UyNKj1SHxYTC28BSe6e6RIDI2173Z91vbVPqssP8JE1Nh5I1Bl02v1secNW1OvNOwEU\n",
       "rikWGkwEQ8fTBBLzk5rhhrebRfZ6AhCnMVCxt+lUv9ZkE8LjzQn2cdpNRXp1O89LI0wQ0P0B+lZv\n",
       "BJmZvBRqjdyMhgUaUQwKWalOdCQH34cVh0C+VuD8cAEzKvJ2cprMkHMGA6SrhuJJ+rhFoYgkHGW5\n",
       "ALUpyrJnZUAOb+PZ9kQuJ/89DBBawm+n8MbktTKD4pr5ss695/l2FW25adjYCh3suDzzib0gQzFn\n",
       "NW+NrnqtDWPfNjKs11DyyOQWR3ZvCY0YLJ4+YG8GVnLdnnnnOEGZbV/rzLXbP5A/pzFauedQEgnu\n",
       "/N7gKjhZVvmf9WyM7MPDxUgpBa8E8sb2cxeEeprx4RRy/qj9cMiodWlDSCUFN8sPRtjjsds30zUJ\n",
       "dnN8pbGZm3Vm7REtc96zNUFLkoSkgJIC4uczOs3H4KUedParDkxF2h80Viyy+wsEblhQ426CDE0X\n",
       "tfimbY0lNB48/xPP9By0I3hKpHR80cXC3WWo++jRtSuOejylsrq6Lrp7WXxY2ZqTsCaUj7Zd24jg\n",
       "iZin3GW2ViHsDtZfmdtw4na68kNYRubzE2T3se5MLbNHY2xdPRHEEKGWIT9nFVSuCjce5ZVG5ENB\n",
       "XNok4QAAATYBnlxqQr8APzh1JEsLwlgAuf37CHUluvQ3i6/n8Y7NITo+cCFN7A2HM0JJjBytTfMm\n",
       "V6lr0HBXt/5//99q94AP/g2bkFmSpeBkzlsqIaJQFGs7SeWu/lIYFwc7D7Z0jeeoFoa6reXK73Gv\n",
       "biTGv0LrDnEcgQlj2g4QF7C6yv8g3/5m/8ED2w98b9SNpneDqGy0puBK0XapSEvBTRYNRxx3VLzQ\n",
       "LleajhXzDpU2/h+DJU6vNRzJROPwpRvtNDWHXEdKhwg5GZBGetRJ4cQ7ue+oLmPXhp7Lqd3RMXLd\n",
       "5828+kf5Sw1OlSVWy4EC19z3i/2PyL1fOdyejePhvEiEtADARhpq1VVq7fIfbPOxWsIGwTA7/drE\n",
       "4whrSJEi20Z8BQJjuPIsFvnVAGMj3+cloMuwhCZzqt6BAAACpEGaQEnhClJlMCHf/qmWAChfKKuO\n",
       "3nGTaAC9SmAZ7xPUoS9PNrCAARTLA9XN1pfQPCn9WL2Wv2X4FXnFJnppdS4fo/+QSBP2ZnSxCcPj\n",
       "Ge4mXh5G9SDIyTSc2hQg9vgv72O+WzPF+WY57PDB6Kou8E4kQQ46zYASuzdL2clGLRUOOGLNrqF/\n",
       "07uamlhQBFc7BLNEnkIpNUgPC3XtVSsNmdGOFRLGD/u1BLv8d3n3EZyXIwvTJgHGkBZO4wrJfDky\n",
       "g0dqGdA4qYw7TOw9M0cItmc5H+wEmBibXgQGhnjo37UHiNE2R9uKBrd4voMiBqQRXUm8lqA/mtL3\n",
       "Vb7kDBlpoF2aP8rifVkS56yYJKus7oYWW/nulsXiHdLRtSbjrlK1j79/QnuMlYy+K+98rvcE5ecx\n",
       "nmTv71mrafdUpeGs40BsmYKMh4mZjbRpMwTHICBtMU73Cg3Fk+mfxmCXcCaYuQaRvF4phbpLErGY\n",
       "x8Mw5tmSjOJbY1t0UJyPO5SgCvGPDI/dQCm7YBuSuNRZLL1EBl9ASCfU8KrUQx+HA5A1xweuBi4v\n",
       "/KccCtdO5wXKZKttjfvIud1575kcvtTRqzknx0Sn1NtWTIeDEW8bLqdHi7bda6n7dwhr4kw+oBmb\n",
       "5v1i8nraPsGoM7/CpfVu7rUQwJK1vlBs6E5kWuKv41wseKnCpfioBR5NyU9h75+1AcbXCShaMeR+\n",
       "OkwxCaH47WSRD0bJcHVQz6tcMln3PHqVljWWoYnNa07bJ759FWBroupNq8O/uVz6R1+E7Hhr/kc9\n",
       "AG8P6VbASh/m8lWJjH4GKt3hpxCiVvtqITNpJjagzob0IABrFoZpQRN35vq47YNyCK575R3LASAz\n",
       "J+QnIS6FuJDVNDJMOApwy/wCruHcbqkbKUlkMCAAAAExQZ5+RTRML/8AL8FgNfED+GuMgAfMF/jD\n",
       "XCBhNE5ckOhZnPjEQZ6ZgWWFLfa6Rcis1A8Go+vKYgCybgbmQLBSGhBc50IcaXkQD9L/EtN+rfPW\n",
       "LVycp1oP6BDX2D/H4bYPtRlFeLKgmOhMB+EnAaPi72Dc3yFiyiucKZ+4NTHOwBJPJDkfS3IG/zz4\n",
       "rrTswOxT5DnVBmZQH5jHJClVX+yfiQMa+KnSySJDgkVKcSDm6MP4yNaBcPSXnBq+AW/jnt9KUX0w\n",
       "gSZsE+IFe3OIv0awKtbSiVnliYCsMkkjNC3H4rqXjZu1penf0XWsxlfsjrcYq5Ixu83fnteZdg91\n",
       "SrJLFhz4xSGEwUQrkGJ/ZKUb7VOu4H36/91oZzHQHmvCNpx+h2EA5Y2y7oAbIqAUAjGYxYAAAAEf\n",
       "AZ6fakK/AD+AELryUI5O7PuAB/FJGoaXVEAlB6Iy0anYL1yfbOsSf74u7432aBL2s5laoXahaby2\n",
       "+Gq3qvwif0mYNGT25tq+yxzlIOdES4LIwEn7BGea2SafbZvxF8DrxMhxMpF0NWGZ7oBC26zT2zgN\n",
       "w7YQAAvN10cZFdFGRZ2/UQNZTnSE3veekYj+t5SLOPg+r3PiQd3ykj3qrrz94CbK7swSEOAnZXlI\n",
       "+1ZAU76Uu4m46mrRVP/YAAEWcj+felo0o4w3Zxu3ZYtbexYwA+/8egAXIqZZd/iGkrYpHLng1+xO\n",
       "gEk64qUZclPGp9dXgdZXly+gZ+LmCtflQnhj8VXlZn5WOLK6zAD15PfczXGCdl4EtUAECrb3noFg\n",
       "xYEAAALCQZqCSahBaJlMFPDv/qmWACc8r/AjOpP3QC6QzEH3uLCx1RgHkNWNTMvnSUZ49L7KV5LR\n",
       "4ELBoSjSt5/DzZ3Nkq3YtifedHYxyFARu1nDtu2CfOf20ToKk5OGKfWA9U34QZ4ArmXnq4N0gl56\n",
       "JAPPWWZKgIL/WvqWH4+u3TVCaraXkzq9ojSbNXtBNRvDiPCItovKdj8ttQ15IAXgvTsBdmMYUbpy\n",
       "3VDZdc6BwC7PXlmK+vagEZ/o8p8P6dMijDcNl14NXZLnmMZqMHvfawzgBqm3pbXOUouTILknOcCD\n",
       "iYpua5wkDNzNcCaGeBg/+uqj7MItDgT6/s57f3l51JQfu78bGLkPvOD4DJ7YJhJSu0e78c9oQ1Lk\n",
       "Qjh2VkwqvDx+Op96cXxobu9g8FbZ7iFJ56xTC/bJC+wFXLee2cNdCz+SiZg9V2I3M8Ggbajt5ai8\n",
       "i48/BYxZKydvTPk6WA0OfkvfBB0rdX3trlVbCx6H9aZBZh5fBZ5UYkya6QBQfkFRElkdby+jnjj0\n",
       "ZxnL0ADtRzQV1Y1rx4AlDelctvEGuds83eLDGssKvTrQ2FLFlFsW/6xuZT2V41zj8+EdShMmuchT\n",
       "sIl1rqez3Z73SZPUyp5XREvV4cEXVJ0DGfw5WeNwXOlEuxdrcMeygu2mIYPgv8UgvbcHCzMdfRxX\n",
       "HCwz0QmEGXBIX7qVQ/cf4GpAitIwfRm48Mitaq8XnMiDA59nCQlUJxsKoje3cCeUbhb9Y6yPhEsX\n",
       "WVqfOiuE9dusht5lJ0K9P+3wCf8uKleBMPB/uL2dI77FRc9w3dEfrpHMG0ULSX/vnJMB7ELyqBQ3\n",
       "Ol/DR8Tcb6wUUKrnPLuvZ0fuupheUV6hjUjUp917b179av0Q1ttW8FwKmIP/f6TnftA/RUNRgC6f\n",
       "+OYx34/s/7oTRmlUHE+kRE7fppc1f1h1oSkB4QAAARMBnqFqQr8APitlPc4AFs4tzUDP+PHo6gk6\n",
       "+34WyqHo5uP40wKUj3tXMpvoHgOFNKkKp9KRIUiU+70WOBRRr96NG0bJJcKyKRlioqXKUGEAV0Vp\n",
       "3rxQsJqQfAjlXjynf6+3+z34Rqt8tVEUkCbpegkos3Q+ttFLQB0YOOrs29Udg1bMBQaO+9i7WkD7\n",
       "UxDzY/la6sJtKhVHWSYWVUtbdL1EeigLtKlUmB20UObrYwg9xVu3QDxyUWKdAlPIS2T2+9KPoQHU\n",
       "yYLkhKH4mmH40eLmEatTPtkSfQk+X1/V+EYRGkZguEWMWXXP1lnnJc3Yu/Us4rCk30uuAlTzd8uG\n",
       "eh02rmvpZYR0Ap80++MrKcDaLvgB8wAAAxhBmqVJ4QpSZTAh3/6plgAnPxoeLjLZ8ARAgvpruiyq\n",
       "26i8p7qmuVc/XJv/v7iEckgIUZs6danFQ9HBlHwSADbNL3bymgFxQLiuNYEHcbOW7u5F06T+mlc3\n",
       "khLY4xg4/M4nHJna8OBGSbr2OISxwtOf70Dttstg9i1tvMn7uj0wndu7hZhOy+OwmR8OBJQPObTV\n",
       "IB+wZL4yegJ7qrDDxMHDHZCHNXXIr7Jo9c477Gxepq9g7n2G76oLv2Ekb00cg3sdkhy01Iq361/L\n",
       "hpJTK1374t+Nl264hmUOBnczB/4ohJlD1vY/FeO0mWnGde+J/uuLlmnxCDRAij8fow5VlZT72Ls+\n",
       "WCMPzXg3pX8nWjSPvuo8Uq6IzwqUPUfv7csrfKpgvCvIe2G1wOqCRTcrG4C1WSnw1zERWsHKeo+Z\n",
       "RFUZgFQdfWQ//pIKiw1EI61YvFv8QWM4o5pzJ7zEwiLSpCoscB1h0pEnxYkzpnpU0FCMOazDXC38\n",
       "/STCUqxbGaSx+futFeE72lX4WqqjnKWAfPOuaslWMJLMHohfCBQz0KXmkRfcqdEc2fCbwXuPt23a\n",
       "HeHecp0+fx/JqikN3wmd0h3YedBzQUnQx4WAO2RDeCoPxqrGeXmVy43/LnrYHEGNUSIP4cTgXhuy\n",
       "QnVP/zPXsgWQPqKSx85oS+hb2zLMYTUNYkdCN+WOhwlOnmrw0oKgdyP2YMjEAFSP4L7vonBrrS9/\n",
       "sACrU9hBqdgdB1IwYk9xtaE8HUG/NkS+ztFdZ018p6XcEXGTPO15PUcF2hzlEijsMAkR+eFCAREp\n",
       "NSSCYjLKjDur4OP/95j0z2XlMkV3NwTEnYbiFt1S/cGP/OLU0Tp9uCNmo/VeNju2TOzrBaidO7x5\n",
       "JJo6kV+KZweFpZft+3MFmzngdb+rcFJWqtNANX5/5kF5NtsjbA+0+tTGYXP2ZyD4VXyuHA7xfcmC\n",
       "MEqp2EZ32XrnjsXUKjskAbR50iyWWE1pn/vHJN21HDn6gbXwj0ek+IEWXF2eXxUtb9SjdycyF6Yo\n",
       "JHruPZn6ybPXTJfIMf/E30bDQTMAAAF8QZ7DRTRML/8ALovFIjsgAlqwoKDr1Fg3tIuaIAAcw9ID\n",
       "QMDg0FUnsLt/kzfk0CsKSoot2zVMmppibftYkW8QzHNu4mUyGwgb5hHFXC1yXuuHhSBY/d34LIJX\n",
       "UHAL5pPknv+N+RKqmbyqwEV8Fwa45xNPD0HEE1X4K2RDgFIx5Gy+ndqL0HEmsjY+zJnhvJB7wP9p\n",
       "v9OqhKCuMJGbgvO1LF7opS4eGVAS/o9bdtSaeFk7Cdn8XpI6rQCdeELMaEVBL/QIckHPYoix8KAK\n",
       "GoO1bVWxzlgnt/h5421jL/EIKMeeMYtluT2NDJ3Ey9qV6cYshSi9UPwbLIso024m1G2aG0UW/0u2\n",
       "6XCnFu3OSyMpicyfwsQVVqY3MlNjuKy4SW6T7i0y2tB22d9egco/bTlEa0WUaAhmuLLssOdV2Gv+\n",
       "kxWhILbX8kQ/bxKw/hV9ooX6sxdTY8IsmMDBqTrimDEp+G59ycKhJF/sLpIyTMakbMzINF9Kpyqb\n",
       "ArRAbMEAAAEQAZ7kakK/AD4gLmt38g/wA3B7x36G3DnNyKt68sCq93PNOesTgJh2dhKRE/0Vh1Pr\n",
       "M5NUfxdzSu7ipiWCAvueWH7PrLo9K7OyNPz+7YQj1GrbMhVpgFjpy0hS4nRKckDQd8lqSX4K8Znz\n",
       "ElPXpkwgM8SVZJtcD0K63Sijn5UBt+bJIG4agi9Vg59w72u8d5rXhGdA76h2Op7wbFvGicndFydG\n",
       "MSIQ62eBeNA31uPbusRhhL/JFGlB3BUA6Tr9kssDmnUAxxhzBP6andFzYaudPNPNJ48hx4v++ItC\n",
       "AZMO1M22FoZNa4CsBVzj2l1ZT+C1fyLQgqXnH2Kg1VA1eKuVNkwkBAfNboc9u0LErJCLUf8AAAJk\n",
       "QZrnSahBaJlMFPDv/qmWACY/JRm6GQm7h0A7+Nd1/tubNCeIByCUrgKgVSZ8kIVefbdpFQYJLoNO\n",
       "WzRm1twbkN38x7F1Im8Wprjf4nKg66neuQ9vDu6CzFuLhf3g48b9qWTwlfKJ7/7Rw3dWQhKA+4SW\n",
       "MBqATPX5ld9/SYJC2UZ+Z3UFpvhtzz/JYVjS6m/yFXM6N4O321S8y2M8f8Vm8ySwaveV7Hat2yv+\n",
       "lcDTP6n3LzBevwaC3dM/MvQ2ua0PyT0chPTkm5l72oFVAsmE7EcQOHQIqE4u0aBhdVBjA4PzTbqQ\n",
       "bTu8shmsCi4csAvOZ6oZ72PhIm3JcoTyS+0G14+DjyfBGm+5xgz5SPxBD0vJ2lrN4dRP2XG5GlFe\n",
       "M7gdO0iEtggOqOFHJRvk3Hw5tir7jRCXXzMFkC9nX5yrFnA9TDbLz+IyXf7kZJJaHfjwvtEi0tC7\n",
       "3feZWxSRKJTlRC/iAkew6GgugSMUN3ZIDzxTR6uSgJiqQBGhmgh7f9H4AlRfKJSWFpHu/pNn0O2q\n",
       "riAyro7fUm+4sYoDhpaNUquKhvNOZwKVeTdMvVvZaS/BiJMSlawVj6fM+gjdSM1uUlneSjVjdUqh\n",
       "3a6vmbM0YyLXb54BfO8ddEYgJNF1PXVb3n4DkZXGmkJl32GTUhmlFzqipLjNzu2T/+zLsgTg/j48\n",
       "3riI31KEqVNn3nn+6HGDDu6R1/F4JC8TJzXDigDyh4vYAff1r5V8Ji49lFRVsL/cBUfimrsJB1r0\n",
       "++XS4bhbL0QHQZk+Ve58Tg44uFz3U6cvct728yhojFmuNjuTTnZw4C2hAAABGwGfBmpCvwA8KjiJ\n",
       "+zAfE4aiWX5nClEJO2eGIyXDyk/UUGGzwh7MbaDNvj3tsSPoQYHmSiUMEPxcOhI0a97weaGYgFJW\n",
       "RHC/Mb2ClhHXqqR+uPz8jPIQ4W4Ber7O6hVVg9j3p8I8tVF0pzdEx9deyQ+RYZC1ytfkX9NJRvp0\n",
       "ErQtI4NVVX9aiou8izI+dSdsQ4QF1LJ5GY9gaTMsCQw3SfHQCkjnMXUdIC500oVMfI7OPaTSsn04\n",
       "uQblSXCZtf8v/Ig6KY+uxSnpHYQc6aofI6q9vP6dAMEJkHY5lYC6iJMDohfYFK9vn76Ph7yOMy77\n",
       "kiyTPu78sV7lCiknSEAolk9ZvBie0Gl0S4ADSz6eXFFQKCtGXHbdd3W5OOEAAAJwQZsJSeEKUmUw\n",
       "UsO//qmWAA7+z/gaN0CqIYlcY9x0/BYv9DXIaBxkacEMdpekKrlaq5iK1MH/DYlX5/Z9hEXjaDGn\n",
       "A39o36ncb2NSv5kFzDHmpvD36FfYOauKrvNegjmd8OC/xozSd3QE/lHjjhNQZ/j7zc21Ma+cpBQI\n",
       "+09UNKStyTIpbaKgR7hNSPYyVnb/FITqlRuBjT0gOYXY6fZm9TQLNVih5eFm4/2UYRUsrACClzlx\n",
       "w7mrKEC/dPbGxKFWU1Ns6DniP4mej/geValERmMGcyEJo8xdhzbp5GSsG4ZT/sBAUP1GgMR7y+72\n",
       "9YAf63KPrJh3thXB4U6t1rs5z2S7HD7YHkZaf0acLOnIuvQnZrEj0+U7yNcOmvcFP8VSK4CBqBMA\n",
       "CN9lOsG1QEbyTQHewM/X3orDAzqW9sYYDaY9Aw1t6cio3KkV8SdxIK6WWxpmNYYYx7py2/ULuGLO\n",
       "BB7vPlZHF7zVHKXzFL6ra2hrpGL+txNdpNxrmgUk5mMffVnqf/XzABglTcfO/TBLML+hkeSqlmIN\n",
       "+hP5EViZKjJdsZ32EmHuBDStcXrvpHx5Qx4Lxll6A1o1iGji6MM9z9JIIbml07K2SUyJvzL0frDO\n",
       "9GD23/4gaTT6bD5i6HiyTXB+ahec/SVnAIfjuofz5loBdGxXPtcM4tNBPV2Teu4HWr/koKXQij9v\n",
       "vefNmcv9S6rT3YwjtQ3FzKAeiDeMbfbyUx2Urim+N43s9Wd91t+mGXGDclCyagdVndJoybgFuqRg\n",
       "nPCJzl9G/AOwSriJ59cqK3COW6dmdoSFyAw5ydb3+4nzzTwAi0sLffNuPPE3AAABDwGfKGpCvwA6\n",
       "yjneEXAFRD4LQALFmQ/hSl/Xaui8kSpX3F83cFeybZ1uWKnTexVBYygXQisXUbvaCyJ0u6i7+VuJ\n",
       "T58xsjVM8Nn4tOwCn72UoLRdEuErDH0Cyw2/nQXOLf+gqiCmF+EA6lXWn2wQyV2uyE7bYUDVo1tg\n",
       "kpwbncnLgjBugxQoyrmCz9jqdTUAGrTVBlSh7HTFP5d46gwOVHPtIO+ay3bPNlQof7vps1hLPG9d\n",
       "uvcokcsVoIPemc6CJZwi15RJVjOHZBk78dyraoGUBUTOMapDUZfCh33764PSfhmRtZ4psfywBu3L\n",
       "d1tKDn7E/W0fNQ1HwGTYTKgZubVArM3+vx3A2TKTVZ/NkicAAAI2QZsrSeEOiZTBRMO//qmWACU/\n",
       "JQ38ge9VrCdRZYetYgV++Ag7csAZu4i8Lzriz17d3Tq82/XCJO0rV0Ueh0Lj1+ai0ElIwWmR/k8U\n",
       "Ra2FXpljc3siBw6vl/3BaQDHvBTQzhSS3MnresG8YlQHudfEGR+qsGW5/hZwKPHERZi50P5S7zM9\n",
       "oLdG5n3K4xhagc9PvnYU8KgZhMdSCgW5///Z3PCS7qzsPOCa+6gn9v+q16jTScHwZNpA0rhAN1/0\n",
       "VR0T2TX3LW9Y6UqDVx3GbuuPMhJ8MNq4w8H3kzdTr5Tibh7uYruMxaj4N6VbdOjvGd4hGYahx7nB\n",
       "qZDmmtxbGUL1K0xv0WVQydZ3eRSxcLpQ2+aapGCE8GZRcO6RSovnzxIrhWGFEB1gr+gwy436KVkz\n",
       "ryi5p0jQbTn7um7jZVY9w1iYc4EzQ55llS7DieTIZKeifliHhLaNoBpo7S2tWBOjrC9EG+28gvHO\n",
       "lAeUSXCFMVzsWR055CzawRAgEqV1pRMLk/nLgV1GMRc7WyygTZAQW/MUjp0XLUx8yJEHR4bVnT+R\n",
       "i06/+awJ3WrPbwEpS2OiNgd/nCEwqNJa9Ks2lA7ozGq6MVraUNG9/3k26uCwLjgAdiy5Es9gw0Xi\n",
       "zwXC4Nyti9lBJweWatkA5sKQYq6+XaR7KE2CoMTucZqkBmpJAclctiC+JCucidRdWcRWNMeHUuwx\n",
       "X4hcI0TvAP08QnMVRZjlchUp1g47ZEkD/Xd/SFeNRhDWcd0AAAEBAZ9KakK/ADtgT2KzLdpGqmSN\n",
       "KwQQqxjsxxFABNSpv8uT0zlgcXDpUqcsEl2G6dQzsw8hlMxMIOMBACQze2QBYN0hIafdCqCK0fz0\n",
       "OhSi3AksgLpUc/3lP9qIWAhazWu7kowDvtCR4xDkFQCl1Cqy5aYT6sj+Xn80CDyxGH5Z449mrp0Z\n",
       "DutTeKu2PLbEvdxAar4Ba1iIFNLX3tcyts8Mq8ji+1Nj71o1VjYgn1OPgQm+z0YMDXtxxdM2R2B+\n",
       "nhFovBuW2nP9fuJlFPeTp83t2HfGpGGmKf1Mz47gW1jwe1c3QXc2T97zkZNiNRUTHQjAE3QhOq8/\n",
       "+Fttlvr3s/S7pOAAAAJZQZtNSeEPJlMFPDf//qeEABz0crqDnkgC82elGpa05xTrfimcgpKPY3h1\n",
       "sywqLfMVTFbdVpj8oJ+MLhdb4xLG77zXHYl+vrbOu7Z2yhDTq0J5k8M7dBfGbNARcWL5Y6q58tnp\n",
       "ESF69E8SNL/iHcfNIb4bBO3sU3VOLb8uGDWMp9tQoYpnhUlzXOvSDqPPvId5sYsl4vsjCx6JEpbE\n",
       "5PAUklUCErjQXcHF+2eM3wXk23bmpGZJnQMHqJZ2kewd+c3eVmHPiT7fFd3xJI2vVHCnh4GuEncA\n",
       "1vsBXdDRrKC3KXCHLLD9uUSNxcl23omlbmvh6f2Yh+kOaiXN0tSfAYyYypTHb4Nfv+DXYwP/2Ykv\n",
       "cwu3qI+LQSe8GaX43AcQejDFa/mbJf44b2IneVs0Jxtg6rnmjJ7eW/YfB+XZ0StxQEhm/s5L+08S\n",
       "oB280Ozqp2Y0qM0C00/xhqAkqCz4T/d0Fvk0hZQ2tuBV67ZG+ZsobAVctiqsI5+hXs12tGKS4iJo\n",
       "gFw5F1jnkKp24bbuePRR608ngB/gHfdfhITA3jGfNsGa8v6oQvToZ5NuuUBrh2qqdDxDpWdCdi1S\n",
       "+MGFv77vJC2b+/9DJpLdoxuJOSVzERGmymCj/9u2rMei+bc6NggqnhRmuZmYCuWYWncLcgPUSQLh\n",
       "dYckP7P8mtTBYWpGwk69GBKHeyQrEIv76peh5rizyaCWa0fnYrDCBobFxCAZQvGK08V4VXD6ry4v\n",
       "zeU/IQ8C3hmqfG4rzdhUcFfJvLIEcpnQoq8wj+iHaVr6RjurbdYDbRcxIVDjgAAAARIBn2xqQr8A\n",
       "F9i2WXyJZrABc/j42hSwgallVgrv0JMffzYlngQ3nPW+iD/tO1eGfleRl3ufuN9dMAusxmLGyjg/\n",
       "lkm/bw8LhgJ0sqk77hk/JUQENANdlRsbGRdo+8xC3G8k/h2uKGIAABekhSTm8i2FDV0XBnrAbbQn\n",
       "9ss95VCgJAxOfF5oGO5Y/IF8UY7vcnPA7EaHChTTDSHP7UNZEhiSfftBc2aFn08KOcVU1D0vhonx\n",
       "ZNDuMZ7JK/rXMYrFm42Uw5Pl4tg6GHP7rVm91PCHFFrlBHUmPtQ1VbtMFxPA5FhZaKEhOK8336pI\n",
       "2BRa+9SHNXDnRdMTEisVCeeyQs1t5nY2KYoP6PX/68Mxy8C732KbAAACFkGbcEnhDyZTAhn//p4Q\n",
       "AHG4TnuVaq58H+iYALpYXOyml9Bz/p7RcjaqoAv9XL2Koz0u7ZXpQxEAz+KeAFxKyajL4pY/djRn\n",
       "TJruxt/SLJLSYX5eRjLIHG9pXuEb+smdNueXVdrxId7ru7763yZ1pLM+eHGr6AfABD0bsNEs5/Z4\n",
       "fR8UbESQl+vqIZtmBPITQitIbLbKdRk0AF79/Jp3BIlOOLc9rRFSD8geE8HNePr/Gd3b8BLggx8r\n",
       "e1s2pAY4tO2YHRBbA7mQkiI498R2gIRoxGoO+XyAkJrK5yemX/QQSXUICjW60e2JsB7EBT5PE2cl\n",
       "QqV3ijQNsfmc80cQyVW7kDNjp5Fo4wzrG1S4KsjicJejTEhFfz9TVnr1Nhvfn243VQx6Ye8l1rrA\n",
       "cPzrrhoh2pkF+49CHjiHq0gCi6vbJ44AbqCRH5CPpgOOQ6h+q97/rPv0RsUUe/ysbOna0+bOvW5o\n",
       "fcgk2oCiOQb9lU6A13o4zGMI3rMESZAg8aw7C5futu3ObnhR9H9wey8ntLR06sXiYa6iskn52cN5\n",
       "Ryrz6Xyu3ol7rr7CMJRLPmPyfMJEPau4aPFISm+sevOTuWHSlLuSTBw0HBRjWc+jVCGAXUuSt1uk\n",
       "5d4UrduHOLvTs9uKpQthTqqbNdraxqWMuE2gmFxA8KkUvQRpLUMaUnxvEQN49hCJkIQvbWgjFtD/\n",
       "G7UYW6jjgQAAAQdBn45FETwv/wARWayRpyCEAkMLLt6niG1IATTyW136sUfRJsXGNTDd/UiafZ/0\n",
       "BNHGyDgqP+EN1+g3u1/+csi0ooBnblIqFBzr1I2xYG4J6iOgjqCmMq6h82frnTZ4lZqYd4ki87I1\n",
       "TQbkgapxRYkLmVZVsl1UDpfQJKcF0LeOWqDCEmTxMnuE/K+gOwOZ39dBhwNmgc4egpKtSVYTbI8q\n",
       "pd/E20PgJbeaFe6lGhgHlurgmQtNvUmW/v644VSyiRyML/3mHmvnb40dYT7vq/oJAisb2QdC7+5O\n",
       "LHFAAefQXCa8eR8xgppJUh6QdOzbw78vNnkhxVwaZ4D01KeNt5wZoy00aITAgQAAAO8Bn69qQr8A\n",
       "F+H2B890rwAmBQUeEedZISVMpa+ulaSztxUNwEYD145waoUDwJ6dnaFw/DDjP+nYuIwnYwmTd+sn\n",
       "Yhwy86wWfqe7/DQJaMV4sCiwAxynSQF+TJ/C/yvGwBDOZbUX1owv+B/cHdWSMBnjwciyDO1lnaRC\n",
       "vGZmdJ4D5Zl5s76K39G65skoA57f/S4bCzYjWs4MK5ozdSzuXi6EOUIUfxLbBN+yfnzZsWHBBv4U\n",
       "wDTR/T/hUpu6Blo83QXcvrFUpwN2STr+6bxV7hWsk1w9+zw1MZjejbcmsNHYo9z88qtbaz7JYLX2\n",
       "MIsFLwAAATVBm7JJqEFomUwU8K/+OEABsdVcCLQgE186Ox281SHq+MhugbZyvz0Z7LJ2GMiYHIE6\n",
       "SQh+hK+aX0tbwZQA+n3nbcBFwXGgZBHUxM6Oi7LshK0vJd8+1aUVW87Befz1IXFrllzUVJntoYej\n",
       "2uA/6XXtj88MV75aRhupexFWu4Tw0DWJG+8dC/H5d/SDWqoctXF3e6aBbbY6A7jQOc+Ff0qYQ9iF\n",
       "C57nIp1gqm18X6fns68dKBjWvx/KXHycB4/5LWh0l59m1Mm5xYMm6ILL/5MXQmMqnvjBRpfB6Ml+\n",
       "+q2iZn4iDB69zHjewX36qwi5YBihYuEafGX1hrZly6qyYdqbT8Sr++JBf7LzXcZ1GzvEbKmTXEqK\n",
       "Lx6mUq59h++rc06xuOpl3L4L93t+5PzSpvwLWz6AfMAAAADbAZ/RakK/ABdFTQW/YAOKrH/Uz0E0\n",
       "tzjHwFcA7LKLwuEkNsWAq9xpeLivY3TmNlh6ZSq0bnpA0z8kCnI+mYjGCEveIEBoa5cVutRCCtw2\n",
       "osDnWNDC1TzreN8qi4knFALuvDdeXiOzJtUXXzKxlwGEQL+RfEuYEjNy5HHuA3aL+cSQU0Fwrp+E\n",
       "YYAXFq+e29TIVQtzhiJ4YlGeDR++NwMAsHSOLSI0vtd1PBqL9Pj853HaGWkZWIr8McDfYNBbdbr/\n",
       "oh0Fq0RPXPu/jmrEGM+vEZGgJeHQNAkCCW3pAAAFW21vb3YAAABsbXZoZAAAAAAAAAAAAAAAAAAA\n",
       "A+gAAAn2AAEAAAEAAAAAAAAAAAAAAAABAAAAAAAAAAAAAAAAAAAAAQAAAAAAAAAAAAAAAAAAQAAA\n",
       "AAAAAAAAAAAAAAAAAAAAAAAAAAAAAAAAAAAAAAIAAASFdHJhawAAAFx0a2hkAAAAAwAAAAAAAAAA\n",
       "AAAAAQAAAAAAAAn2AAAAAAAAAAAAAAAAAAAAAAABAAAAAAAAAAAAAAAAAAAAAQAAAAAAAAAAAAAA\n",
       "AAAAQAAAAAJAAAABaAAAAAAAJGVkdHMAAAAcZWxzdAAAAAAAAAABAAAJ9gAABAAAAQAAAAAD/W1k\n",
       "aWEAAAAgbWRoZAAAAAAAAAAAAAAAAAAAKAAAAGYAVcQAAAAAAC1oZGxyAAAAAAAAAAB2aWRlAAAA\n",
       "AAAAAAAAAAAAVmlkZW9IYW5kbGVyAAAAA6htaW5mAAAAFHZtaGQAAAABAAAAAAAAAAAAAAAkZGlu\n",
       "ZgAAABxkcmVmAAAAAAAAAAEAAAAMdXJsIAAAAAEAAANoc3RibAAAALRzdHNkAAAAAAAAAAEAAACk\n",
       "YXZjMQAAAAAAAAABAAAAAAAAAAAAAAAAAAAAAAJAAWgASAAAAEgAAAAAAAAAAQAAAAAAAAAAAAAA\n",
       "AAAAAAAAAAAAAAAAAAAAAAAAAAAAABj//wAAADJhdmNDAWQAFv/hABlnZAAWrNlAkC/5YQAAAwAB\n",
       "AAADACgPFi2WAQAGaOvjyyLAAAAAHHV1aWRraEDyXyRPxbo5pRvPAyPzAAAAAAAAABhzdHRzAAAA\n",
       "AAAAAAEAAAAzAAACAAAAABRzdHNzAAAAAAAAAAEAAAABAAABcGN0dHMAAAAAAAAALAAAAAEAAAQA\n",
       "AAAAAQAABgAAAAABAAACAAAAAAEAAAgAAAAAAgAAAgAAAAACAAAEAAAAAAEAAAYAAAAAAQAAAgAA\n",
       "AAABAAAGAAAAAAEAAAIAAAAAAQAABgAAAAABAAACAAAAAAEAAAgAAAAAAgAAAgAAAAABAAAGAAAA\n",
       "AAEAAAIAAAAAAQAABgAAAAABAAACAAAAAAEAAAYAAAAAAQAAAgAAAAABAAAGAAAAAAEAAAIAAAAA\n",
       "AQAACAAAAAACAAACAAAAAAEAAAYAAAAAAQAAAgAAAAABAAAIAAAAAAIAAAIAAAAAAQAABgAAAAAB\n",
       "AAACAAAAAAEAAAgAAAAAAgAAAgAAAAABAAAGAAAAAAEAAAIAAAAAAQAABgAAAAABAAACAAAAAAEA\n",
       "AAYAAAAAAQAAAgAAAAABAAAGAAAAAAEAAAIAAAAAAQAACAAAAAACAAACAAAAAAEAAAYAAAAAAQAA\n",
       "AgAAAAAcc3RzYwAAAAAAAAABAAAAAQAAADMAAAABAAAA4HN0c3oAAAAAAAAAAAAAADMAACU1AAAD\n",
       "HAAAAZkAAALzAAABqwAAAXsAAALTAAACkwAAAs0AAAFeAAADKwAAAWAAAALzAAABVgAAA1YAAAGH\n",
       "AAABRAAAAssAAAFPAAADGwAAAWwAAAKyAAABNgAAAs0AAAE2AAAC/gAAAWsAAAEKAAAC1gAAAToA\n",
       "AAKoAAABNQAAASMAAALGAAABFwAAAxwAAAGAAAABFAAAAmgAAAEfAAACdAAAARMAAAI6AAABBQAA\n",
       "Al0AAAEWAAACGgAAAQsAAADzAAABOQAAAN8AAAAUc3RjbwAAAAAAAAABAAAALAAAAGJ1ZHRhAAAA\n",
       "Wm1ldGEAAAAAAAAAIWhkbHIAAAAAAAAAAG1kaXJhcHBsAAAAAAAAAAAAAAAALWlsc3QAAAAlqXRv\n",
       "bwAAAB1kYXRhAAAAAQAAAABMYXZmNTcuODMuMTAw\n",
       "\">\n",
       "  Your browser does not support the video tag.\n",
       "</video>"
      ],
      "text/plain": [
       "<IPython.core.display.HTML object>"
      ]
     },
     "execution_count": 39,
     "metadata": {},
     "output_type": "execute_result"
    }
   ],
   "source": [
    "# On définit les axes et autres paramètre de notre animation\n",
    "fig = pyplot.figure(figsize=(8,5))\n",
    "ax = pyplot.axes(xlim=(0,14), ylim=(0,55))\n",
    "line = ax.plot([], [], color='#003366', ls='--', lw=3)[0]\n",
    "pyplot.xlabel('Position en $(km)$',fontsize=24)\n",
    "pyplot.ylabel('Densité en $(voiture/km)$',fontsize=24)\n",
    "pyplot.tick_params(axis='both',labelsize=18)\n",
    "pyplot.tight_layout()\n",
    "pyplot.close()\n",
    "\n",
    "nt=int(t_sim/(dt*60))+1    # Nombre de point requis dans la grille pour la simulation\n",
    "x = numpy.linspace(0,L,nx) # On initialise notre liste des positions\n",
    "\n",
    "# Nos conditions initiales\n",
    "rho = numpy.ones(nx)*CL\n",
    "rho[10:20] = 50\n",
    "rho[0] = CL       # Notre condition au bord\n",
    "\n",
    "# On définit la fonction qui permet de réaliser et de retenir en mémoire tout les grpahe afin de créer une animation\n",
    "def trafic(i):\n",
    "    line.set_data(x,rho)\n",
    "    rhon   = rho.copy()    # Notre première matrice densité est celle correspondant à nos conditions initiales.\n",
    "    rho[1:] = rhon[1:]-((dt/dx)*v_max*((rhon[1:]*(1-(rhon[1:]/rho_max)))-(rhon[0:-1]*(1 - (rhon[0:-1]/rho_max)))))\n",
    "\n",
    "# On appel la fonction trafic pour produire l'animation      \n",
    "anim = animation.FuncAnimation(fig, trafic,frames=nt, interval=50)\n",
    "HTML(anim.to_html5_video())"
   ]
  },
  {
   "cell_type": "markdown",
   "metadata": {},
   "source": [
    "Ce qui parrait à nouveau physiquement cohérent et correspond à nos attentes. Passons enfin à l'analyse des résultats obtenus."
   ]
  },
  {
   "cell_type": "markdown",
   "metadata": {},
   "source": [
    "---\n",
    "\n",
    "##### 5. Analyse et comparaisons des résultats:\n",
    "---\n",
    "\n",
    "#### Synthèse des résultats obtenus.\n",
    "\n",
    "---\n",
    "\n",
    "Pour plus de lisibilité nous avons repris dans le tableau ci-dessous l'ensembles des résultats obtenus.\n",
    "\n",
    "\n",
    "![Image](./figures/tableau_synthese.png)\n",
    "\n",
    "---\n",
    "###### figure 1 : Synthèse des résultats obtenues tout au long de la résolution du problème posé.\n",
    "\n",
    "___"
   ]
  },
  {
   "cell_type": "markdown",
   "metadata": {},
   "source": [
    "Nous allons tout d'abord comparer les résultats obtenus vis à vis d'une discrétisation ou d'une autre. Nous analyserons ensuite pour une discrétisation donnée, les résultats obtenus pour chacune des deux parties."
   ]
  },
  {
   "cell_type": "markdown",
   "metadata": {},
   "source": [
    "---\n",
    "#### Comparaison des discrétisations.\n",
    "\n",
    "---\n",
    "\n",
    "En vérifiant les valeurs obtenues via la discrétisation de l'équation (1) sur le site http://openedx.seas.gwu.edu/courses/GW/MAE6286/2014_fall/about, nous constatons que les résultats sont valides mais diffèrent quelque peu des vraies valeurs. Si nous vérifions maintenant les résultats obtenus pour la discrétisation de l'équation (3), nous obtenons les résultats \"exacts\".\n",
    "\n",
    "La raisons de cette différence de valeur vient directement de l'équation que l'on discrétise. En effet, discrétiser l'éq. (1) ou discrétiser l'éq. (3) et y substituer l'expression de F discrétisé ne revient pas a faire la même chose même si cela semble revenir au même. On peut pour cela s'en rendre compte en observant les deux expressions discrétisées:\n",
    "\n",
    "$$\n",
    "\\left\\{\n",
    "    \\begin{array}{}\n",
    "        \\rho_{i}^{n+1} & = \\rho_{i}^{n} - v_{max} \\frac{\\Delta t}{\\Delta x} \\left( 1- \\frac{2 \\rho_{i}^{n}}{\\rho_{max}} \\right) \\left( \\rho_{i}^n - \\rho_{i-1}^n \\right)\\\\\n",
    "        \\rho_{i}^{n+1} & = \\rho_{i}^{n} - v_{max} \\frac{\\Delta t}{\\Delta x} \\left[\\rho_{i}^{n} \\left( 1- \\frac{ \\rho_{i}^{n}}{\\rho_{max}} \\right) - \\rho_{i-1}^n\\left( 1 - \\frac{ \\rho_{i-1}^{n}}{\\rho_{max}} \\right) \\right]\n",
    "    \\end{array}{}\n",
    "\\right.\n",
    "$$\n",
    "\n",
    "Ces deux discrétisations ne vont pas nous données les mêmes valeurs de $\\rho_{i}^{n+1}$ et de fait, ne vont pas nous donner les mêmes valeurs recherchées.\n",
    "\n",
    "En outre, la seconde discrétisation (discrétisation de l'éq. (3)) est celle qui nous fournira les valeurs correctes et ce car il s'agit de la discrétisation d'une équation qui ressemble à une équation de continuité (équation bilan de la masse). Elle rend compte de ce qui se passe physiquement à savoir la conservation de la densité globale e.g. qu'il ne peut pas y avoir création de 0.36 voiture par exemple (ce dont l'éq. (1) ne rend pas compte)."
   ]
  },
  {
   "cell_type": "markdown",
   "metadata": {},
   "source": [
    "---\n",
    "#### Analyse des résultats obtenus pour la discrétisation de l'équation (3).\n",
    "\n",
    "---\n",
    "\n",
    "→ On constate tout d'abord que le changement des CL (passage de 10 à 20 $voitures/km$) n'a pas d'impact sur l'allure générale de nos graphiques. Il a par contre pour conséquence de diminuer légèrement la vitesse minimale pour un temps donné (non-nul) ainsi que la vitesse moyenne. En effet, si nous effectuons l'exercice de remettre la CL à 10 au lieux de 20 dans la partie B (de la discrétisation de l'éq. (3)) afin de garder la $v_{max}$ constante, nous obtenons une valeur de $v_{moy}(t = 3 min)$ de $35.10$ $m/s$ au lieux de $33.87$ $m/s$. \n",
    "Ceci s'explique par le fait qu'augmenter la CL a pour conséquence de \"densifier\" le système. Par conséquent, le trafic peut évoluer moins rapidemment et donc la vitesse moyenne comme minimale y est moins élevée. C'est précisémment ce qui se passe lors d'un embouteillage.\n",
    "\n",
    "\n",
    "→ L'augmentation de la vitesse maximale du trafic a quant elle pour conséquence d'augmenter la valeur de l'ensemble des résultats et donc de modifier quelque peu l'allure de nos graphiques. Ceci nous semble tout a fait cohérent car comme nous l'avons expliquer auparavant, une augmentation de la vitesse maximale permet au système d'évoluer plus rapidemment et c'est précisémment ce que l'on observe si l'on compare les graphiques de la partie A et de la partie B pour une même question.\n",
    "A nouveau, pour bien s'en convaincre nous pouvons effectuer l'exercice de rechanger la valeur de $v_{max}$ pour la seconde discrétisation dans la partie B (et ce afin de garder la CL constante). Nous obtenons ainsi une valeur de $v_{moy}(t = 3 min)$ de $19.92$ $m/s$ ($v_{max}=80 m/s$) au lieu de $33.87$ $m/s$ ($v_{max}=136 m/s$). Nous voyons une augmentation significative de la vitesse moyenne lors de l'augmentation de $v_{max}$, conformément a ce que nous avons expliqué."
   ]
  },
  {
   "cell_type": "markdown",
   "metadata": {},
   "source": [
    "---\n",
    "\n",
    "##### 6. Conclusions:\n",
    "---\n",
    "\n",
    "\n",
    "Ce nouveau problème nous à permis de mettre en pratique certaines choses vues au cours des quatres notebook constituant cette nouvelle leçon. Citons notamment l'emplois de double indice (indexation) qui permet d'écrire plus succinctement une boucle for mais aussi la fonctionnalité proposée par sympy, e.g. le calcul sans effort de dérivée partielle. \n",
    "\n",
    "Il nous a également permis de vérifier notre bonne compréhension de la discrétisation d'une EDP mais à surtout mis en évidence qu'une discrétisation pouvait différée numériquement d'une autre même si aux premiers abords elles semblent similaires. Une étude plus approfondies nous auraient cependant permis de mieux comprendre les causes de la différence des valeurs obtenues.\n",
    "\n",
    "En outre nous avons pus modéliser des conditions assez réalistes de trafic et vu l'impact de certain paramètre comme la densité et la vitesse sur ce dernier."
   ]
  },
  {
   "cell_type": "markdown",
   "metadata": {},
   "source": [
    "---\n",
    "\n",
    "##### 7. Sources:\n",
    "---\n",
    "\n",
    "\n",
    "[1] Cours de MATH-F-101 (Calcul Différentiel et Intégral 1) présenté par M. Joel Fine et M. Denis Bonheure, professeurs à l'ULB.\n",
    "\n",
    "[2] Notebook *02.04 - 1D Burgers* de la série *Space and Time — Introduction to Finite-difference solutions of PDEs*"
   ]
  },
  {
   "cell_type": "markdown",
   "metadata": {},
   "source": [
    "---\n",
    "\n",
    "###### The cell below loads the style of the notebook."
   ]
  },
  {
   "cell_type": "code",
   "execution_count": 40,
   "metadata": {},
   "outputs": [
    {
     "data": {
      "text/html": [
       "<link href='http://fonts.googleapis.com/css?family=Alegreya+Sans:100,300,400,500,700,800,900,100italic,300italic,400italic,500italic,700italic,800italic,900italic' rel='stylesheet' type='text/css'>\n",
       "<link href='http://fonts.googleapis.com/css?family=Arvo:400,700,400italic' rel='stylesheet' type='text/css'>\n",
       "<link href='http://fonts.googleapis.com/css?family=PT+Mono' rel='stylesheet' type='text/css'>\n",
       "<link href='http://fonts.googleapis.com/css?family=Shadows+Into+Light' rel='stylesheet' type='text/css'>\n",
       "<link href='http://fonts.googleapis.com/css?family=Nixie+One' rel='stylesheet' type='text/css'>\n",
       "<link href='https://fonts.googleapis.com/css?family=Source+Code+Pro' rel='stylesheet' type='text/css'>\n",
       "<style>\n",
       "\n",
       "@font-face {\n",
       "    font-family: \"Computer Modern\";\n",
       "    src: url('http://mirrors.ctan.org/fonts/cm-unicode/fonts/otf/cmunss.otf');\n",
       "}\n",
       "\n",
       "#notebook_panel { /* main background */\n",
       "    background: rgb(245,245,245);\n",
       "}\n",
       "\n",
       "div.cell { /* set cell width */\n",
       "    width: 750px;\n",
       "}\n",
       "\n",
       "div #notebook { /* centre the content */\n",
       "    background: #fff; /* white background for content */\n",
       "    width: 1000px;\n",
       "    margin: auto;\n",
       "    padding-left: 0em;\n",
       "}\n",
       "\n",
       "#notebook li { /* More space between bullet points */\n",
       "    margin-top:0.8em;\n",
       "}\n",
       "\n",
       "/* draw border around running cells */\n",
       "div.cell.border-box-sizing.code_cell.running { \n",
       "    border: 1px solid #111;\n",
       "}\n",
       "\n",
       "/* Put a solid color box around each cell and its output, visually linking them*/\n",
       "div.cell.code_cell {\n",
       "    background-color: rgb(256,256,256); \n",
       "    border-radius: 0px; \n",
       "    padding: 0.5em;\n",
       "    margin-left:1em;\n",
       "    margin-top: 1em;\n",
       "}\n",
       "\n",
       "div.text_cell_render{\n",
       "    font-family: 'Alegreya Sans' sans-serif;\n",
       "    line-height: 140%;\n",
       "    font-size: 125%;\n",
       "    font-weight: 400;\n",
       "    width:600px;\n",
       "    margin-left:auto;\n",
       "    margin-right:auto;\n",
       "}\n",
       "\n",
       "\n",
       "/* Formatting for header cells */\n",
       ".text_cell_render h1 {\n",
       "    font-family: 'Nixie One', serif;\n",
       "    font-style:regular;\n",
       "    font-weight: 400;    \n",
       "    font-size: 45pt;\n",
       "    line-height: 100%;\n",
       "    color: rgb(0,51,102);\n",
       "    margin-bottom: 0.5em;\n",
       "    margin-top: 0.5em;\n",
       "    display: block;\n",
       "}\n",
       "\n",
       ".text_cell_render h2 {\n",
       "    font-family: 'Nixie One', serif;\n",
       "    font-weight: 400;\n",
       "    font-size: 30pt;\n",
       "    line-height: 100%;\n",
       "    color: rgb(0,51,102);\n",
       "    margin-bottom: 0.1em;\n",
       "    margin-top: 0.3em;\n",
       "    display: block;\n",
       "}\t\n",
       "\n",
       ".text_cell_render h3 {\n",
       "    font-family: 'Nixie One', serif;\n",
       "    margin-top:16px;\n",
       "    font-size: 22pt;\n",
       "    font-weight: 600;\n",
       "    margin-bottom: 3px;\n",
       "    font-style: regular;\n",
       "    color: rgb(102,102,0);\n",
       "}\n",
       "\n",
       ".text_cell_render h4 {    /*Use this for captions*/\n",
       "    font-family: 'Nixie One', serif;\n",
       "    font-size: 14pt;\n",
       "    text-align: center;\n",
       "    margin-top: 0em;\n",
       "    margin-bottom: 2em;\n",
       "    font-style: regular;\n",
       "}\n",
       "\n",
       ".text_cell_render h5 {  /*Use this for small titles*/\n",
       "    font-family: 'Nixie One', sans-serif;\n",
       "    font-weight: 400;\n",
       "    font-size: 16pt;\n",
       "    color: rgb(163,0,0);\n",
       "    font-style: italic;\n",
       "    margin-bottom: .1em;\n",
       "    margin-top: 0.8em;\n",
       "    display: block;\n",
       "}\n",
       "\n",
       ".text_cell_render h6 { /*use this for copyright note*/\n",
       "    font-family: 'PT Mono', sans-serif;\n",
       "    font-weight: 300;\n",
       "    font-size: 9pt;\n",
       "    line-height: 100%;\n",
       "    color: grey;\n",
       "    margin-bottom: 1px;\n",
       "    margin-top: 1px;\n",
       "}\n",
       "\n",
       ".CodeMirror{\n",
       "    font-family: \"Source Code Pro\";\n",
       "    font-size: 90%;\n",
       "}\n",
       "\n",
       ".alert-box {\n",
       "    padding:10px 10px 10px 36px;\n",
       "    margin:5px;\n",
       "}\n",
       "\n",
       ".success {\n",
       "    color:#666600;\n",
       "    background:rgb(240,242,229);\n",
       "}\n",
       "</style>\n",
       "<script>\n",
       "    MathJax.Hub.Config({\n",
       "                        TeX: {\n",
       "                           extensions: [\"AMSmath.js\"],\n",
       "                           equationNumbers: { autoNumber: \"AMS\", useLabelIds: true}\n",
       "                           },\n",
       "                tex2jax: {\n",
       "                    inlineMath: [ ['$','$'], [\"\\\\(\",\"\\\\)\"] ],\n",
       "                    displayMath: [ ['$$','$$'], [\"\\\\[\",\"\\\\]\"] ]\n",
       "                },\n",
       "                displayAlign: 'center', // Change this to 'center' to center equations.\n",
       "                \"HTML-CSS\": {\n",
       "                    styles: {'.MathJax_Display': {\"margin\": 4}}\n",
       "                }\n",
       "        });\n",
       "</script>\n"
      ],
      "text/plain": [
       "<IPython.core.display.HTML object>"
      ]
     },
     "execution_count": 40,
     "metadata": {},
     "output_type": "execute_result"
    }
   ],
   "source": [
    "from IPython.core.display import HTML\n",
    "css_file = 'styles/numericalmoocstyle.css'\n",
    "HTML(open(css_file, \"r\").read())"
   ]
  },
  {
   "cell_type": "code",
   "execution_count": null,
   "metadata": {
    "collapsed": true
   },
   "outputs": [],
   "source": []
  }
 ],
 "metadata": {
  "anaconda-cloud": {},
  "kernelspec": {
   "display_name": "Python 3",
   "language": "python",
   "name": "python3"
  },
  "language_info": {
   "codemirror_mode": {
    "name": "ipython",
    "version": 3
   },
   "file_extension": ".py",
   "mimetype": "text/x-python",
   "name": "python",
   "nbconvert_exporter": "python",
   "pygments_lexer": "ipython3",
   "version": "3.5.4"
  }
 },
 "nbformat": 4,
 "nbformat_minor": 1
}
