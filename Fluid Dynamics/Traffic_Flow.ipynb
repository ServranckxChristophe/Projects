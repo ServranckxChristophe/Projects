{
 "cells": [
  {
   "cell_type": "markdown",
   "metadata": {},
   "source": [
    "## TP 2 : Traffic flow \n",
    "\n",
    "---\n",
    "\n",
    "Binôme : Khaled Ibrahim & Servranckx Christophe.\n",
    "\n",
    "---"
   ]
  },
  {
   "cell_type": "markdown",
   "metadata": {},
   "source": [
    "$\\underline{\\text{Objectif :}}$ réussir à modéliser et à décrire le système qu'est le flux de la circulation sur une route à une seule voie.\n",
    "\n",
    "Pour se faire, nous nous plaçerons ici dans le cas d'un trafic instable pour lequel nous pouvons utiliser l'équation de convection non-linéaire de la densité de voiture. En outre, nous procèderons à 2 simulations distinctes afin de mieux comprendre l'évolution de notre système sous différente conditions initiales (CI) et limites (CL) pour la densité de trafic. Nous aurons ainsi les deux ensembles de conditions suivant :\n",
    "\n",
    "Première simulation :\n",
    "\n",
    "$$\n",
    "\\left.\n",
    "    \\begin{array}{ll}\n",
    "         & x = numpy.linspace(0,L,nx)\\\\\n",
    "         & \\rho_0  = numpy.ones(nx).10\\\\\n",
    "         & \\rho_0[10:20]  = 50\\\\\n",
    "    \\end{array}\n",
    "\\right \\} \\text{  (CI) }\n",
    "$$\n",
    "\n",
    "\n",
    "$$\n",
    "\\left.\n",
    "    \\begin{array}{ll}\n",
    "         & \\rho(0,t) = 10\n",
    "    \\end{array}\n",
    "\\right \\} \\text{  (CL)}\n",
    "$$\n",
    "\n",
    "Seconde simulation :\n",
    "\n",
    "$$\n",
    "\\left.\n",
    "    \\begin{array}{ll}\n",
    "         & x = numpy.linspace(0,L,nx)\\\\\n",
    "         & \\rho_0  = numpy.ones(nx).20\\\\\n",
    "         & \\rho_0[10:20]  = 50\\\\\n",
    "    \\end{array}\n",
    "\\right \\} \\text{  (CI) }\n",
    "$$\n",
    "\n",
    "\n",
    "$$\n",
    "\\left.\n",
    "    \\begin{array}{ll}\n",
    "         & \\rho(0,t) = 20\n",
    "    \\end{array}\n",
    "\\right \\} \\text{  (CL)}\n",
    "$$\n",
    "\n",
    "Commençons sans plus tarder par le traitement de nos équations."
   ]
  },
  {
   "cell_type": "markdown",
   "metadata": {},
   "source": [
    "##### 1. Réécriture de l'équation de convection non-linéaire de la densité de voiture & discrétisations. \n",
    "---\n",
    "\n",
    "#### 1.1 Un bref rappel théorique.\n",
    "\n",
    "---\n",
    "\n",
    "Dans la partie théorique de l'énoncé de ce travail, nous avons vu que le flux, instable, de trafic peut-être modélisé comme la convection non-linéaire de la densité de voiture. Il en découllait donc pour notre problème:\n",
    "\n",
    "\\begin{align}\n",
    "\\frac{\\partial \\rho}{\\partial t} + \\frac{\\partial F}{\\partial \\rho} \\frac{\\partial \\rho}{\\partial x} = 0\\\\\n",
    "\\end{align}\n",
    "\n",
    "\n",
    "où\n",
    "\n",
    "\\begin{align}\n",
    "F = V(\\rho) \\rho = V_{max} \\rho \\left( 1- \\frac{\\rho}{\\rho_{max}} \\right)\n",
    "\\end{align}\n",
    "\n",
    "Avec,\n",
    "\n",
    "$$\n",
    "\\left\\{\n",
    "    \\begin{array}{ll}\n",
    "        &.V  \\text{, la vitesse de circulation (en km/h)} \\\\\n",
    "        &.V_{max}  \\text{, vitesse maximale que peuvent atteindre les}\\\\\n",
    "        &\\hspace{0.9cm}  \\text{voitures lorsque $\\rho→0$}\\\\\n",
    "        &.\\rho \\text{, la densité de trafic, c'est à dire le nombre de voiture}\\\\\n",
    "        &\\hspace{0.9cm}  \\text{par unité de longueur (en voitures/km)}\\\\\n",
    "        &. \\rho_{max},  \\text{la densité maximale atteinte lorsque les voitures}\\\\\n",
    "        &\\hspace{0.9cm}  \\text{sont \"pare-chocs contre pare-chocs\", et à laquelle}\\\\\n",
    "        &\\hspace{0.9cm}  \\text{correspond une vitesse nulle}\n",
    "    \\end{array}\n",
    "\\right.\n",
    "$$\n",
    "\n",
    "En appliquant la $règle\\ de\\ la\\ chaîne^{1}$ sur l'équation (1), nous obtenons alors: \n",
    "\n",
    "\\begin{align}\n",
    "\\frac{\\partial \\rho}{\\partial t} + \\frac{\\partial F}{\\partial x} = 0\\\\\n",
    "\\end{align}\n",
    "\n",
    "\n",
    "Nous allons maintenant passé à la discrétisation (afin de pouvoir résoudre numériquement notre problème) de nos équations. En effet, nous n'allons pas uniquement discrétiser l'équation (3) mais nous allons également discrétiser l'équation (1) et ce dans le but de comparer les résultats obtenus par ces deux discrétisations distinctes et d'en tirer d'éventuelles conclusions.\n",
    "\n",
    "---\n",
    "###### [1]. La règle de dérivation des fonctions composées ou \"règle de la chaîne\" s'énonce comme suit : Soit f une fonction dérivable en a et g dérivable en f(a). Alors la composition g o f est dérivable en a et on a : $(g◦f)'(a) = g'(f(a)) f'(a)$ ou dans la notation de Leibniz si $y=f(x)$ et $u=g(y)$ alors : $\\frac{du}{dx}=\\frac{du}{dy} \\frac{dy}{dx}$\n"
   ]
  },
  {
   "cell_type": "markdown",
   "metadata": {},
   "source": [
    "#### 1.2 Discrétisations. \n",
    "\n",
    "---\n",
    "\n",
    "* Discrétisation de l'équation  $\n",
    "\\frac{\\partial \\rho}{\\partial t} + \\frac{\\partial F}{\\partial \\rho} \\frac{\\partial \\rho}{\\partial x} = 0$ :\n",
    "\n",
    "---\n",
    "Pour se faire, nous calculons tout d'abord la dérivée $\\frac{\\partial F}{\\partial \\rho}$. Nous pourrions calculer cette dérivée à la main mais nous nous proposons d'utiliser ce que nous avons appris au cours du dernier notebook de la série *Space and Time — Introduction to Finite-difference solutions of PDEs*, e.g. l'emplois de l'une des fonctionnalités proposées par $sympy^{2}$ : le calcul d'une dérivée partielle. \n",
    "\n",
    "---\n",
    "###### [2] . Sympy est une librairie pour python qui propose de nombreuse fonctionnalités similaires à celle proposée par Mathematica tel que le calcul de dérivée, d'integrale, etc."
   ]
  },
  {
   "cell_type": "markdown",
   "metadata": {},
   "source": [
    "Commençons donc par importer la librairie sympy."
   ]
  },
  {
   "cell_type": "code",
   "execution_count": 1,
   "metadata": {
    "collapsed": true
   },
   "outputs": [],
   "source": [
    "# Import de la libraire.\n",
    "import sympy\n",
    "\n",
    "# Permet le renvois des résultats dans le style \"LaTeX\".\n",
    "from sympy import init_printing\n",
    "init_printing()"
   ]
  },
  {
   "cell_type": "markdown",
   "metadata": {},
   "source": [
    "Définissons à présent nos variables, l'expression de F (donnée par l'équation (2) ) et calculons enfin sa dérivée par rapport à $\\rho$."
   ]
  },
  {
   "cell_type": "code",
   "execution_count": 2,
   "metadata": {},
   "outputs": [
    {
     "data": {
      "image/png": "[encoded data removed]",
      "text/latex": [
       "$$- \\frac{\\rho v_{max}}{\\rho_{max}} + v_{max} \\left(- \\frac{\\rho}{\\rho_{max}} + 1\\right)$$"
      ],
      "text/plain": [
       "  ρ⋅vₘₐₓ        ⎛   ρ      ⎞\n",
       "- ────── + vₘₐₓ⋅⎜- ──── + 1⎟\n",
       "   ρₘₐₓ         ⎝  ρₘₐₓ    ⎠"
      ]
     },
     "execution_count": 2,
     "metadata": {},
     "output_type": "execute_result"
    }
   ],
   "source": [
    "# On définit nos variables.\n",
    "v_max, rho, rho_max = sympy.symbols('v_max, rho, rho_max')\n",
    "\n",
    "# Expression de F.\n",
    "F = v_max*rho*(-(rho/rho_max)+1)\n",
    "\n",
    "# Calcul de la dérivée.\n",
    "Fprime = F.diff(rho)\n",
    "\n",
    "# Affichage du résultat.\n",
    "Fprime"
   ]
  },
  {
   "cell_type": "markdown",
   "metadata": {},
   "source": [
    "Ce qui est le même résultat que celui obtenu à la main si nous réexprimons ceci en mettant $v_{max}$ en évidence et en simplifiant quelque peu l'expression:\n",
    "\n",
    "\n",
    "$\\hspace{2.5cm}\\frac{- \\rho v_{max}}{\\rho_{max}}+ v_{max} \\left( - \\frac{\\rho}{\\rho_{max}}+1 \\right)$ → $v_{max} \\left( 1- \\frac{2 \\rho}{\\rho_{max}} \\right)$\n",
    "\n",
    "Ainsi, nous avons obtenu grâce à sympy :\n",
    "\n",
    "\\begin{equation}\n",
    "\\frac{\\partial F}{\\partial \\rho} = v_{max} \\left( 1- \\frac{2 \\rho}{\\rho_{max}} \\right) \n",
    "\\end{equation}\n",
    "\n",
    "Et l'équation (1) devient alors :\n",
    "\n",
    "\\begin{equation}\n",
    "\\frac{\\partial \\rho}{\\partial t} + v_{max} \\left( 1- \\frac{2 \\rho}{\\rho_{max}} \\right)  \\frac{\\partial \\rho}{\\partial x} = 0\\\\\n",
    "\\end{equation}\n",
    "\n",
    "Nous pouvons à présent passer à la discrétisation de notre équation de convection. Pour se faire, nous utilisons comme demandé dans l'énoncé de ce travail personnel, la *forward-difference* pour la dérivée par rapport au temps et la *backward-difference* pour la dérivée par rapport à l'espace (ici, par rapport à x comme nous travaillons avec une équation à 1 dimension).\n",
    "\n",
    "Pour rappel, les discrétisations *forward-difference* et *backward-difference* de la dérivée partielle $\\frac{\\partial u}{\\partial x}$ (par exemple) sont données par :\n",
    "\n",
    "* Forward-difference: si on utilise les points $x_i$ et $x_i + \\Delta x$ alors la dérivée devient : $\\frac{\\partial u}{\\partial x} \\approx \\frac{u(x_{i+1})-u(x_i)}{\\Delta x}$.\n",
    "* Backward-difference: si on utilise les points $x_i$ et $x_i- \\Delta x$ alors la dérivée devient : $\\frac{\\partial u}{\\partial x} \\approx \\frac{u(x_i)-u(x_{i-1})}{\\Delta x}$.\n",
    "\n",
    "Donc en appliquant ces deux discrétisations à l'équation (5) il en découle l'équation suivante:\n",
    "\n",
    "\\begin{equation}\\frac{\\rho_i^{n+1}-\\rho_i^n}{\\Delta t} + v_{max} \\left( 1- \\frac{2 \\rho_i^{n}}{\\rho_{max}} \\right) \\frac{\\rho_i^n - \\rho_{i-1}^n}{\\Delta x} = 0, \\end{equation}\n",
    "\n",
    "Où la seule inconnue est $\\rho_i^{n+1}$ étant donné nos conditions initiales. En isolant cette inconnue nous obtenons :\n",
    "\n",
    "\\begin{equation}\n",
    "\\rho_{i}^{n+1}= \\rho_{i}^{n} - v_{max} \\frac{\\Delta t}{\\Delta x} \\left( 1- \\frac{2 \\rho_{i}^{n}}{\\rho_{max}} \\right) \\left( \\rho_{i}^n - \\rho_{i-1}^n \\right)\n",
    "\\end{equation}\n",
    "\n",
    "Que nous pouvons maintenant traiter numériquement.\n",
    "\n",
    "---\n",
    "* Discrétisation de l'équation $\\frac{\\partial \\rho}{\\partial t} + \\frac{\\partial F}{\\partial x} = 0 $:\n",
    "\n",
    "---\n",
    "\n",
    "Procédons maintenant à la discrétisation de cette seconde équation. À nouveau, nous utilisons les deux discrétisations demandées (forward & backward). Nous obtenons ainsi :\n",
    "\n",
    "$$\n",
    "\\left\\{\n",
    "    \\begin{array}{}\n",
    "        \\frac{\\partial F}{\\partial x}  \\approx \\frac{F_{i}^{n}-F_{i-1}^{n}}{\\Delta x}\\\\\n",
    "        \\frac{\\partial \\rho}{\\partial t}  \\approx \\frac{\\rho_{i}^{n+1}-\\rho_{i}^{n}}{\\Delta x}\n",
    "    \\end{array}{}\n",
    "\\right.\n",
    "$$\n",
    "\n",
    "où\n",
    "$$\n",
    "\\left\\{\n",
    "    \\begin{array}{}\n",
    "        F_{i}^{n} & = v_{max} \\rho_{i}^{n} \\left( 1- \\frac{\\rho_{i}^{n}}{\\rho_{max}} \\right)\\\\\n",
    "        F_{i-1}^{n} & = v_{max} \\rho_{i-1}^{n} \\left( 1- \\frac{\\rho_{i-1}^{n}}{\\rho_{max}} \\right)\n",
    "    \\end{array}{}\n",
    "\\right.\n",
    "$$\n",
    "\n",
    "Ainsi si on réintroduit ceci dans l'équation (3) et qu'on isole la seule inconnue $\\rho_i^{n+1}$, nous obtenons alors l'équation discrétisée :\n",
    "\n",
    "\\begin{equation}\n",
    "\\rho_{i}^{n+1}= \\rho_{i}^{n} - v_{max} \\frac{\\Delta t}{\\Delta x} \\left[\\rho_{i}^{n} \\left( 1- \\frac{ \\rho_{i}^{n}}{\\rho_{max}} \\right) - \\rho_{i-1}^n\\left( 1 - \\frac{ \\rho_{i-1}^{n}}{\\rho_{max}} \\right) \\right]\n",
    "\\end{equation}"
   ]
  },
  {
   "cell_type": "markdown",
   "metadata": {},
   "source": [
    "---\n",
    "##### 2. Résolution du problème suivant la discrétisation de l'équation (1).\n",
    "\n",
    "---\n",
    "\n",
    "#### PARTIE A .\n",
    "---"
   ]
  },
  {
   "cell_type": "markdown",
   "metadata": {},
   "source": [
    "Comme à notre habitude, nous commençons par importer les librairies \"numpy\", matplotlib et JSAnimation. Cette dernière sera utile pour \"animer nos graphes\"."
   ]
  },
  {
   "cell_type": "code",
   "execution_count": 3,
   "metadata": {
    "collapsed": true
   },
   "outputs": [],
   "source": [
    "import numpy\n",
    "from matplotlib import pyplot, animation, rcParams\n",
    "%matplotlib inline\n",
    "from IPython.display import HTML\n",
    "rcParams['font.family'] = 'serif'\n",
    "rcParams['font.size'] = 16"
   ]
  },
  {
   "cell_type": "markdown",
   "metadata": {},
   "source": [
    "Nous déclarons ensuite nos données pour cette première partie à savoir la vitesse maximale du trafic,la longueur de la route,..."
   ]
  },
  {
   "cell_type": "code",
   "execution_count": 4,
   "metadata": {
    "collapsed": true
   },
   "outputs": [],
   "source": [
    "# Déclaration des variables:\n",
    "\n",
    "v_max = 80       # en km/h\n",
    "L     = 11       # en km\n",
    "rho_max = 250    # en voitures/km\n",
    "nx    = 51       # nombre de point de la grille des positions\n",
    "dx    = L/(nx-1) # intervalle entre chaque point de la grille\n",
    "dt    = 0.001    # h"
   ]
  },
  {
   "cell_type": "markdown",
   "metadata": {},
   "source": [
    "Et nos conditions initiales, e.g. une densité de voiture décrite de la manière suivante:"
   ]
  },
  {
   "cell_type": "code",
   "execution_count": 5,
   "metadata": {
    "collapsed": true
   },
   "outputs": [],
   "source": [
    "# Conditions initiales pour la densité de trafic:\n",
    "\n",
    "x = numpy.linspace(0,L,nx)\n",
    "rho0A = numpy.ones(nx)*10\n",
    "rho0A[10:20] = 50"
   ]
  },
  {
   "cell_type": "markdown",
   "metadata": {},
   "source": [
    "Vérifions à présent que nos conditions initiales ont correctement été initialisées en réalisant le graphique de la densité en fonction de la position."
   ]
  },
  {
   "cell_type": "code",
   "execution_count": 6,
   "metadata": {},
   "outputs": [
    {
     "data": {
      "image/png": "[encoded data removed]",
      "text/plain": [
       "<Figure size 432x288 with 1 Axes>"
      ]
     },
     "metadata": {},
     "output_type": "display_data"
    }
   ],
   "source": [
    "pyplot.ylabel('Densité'' ''$(voitures/km)$', fontsize=20) # nom de l'axe x & taille de la police\n",
    "pyplot.xlabel('Position'' ''$x(km)$', fontsize=20) # nom de l'axe y & taille de la police\n",
    "pyplot.plot(x, rho0A, color='#003366', ls='--', lw=3)\n",
    "pyplot.tick_params(axis='both',labelsize=16)\n",
    "pyplot.ylim(0,55);"
   ]
  },
  {
   "cell_type": "markdown",
   "metadata": {},
   "source": [
    "Comme attendus, la densité de voiture au temps t = 0s est bien fixé à :\n",
    "\n",
    "$$\n",
    "→ \\left\\{ \n",
    "\\begin{aligned} \n",
    "& \\mbox{50  voitures/km $si^{(1)}$ x} \\in \\mbox{ [ } 2.2,4.4 ]km \\\\\n",
    "& \\mbox{10 voitures/km partout ailleurs}\n",
    "\\end{aligned}\n",
    "\\right.\n",
    "$$\n",
    "\n",
    "\n",
    "Nos conditions intiales étant fixées, nous pouvons commencer à répondre aux questions qui nous ont été posées.\n",
    "\n",
    "---\n",
    "###### (1) En effet, puisque $nx = 51 → dx = 0.22$. Par conséquent $[10,20] → [2.2,4.4] $km\n",
    "\n",
    "---"
   ]
  },
  {
   "cell_type": "markdown",
   "metadata": {},
   "source": [
    "Avant de passer à la résolution, commençons par définir une fonction pour la vitesse du trafic qui reprend simplement l'expression de l'équation (2) (que l'on a divisé par $\\rho$ pour n'obtenir que l'expression recherchée de la vitesse). Cette fonction nous permettra de ressortir la vitesse du trafic pour un temps donné compte tenu de la densité à ce même moment."
   ]
  },
  {
   "cell_type": "code",
   "execution_count": 7,
   "metadata": {
    "collapsed": true
   },
   "outputs": [],
   "source": [
    "def v(rho):\n",
    "    return v_max*(1-(rho/rho_max))"
   ]
  },
  {
   "cell_type": "markdown",
   "metadata": {},
   "source": [
    "Définissons maintenant une seconde fonction qui s'avérera utile pour toute la suite.\n",
    "\n",
    "* Motivation de l'introduction de cette nouvelle fonction:\n",
    "\n",
    "Après une première écriture et résolution de l'ensemble des problèmes posés, nous nous sommes rendu compte que ces résolutions pouvaient & faisaient appels aux mêmes algorithmes aux paramètres et variables prêt. L'écriture d'une fonction regroupant ces derniers nous a alors parrue être une manière élégante de procédé.\n",
    "\n",
    "* Rôle & explication de cette nouvelle fonction, la fonction \"$evo()$\":\n",
    "\n",
    "Cette fonction s'articule en plusieurs parties.\n",
    "\n",
    "→ Dans la première partie nous posons simplement l'ensembles de nos paramètres et variables qui resteront fixe tout au long de la résolution du problème (aussi bien pour la partie A que pour la partie B).\n",
    "\n",
    "→ Dans la seconde partie nous posons nos conditions initiale où nous voyons apparaître la variable \"CL\" qui n'est autre que la condition limite variant d'une partie à l'autre et que nous devrons fournir avant l'appel de notre fonction.\n",
    "\n",
    "→ La partie suivante est le coeur même de notre fonction. Nous commençons par définir un tableau de dimension $(nt$ x $nx)$ que nous pouvons voir comme une matrice A où chaque coefficient $a_{ij}$ est lui même une matrice. Donc dans notre cas, A correspond à un \"tableau de tableau de densité\" pour tout temps tandis que chacun des $a_{ij}$ correspond à un unique tableau de densité (pour un nt donné).\n",
    "\n",
    "Une fois ce tableau définit nous lançons alors une boucle for pour les nt. Cette boucle va donc passer de tableau en tableau donc de $a_{nx,1} → a_{nx,2} → ... → a_{nx,nt}$. Ainsi, a chaque pas, la boucle va calculer pour toute les positions la densité correspondante étant donné l'équation discrétisée utilisée. Dès lors, en utilisant l'indexation vu dans le notebook \"02-01-1DConvection\", nous n'avons ainsi besoin que d'une seule boucle for pour faire ce que nous venons de décrire.\n",
    "\n",
    "→ Finalement, la dernière partie est celle où figurent les calculs des vitesses recherchées (minimale & moyenne), pour un instant donné.\n",
    "\n",
    "* vitesse minimale initiale : nous utilisons notre fonction $v(rho)$ pour calculer la vitesse correspondant à chaque densité et ce pour l'instant initial ($t = 0$). La fonction $min()$ fournit par numpy nous permet alors d'obtenir la vitesse minimale.\n",
    "* Vitesse moyenne : celle-ci sera obtenue en faisant à nouveau appel à la fonction $v(rho)$ qui prend la moyenne des densités (de par la fonction $mean()$ fournie par numpy) de la dernière étape de calcul pour un temps de simulation donné.\n",
    "* Vitesse minimale finale : Cette dernière est obtenue de manière similaire à la vitesse minimale initiale à la différence que l'on prend les densités pour la dernière étape de calcul.\n",
    "\n",
    "Remarque : les valeurs calculées à chaque appel de la fonction sont stockées dans un tableau afin de pouvoir être récupérée en temps voulu."
   ]
  },
  {
   "cell_type": "code",
   "execution_count": 8,
   "metadata": {
    "collapsed": true
   },
   "outputs": [],
   "source": [
    "def evo(CL,t_sim,v_max,v):\n",
    "\n",
    "\n",
    "    # On pose l'ensemble des paramètres qui reste fixes d'une simulation à une autre\n",
    "    dt=0.001 \n",
    "    nt=int(t_sim/(dt*60))+1   # Nombre de point requis dans la grille pour la simulation\n",
    "    L=11                      # en km\n",
    "    rho_max=250               # en voitures/km\n",
    "    nx=51                     # Nombre de point de la grille d'espace\n",
    "    dx=L/(nx-1)\n",
    "\n",
    "    #On pose nos conditions intiales \n",
    "    x = numpy.linspace(0,L,nx)\n",
    "    rho0 = numpy.ones(nx)*CL\n",
    "    rho0[10:20] = 50\n",
    "    \n",
    "    # Définition de notre matrice densité pour tout temps et toute position\n",
    "    rho=numpy.empty((nt,nx))\n",
    "    rho[0]=rho0    # Notre première matrice densité est celle correspondant à nos conditions initiales.\n",
    "\n",
    "    #On calcul notre densité inconnue pour tout temps\n",
    "    for n in range(0, nt-1):  \n",
    "        rho[n+1][1:] = rho[n][1:]- dt/dx* v_max *(1-2*rho[n][1:]/rho_max)*(rho[n][1:]-rho[n][0:-1])\n",
    "        rho[n+1][0]=CL   # Notre condition au bord\n",
    "\n",
    "    #Réalise un graphe des densités finales en fonction de la position\n",
    "    pyplot.ylabel('Densité'' ''$(voitures/km)$', fontsize=20) # nom de l'axe x & taille de la police\n",
    "    pyplot.xlabel('Position'' ''$x(km)$', fontsize=20) # nom de l'axe y & taille de la police\n",
    "    pyplot.plot(x, rho[nt-1], color='#003366', ls='--', lw=3)\n",
    "    pyplot.tick_params(axis='both',labelsize=16)\n",
    "    pyplot.ylim(0,55);\n",
    "    \n",
    "    \n",
    "    #Calcul des valeurs recherché et stockage de celles-ci  \n",
    "    vminI = min(v(rho[0,:]))\n",
    "    vmoyF = v(numpy.mean(rho[nt-1]))\n",
    "    vminF = min(v(rho[nt-1,:]))\n",
    "    \n",
    "    \n",
    "    u[0]=vminI\n",
    "    u[1]=vminF\n",
    "    u[2]=vmoyF"
   ]
  },
  {
   "cell_type": "markdown",
   "metadata": {},
   "source": [
    "Passons enfin aux questions et à leur résolution.\n",
    "\n",
    "Remarques préliminaires: \n",
    "\n",
    "* Pour obtenir les résultats recherchés dans les bonnes unités nous procédons à une simple convertion de nos résultats. Ceci explique la présence du facteur multiplicatif \" 10/36 \" ci-dessous.\n",
    "\n",
    "* Chacun des résultats affichés l'est avec deux décimales uniquement et ceci grâce à la fonction $round()$ proposée par numpy."
   ]
  },
  {
   "cell_type": "markdown",
   "metadata": {},
   "source": [
    "---\n",
    "1) Quelle est la vitesse minimale au temps t = 0 s en m/s (arrondir à 2 décimales).\n",
    "\n",
    "---"
   ]
  },
  {
   "cell_type": "markdown",
   "metadata": {},
   "source": [
    "Pour répondre à cette première question, nous faisons simplement appel à la fonction $evo()$ étant donné la condition limite, le temps de la simulation et la vitesse maximale"
   ]
  },
  {
   "cell_type": "code",
   "execution_count": 9,
   "metadata": {},
   "outputs": [
    {
     "data": {
      "image/png": "[encoded data removed]",
      "text/plain": [
       "<Figure size 432x288 with 1 Axes>"
      ]
     },
     "metadata": {},
     "output_type": "display_data"
    }
   ],
   "source": [
    "t_sim = 0      # le temps de la simulation en min\n",
    "CL    = 10     # conditon limite en voiture/km\n",
    "v_max = 80     # vitesse maximale en km/h\n",
    "u=numpy.empty(3)  #On définit notre tableau de solution (de vitesses)\n",
    "\n",
    "# On appel notre fonction evo\n",
    "evo(CL,t_sim,v_max,v)"
   ]
  },
  {
   "cell_type": "code",
   "execution_count": 10,
   "metadata": {},
   "outputs": [
    {
     "name": "stdout",
     "output_type": "stream",
     "text": [
      "→ Vitesse minimale du trafic à l'instant t = 0s : v = 17.78 m/s\n"
     ]
    }
   ],
   "source": [
    "# On ressort alors le résultat recherché\n",
    "print (\"→ Vitesse minimale du trafic à l'instant t = 0s : v =\",round(u[0]*10/36,2),\"m/s\")"
   ]
  },
  {
   "cell_type": "markdown",
   "metadata": {},
   "source": [
    "---\n",
    "2) Quelle est la vitesse moyenne au temps t = 3 min en m/s (arrondir à 2 décimales).\n",
    "\n",
    "---"
   ]
  },
  {
   "cell_type": "markdown",
   "metadata": {},
   "source": [
    "Pour répondre à cette 2e question, il nous faut spécifier un temps de simulation (de 3 min pour cette première partie). Quant à la vitesse maximale et à la condition limite, celles-ci ne changeant pas et restant en mémoire, il est inutile de les redéfinir.  "
   ]
  },
  {
   "cell_type": "code",
   "execution_count": 11,
   "metadata": {},
   "outputs": [
    {
     "data": {
      "image/png": "[encoded data removed]",
      "text/plain": [
       "<Figure size 432x288 with 1 Axes>"
      ]
     },
     "metadata": {},
     "output_type": "display_data"
    }
   ],
   "source": [
    "t_sim = 3   # En min\n",
    "\n",
    "evo(CL,t_sim,v_max,v)"
   ]
  },
  {
   "cell_type": "code",
   "execution_count": 12,
   "metadata": {},
   "outputs": [
    {
     "name": "stdout",
     "output_type": "stream",
     "text": [
      "→ Vitesse moyenne du trafic à l'instant t = 3 min : v = 20.56 m/s\n"
     ]
    }
   ],
   "source": [
    "print (\"→ Vitesse moyenne du trafic à l'instant t = 3 min : v =\",round(u[2]*10/36,2),\"m/s\")"
   ]
  },
  {
   "cell_type": "markdown",
   "metadata": {},
   "source": [
    "En esquissant le graphe de la densité en fonction de la distance, nous observons que le signal carré de départ est devenu un signal plus courbé.\n",
    "\n",
    "Ceci nous semble physiquement cohérent si nous considérons le temps de réaction d'un chauffeur qui n'est pas instantanné. Par conséquent, un phénomène de propagation de l'action \"démarrage\" ou \"freinage\" se manifeste ce qui se traduit sur notre graphique par une courbure du signal carré."
   ]
  },
  {
   "cell_type": "markdown",
   "metadata": {},
   "source": [
    "---\n",
    "3) Quelle est la vitesse minimale au temps t = 6 min en m/s (arrondir à 2 décimales).\n",
    "\n",
    "---"
   ]
  },
  {
   "cell_type": "markdown",
   "metadata": {},
   "source": [
    "Pour cette dernière question de la première partie nous fixons le temps de la simulation à 6 min comme demandé et nous ne redéfinissons aucune autre variables pour les raisons évoquées à la question 2). Nous refaisons alors appel à notre fonction et nous ressortons la valeur recherchée."
   ]
  },
  {
   "cell_type": "code",
   "execution_count": 13,
   "metadata": {},
   "outputs": [
    {
     "data": {
      "image/png": "[encoded data removed]",
      "text/plain": [
       "<Figure size 432x288 with 1 Axes>"
      ]
     },
     "metadata": {},
     "output_type": "display_data"
    }
   ],
   "source": [
    "t_sim = 6    # En min\n",
    "\n",
    "evo(CL,t_sim,v_max,v)"
   ]
  },
  {
   "cell_type": "code",
   "execution_count": 14,
   "metadata": {},
   "outputs": [
    {
     "name": "stdout",
     "output_type": "stream",
     "text": [
      "→ Vitesse minimale du trafic à l'instant t = 6 min : v = 18.58 m/s\n"
     ]
    }
   ],
   "source": [
    "print (\"→ Vitesse minimale du trafic à l'instant t = 6 min : v =\",round(u[1]*10/36,2),\"m/s\")"
   ]
  },
  {
   "cell_type": "markdown",
   "metadata": {},
   "source": [
    "Comme pour la question précédente, nous observons le même type de comportement à la différence que notre système a put évoluer sur un temps plus long."
   ]
  },
  {
   "cell_type": "markdown",
   "metadata": {},
   "source": [
    "---\n",
    "\n",
    "#### PARTIE B.\n",
    "---"
   ]
  },
  {
   "cell_type": "markdown",
   "metadata": {},
   "source": [
    "Pour cette seconde partie nous allons procéder de manière identique à la première en veillant à procéder aux bons changement de paramètres et variables.\n",
    "\n",
    "Nous commençons donc par déclarer nos nouvelles variables et conditions initiales & limites."
   ]
  },
  {
   "cell_type": "code",
   "execution_count": 15,
   "metadata": {
    "collapsed": true
   },
   "outputs": [],
   "source": [
    "# Déclaration des variables\n",
    "\n",
    "v_max = 136     # en km/h\n",
    "L     = 11      # en km\n",
    "rho_max = 250   # en voitures/km\n",
    "nx    = 51      # Nombre de point de la grille des positions\n",
    "CL    = 20      # Nouvelle condition limite\n",
    "v_max = 136     # Nouvelle vitesse maximale\n",
    "\n",
    "# Nouvelle condition initiale\n",
    "x = numpy.linspace(0,L,nx)\n",
    "rho0B = numpy.ones(nx)*20 \n",
    "rho0B[10:20] = 50"
   ]
  },
  {
   "cell_type": "markdown",
   "metadata": {},
   "source": [
    "On vérifie grâce à un nouveau graphique de la densité que nos nouvelles conditions ont correctements été initialisées."
   ]
  },
  {
   "cell_type": "code",
   "execution_count": 16,
   "metadata": {},
   "outputs": [
    {
     "data": {
      "image/png": "[encoded data removed]",
      "text/plain": [
       "<Figure size 432x288 with 1 Axes>"
      ]
     },
     "metadata": {},
     "output_type": "display_data"
    }
   ],
   "source": [
    "pyplot.ylabel('Densité'' ''$(voitures/km)$', fontsize=20) # nom de l'axe x & taille de la police\n",
    "pyplot.xlabel('Position'' ''$x(km)$', fontsize=20) # nom de l'axe y & taille de la police\n",
    "pyplot.plot(x, rho0B, color='#003366', ls='--', lw=3)\n",
    "pyplot.tick_params(axis='both',labelsize=16)\n",
    "pyplot.ylim(0,55);"
   ]
  },
  {
   "cell_type": "markdown",
   "metadata": {},
   "source": [
    "Comme attendus, la densité de voiture au temps $t = 0s$ est bien fixé à :\n",
    "\n",
    "$$\n",
    "→ \\left\\{ \n",
    "\\begin{aligned} \n",
    "& \\mbox{50  voitures/km si x} \\in \\mbox{ [ } 2.2,4.4 ]km \\\\\n",
    "& \\mbox{20 voitures/km partout ailleurs}\n",
    "\\end{aligned}\n",
    "\\right.\n",
    "$$\n",
    "\n",
    "\n",
    "Nos nouvelles conditions intiales étant fixées, nous pouvons commencer à répondre aux questions suivantes."
   ]
  },
  {
   "cell_type": "markdown",
   "metadata": {},
   "source": [
    "---\n",
    "4) Quelle est la vitesse minimale au temps t = 0s en m/s (arrondir à 2 décimales).\n",
    "\n",
    "---"
   ]
  },
  {
   "cell_type": "markdown",
   "metadata": {},
   "source": [
    "On se sert comme annoncé de notre fonction $evo()$ comme précédemment et on définit un temps de simulation de $t = 0s$. Aucune autre variable ne doit-être définie étant donné qu'elles l'ont été durant la partie qui précède cette question."
   ]
  },
  {
   "cell_type": "code",
   "execution_count": 17,
   "metadata": {},
   "outputs": [
    {
     "data": {
      "image/png": "[encoded data removed]",
      "text/plain": [
       "<Figure size 432x288 with 1 Axes>"
      ]
     },
     "metadata": {},
     "output_type": "display_data"
    }
   ],
   "source": [
    "t_sim = 0    # En min\n",
    "\n",
    "evo(CL,t_sim,v_max,v)"
   ]
  },
  {
   "cell_type": "code",
   "execution_count": 18,
   "metadata": {},
   "outputs": [
    {
     "name": "stdout",
     "output_type": "stream",
     "text": [
      "→ Vitesse minimale du trafic à l'instant t = 0s : v = 30.22 m/s\n"
     ]
    }
   ],
   "source": [
    "print (\"→ Vitesse minimale du trafic à l'instant t = 0s : v =\",round(u[0]*10/36,2),\"m/s\")"
   ]
  },
  {
   "cell_type": "markdown",
   "metadata": {},
   "source": [
    "---\n",
    "5) Quelle est la vitesse moyenne au temps t = 3 min en m/s (arrondir à 2 décimales).\n",
    "\n",
    "---"
   ]
  },
  {
   "cell_type": "markdown",
   "metadata": {},
   "source": [
    "On change le temps de simulation et on rappel la fonction $evo()$."
   ]
  },
  {
   "cell_type": "code",
   "execution_count": 19,
   "metadata": {},
   "outputs": [
    {
     "data": {
      "image/png": "[encoded data removed]",
      "text/plain": [
       "<Figure size 432x288 with 1 Axes>"
      ]
     },
     "metadata": {},
     "output_type": "display_data"
    }
   ],
   "source": [
    "t_sim = 3    # En min\n",
    "\n",
    "evo(CL,t_sim,v_max,v)"
   ]
  },
  {
   "cell_type": "code",
   "execution_count": 20,
   "metadata": {},
   "outputs": [
    {
     "name": "stdout",
     "output_type": "stream",
     "text": [
      "→ Vitesse moyenne du trafic à l'instant t = 3 min : v = 33.77 m/s\n"
     ]
    }
   ],
   "source": [
    "print (\"→ Vitesse moyenne du trafic à l'instant t = 3 min : v =\",round(u[2]*10/36,2),\"m/s\")"
   ]
  },
  {
   "cell_type": "markdown",
   "metadata": {},
   "source": [
    "Nous observons le même type de résultat que celui obtenu dans la partie A à la différence que la \"vague\" à un peu plus progressée (pour un même temps de simulation) étant donné la vitesse maximale plus élevée dans cette seconde partie."
   ]
  },
  {
   "cell_type": "markdown",
   "metadata": {},
   "source": [
    "---\n",
    "6) Quelle est la vitesse minimale au temps t = 3 min en m/s (arrondir à 2 décimales).\n",
    "\n",
    "---"
   ]
  },
  {
   "cell_type": "markdown",
   "metadata": {},
   "source": [
    "Pour cette dernière question, aucune des variables ne changent. Il suffit dès lors de sortir la valeur déjà calculée par notre fonction lors de son dernier appel à la question 5)."
   ]
  },
  {
   "cell_type": "code",
   "execution_count": 21,
   "metadata": {},
   "outputs": [
    {
     "name": "stdout",
     "output_type": "stream",
     "text": [
      "→ Vitesse minimale du trafic à l'instant t = 3 min : v = 30.79 m/s\n"
     ]
    }
   ],
   "source": [
    "print (\"→ Vitesse minimale du trafic à l'instant t = 3 min : v =\",round(u[1]*10/36,2),\"m/s\")"
   ]
  },
  {
   "cell_type": "markdown",
   "metadata": {},
   "source": [
    "---\n",
    "##### 3. Résolution du problème suivant la discrétisation de l'équation (3).\n",
    "\n",
    "---"
   ]
  },
  {
   "cell_type": "markdown",
   "metadata": {},
   "source": [
    "Pour cette deuxième approche du problème utilisant une discrétisation différente de la première nous allons comme annoncé en début de ce notebook utilisé la discrétisation de l'équation (3).\n",
    "\n",
    "Ceci implique une petite modification dans notre fonction $evo()$ à savoir la ligne de code dans la boucle for qui rend compte de notre discrétisation. En respectant ainsi la discrétisation nous avons alors la nouvelle fonction $evo2()$ suivante :"
   ]
  },
  {
   "cell_type": "code",
   "execution_count": 22,
   "metadata": {
    "collapsed": true
   },
   "outputs": [],
   "source": [
    "def evo2(CL,t_sim,v_max,v):\n",
    "\n",
    "    \"\"\"\n",
    "    \n",
    "    \n",
    "    \n",
    "    \"\"\"\n",
    "    # On pose l'ensemble des paramètres qui reste fixes d'une simulation à une autre\n",
    "    dt=0.001 \n",
    "    nt=int(t_sim/(dt*60))+1   # Nombre de point requis dans la grille pour la simulation\n",
    "    L=11                      # en km\n",
    "    rho_max=250               # en voitures/km\n",
    "    nx=51                     # Nombre de point de la grille d'espace\n",
    "    dx=L/(nx-1)\n",
    "\n",
    "    #On pose nos conditions intiales \n",
    "    x = numpy.linspace(0,L,nx)\n",
    "    rho0 = numpy.ones(nx)*CL\n",
    "    rho0[10:20] = 50\n",
    "    \n",
    "    # Définition de notre matrice densité pour tout temps et toute position\n",
    "    \n",
    "    rho=numpy.empty((nt,nx))\n",
    "    rho[0]=rho0         \n",
    "\n",
    "    #On calcul notre densité inconnue pour tout temps\n",
    "    for n in range(0, nt-1):  \n",
    "        rho[n+1][1:] = rho[n][1:]-((dt/dx)*v_max*((rho[n][1:]*(1-(rho[n][1:]/rho_max)))-(rho[n][0:-1]*(1 - (rho[n][0:-1]/rho_max)))))\n",
    "        rho[n+1][0]=CL   # Notre condition au bord\n",
    "\n",
    "    #Réalise un graphe des densités finales en fonction de la position\n",
    "    pyplot.ylabel('Densité'' ''$(voitures/km)$', fontsize=20) # nom de l'axe x & taille de la police\n",
    "    pyplot.xlabel('Position'' ''$x(km)$', fontsize=20) # nom de l'axe y & taille de la police\n",
    "    pyplot.plot(x, rho[nt-1], color='#003366', ls='--', lw=3)\n",
    "    pyplot.tick_params(axis='both',labelsize=16)\n",
    "    pyplot.ylim(0,55);\n",
    "    \n",
    "    #Calcul des valeurs recherché et stockage de celles-ci    \n",
    "    vmoyF = v(numpy.mean(rho[nt-1]))\n",
    "    vminI = min(v(rho[0,:]))\n",
    "    vminF = min(v(rho[nt-1,:]))\n",
    "    \n",
    "    \n",
    "    w[0]=vminI\n",
    "    w[1]=vminF\n",
    "    w[2]=vmoyF"
   ]
  },
  {
   "cell_type": "markdown",
   "metadata": {},
   "source": [
    "Ensuite, afin de ne pas surcharger ce notebook et d'éviter de laçer le lecteur, nous nous permettons ici de donner les résultats d'une même partie les uns à la suite des autres, les justifications et l'emplois de chaque algorithme étant identique a ce qui a été fait dans la partie consacrée à la première discrétisation."
   ]
  },
  {
   "cell_type": "markdown",
   "metadata": {},
   "source": [
    "#### PARTIE A .\n",
    "---"
   ]
  },
  {
   "cell_type": "markdown",
   "metadata": {},
   "source": [
    "→ Déclaration des nouvelles variables."
   ]
  },
  {
   "cell_type": "code",
   "execution_count": 23,
   "metadata": {
    "collapsed": true
   },
   "outputs": [],
   "source": [
    "# Déclaration des variables\n",
    "\n",
    "v_max = 80       # en km/h\n",
    "CL    = 10       # Condition limite en voiture/km\n",
    "\n",
    "# Déclaration d'un tableau qui va contenir les vitesses \n",
    "w=numpy.empty(3)"
   ]
  },
  {
   "cell_type": "markdown",
   "metadata": {},
   "source": [
    "---\n",
    "1) Quelle est la vitesse minimale au temps t = 0s en m/s (arrondir à 2 décimales).\n",
    "\n",
    "---"
   ]
  },
  {
   "cell_type": "code",
   "execution_count": 24,
   "metadata": {},
   "outputs": [
    {
     "data": {
      "image/png": "[encoded data removed]",
      "text/plain": [
       "<Figure size 432x288 with 1 Axes>"
      ]
     },
     "metadata": {},
     "output_type": "display_data"
    }
   ],
   "source": [
    "t_sim = 0    # En min\n",
    "\n",
    "evo2(CL,t_sim,v_max,v)"
   ]
  },
  {
   "cell_type": "code",
   "execution_count": 25,
   "metadata": {},
   "outputs": [
    {
     "name": "stdout",
     "output_type": "stream",
     "text": [
      "→ Vitesse minimale du trafic à l'instant t = 0s : v = 17.78 m/s\n"
     ]
    }
   ],
   "source": [
    "print (\"→ Vitesse minimale du trafic à l'instant t = 0s : v =\",round(w[0]*10/36,2),\"m/s\")"
   ]
  },
  {
   "cell_type": "markdown",
   "metadata": {},
   "source": [
    "---\n",
    "2) Quelle est la vitesse moyenne au temps t = 3 min en m/s (arrondir à 2 décimales).\n",
    "\n",
    "---"
   ]
  },
  {
   "cell_type": "code",
   "execution_count": 26,
   "metadata": {},
   "outputs": [
    {
     "data": {
      "image/png": "[encoded data removed]",
      "text/plain": [
       "<Figure size 432x288 with 1 Axes>"
      ]
     },
     "metadata": {},
     "output_type": "display_data"
    }
   ],
   "source": [
    "t_sim = 3    # En min\n",
    "\n",
    "evo2(CL,t_sim,v_max,v)"
   ]
  },
  {
   "cell_type": "code",
   "execution_count": 27,
   "metadata": {},
   "outputs": [
    {
     "name": "stdout",
     "output_type": "stream",
     "text": [
      "→ Vitesse moyenne du trafic à l'instant t = 3 min : v = 20.64 m/s\n"
     ]
    }
   ],
   "source": [
    "print (\"→ Vitesse moyenne du trafic à l'instant t = 3 min : v =\",round(w[2]*10/36,2),\"m/s\")"
   ]
  },
  {
   "cell_type": "markdown",
   "metadata": {},
   "source": [
    "---\n",
    "3) Quelle est la vitesse minimale au temps t = 6 min en m/s (arrondir à 2 décimales).\n",
    "\n",
    "---"
   ]
  },
  {
   "cell_type": "code",
   "execution_count": 28,
   "metadata": {},
   "outputs": [
    {
     "data": {
      "image/png": "[encoded data removed]",
      "text/plain": [
       "<Figure size 432x288 with 1 Axes>"
      ]
     },
     "metadata": {},
     "output_type": "display_data"
    }
   ],
   "source": [
    "t_sim = 6    # En min\n",
    "\n",
    "evo2(CL,t_sim,v_max,v)"
   ]
  },
  {
   "cell_type": "code",
   "execution_count": 29,
   "metadata": {},
   "outputs": [
    {
     "name": "stdout",
     "output_type": "stream",
     "text": [
      "→ Vitesse minimale du trafic à l'instant t = 6 min : v = 18.78 m/s\n"
     ]
    }
   ],
   "source": [
    "print (\"→ Vitesse minimale du trafic à l'instant t = 6 min : v =\",round(w[1]*10/36,2),\"m/s\")"
   ]
  },
  {
   "cell_type": "markdown",
   "metadata": {},
   "source": [
    "---\n",
    "\n",
    "#### Partie B\n",
    "---"
   ]
  },
  {
   "cell_type": "markdown",
   "metadata": {},
   "source": [
    "Les conditions pour cette ultime partie sont données par:"
   ]
  },
  {
   "cell_type": "code",
   "execution_count": 30,
   "metadata": {
    "collapsed": true
   },
   "outputs": [],
   "source": [
    "# Déclaration des variables\n",
    "v_max = 136      # en km/h\n",
    "CL    = 20      # Condition limite en voiture/km"
   ]
  },
  {
   "cell_type": "markdown",
   "metadata": {},
   "source": [
    "---\n",
    "4) Quelle est la vitesse minimale au temps t = 0s en m/s (arrondir à 2 décimales).\n",
    "\n",
    "---"
   ]
  },
  {
   "cell_type": "code",
   "execution_count": 31,
   "metadata": {},
   "outputs": [
    {
     "data": {
      "image/png": "[encoded data removed]",
      "text/plain": [
       "<Figure size 432x288 with 1 Axes>"
      ]
     },
     "metadata": {},
     "output_type": "display_data"
    }
   ],
   "source": [
    "t_sim = 0    # En min\n",
    "\n",
    "evo2(CL,t_sim,v_max,v)"
   ]
  },
  {
   "cell_type": "code",
   "execution_count": 32,
   "metadata": {},
   "outputs": [
    {
     "name": "stdout",
     "output_type": "stream",
     "text": [
      "→ Vitesse minimale du trafic à l'instant t = 0s : v = 30.22 m/s\n"
     ]
    }
   ],
   "source": [
    "print (\"→ Vitesse minimale du trafic à l'instant t = 0s : v =\",round(w[0]*10/36,2),\"m/s\")"
   ]
  },
  {
   "cell_type": "markdown",
   "metadata": {},
   "source": [
    "---\n",
    "5) Quelle est la vitesse moyenne au temps t = 3 min en m/s (arrondir à 2 décimales).\n",
    "\n",
    "---"
   ]
  },
  {
   "cell_type": "code",
   "execution_count": 33,
   "metadata": {},
   "outputs": [
    {
     "data": {
      "image/png": "[encoded data removed]",
      "text/plain": [
       "<Figure size 432x288 with 1 Axes>"
      ]
     },
     "metadata": {},
     "output_type": "display_data"
    }
   ],
   "source": [
    "t_sim = 3    # En min\n",
    "\n",
    "evo2(CL,t_sim,v_max,v)"
   ]
  },
  {
   "cell_type": "code",
   "execution_count": 34,
   "metadata": {},
   "outputs": [
    {
     "name": "stdout",
     "output_type": "stream",
     "text": [
      "→ Vitesse moyenne du trafic à l'instant t = 3 min : v = 33.87 m/s\n"
     ]
    }
   ],
   "source": [
    "print (\"→ Vitesse moyenne du trafic à l'instant t = 3 min : v =\",round(w[2]*10/36,2),\"m/s\")"
   ]
  },
  {
   "cell_type": "markdown",
   "metadata": {},
   "source": [
    "---\n",
    "6) Quelle est la vitesse minimale au temps t = 3 min en m/s (arrondir à 2 décimales).\n",
    "\n",
    "---"
   ]
  },
  {
   "cell_type": "code",
   "execution_count": 35,
   "metadata": {},
   "outputs": [
    {
     "name": "stdout",
     "output_type": "stream",
     "text": [
      "→ Vitesse minimale du trafic à l'instant t = 3 min : v = 30.99 m/s\n"
     ]
    }
   ],
   "source": [
    "print (\"→ Vitesse minimale du trafic à l'instant t = 3 min : v =\",round(w[1]*10/36,2),\"m/s\")"
   ]
  },
  {
   "cell_type": "markdown",
   "metadata": {},
   "source": [
    "---\n",
    "\n",
    "##### 4. Animations :\n",
    "\n",
    "---"
   ]
  },
  {
   "cell_type": "markdown",
   "metadata": {},
   "source": [
    "Pour bien se rendre compte de ce qui s'est passé dans les questions précédentes et afin de bien visualiser la situation, nous pouvons réaliser une animation de l'ensemble des graphes (correspondant chacun à un certain point de la grille de temps) générés pour un temps et une discrétisation donnée. Ceci nous permettra de visualiser l'évolution de la densité en chaque position au cours du temps en plus d'être un bon exercice pour réaliser des animations.\n",
    "\n",
    "Pour se faire nous choisissons de créer deux animations pour la discrétisation de l'équation : $\\frac{\\partial \\rho}{\\partial t} + \\frac{\\partial F}{\\partial x} = 0 $. Une première pour la partie A et une seconde pour la partie B.\n",
    "\n",
    "Créons maintenant les animations désirées."
   ]
  },
  {
   "cell_type": "markdown",
   "metadata": {},
   "source": [
    "---\n",
    "\n",
    "#### Simulation Partie A - discrétisation de l'équation (3).\n",
    "---"
   ]
  },
  {
   "cell_type": "markdown",
   "metadata": {},
   "source": [
    "Commençons par redéfinir certaine de nos variables.\n",
    "\n",
    "Remarque préliminaire: Le choix du temps de simulation est arbitraire."
   ]
  },
  {
   "cell_type": "code",
   "execution_count": 36,
   "metadata": {
    "collapsed": true
   },
   "outputs": [],
   "source": [
    "# Déclaration des variables\n",
    "\n",
    "v_max = 80       # En km/h\n",
    "CL    = 10       # Condition limite en voiture/km\n",
    "t_sim = 3        # En min\n",
    "\n",
    "# Déclaration d'un tableau qui va contenir les vitesses \n",
    "w=numpy.empty(3)"
   ]
  },
  {
   "cell_type": "markdown",
   "metadata": {},
   "source": [
    "On définit alors notre graphe animé à partir d'une nouvelle fonction reprenant notre équation discrétisée. Les conditions initiales & aux bords seront préalablement rappelées."
   ]
  },
  {
   "cell_type": "code",
   "execution_count": 37,
   "metadata": {},
   "outputs": [
    {
     "data": {
      "text/html": [
       "<video width=\"576\" height=\"360\" controls autoplay loop>\n",
       "  <source type=\"video/mp4\" src=\"data:video/mp4;base64,AAAAHGZ0eXBNNFYgAAACAGlzb21pc28yYXZjMQAAAAhmcmVlAACHaW1kYXQAAAKuBgX//6rcRem9\n",
       "5tlIt5Ys2CDZI+7veDI2NCAtIGNvcmUgMTU1IHIyOTAxIDdkMGZmMjIgLSBILjI2NC9NUEVHLTQg\n",
       "QVZDIGNvZGVjIC0gQ29weWxlZnQgMjAwMy0yMDE4IC0gaHR0cDovL3d3dy52aWRlb2xhbi5vcmcv\n",
       "eDI2NC5odG1sIC0gb3B0aW9uczogY2FiYWM9MSByZWY9MyBkZWJsb2NrPTE6MDowIGFuYWx5c2U9\n",
       "MHgzOjB4MTEzIG1lPWhleCBzdWJtZT03IHBzeT0xIHBzeV9yZD0xLjAwOjAuMDAgbWl4ZWRfcmVm\n",
       "PTEgbWVfcmFuZ2U9MTYgY2hyb21hX21lPTEgdHJlbGxpcz0xIDh4OGRjdD0xIGNxbT0wIGRlYWR6\n",
       "b25lPTIxLDExIGZhc3RfcHNraXA9MSBjaHJvbWFfcXBfb2Zmc2V0PS0yIHRocmVhZHM9NiBsb29r\n",
       "YWhlYWRfdGhyZWFkcz0xIHNsaWNlZF90aHJlYWRzPTAgbnI9MCBkZWNpbWF0ZT0xIGludGVybGFj\n",
       "ZWQ9MCBibHVyYXlfY29tcGF0PTAgY29uc3RyYWluZWRfaW50cmE9MCBiZnJhbWVzPTMgYl9weXJh\n",
       "bWlkPTIgYl9hZGFwdD0xIGJfYmlhcz0wIGRpcmVjdD0xIHdlaWdodGI9MSBvcGVuX2dvcD0wIHdl\n",
       "aWdodHA9MiBrZXlpbnQ9MjUwIGtleWludF9taW49MjAgc2NlbmVjdXQ9NDAgaW50cmFfcmVmcmVz\n",
       "aD0wIHJjX2xvb2thaGVhZD00MCByYz1jcmYgbWJ0cmVlPTEgY3JmPTIzLjAgcWNvbXA9MC42MCBx\n",
       "cG1pbj0wIHFwbWF4PTY5IHFwc3RlcD00IGlwX3JhdGlvPTEuNDAgYXE9MToxLjAwAIAAAB1VZYiE\n",
       "ADf//vbw/gU2O5jQlxHN6J0zH78VuLo0N73OAAADAAADAAA4NF8IGO3xAUBr0dNF3tmwDHZiVVsq\n",
       "8H3wsvXM3b6Tt+BtdMU1Z5/dF29dtaSySRV73lORak/GE5WyKKNXFq2sW0C2dO4qDOvrhjdt5+Lx\n",
       "exe7XgAAAwGh3fBIMD6QMbtwUe3UlvP9IQHeDk8f5PGKvh2sbr8IQHxxy9kKuzmvf09xu+mOHWih\n",
       "yV0svuEjnNtpHW8CWi8hAgn3XVMdhiBqFODi3Om8zHqXLZZOwGJ1NDKH0zMeXKqdbBavABVBIgNX\n",
       "3Z17IYSl2PTHmkqiI8fTpD8byPEyFj6siPImfqCDZQYZyn2XDcQejJ/PGTM6IBSQfzeJ3FXXxCfm\n",
       "iBotF7ib+9Uly5vsXqTdAXEqOlra6ArGV1RW43ENjYEmbo6N7l1Dpul/AAU4UnwXAYOtIMQxYW8g\n",
       "jm95Vp4kOjHsAXoYLRB9/fRbfmGoLowe5ZOZsQyvGi5Gp6iDnddd9aU/C0yUADSYqNvRsgbdZFl1\n",
       "4qopRhGJrL5QsZDAqhBKfHdiqD52voiee2U2+amDSCFjhABThZXLRbnlz73H/utQFvbDOAn5UO58\n",
       "z9Yk2/4wsj8vF1Z8N6vX+2qieSquUNK7iYCoctC9/AiT7WSYsugdFhZUfvVTLCi77mn5RtQ71gHP\n",
       "vxT2Widvc9DFpyu6++/LyC9tKBdZOxQLfUu4IvEjL+CGa6+hFq6j+d09O5qjjs56piN5wslojku9\n",
       "toyIb+yKugktStislt8VgejWmfzo9GolCD/o1TquTkP0fd0/wMxWOqHDMRUULi8sXiNx9SeMdBgA\n",
       "Ar2lZa6t+q4kz7j1jJwYmx8yaG11kC021ytQqwiSXnLG6jDj1A7ehbChKjMza5e/0qUge2wTn0Cs\n",
       "fB9dmoviCpw51oUN+uQSYUBmtyb4mXIaHkYjfKBSnmCbWqd+3atTfDwqjKlYiVmfeWSHKO6ujlIY\n",
       "WADJ+RsowVCRUGrSeKjZAa2VHkGoRTgfmvUSiHCFPLlzA9pMxoGv1G8tW1OuPvFEFVWU165NYgUj\n",
       "gxW6o4RAP3H8ocOhtWDch7tVh1lpEiiHwv0r6aZfd2AtpuzPH2DfEVw0zsOfLpdMaVl2P8aGujmy\n",
       "FLVY4nsePQoodTivUCXK9dVjNDfevW51hl9pN2nMHuxP+8j4dZe9khXPKLdWS9n5JZ1BOS8jes/j\n",
       "1qGHPQrFFIMd3C+geCKxMsl6RPnzRQWCAZ4bY3EERIbritjeNHPkZP3EldkYK2ohxAE/2Gb9C5lN\n",
       "GevyCl5r43ME/QHqmbJevCAOyuR21U7gyNezSgu10t0sqrPJ4NaaODMEeSx5Cr66t/dRQ4M8ovIJ\n",
       "SjCfeuP0/gPvgqgg2NAb2bxOe6l2mJRS6eQmEawYJLci2MIsesSQghuRAjkbIKwzS4gYeRIprwYG\n",
       "N1cs1sHMbkt1cQ5zmdtGsOUOe0/kkYr6YvTYhBTCBFYq3BuQnkuP1uhNVfF85VfZKTbQKUUvShzc\n",
       "gXi563WoAhFbT5BM4rB5i9gIKxko6SfgZmQaTlEzkfxr1lL2AUelIe31DThYtSmhxDYbd2ZJmxDw\n",
       "qlNg49y6+J9ISAuSD7eBBd4RSofmpRdBb9d8DS3ek16zIvtop6OLJSsrjSrE3v8rULw9Rkxx91MJ\n",
       "niVZdRPX0aTjRGI5qL6znA7LFsXgbbRHQaQ6cCiIr+zPUh/4qP2LShKWnc5CgET0EFaUPLyJHJ6Q\n",
       "zwkxhlb+/r27FIad9lSbbmB6corGtxZqCN+NdCMImr3MEMRHc0lIS5DhHXCTMGoG7+27YVTFDnO2\n",
       "lOapBP26dOHCUiJVXOIT9DvmlsoMWCN25evd3G7pP02EUWLDqaycXNoLjrbY1jgrvMp8/c70S6oS\n",
       "dSLFLG4qx+gSVOLkLT8gQLVKefqXa9ifLaD6pmTaHKXbT3/Hsb9AQ1B4bSI5DTyPdaKygpSHi1B4\n",
       "gTEK9TJg3BekZ6UpG0vjgdkdY7+Xrn//lz/8HwjcMd5hhP6vJgUP+sB1TQke4TgJZjW9eUQ75tmX\n",
       "UEPeHvkQQBQFn9vtpJB2k9O0X+lmov1UH63a0u8gqLAaOlMdmDmyOi63TfRuSJ/xx8fWuGaF8tlW\n",
       "E4n5GEX8l90xcKK4T1RgpQURjA1hxY84X7stPKIVTDNxcHA6aD9dJ2pFxUz1w6JHIJOcwVbUqyJr\n",
       "xDjjpbLqGIs26uKTZyDc+7oFZ1QpqXkXRm/ljYhPR2oPpTsXA0uMoc7OD0BaM/sj9FBMQH+tmpkN\n",
       "Dk7vNYOLvemlqegfH2evFBKfr7VzOZyvOcAJ8oLwKM2w+KGX6SnAc2xOfcRf8wZ5cUN4H4XJQMpY\n",
       "6dpk0cLb8VGAZ12FjbcKs9/b8kHPfRp1jYRLaXrto8zkfx22LZD3N301G9sCVnsOMgp+WpDvX2fc\n",
       "9F+TSLoDdocwU17kpuD4g9eHNH55/MiJ73wD/rzPVwV58txcZp2TvURi+nquoWTFzOgoI+9t2m28\n",
       "lfnXJAs0l8HI9oZEGAcfM5Ux6xE4DlmuPO+3ovt8z/GhV1Zft3ngVCV4G6m4hM4vrg+teJ6U0jnU\n",
       "JdVPwqQhDu2vzBVx4z//jLiuAHgA8erncoyRvUrxaV45tKRO38+00ujZenonPc31boi6spw/ez5G\n",
       "Stnl8r7nF4DG91Kk3m2Pp5NEomSaVqtkjnv/AB2jbbhE26YAdTImtjaZNe5toSsocT1SkC73NEhR\n",
       "0w+GJLIRnv7Fvvmir3tcwmR65uS9wSqGwU4gN/61dDg3HSe3prdTpSdSPonIEJgNiN3bYWiB1RFD\n",
       "bLoYLZNxjBvJhuLCHO971NLChRfzJ/H9STa+BzQnRwcfLaNZJG8DQiIiSo1hRZRoh3muHS5iMjPs\n",
       "4oNCuvQYi6JrbvF9v4r7/O6sL3p7FyWRxGwllzQuiq64mhZpC8ix4fhpsuTUn+J/GILaziG8h7up\n",
       "M+xV6+ARomEV/pfhr6ggD74I3o7ZDjrbaZ2WA5mqIWajHr3cxrM/g2zrO5sxL8kPTw6dKN9C2ilT\n",
       "uhaXRjTA29r39UyuyR8J02KSNr97L3YQnteiQdUyy/E7C3Qd371O2D0O03rX0dYttP4Lgll3Ru/k\n",
       "2tYGk9QqxEVsogCew40ACLGC5kUluupSxdtR6OnAAYFy7VwxhxxND0Q77CDDZZ+63t5E7YCPQAU+\n",
       "stoeMVp0nIj4AQBZUp6hbzSXw/Z/lTO3+avNtnPGgGBYfI3dRzdpn5mAKlSndmQMIWCwNil7dODA\n",
       "CewPuZ0vB0S+MkN55lE8KVM+1udMNAWCRm/KNRoN/yR69PMuND/kOBuRb8Xi4SaXbzO6pFkgHmsm\n",
       "8+F8joBXeR/L3YLXFfiB7EZGpIl40emcfQg9XFN8lTwYNnXfEY37JBYHVn6Hx0ygtf7owREStqNP\n",
       "QrARxLFEXop6GUpKlw1qseHSzF//ze+i/AR7u3EU92y24PijsiFs3IoOtsuou8NCuUS88fbaVqyZ\n",
       "N7IpWe0cv7LU53Bipc1DOnsIYoLsOUwUTOF/CwtCA8quS4Zni82vKNe1OTG6QtYJu6eZXjq4xMM1\n",
       "+5Z3YcU/oXTX4Ti7SawclctBSGOLqhBNkxD52f4hbB9KOAYbNfbIFeWNz5rAf8XVw/kRLC45rTAk\n",
       "VixrI6T3FyMN5rOuPp6eWp9PAqRz63p8H5M0Qbg3jCtu0fAU3dqMvTERs+C1LPIadK+ed9muoSQa\n",
       "P7b823wFbOD6XyL0tIr+POGwnnAGS9fBVhPkpXSK8InnkuNfmuP5FawBJPwdlv4wRuGoc1IAXtDJ\n",
       "pJYx7YTzm/OkbpF1qFuGojYTNPxML2lsbhVqLEnTzSE7uD+7OetQGk6QPS7Wg8oE890etB/6cqFP\n",
       "xztU6rfVxiKR56zOpdxWAq4lKFucV7g6Dmoh1zs0/Q5TTTqAwqGa1DG//u2EoB8Nnu5dDhCKvncw\n",
       "UxDTvuuX3lWIxZbza989tt6A2LVnLjSZzUVyidfg7RYuLDCq+YLrjxg9OljvmO+VGO2IUVFI/7PI\n",
       "a6nat9pEClWKUno3I18bxF5KUK2OnCPxODe+FxIJbV6ph2Ikuj85Gm5ovYnL/e0KxeyG+dXpDwU1\n",
       "DHtC5YRikb/7Pxi2bAGjahKT92ZyRxZcpJoXf5i1Oq4mnMmLkvPntd9sKKsekifU6lHGk5zq1Xm0\n",
       "ygRlUs4X/LPOPjbtMSaFAF/AwcX9EjHJa1PTB367tBX9hYrYseD2SDLRh85MehOa3mm4ymaHsQhF\n",
       "SGJrMSBMG+qk2MJHSrdgbSHHJCUzlJ1ikOlfi5B+leq0gNCpCHrxvoRbLJqCki+bdmCfuEuvtJ6e\n",
       "nFSXv/940CpPGLCzsu1G7iQ/BnauyR57YhzTsGu7oYm/7snKeF31BW/bICPzcasrMRPg2kJJNYct\n",
       "VskpjNfQvXkceVHfJbmDUN/hFxpKZGEVJAvN8r1P3mpeycV9gjHemvC4kttDOtOkvk0lkHei3II2\n",
       "akdP9CoLoluZzQcMmYs825Tr0OtsV5av4PUlalDrN12fICFTGuBLLh5tzdsvKL0w9CTgaudI7cGh\n",
       "4GLirjIl8Mr8SHvp1CmClZ2BDbiC101kGIOqo55laLU0QYAE0nplsurLyaPWDlAlIMHbn/WRjQiu\n",
       "aBxazLs/rjZabDcW5wXyivtEK2Nijk3N5JS2t15nZsRbNr/j3S9fEmPKciGI4+dPrNwQ0FapQ+OD\n",
       "nXcq1n3sv9Wv186n1BV9SMwqkB5Bv+JLX2VI3tg71zMkQKzphpwm/2MqDPsr18MpQYY/Sw64St5x\n",
       "fLfZ4r5L/6ZZ3cjYAPyN3/QlmHWrPVMrSwJHvM6Pr9YgU7Accvn9NusqOHHanBe+rpM+etQ5Q9wa\n",
       "GSc9UGCFy17ogufJthgYyjd/ZNgP3B7RNW1KODqqJya/77lvEbqPPxLnx+Hg8qLy81KTSP05JnAt\n",
       "C8WQcjiD+ISFKrEHqdo7G2sH9TB/YfvQfnJDxW5BWBFDgVrDq33se2OTStROUw7Zxizy/1/G8TXQ\n",
       "GOyvBNt+Kg5bPTm9FKGE0Osnfh4ODSOcyQsEZGHxfGKRPlgXC4Hdv/uOUfReVWofzGp0zA5gxjVF\n",
       "uhEa/UVaZaNmPDv3H+m2IoL97rJMzI5VxvUhTeEYWeZ0hqWE2Sn1UotXNNO3QhQMOqrjy/ApD2ic\n",
       "vUGL878sSKLYAJNizVuYuFihe5uWKASTs5buUbtXAYvUgt8gSRiLMlxzzpoC8VEjHgDl+kfA9wAC\n",
       "s9cN2Z+blG07bPHMhfVbkDe2l8U+EdbZY47gI9KtPSRMflMHnPOMqZVsLr0AbnoDYU+7Y8a18h78\n",
       "CV+Htzmn6910d65fVXSbGKzYX46YofODYc42Iutwlm0elk4xKKfvFg/CaBtvTJgQxVMFAktCN8g1\n",
       "wu7ctAfuNrVxX8Ixbx6BRZzQ6hl/p9azQGEDHvTa5VAWzTprYjVhSiUpTHxZFAqhhcfuseGPHQJD\n",
       "69Pm5YJVUWECCOusES15nGkVH4Q2dyro8r5uKD1sR2ko60thYJSK1bsW+P7fAOKf8AoU9hC9YhX5\n",
       "/X8B6w00lqGKl4eWJeQaTCTeP+BwjBj85CoEmQEM9fqCuLtOa2YdeAf4gZfQ4jjlYlQXtcLcBBzB\n",
       "lq9+yJMuHKxf6fjvQNOAp5241jq8iXajJ2ZOt5dHpi/eW4p48RHP6dwPRUAzOJGHdXJ3lY7LkZ/w\n",
       "PQU/48p0iXlv3BaWBucqddJKlkLhs5I8M5eN9gApU1VQ51BAL0m6hFL6CfvCX1wv0Bx8GSo7rlQT\n",
       "iuXE8t4zl9U98oDjvPFsLKfvGk33OoLzZK0+ucKhWfEKS0zqkffWQi1ePyuHT45VvsHjfu2NMyJe\n",
       "Ror2kUEoR7Ln0JcLQigNXft/75OM/Tic202cg1Gx8FX4msYQkzIuvRwlBxqQ8+QIktwb8rlwCHMO\n",
       "BDp2LvVWeE7exhTSrI+jTQeIFeAdF5pBqgwHyh/iAB1KjBb9QCu4Y9rwNr8IKkkgjSV1+kOEfWHs\n",
       "eu0yRkclgSYpz9uWJu2AhsAX7Na9wl92SPsB6RE2Rs+bRYpJFBGZsCRDla0SzZfUYxsqJuoUzVhn\n",
       "CXpdu+BcT7E+D0g9jEw/RgPSCWlGi0EKqXqzn9Qz+qlskcbYDa6sm1SqfO3QMco5GXWeOELXBTt9\n",
       "QBfajpPpNB+IDF/sRriLq+1A7Zrm7fRBje1QIGtuhvktZWEm/fTQMTqJsx96Peb3cyFGl7C1Y4An\n",
       "yREAwr4NS/mzTCGB1CDZIDFyQ6iiia1uEZyzEpcYZeM7mxN7SBGGfOg5TU67hWXyoj4LVU9k2Xvn\n",
       "id2VOA/8/JO5xSClyeyQmI4zlTNwaCs0g5kQ9Nn+Xt7WexngnWQrlcRpCj3TADWr3LFReO4gJ0pV\n",
       "z9pZVgF87fARUZ6kUJdrC3QlpMDvTZsQUfiqNpNw1IlgW+ZawF73LFXeLl993NrLFbHRmJpCEbGW\n",
       "lfLsL35UiqgGdMVe9o1kEbPzlomlKs8a3URzXvbhLCLy8RhnwmyG9sLJ49mdkZFhV5gAAEeJOhdo\n",
       "5odFhQge1Bn5Qh12ypD67WMF4b/sZtYi0+wRL7SoRienEe5xHRxRqBi6AfQM2zCBV6ee5RX9G5wM\n",
       "Z9LNxpVp66fZHb7KpJAW1ImeShUFtulSRsirCzXvsxR7pDEm/SNBxOqYvyDbc8DWpSG+29rZYlCq\n",
       "kN0OQCQpCESJqMddZ/Pb6Rq0XNQ2EVCyeTQQX+ti2Z0Sun/ynAdA2PbMVfq7SEEXX4nthtcOprG9\n",
       "aVTenfUIr9M+NYTk1aHZoVDyhNSB7qlz3ydTJ6MROToHXkcceWnR4wlMe+TT+cptATZIY1imN900\n",
       "1xv0A3jS4Upn81RDYbvo4JXkhfKl5ezRdvwMWAmagiPXiN5CW2woRN1IRFux/2aiRD7InuQK1CER\n",
       "zKrawP1BXSNyR3shgO4qu85/mIMjLS4OKao1Ky0q86Dh7vBQSkqmntUS9qFTvXUo3p2UbW+gp63V\n",
       "PgGFwHCsD7MhrKiskD/nDdiR04kuokDLMk3qGf+gVTDvWibCReHo2gTdo0PX3vjKmfh5fxIUiYO+\n",
       "/C1nrlaxgL+jSBebj+ipUhHhhrI4VnjAsR5x8MCGy8CyHJV3o/pMA2HIKGyqMRpowvHeHZ3/g1xS\n",
       "b+Un8lrPd1CabLXUXCoCGrf/e/+JrBioLAf0d4JFxGGzk9EiRQ92uh/wKpnBxj9y5L+j59VeTvY3\n",
       "nF7HiHQplknPg9ff5m5rXL+q2IUV43lz37/HgHOkodeW1SqaUH1BJy6XnKzXmqBq5oLfnvnT/TeH\n",
       "///6nny5sei9IKtGD1pnx6bmcT5XqnC7rBw8wKOhOTCEe6VBmG/yYl5kcoZ9431u96dmw8fJgPbD\n",
       "UuavlrxhlehVEiGixp/BoPS1YmaqC/nQpLkcYNkcP8G7ACPN4R0rjpqdnVXsFOJwsN0xP5kH4IsO\n",
       "KP5excRBk5csntq2gxHug7bvC7o27UmJpxvGkc26ZcoRC2qiz5IK6wFJSnLbutH/Y7gselyuZbCr\n",
       "Q4ZqwUvtF418VKWo+nKT6cXZLJgtMOV4hZCCwj17wV4uA+n7THZvE0AZbp3bJ3+PJGjHqDltifsc\n",
       "+i/+5RpQlgauBTKH7vmIap4qcyP50RsY7pJjsqBAc2z61bMyZJuaIlgJ9fBVd7OxYFi/MZRU/kjs\n",
       "vHOPNhpr2qcazNkkeb1z1sB4rgojBKEeVt1p6ycS/kRPFelFn0Gt2gb5cJJdkmAyVkdoyZnDVZD4\n",
       "1yrdKx8K7z0ZYxcDXX9arh+RPgTTEiAg5Yr7I7P/Pfm4gZ4PtL+C1Iwd1u2g7Pyv9+UEcd32YtSi\n",
       "nV9fyeqGk8AhJO9yJUCR58DrwbZb6wWkQJTNdVmUAzjm5wg4R4FlYqpUMcjkLOT8PUcGUyn880KE\n",
       "BYmx0FwaxF52uXP3RVaIxwZqLD6SIT9thdP7P5/3V5Te1MiZ81d0Scys7LwRJGplt/W4hSJwgIv+\n",
       "ZOpieelyrib0/MCMhQSs7T6r1YBYQDLPJNL0fQbZu2yefpVii1NCmquG69lefwdfcf4w+DSuaZ0H\n",
       "Uxh3QndMUl9MlNHyWSNnYBxQZZerW7TbXXGONfGPmPrlapQb4wWxQPo286tgEqRfmtm0s6i/t514\n",
       "hWQ7PZjfaFOjowtJw4T3b6lNtwcDm0M8/Lxi/LDUoIt2X1vQ5cot4UlNCAj362cnqpESx0k7kOKQ\n",
       "hxE1uZIHNZ7Jn4FEF5kZVr4G3b3/+xITGuXw/mHucxzd/llsX+6fETdyl4zJM0/qPcb1hI5/ieC0\n",
       "7HGFf4J5RnWNALjr2ofuhl40sCnfQNa8Jh+txamam4WQnX+6G1FCv+aNmsVQFrWekgCZcpB1wOLE\n",
       "5uOgP4Y503OZAcJ7ulRHKZUddKBchCwLQb6M4DLdvkBrDE3GjIAzzqN0awZJhMhPDAga4RVM0PuB\n",
       "eqsqKzF84/MuGsXmwvFfiBaONClLtZZjPYmmK0/36dpC0MDmO3r0MxNr8Y2Ye9h+aI9Du3p//okX\n",
       "QULcz/rNWuFcdZKGdC3wEOO5ehLiTc2VEq+c++CGetFGm74EbUynK9t17SJxisQDGpxr7edcX4vT\n",
       "HU+i+/v2297uZOyVeF2LAvIr/GSGj/YHK+VqyEmP8YHML+uUJz+9vp04nxwBEFlpZP6RUDDJigNQ\n",
       "+wiw8jMjZjKtviMofiiBbH/q+IYvDyF9MV2rL5JgpDAz2xca8EtXj5BtHpAQTQtnNuTfIHTHCaSk\n",
       "4HMZkMSQIKfdDJA3X3wBRAkrTEUJbNqC1yVLS/np8m8h2mRFqUYHqHeOGAZtrYe2ynmbDu2Tet8z\n",
       "JeH+UOGzwX2WTbwiIfSOkY2URnm4RY+5yDyI60LpM74zeMjY+zzkPuyP/vcDQndL9QwlRdFLblxG\n",
       "ziU04FKKQ9KSNKl3/qgqYtKVzuJN03hdq5E/YikZkXflt4T5+F9vnbwk+ai46raA6g8UOb8tzgGS\n",
       "/mJWuHUXpK4aRCYSfge/hnBIwqk2E3C0tdtAwZMxg87vvnhQULE+jaj1wYJhgPz9OEm7fVds9Fh7\n",
       "XAg+YTjJueuReOZ+pNljyEZorL40v3VzbEb5OVjJW93O54SDi9R4HEulUA/2TGdcZSRbsL3ixJ/+\n",
       "tApnyODwyTaUU5ZyOwYz/jHYx1hdIlYVpr9qgbeywhd4+v8d6MReyIEk1JN/VfNahPRlx6jufzfV\n",
       "JSdXOx7+XwAJlrnFDnZFZsgWILwmTzhYEGJwhwvnbMyYicGgUv60/h/cain/xkDa6n5a+5D5bBIg\n",
       "UxcFIP+H+7tMR9HRf6rGOgoYOoRAA/TKL05GTeiDiuVfm34zJleva3DDL08iPuDcfH5lm7KdELWX\n",
       "ryABsjpjfV1fRpH+Ciw8F7KAWyGiVIvgNuuAIauamiywKrUhzJSsTghXwT3tooIaFTYCUJl9II2m\n",
       "YCwAgi/ih/oeCt5RmgKwCMB28q8owPpr79OgZti9vQqVInhzCMscCkZyKnHs63Xc+6fIwgqzN3Io\n",
       "Hmdq7rQ2DRXvJTEc6v7zsius23MaH0YUdfjXP8CnXoLgvbrEExkpwY8bzxbiydKXe4SfJZUsAwzn\n",
       "p6oJis5ZqciMh1Ct+0okxrb7vwf3gCyra2UdkCz7Wd9lClvizORzq6PPpO47dt5nOLOmBkV8Lh4m\n",
       "NEQwHlb4HZfu+V1fgJe1CHQ0ZjzAetQAeSBfmY6Gs6+DWM1czcvM5zP10WHUc7yBN9oq8F6w7vYI\n",
       "EKhEwNo+o00hOnQacUNHtIrbT0ou14mS03LuYo6k2uSR8pBTLpzRoQ+QZXnMsQbl39P6pmeWq6Xa\n",
       "FjfdL5HKgw8kUsOyDXEKQF19d0kwX8o6LPgArIn12ZV/Uja38MmMnbSIVrIVsrX0/w1roBviSFBa\n",
       "33Av6zN3MS0cnne1urluP3Ja0HZvlu30/vkD+3NM5XA6zHqHeEYqX5TE/6pqOK9yDdVSroqRTTeH\n",
       "iAnn5z/u0OOEmQYzndrXskr28etiR5CwYhqkG0WNX5u/xuAAAAVFAAAD3kGaImxDf/6nhAEMWZXA\n",
       "UNRwSy8ZLCeTfz46lLntwyrzmoJg1p2q4aoyiN9BO4cFeBtl5tC2yDe9NjRz315KV1aRXHWffzAW\n",
       "uojwgpuY11tEBe+SpPEpsC416TdjRRT0/8/o0JEMswFZgTHhOZ3wH/XSJN2LMMtfAtSRGhOuPDM1\n",
       "rqEa614WITHDEkps1uVEB0rrIZlhbD5r+kpxmLC7p/vUj/pvP4DkrFAYV7eN0BH8wgTYdQ04uuQJ\n",
       "zp2HQo60lS9lj+bASaILRl60FJZDHgklz6aj0CVMmaMmzXAX7jY4hYAGNSN4X3tLNrhiuqjzn3Yk\n",
       "YOQW5q1H/ga4pFie8vee+CRH1HE1nBvx/RPqVoAIOTLvzHf+OvvOMAukw1w5lHELikFfcwsxv1VQ\n",
       "jXr1ggvNHMEqX12IYT9Zw9loMmMeJfywHAVj2pT6S9yaHRox9H7dPrgmfwzyY4zmTf2fv9dBlxIC\n",
       "5Bzhuwq2xmkBd4YUuPAMddLdowfXCB7x9wA+xmB+4BvojvcKDxx7jM2szx088+fJpLo9ufKWAaHu\n",
       "tA+LWXuAykGpDp/qki/vE86iHNExVp3buwG9vD7d3gpAWyLmhcsilR5m8E+Rds9es5QJaoniZaFc\n",
       "8PvTGyZlsHl+svsdW7SEdq+RcBZk385qRRY+0vHU6+T3oQHI/Gmo2jD2LoRHrkpd8fhGwhE6+lSO\n",
       "LCucAD81Im8TLO2Z/aIuR0twM2AgjSW+LTsIWctpJDCxEwq9dPowq1MQA/xfEAEvmLBbyYNUNmNh\n",
       "ahoekDTR6EbELva+IgPvds8EHRfSYZqcXwpLXXCq9CUz7pj3HsduO13SLiOAK//wGUV4iwbFlteb\n",
       "Tqogeae+z87SceZzZHNOuQrivt1ov4Uk6yxzkYhFd+Y40fohPl1FVjTxi+yai25J/x/pT24gsyB+\n",
       "q1vc3d/B72ctLIqsRy5Xed7viZ3Jj2G5tEq4pagq1zodHcLI/8DFq9hcv5IH23o9LW7CrgTSYozN\n",
       "I8YGBmcMjE9J2hQ14lpu+LASgJVrLBJYYHIBwYEC5VtNJ9NZsP4B/H97k3YmAVqfKDn05qHWrYUY\n",
       "p3j4VQB/jaUkqN3eBGW6WOI8wb60Z7vcOJzs0pEQLL6MiEfQ9E/zNLR+J1V9t73c51W0MxDRfiZe\n",
       "xaWtdZr3WS8dUswIxu212Z6P0XoiNs/vDd121oD5+a2IOHwqy5DWDbDb05rIddwxFk6hpoqUxs3r\n",
       "LlkfRH6k4k1w6CZMQpSSR1C9ImIrUxhsv5FqqTo1+o84is8WBu1aSWRbcAYlJrJ9IUFtv14m/YUg\n",
       "u1BqKscJwAAAAWcBnkF5Cv8Aw77gir1IfAA/dTeA+HnzMjsXIGPvkyS2B8tWPm1KlhGEwdqfCGHy\n",
       "p21l5OJmOT32G4XMnA76kYswuYmDppkaMsOLzqtWQjLZ+wM2NxfdB3Bq+EB6z6Hh8nZ1+BQIPnbK\n",
       "3/5bFAYRLQuZqIU101ZbMwKUlZLqJHD5nqd5oLRnC25kEcOPWMECHVdeQBB/QS1b0LcVqvhNkCkV\n",
       "p6Nwn2hY02OIBsG4f7T/GiGnTxueH/HwSmtRt3PTJfn9FDH0JjSPeNbUc1JqLJI9V68zyPQuNc9s\n",
       "UQZSfzuHQMAyqsesgT3+6isrxsEwBcpBqRuONWcMcwcW75RqvbvCMjvP+PsBYyFjwNu6LoXtkOSy\n",
       "T9QHmDKZFmqCwt5dANijDDAuFNUmJiP+XAW2Nj7KuXhuRlJxRNk3k+MowFCcl/8A8MeKOCBXhJ25\n",
       "nCBOaVhORIUVujATyrL5wEHH+M1h5AXWInKXgQAAAoZBmkM8IZMphDf//qeEAOajsa0YOAExMAfN\n",
       "+CxzkIaRFNqW3gT/PFvdjX7ovzwFPEXnHeO/euMsseoWG2eOjrGsUsib+tswWc+amA9KJlwqQCC/\n",
       "Xqs1pyBm+nPtD+1ZK07gFK8ukCPViKsGYmmuGW4iHkj2nJLtRU8jlNu6fSU/odNo30J1iiMUje70\n",
       "s4gsEghKtpmz2OgBQ4hDeaQXzyipC3a1AquMpEGFB8xIRMvmc3b+Vsx83DLs7/inZDikphvN4PmT\n",
       "kf+3Oh/+pxSQ4vWHg2sJHP9l7lU/Y8+0wYdaCw3lIPabtBjbivu5GgGKbwq1dpm2VGJb6uIJqo1A\n",
       "d+/jBIkqmLYQfJ6ZE4QD7VRc7+Efr1KpRNjUUZWD693PC3K2mSLYSkCIlWDw6R7149pIeuHj5rFE\n",
       "za9IPwAXiwZFBBcuyi6p9WD0H4IUT/jQ0dYp9OqNtjMpWXFEkkhYf27gOgYekNGfyXl+3htEcj8h\n",
       "g1k9bbbNZVqv8SblC2w3Fa1+5WF8JhiPL5JVLH4ipF03JJ1LHC2gneoerHCxBViLaJrCMfSzahio\n",
       "FWgVpOJYST/nP9VZzWBCKQpkYm3RBtoEDeJqWpBSlUMnbbXey5DXtBI+CLwMTjOuPlPjIHON1Ano\n",
       "FFrvhSE5+E3Vy/PCMroC7zT9jcf3uiqViYuE0W6YrqW5p4W25WoSGhy1cT1EImSuz0mw3ayGGb61\n",
       "E0GPWPr+M1vstN/kqOBudeDJI3VIVy1YIvUY/ZFe/wCVku8ZBZfrd5z41YNJ+GasilVF3sRo+JI+\n",
       "Gqy50iqqJW30px8bNkt5LNYkS0B/UhT1JRerlB+USsPBb4IV5YaO6BSKsI5SSGYzXysMAAACr0Ga\n",
       "ZEnhDyZTAh3//qmWAHSWB2Dr6gBUzl2v7WK9Xt60C5zCs9WxS5TVVBx3EglXTo/PAkTlUoP+st6p\n",
       "jkmKOhXhEfU1zm+QOAsuEgfzOb65D6ohXPS1YQsi5Y+v9qxk8rgv2nzPgwOid8EfsFdGnoTuiqG4\n",
       "6Me71zg7VDekQzDr4Bu2B3/tNQsPsibxcGGuhinkd9L4XMwgGW7xMkBBN3BE//IUdkFDs3dEUJ2M\n",
       "KzFixq32kD6uYVpckh+xpjUVA86khwgjHtEg8YMRRXl/iTHVMjj1wFocYd1UjknbPWSCwlg3YWZY\n",
       "xB8LQNR2NKbUv+Y5RvWLkuqdn1KtOPLP2hbyXZ6+L+qYENm5sjlelUzEFzCb92dgI4EJD+B9DVPw\n",
       "7QCJD1Nyi2X+T4SzH6/aGZPUCZVXOrUyXS25RYS0Nqf9wkYbPwnjzy2UuQN9V8MDmKVK1fTCLBXB\n",
       "IviWF9zei1fK+85cJjSchK98DSiVs/Sb9EZZpoXF+wZJDPtmwPBpCpF3tnNrH0l7YQADgOAdimec\n",
       "CyGPknggJtzjLqVGthdQXIBqQU32PkNeFoxhbZok5gN3qZ+iO3JhO7wEBZpgEQ6tfi7taqfr+st8\n",
       "3rrUkZFUysssi4hmk7EZ04AVM5KN4EwAbgMgGCQ5j+3nfX5dCrLXDz64LQhXvmZ1FZMrMrufBO1E\n",
       "NZCYdiMY6Tit9LYFEXrrraruTwO313meBTmbccdqQdD/L+ZcqHuj0TyKt0ISofsHGCNxWNF6aR18\n",
       "QwbQiusDrv8xREbP2HbHpxYXsX6iHZePA/GhXaC3VwUH5UynIdhJNbUlQFxCOnOkYIa+L7JvMLNA\n",
       "zzw6oNEhaiZkRk6rEU68b08gCv8PLsG670wyhezTUskJeFXfLUD4LKi4n5Qgv2ibURcB+ysIII6p\n",
       "QQAAAuxBmoVJ4Q8mUwIf//6plgB0iZgfboNSkq8oHD03hjGCS6JL67dHtDj3suanJzCNwC48Y39T\n",
       "FcGsW+WyqD9BNS0SrEAF6iZigiZidZDUzeuP8B1eSzWeAULQxNLJjdwv+/cUmp7FrLJpYTInMVdM\n",
       "qQ1KH3elr9MXiT69jZYJJT/Lf6qvCgrFlPh2+T53PczPRtxGF+WUVXO32i9WRbX0Qxyy4WIoSLp0\n",
       "sDz9McHsQTPTCkSpRh06Fyt3IB9kflLbeOEEkjoqC/yd6u1B8GJ7BwSaNmSKqw2h+75lb0F21dzT\n",
       "BG1nA7QEV94acRPSz451azogJeOmTjr8CMFXXaj9x5g3wLZzDQ+LnlIEZ3Lb8MCuEzbSR06cRms6\n",
       "3rpLxBKjrtJd4OSmJZQfGxpDNHE9F2q+EpnDaIzoVmrvonLVTxKUhAqt7TUTT+TM96am11VGnOmQ\n",
       "efOUrkZGQxKmYRF+zrvWc/+AzncKTfhy8nG9RwQDsFRAeK1gcJimx7U8LnPi4CaNUWhzcgDKwbhB\n",
       "umCZm7c/7gYJEGS4+QBu2AvmSmJM3Q6HDLUQ7+9zvQiT5k7T1/EJTNCQlC99jN/RspL4B+QEyrA4\n",
       "mvM0x0EZS/icl3VZfiZ5Xmplx1sxYnlGaAd0T8unefgT4F9Bk4BKWe5Dk5gBzUqnV163BsT87pTw\n",
       "VUOs175Dzvdq0BSfUj4m1jSR9hBXwfWBw/2VAdFe6lAdtfzO7asAi0V3KJ3Vyky05L7oxDzegVnp\n",
       "9TEcZsvnY3f0W4CiE+U1qNxxIp/b110vMywn3B1eGf8t3bcfe+p7Fo1YOCEJs+bvFcaHpOGLIKQg\n",
       "vuNC0LctZ8tFxdxf/tASNyiw9ycPbmUDYXEEEJEIMXTSGdVldtj1rpHXSMd4AnI4qDU50h5/Pj6N\n",
       "gDfu6qSz2XZpwmVbNvPMRfiuzHjw7D6wDp7v5TDryNLUWqh7JP3qzyvENwEecsTujvHdoCQv3xCw\n",
       "IS0ahYM10BD4jzfhAAAD80GaqUnhDyZTAh3//qmWAHHHGoeKUAG09NpEEQjHqbfkHnA5axT7vLiF\n",
       "nCtcBXrsWeBLJxm3HisJDmj6hdczhQqBJBQCmPglhzX4wx/Ug3afHXPRNv5EkayJKYTkc/V0nKBl\n",
       "VTaF01zpcMv0BZ43YIoL/Zvf7C/ItAClPXpy2UE2Q9cobQWRVlRhc1L4GQfuhPdRxPx6CDnrW7TY\n",
       "ixyAqmPO7wL3xKVKVs/dUDT45irGYbYtfbzNVMQzew9OZ80va6Mj6VIGucAd/TnEaq0T34RFMBNf\n",
       "zrIcYtDcwl8rfcCz4Oy4kxdlorjoxtNbJhO0bDE9gLSaTSMgUhghpEt1xbgvwSXW+IZ+dLqGO3qx\n",
       "IsLpNhDVAq7PkuztmMoklgE3XGel//z50hVUtBiYG1seQqjLHinSJCgUvPoaibv/YTqNj5XS5JCD\n",
       "3iQEr2/AHrwH6ZQRk+542bar/0A7PjiM/NpAa5i6ZL8cihQXtGCoE1PUxDqumJUqF7W52YCk5oR3\n",
       "YlTgpfkhRuqR+TZRu9MGicTP1oRX1vKy4dmqh8nCz74fb55bxTFLQPgrejj7FvPfC+BN8EHoD9f2\n",
       "3ZScTt6UvIPaOZ8RGp6H9qR9RbIrSrPS4MDXUlCJOCuPO2kjGr/czWNQl8Iz+IDV/GS2ysQ0ZFM2\n",
       "jv1PHVsX4LI0yFhRSyvN5Qv2k8ict9AmSSBQMLOJ1bjvwX7gYpfehDwZ4IiHmKZh5FNGyeFF5woE\n",
       "cdcK7/p0g0Z7bDnVv/8a0ivd0ERH4ipiXFiKAf3ohBnXC7CqHY61mqtOghT4OfJES309Y9hS5Lyg\n",
       "YK6tlfARSJuwoXU7+ag3JfqKq0MdRgSgishi0MDImXPxvXSzMZvD0ZeElTLp52+kiEALpKTqk0nP\n",
       "4MnDNDXBeYKnf8HWFY8/uJLZqvDZe33PnbZ5eF7vfwBN4/kF+IAMfUI1RAEjXMct5Wi1ecBkyqVP\n",
       "fBdDK1RtBWuvs2P4zWpdJ4CJa+lhM4aQxmc8MoZAK7pM+Czotnilm3SEnSR9rlzsUqqVGRUA7xSy\n",
       "huN+uEKuCLld49gpO+R2RgegaELBdjU33/B5di7c8Gky1USKy5QKlY1Tkj5G4/KVqL30JlhU60W3\n",
       "uD5mX8E0+/MMUyHE0TUciqO/XZBBjLvumEfYvDU+ZPUqPcHvsqIxztxsrpjIHdOn0kV9q33oazV9\n",
       "saMyU1DV+W5JjnsL21j2j1PMqsBEE1mKff3vQlOShacU3dq2E97qa9lUoI9MARwtO7RkKL5AyU6q\n",
       "IY71hitsdWpbPEV/O7m31oCY25hfk3iqmqrV6aMhILN/mCu33PjYylF1i9gOxo876kP/wTa265A1\n",
       "IQAAAfhBnsdFETwz/wBl9oso2wOa4IACdoSagt2ScDXGWkNe9zhMfpUngLNCzyjcUJ02z1+mrnGv\n",
       "39YfeqRUiBzRDM8WC8izPwgrm5Rmu5h2cjagnWi5cpUZnz5Ije+tzXasElwOpN1PR1rHu5p7Y1rw\n",
       "8Iib7HNUyO65OmMpm8pJZS3gnDVkuW3fSsReNf3kQGi1sR6kyAcV1/VL4aENi239bu5OPfx3qwtj\n",
       "DcFfoqxOP6J3Kt1yJnTRCtt/e0GfEdzKFrGCSSzX6XWDEoD+bovH+ErhkADnF8dSqeOSEYYj5y58\n",
       "xNgGg8ScA4VUKxMaWGhiFL4k3jJA+whgtPafAvhnfDl0N6x4udBHsK2HSa1EVeOJ9K9WA5xdIhGc\n",
       "5JGxXXUR40/psV1krjO6KVoStOw/w0QfrXpzCEJwVHRswODUYMP3+SGm1Q5dMZtHrsPSr/y9+vZ9\n",
       "lr9MaVp98abXo9mmHlTJyvV+qjvMkO0cJmg/9M9j9iCYOhMq9fwUMnznpVMILeEUhQdKwKgNTyby\n",
       "c8YUuPukWM7FLO6gQECLkU+9SzMK123GYOnV414drTv9C5LNnDmRHHiSK1vOjk/wzaJ0sFvMzlwg\n",
       "aw7z7owbe4eYIjpaQr1xwxNlM23YTxBO/QkB4CPPSUV6Anld7nFaT+w6Q0IoYiTh5w7xUXEAAAEs\n",
       "AZ7mdEK/ALzX1IHLF5NBVwABNoyAKiKW+0j3yjH6KhoyGRBJHSH6+bf0B6ZahwWhOGvno6Ih6XOs\n",
       "qtUMVF2li4EglhGkbcQd/9o7tslH/0JeWg0nJsGU38qVtk0ZO6RIQtYhnKGSN4lsWswHO79HvKKB\n",
       "t3H8u4WOoojPloF+y5JH5drwuV0tENsLFzfOwxM3K/1ne7rr1Q6RP9SrKmPoS+mzqjUIMUp+XkJH\n",
       "oQN4qjLsLNWJLGaZE3zgjfKubDCcHkH9FY+55uG3ceVICE9NO6pbiRfyMj1oLwXEa6JizLeQ6llk\n",
       "fQCt3zOOxniAr7fGn9iu+Tn23F4x7bxiEeZANc7dIOll6KIHSiAiyLfAjvcFpRJlgDD7rvDXEkQ/\n",
       "mqXO778cs9sDi/EVMLaAAAABawGe6GpCvwC819gWTXFcFYATsxmxT76NGphKvmeVAi1weRv2+tFn\n",
       "U1Y/elouzLotPMtznSF0TpJvvvBdf2GM0LNKP7vWZUGanVEmmlkSuv/wUQ640ubx41rM7zbPXjm3\n",
       "h/oAf8B6hlHdvG+sJSRUBtkNpI1cibm74/puDNJ2gAgBqrcX0t4LqiU2RBvfebvhiMJ60JRu9Zeu\n",
       "vCGa6YuZp2Kq0KyzXMaLrAzo7dPvhsicdjaeUifzIoaholEwucuS2349Lj7O60CpASZflNZ6jbpv\n",
       "5tas+rwUGK+QRMnHF1nJUKIWTV004NLvrG5FNB4FzYdpXBRZEvfKNhG5eFKIUrdWmEjIR3ApDXqM\n",
       "6YFIQQKq5kFh2+WqiopJ0FEC70JAl5BIS3KLv3wUykh+Za5snIdxtyAr6OnTwzyDWkQrapUY7iFy\n",
       "DutNPNTsztojMcZs4SMHiKg0mJNRni5ap7OZZ2Vng1auh77nx1xdwAAAA4NBmuxJqEFomUwId//+\n",
       "qZYAckffGmpqEX6dnmUgLSpFIePHwSWtuaeiNbQIS/6tYRDqyIMLMmg1IUdqGI2QHO+hRxo0b19Z\n",
       "OXTQSc35cQeHqvdMijA3CeZ9rYCIvYIkhV2ScsYqoMb75LZixYYS9zJ0euGFm3/L9fwr+kbHm42c\n",
       "IxqPBdoK0XljvxBPik+sHOEge+g5TLFMMWeGS4vmFkwV8uMl3Su4bBXPeilmtD3iDSXIx4FgxsBP\n",
       "vBwBveJNq642bShQMVQvSjMfgZwKSkTTg3m3URkxyHVcdd1QtPuGLgKQpeaFlKQ4W0OKKfaqJyz4\n",
       "ofuv33U6BMqD5Yv5QDAAc5axYzbpyJAE+3nsUWX4MCGWrrVAkQ7QnKSmMkNqt4s3bbevGDu6JIdD\n",
       "qUU5+Iz/Ar7J7RzB4wuFlsRbRIPAlx0hz9V3DRUNAWJut/np7nQSkVzeTCUoGwLic7sLaD29WCIC\n",
       "BjkspYbmPimxwjJvCFs4sS2x78xF8llK0PN0bc1JJLgqJ1EJjYWVDhzZ+vy/EBZ6cx8lYh30AbMn\n",
       "PmqNsLJf2FS3y0V39CVRSJWPqmIUZhSFmyyIz8p8cm88PqDUwqrG/f/rgMxlS4Jo0vjF7HGd/9Kt\n",
       "t2pWhM7nGCPBAXEPJYZFrUUbx/c3RjSSAES10L+Zxo+H0zRNShcZn6NcfeecldShZYXnzTHvtriH\n",
       "d5qAPAAdFoWV6H06LeR2xXp+Wxqekn+EQ57izUW/ViWyhnAEbkdNyztWe7fH2XuJDRQBTaJ/qFxA\n",
       "FOkkODtuadSDPGvptdrgQNfcMdzA8E1IFq5M6HYextWuiTgKePEKFPwIg3rJ9AGDK8rxfXPl4fjo\n",
       "/bhjqqBaHaCZnIEb43GYMzVpfeYMnaXzs05XonVjekgG4oZI/wIkdZ8FN9it0OzBYegwz08uxBOy\n",
       "hnUr7yaNn3vruCGeNjfRraQ7KXM1OhhB5LGfyr9hsuxm3OU+mnoH+1C+zJNjCkIa/WpUDv0sISOa\n",
       "WRJ0xj4qhez7r+ilBNFovAEM9aQs9VufDhMz5+UNVSqGoujozr7CMfrN9NgZT33yyMaqZtHFIdfJ\n",
       "dX1dcS+DSfJ9qeLL78fshbAWwfJbgi5KDCJco4060ZMgAM5uSaVfLkRzROEHaE/fRsRFp7w+dycg\n",
       "TcURX4txlQLJJJNKTWu0GDt47+0lBdGgMW2kCVSrpwAAAahBnwpFESwv/wCJaPZEQjzeqYAOGrHF\n",
       "ALMn7wGVpSM5uQbNv4czYcpsRicY4xbW1+RIrjlFCHcsERBgmYjTJ9HXZqkVUw5g+EbSl54ZeLaz\n",
       "WQUO0HR0fIxLhfzRpcYYLPGJymMoz540pMAGvgVxx4f3J3/hrdXjZNyLtxrQ2afWO7T8hYs0aQb+\n",
       "9x7hNWIsmOVZMPCFiMGFr+H0UGY54pvulCcwiLq2qoATPyDiMB7wBNOSm4l59LfyKFAe3EaTSD25\n",
       "ZLqRWymEFft19vxcpcIuTOdJINuVqSUC6aNViwvfn38221q822jZFIt3x6LplUkrcf8SGpiw+6DQ\n",
       "wdkKwLx5kZh/dRzMjxc6ZDCdzs9YlYuve2wkFCFZRpgriBe1hGtQ07xnbmwC+KZNTwliocEhfy7v\n",
       "68yu2MPKBDEcrv+K9picRYaxpXLVmn0mOo0R2XYn9FKyFRRBrVuEnoglUGUW50BGRklb9DI3z8tL\n",
       "1T6fiinZX11HlPSJbdBba8ugY6z4ZFxlgR4Q5ZX6L34ukY1WL17Rzrt6T7pbYiuQO2w6+dqfa9kE\n",
       "mG10AAABTAGfK2pCvwC+17arUN6JH9DWO2cEY/cLmDwATZWzCh5YkllnCofo8g5L9b5CGGUuyODq\n",
       "F4ef0+iu+SW6QlTDVzKTjGNxLUhjTYUdB1vkoNGIvLgvXR4E5POBR43g1x9FlSNMzyf8lhqY3bJI\n",
       "cQFMIiRttj4/JzL4pIgx+hVCZycmuMKkEeFN8M+9xsUGh6US259A6QSo4tyrNXw+57KS0h3UdpR1\n",
       "WMEhALV9XV6DJ6srNw8dV5UeH3S7tRrliaXVtumkQB7/PdhAPp5mY+10H4JdDyt1fjFsHSEh8MlG\n",
       "NLgvxoVuX+56o3j2d/xfxtdjMGUTPlkjo5QlgstR11xjj7/+BJWfQOTPhzZ529N7CcOv7vBCAIt2\n",
       "F4cPmXqOm65wGIZCvpAcqZnIA87xKTDS3h9BdpYhW56l3jvnpDJbR5VMRaGBDMtrRpRies8wAAAD\n",
       "yUGbL0moQWyZTAh3//6plgByfbgJNUU5dzRgEESALEdPzmVeRIOviw002T8CpiUZZFoMX9bxmnPJ\n",
       "8eyAcJfPRmV3WDbGTH8TIssfTe0hE709H/NG0E2Xctt+8vkK+/R8zpMi3A5Ofu09YfNSIMFZe7g2\n",
       "fw4z9PMp6ivzynq+MSeo9DiQ2frTWWmER0lKPs6tqIxB/U4Y/3Xb9sPpK83pHQY3NHeabVpZ9Jq2\n",
       "I8k5LXdismYkUAxuQN+VxwZUcTL/dUMG1KtgYMby7Nh6ruEnKgn/meA4jDp27+DRcLI+1ejEfRB3\n",
       "rTk0Odvx85IUSk24ETJr0rBe6jhgUy7Xz2A51gNM2unsh6Xwtb0BkQO/2gDpAyEKjjLlclYgVOrE\n",
       "w9+qM2a4qsxINdlh0NVFbRzDGq4tetJHbgkdT6EUpiNj/+bjNeyj0aqZ0qgfgapOOM47YEG3Y+v/\n",
       "LnCwA/j23FovirVvydMnwnOY6ylCUw8gpmZDfOwhNigZBrE2aJeTubWIpIyojY7DXmIruH36OL8k\n",
       "x+PH5qRj9FN9BFZgs+h7iW78dsOrTO7u3hcb7uU6xoze5Yw/wALOXe27AcrFdiKciRNWx9KLbS9F\n",
       "JiOF4JOIFijyk0YuPjHgqd1luQzz1vMC4gqdDLleoI4QLMzZ8xCJTLpRlWTsYaqDYwuDzmy7tmYD\n",
       "07vJ+HUa1NOBEFmXitdTEXPA/a2LBBCfW+tJ7Wj4tirl/DJli03L2hBh5d4/Lnu+TeuoOpWnmddW\n",
       "BbQH/ZX6Sd8TJEpAuqfSIR7Wz2kGIqOfxa5HFtGfcL4chpakkS61LErZaVVVoqLfj31KI4b2XMP9\n",
       "DvJCGaXpDEB0He+kosxrKfMY/CPs2rAPpLJ0IUrpYuU0P2NyWFPQBssA7lrxOjG8HkEYhBAvBcSF\n",
       "k/CA8X+JWg27wT8kOpceUuNS2OiqotAEYDFO97+n7mqp9zO0NG0G/zkBAzsxFFu+3gQWMSf5GGji\n",
       "5/RnxsD2nfvrRVsMpDD3EFc/he/aBzXUw1yQeojFoLfXV9R6/yqNyqMlAHKgLDsCbHzHq/7xQrGj\n",
       "GByqS2U9SV/083WG5us0vZtXiZqulSdbjQek7XQhrxAdYZLhGU0cJH5LOtbzA8ALkPIwaK1TPD3s\n",
       "GMXRsU8LbuHKma3ngnEzFYrRJvI2pmUJvtgk/dzvCqiJTgw9/hgH6yr3HSX/U/l5Q58qvAR/EmK2\n",
       "cmHFEQM4ZVCK68mW5+PYhoyNDyB5HTx7BHSdEWEwQ8ZWE9SvynME91bFWq8OPEAUs6z2eSpikpyb\n",
       "EQAAAYZBn01FFSwv/wCK+byRnnn1p64AP37AhSDQvRKFtvpFVc63Nk7A05IVfwAmjqXLxZ8GVV8l\n",
       "wffZ/ANrHfxGVtBybxK2OQ+0JYDeSEDnJc1Sa4utQSup+CjKrE3bFPHdICVVIyymEKKQTFzczfW+\n",
       "3WXOUJmdLT8o9CRTP8Py5EmsmyQKdk5xDBIPMsPQzKdCenZhjI2se2cyoeM8XhZ2OTCd4RgpKubE\n",
       "pNUm41D1qacsvp/tIy8Wmfx07uYphhjP/iHp2/7xcvmh23SWo9P7pYWZkO1UNz/wQ6vggQfFal83\n",
       "wkwBoU5r7ctryP8L3SOcFUwY8QyOb//j38ZDLEEnGx3/kTn5LK9tXFwibTMOfmzHqNoQCy6XA/0P\n",
       "x8eJ9yQ4l+JZlIGdAyBkCPwCc3MJXtznOPcCVsRDaD8LbXMPv/AO0ZBvm6RlwfibNLktIxjqRNx2\n",
       "zu+RCtS6f7A/877D6diWz6Y7HYN7oPqHQsqz3UH4QPeqHH5h0Yid/3P9//P2ujuUiHFtmSsAAAGA\n",
       "AZ9uakK/AL7YVnlf7l/fABdGRfgAoGM9Ln0fpT11cao5uufBFxLqpOkcIjw8i1ZfZ1dxmTr1y2Q0\n",
       "KZG2MQdhvir4NZ6waH6lQtY9waHdu+L8mps3uoz4W6+MZmupX+sX2nDmUX1DyvfsYv3i7mOxxQHe\n",
       "59NnXKgQ0hnGGuug6G5rJ9zlidC4AQqthKu9+iESrTiPJpmbW0F4qAK4qodepdxHzcHrbWSJDhoy\n",
       "gwGckedAwmYyT/9/esiDDNkNAc1VzVKMPKVlV2YW9kFjcyr2eohbCmf2gTxls8M5QDEUwS4pVtKc\n",
       "TQiwXKfB/XxMWY0lWlPe5Txi/LjBv2ACcyInUcckBy3JyvEYA+rezpxhEkg3C34hRlEXABQ0r4qc\n",
       "tKfkjFIqtFAvIMMcpGYx/BHiYucfsvGreHmRpOm2KTsPy8e1zuzm72dwAhXWYaObbiQNZgOtcrfo\n",
       "X04fhuHnYnwk+ACbAU+qHsSoJSQa9VmJjidPaHoBQ+sA3KknUZL1khNxAAADhEGbckmoQWyZTAh3\n",
       "//6plgBvIJgjWUUfg6ACda2fhqT1387+uVohRw1Qa1rdeAJBAvNX54KxHC7B4DuxjZZyt3pG+jJD\n",
       "+fMguNii5551LrLZ4xrfERvVtGws4oVGrhXLjCB++flFdgLT+LeTaT8+PaCir75ETDxFwRKcVNx7\n",
       "TcHY0PC4kVqTtFAFHsq0puv67QmqyGxzgCWeEwQEhgDg6HVDD4dH4pqFxiCDyf3E5yktasIX6OQ0\n",
       "ecKT6u/YznLX4YP3yhJ2AeBebNLGWVfWxEoGd2dlpch7XgeG3lZ/vE+CybNYxVjDc7bBwpFd6hNK\n",
       "qqRN2gthK75+cOiYF9urRXh6bA7mUaO4UTTLGNpEGblTqLP2Oj6ftFpgdyKy9ljBJGI+3k8LyV+C\n",
       "LVpzw23E7zLtEQPvtdnT6/xDr6OLSJq8g5Oyq5Vz3UZUgohwOgN+ugugqRWfchY14wjKt97iyBw3\n",
       "soiHLqBGwsWSuz9ckilXmLfdfvl/bmdy4Kq4r7raE04ijR6eKWs3GYnZBg46bqHh+sAotEgbwpaT\n",
       "ztVsiFNVEiWOgHsOQdmyFSWpVqwH3NZQ7JlFwsdBSMF1gJaEFOMyjKYnQBqSX8kN+xExXaqo6V5n\n",
       "t5Ij1vhd8MStXCKp65r8Zo6RAAdfyVbNqJYvqyfpBB57cG8DiJ1rTfoksNtUNVzNIjqRYY0IDR/G\n",
       "3bgiDYxYfz057Ihtc7LuFPihvtbFT6cwRE0Af9YQISxRm3pW8KwE0J4zNvF/rjbf7wnBXRHjYZ69\n",
       "gRuxIKm2EQ4xA8+vgWSHZSN5+xOwqzIRoJRS0YSLRGgdrOZayyDi0koV7yruDL9mUFbU2qIbtAwM\n",
       "164GPSfCuvS+FwB6V3SVVjzJ/H5drRYUCNF7kT9q7C1/0r1WHi1IQ2Q3SzDgjiU/9JqP/bs0IZah\n",
       "y1jV0uuOTc541Ah4xyVrpVJJ7QjqqwkiLsyqm94YSJBlAurfbjS7sUi/mx3qPhgCXylc0d+N+DJG\n",
       "JncUeiiXH0c+5sYQuw1uRWUvLgHaMKubXDQDkooYBBLa7vKv10oNR8wmeTKYSZJjMaFHYOfsnKBZ\n",
       "NoPlzna6pAb++CIaRZ8rd94tQ3ThX3CgP4nsy0i/SdKQm2vA8GuL5jPEjPtNS3aqsmdd/Eek1VOY\n",
       "aVDZV0vYab3TvfN5/bwSrjtIh164pTeGaL32KwVx5Z2y0gAAAaNBn5BFFSwv/wCK+dvl2BOhYOKB\n",
       "lwK0QAfwDY7A4XqAz0h6kDYDi/s1AZiacziw8WwdvKo84cYxtxmZP7dg9ipFsQj2ORfLI/xc5nDY\n",
       "udivMKPUb+QT9B0K35u0xRqaxgwCHhK2az+kl3cdkZnAet6QKuU7fKumAeG83ArxQ5r2Y4YjUGAT\n",
       "UMnno8t9eEMVl2g5BNoG32elmRCZguBkps6voJM2r7yn/IhLgFRbeG6aO/OrDSNTtO/UucbHvoSG\n",
       "TAFgrZ9a88U/1ZYMt7iiJY8iq6ek6dFWo5CS/tyUtjLJbo6FwnFldJjTNvws+O67SungcrY5uCvF\n",
       "ZHS7upLgIFZcXJorSYOmdhkAL9/52fVg1pyuF9WjFOsJCphaq/HP6NW+BD5wriA+A3ssTZ47QHOR\n",
       "zd0UMizm4NlKDo4CDrrHhbWCGEz8lQmaPIcsAjNLNop6TcxNhcnoBOIxEZOesIS2Ytq3sv0IT2yr\n",
       "P8ruRpnMLbynsyUejmQTQE19DhXcJsuEwDTW7oDshajWEM4wL0iPMXhFzpKDO5VSpFnQMZUDa6dd\n",
       "gAAAAUkBn7FqQr8AvthWGplTQ84sl37NQAmYUABT62iwdLqO+txQ+A+3mH7xPOm6P7u8GqmGGLbL\n",
       "NvO5O4mQ8M21Zvb8kHTdS3n/vElssEtV0ShnYvS6KpvVt3nDgiW0Pkv5FeGV7It3KQWVlABI4t4Z\n",
       "BySZJF+2oIb1sLK1bIoMLMgLjb+OYKhHwrcodIKCoE0sBHQTka8ZpUhPi7qSvODy2mdjbmA6+XDy\n",
       "8vhsYKzbN7AtkOq53PcJWaZF/lJcyizs+Y1OZKEeRUNXimb4eVjr3XSQqMb38gQxBq58YEPTGRvn\n",
       "q5lhqoQ+UUQm0V2/Gvz097j9HBAMNdCspAPwubWKiYJYz+Gt0RYJs0t1ROeuMpX3nhK5iDXHtbH0\n",
       "Av2UflhqK5eXubze/qvURxBPoE+Q5uGUzHnSV25vMhWc7bmfR/NyKJsOsNT7xpr1LQAAA3NBm7VJ\n",
       "qEFsmUwId//+qZYAb724H0kGKloSvcAMXo96IU/faitIWAWCWn6o6W7MmqYgK4nqhuZj89FL9CYR\n",
       "TkviYdu4PkyemVO2IPPZ8URifuxzu9iYW0V7RcXyiOyNGBIeDGwcNjhjULl2nB39WRAFEkbo3Jlz\n",
       "GlHJe8lcU6Ptcv5B5VhxAKBt9WwmLn5nIR5JLS1rvp3FMYYc/9nT7BpxCVDFD7xopLleVATI5QXE\n",
       "xUZ5hPZFgB8Hq/4K6wPFVaJDpVceem/upCSHf3VB8nrGDSENj32j26sBlJFW+0Mor7Ome0AZFRK3\n",
       "y6EgHk2S92CD5n+jHQeoGom2O+8rdMYze3qpYzI3xuA18GpP/HnoaD5TAJaAO69fpcPBuqEkn+w+\n",
       "wIrN/FaXSu+u6+vChy8D7Pt6c8/3ntLwXoErEr36cdvpjU1EEyHmm/2ykYEFCj+HJSZd0JGAVTA7\n",
       "1dxVwUx44Ig2Ijob4ngnoQU4fB0feDRyjnwon8tYfo4S1vHxAnBGHYLMVmfAy3v/FObC7egyFbot\n",
       "KXnAZD86nX/p9ikVOYN+ahGI/kA35ZCL4hIjojtB2aVoU23L/uuznrqtFI7/fCuK4gENszqQgTBo\n",
       "WnsbCG2Uz7/YsGVb2oFaFsf+IO3yfHbwOv/NKg+FhD/KkQ/3hQwxiQbUUqWkZgdYXZBqAk/lQ2Pu\n",
       "Bfp9THCUZwXHQARHmr0Ck5eDryQZ3k38X4OSbm2X6dDg9HG3R2bwfJPl1sMnSja4d4JJiTYuKdqQ\n",
       "s4h7kYWccnyFsae2Mk2Zo95q3L+aw5TD1clnzz5gowvOY/xxBQkUPzKYolNFLWAty2kfhtw40umu\n",
       "Ol16pLfuRshHY6JkhslR5Qg2TwiQ92niH7aOPbNjV7HhySO1oH6LLPIkLl/4RFwGqDMQf8TaoSFC\n",
       "o/OsIBXmMRHbyuHSFuZ6dXphROVOLBg/vSnmq79eqaoBcRCNL6rkcumNX6O+tf9zhq8+uT69TJ64\n",
       "447Fq12FR98a3KrkNNodPSI6uCA30iEvsXHVk0vzBsyIAjCDrQ6D9CEviMP5DWGHhna4DsQQKFt4\n",
       "nvpfbEfo9wKMOC/7aJqVb6h/f0asg+phLATPvN2ddNJ/v60tGE9dnZ/UkYFpfUykU8yM6Gr4kaIJ\n",
       "ZSe1qKj79HrMzbokozWmIj5CUU0bKcCAAAABukGf00UVLC//AIr52/iCcUzlqBfMQATtrbZ4DmK8\n",
       "0WSnAuVOkxrFgGCstO5Wxzg/8VTl9EgdWWusPGqg3c7nZsfioFEnkQfq+cpUQqLQNgBTqGlNJPDe\n",
       "MkM4QqBTAAd3c6uCMJ6RkR37zjeKY6AwMWPiDtHjbXk76HB66FbpHqXn1jAEBCWFyJZKTWX4x9k5\n",
       "5d86ZV3i2tSM5BDo3uB0LCXNnSZcqcmnHf2RYUU81ZS1XK49yPjrd3C73AfcxRdSXP3iAWvAa4ow\n",
       "hP/a/2YHkeQff/HSaO0WnwpIc7Yz+jezjivFR9AvBvphSsLd/Z1fp+/pdoiLeGrYITI+O0FXkcTl\n",
       "q8OVIJbelmk9DIvT1lI/ZeatX43GtB8K6bcv3gM4yFv9jycoHNYeG7PM/vGJVSY/7F/qVLV9O4c/\n",
       "dJZD/Hd9B51vlhWveTU2dZxINf1nrg2kWTR4O8rD220GYIHENG3PPcJjy2QN24CxiIY122w/2blb\n",
       "ZOuJcGUYpiAD0PkJFc7EvVRLdY7oOhcnZSRugoh1RWPGNPFrM9rESuZJ2uydy1Kb7iqCYrsBPP4P\n",
       "zX4nsSbY4cBi6LYSQmAAAAE6AZ/0akK/AL7YV05E9VITyinGA+xp0T3k2VwAmrKcZitAsYw4Gd9e\n",
       "9DysF7LCsSRlDzJH4OYeHmkbrl1u+j5SV9s4XgbWGBHKqBf0N5kAJ49dBzaKrD7/p26DD31kqox2\n",
       "kYlHMGcTmo072XzEBNlDbKAt4pSGH/SBR3ykgNJQROXuSmyA8zHi6S5FoifCImCJzzz1bnXIySW5\n",
       "T4bjfvFnsjJ2IRpi0b7uq+O8GStw/3Bf/aopMMWtr9gp+9gFsk1pP11rikB6aHIZ9dD5ZbnNHUAI\n",
       "rqvJMGoSoGCN357T6hYx77suOLLUcGM/JxYARKeF9qok1A/2/ykFRtVkhGVL/Ra6xX++lRSkdQdR\n",
       "N6TCL/Zh0zx71e7G7d97LzL7ZkIX9hsiVRbA+o1GyGo3zj7NqtJmyoAmh8vd0u0AAAPMQZv4SahB\n",
       "bJlMCH///qmWAG04v3hj0GNlgj/AAdmFKBXUJRhQDUcskiT1aDdpuY+4zMP4At/MV9m7N1xnyd3A\n",
       "PXderJgWqfAfzSbg0QFnEJslQhowxplOO1zcgjGV5pzi8gLriJUF7s+EdKDjQuNET1w67B+zDUaE\n",
       "Cmk68p5CtydxX6eJr3qjO1/3ikKIENm38Gh501SFJZ8Tlnc1DguEz0o3XT1mKviSiFxEe/M71pkC\n",
       "ODiPk4JuuVXL3vhaY/iBH1xLbLYAhBhJGByqevkRIJSXs2RvXPquJ2V5CijyGFzAl5Hiw3KbA/sL\n",
       "aW2HEjq9VbdVCr91hLEuDuScoOlHzYVX0nLdNFitIX9nued63TnX6yMyEnHKiE/u30iut8atOiF1\n",
       "NGhXV1ju/SRueu4Qb/To606ZXPtsh1HVzd+ez1/3Di3gm0g30faJYP+4dQuXUtuDuncRBBbSwLN7\n",
       "RcKepbz1/3p+1Uog01MXLPzCnLjmDaI9g3lCkAt0oiaJ1QvMq19J76yDBkFJB1MFteFMr8yYxGSY\n",
       "hh21rWNbF8dSaHUDKFPbhiH22qcRjwqzy4W74KfzFOMjgb0b2TjxIcOIwo8yVWiREXb0/M6O0++A\n",
       "ad3eAjfRENwqdFKAHQv7jFe5/bnpDKQ17w3/8yyvu7m6NcHGc56bvTK2gCR00cAhyS87NIs2QSVw\n",
       "KSs8IetphImM5clkBorQ8QLCGwHlw3fFeOuBZIZGSdY4HosafE3iHFvG2x9jtfzfTLeMKtguYH93\n",
       "VQSO1vI5xPN8Zpm/3EQYlMRFkcLTcFHZc7XRQL6xXzRdj3GFhCk6rOWmX6UbWIruwwU0Eofea1ti\n",
       "5b9vtMIf5P+DGz2ZspHHtPBQEEI845rVxm4xkqwpQAZP55PIfSgFm9KIRZT4rHJLQ3qfa8T4Dum+\n",
       "bQzYLvGfyLXaLdfGvFtZO9WLs6UTKbIpr1NU7IqIRukpvy8QWoB2rql0Cly2jPGPUquvgWz75tNx\n",
       "zB0TMGFFpwB1zzQ07TLYGS2/KGPmbvWu3kEOuV++PimYIxiyNmxF6uL7n3v43J5ljROq5myqEMAC\n",
       "+O+Y7vIwtqwN6xP/2CfjAzSEWbtEnE8tudozHi9umpFKNrvw7q0Kzqs/6K3SaBzcYv2vUSZSiwf/\n",
       "LGm1N8xiARe6pBnRqqKQhp7XZtIcQTHJlyBT+zMTvRbv0pXw8pWvzWG5Sgulu/77uLY4vMCFpNBR\n",
       "ffXS64vmaZl39n/e9qAE8sXVRscuh31hrZOv1a7LojGFJwKIzg8AT4n4CkqSDFr0dZJ0a83AAAAB\n",
       "fkGeFkUVLC//AIr52iyUayB5VDevZ8IAW3M8DSsKW28Ts+Y5ZpYPatJWkbWpMq43JNEV1zWHxkvj\n",
       "sPkf68WKRq9mZRjqqiLacLYvxDu041+dcXuId1zfcJPraTjTF1/4FX7On0TP3Dq8jc9gzAXx1GH0\n",
       "ny7HvCs2Rolh80WAd4H88R6jE6I/RJLhDCKTuorHmjf6Nec211BbdMnDxpGDNKrAu/i0K8EK3t8v\n",
       "5NmGs+TP6+y54QMaxasDiILIDrywIJysE3AFENPgzu5pehkRglW39SOoheaA5I+XeGtYwsYCvPIv\n",
       "Frx3H/C1ci4NrCHQ0aR6pP27QAqbjveBsXeebyPlHwlbyalbNBeUbRGwG5yhJkB6oPH+l/bICv8c\n",
       "NxPlkiZ33/NYqet90wGIm5j93WIxx5QDrcyFOZpdTmdRF/0nnSJzas29AWoTj7+Y2zKUVaHk14Tl\n",
       "lhynKyZAM5Pc14BvfpxPitX+bZHJEanUA6uXNx/CvfOVd2mwxWljKoEAAAFbAZ43akK/AL7YUDx4\n",
       "CglV4ykkrWm38ma/9JfwqeBUZlSy48TkBj4MOLDOmApMhFnp1Jt3imW5tG5tjl+MxSRnHmi9SMCV\n",
       "/E5Oor/w686yzh+40UMLFElKl4vapDVd2md6RLy1ztzmDxobTjvpWiB+X6kRkqZSU07xShWsLR+l\n",
       "qMSXf8ySNsRg8nX/3vnB7UOQGjvn4SxVJQTC8P1i5kj25POr5XR4ufOtua4nqo/hSQ4HMmKgdN/p\n",
       "wuZva3a6QqvBHE+R/BCM/BzI+QbxYMN3WYwYHy0TyfCPMAqIAQ9fEv9cg0nkxFWT+THNN+WGfLaU\n",
       "3t0IqoL8QKDvRHVEpTtGL4QaMocJ8eSxWaYKmL5dFO7twBZ54XhjdPyoMI2rNZ9ovcUqUPyWxl3M\n",
       "xn0H75dVG+ian0R7VZhv23m4P3ZsVyPOuqgQJlhmuS0C7aGtfbjYdxwAityrmW+ZTKkAAAOHQZo8\n",
       "SahBbJlMCHf//qmWAGq8wMAzJ/nCktG/w8L96N3PqAH2NyLGRJ54fN/yBzvTAL3De/nMmXY9IwZT\n",
       "lVCIYNoFYtxClP1Bp0pqQbofx9Fu+nCKgOIWpxD6popBIllnG/PRY4VykvRsDMkQHMEspEkGdB1t\n",
       "0I5wbXXatZkCs4SDppcBy2Zn19396blIdJIBX4xZ++ZUQKddK8GMyaT3opm0F2UAYK/D7+6D9eEY\n",
       "2YKckOi2d6MVgmFiCTB6WmDQGD2jyOpZX97pWYhedImkWS4Re/3OSurNJIB1dQcI1WUDPYXpcHZa\n",
       "rYPdE+ln2Pd9mwWGqr8g5qu5F/CZwtS5c5mJfjMSe246kqNzh33poS/nCmR1FwwAUFnYIZKN4W/K\n",
       "sUXSflZv054GFys9j0L+uMti6MR51J1uVxv8ksv7PCE2jqUXbta+6uJpFV0/WGPvZpuSlKouxJjd\n",
       "M2aIvf+wTiFowoe7LYgh7mvSoRKMKPgHjykna8aS+nxiffszmln2+P/fNcVrcyPyodpEEuWfoUjM\n",
       "S7w7FNXlSisc9zZWIhcPp7B2v5XDUx41EvamDgdDYoAsOor+otgVQFCUGLsD9ikRNuTbimPnX2r8\n",
       "KJ5IAgNOJy4f/RT8buDFydONpnoDs/1zwQA5N8/+TqdqzXdiwPCk24L/r0Ld1VUVeqbDNsbtkYMl\n",
       "23dXG0LLGYz0qPYq1q/ZsJDJNg2126mVdj80VxgscGEKtxh1sT2b89DnZ1jd5DC83Kx+DjwKKnS0\n",
       "fm6A4vBvnuv/dhZZgx0Q4AXFQU0Mgx3gGfh2xs+GG57EAwK+dl06GfIaaYG8OCi68GXv7b9a9P8L\n",
       "vanzwpOhzo8p8qU3Qwz62jQ0n3Y8sV9MByb2WGVnsqYXdfPs/Q7lsceqMo0APn2ftEgPrpszW2yL\n",
       "ZoSOqT+nSFOzlonz0Noh/0JbN8vGUw8uTwP3QAjLwBG0/5EAsOV/+q+Nw6SFolFl7yNJu1RFxv8b\n",
       "plKf/Ba/mb6OmBilHfaDoPtiubH666hpY3FHi3WkfDgPn4/SVhdjw3oI2tuIJ3Rl0SIEyHowCOd1\n",
       "eQhebJJu5Phpb+M0fHR0TlT+svOFBAT/mwQE/jmhz/bBWv50YJLyYWRVlZuq9SZ4smK6Sa4OYJow\n",
       "Ubjs0tqxIsIPuhUJl8XpcuO1jZWvfbvHeqnky9oN9xjnnnmWgaYWUelBbTvQAAAB4EGeWkUVLDP/\n",
       "AGcYeH2csREdogA43lAjglCHaOK1jxugjcD+O+2sZMuKPR+ZLkkBWuOP6/c9nrO1vH7SRZIm+mng\n",
       "hblPTVDYrSx7EnBB241MMhBiVounFMfYlI1zF8SNaWUrdtop4jnFy9VPbIlNUFuDuDcx8ASwDLL1\n",
       "IPMtqftLM0d/XXyCwNSxB7wLicGxKV2y7JZXRAmgpa0Qar4yYaesR1cOCpyKOkpeUh81vZNU1lSk\n",
       "YQFq5NRUeezyMrksUD2WQY/+lxxhb6sajsy0SeIr2NO1ZKIn8N7I5hOdFTiBaEf+rnVTB3I9YxLD\n",
       "NfVy228Mnh3iWMhVZaKIDUic74ErU52KwPSeJuuNimtfCxWq9yqfZvuSApS95nD1pM8hMhyFSihF\n",
       "zBZ34OuF3mXGmOiqS7E9eq1C200moVxnnvCUy0d8qkmXf2LiEq4CoZcYAr8U/yC540L9MDYyvW8S\n",
       "aHvpZoY/NYFE6lhj7RetXPwpGq/n7emlJW7OyS4MKtBWRsteERuu+l8fcyWmgFyqrSoyVyAjbIGy\n",
       "5aL2olvhZfsXZ5TQ6KM15Mj/LM81nba9DZi7Y95QebqOyFr+3eiH4MV7uEPabQkVGYTC2rRdpSN0\n",
       "IxJ+QUo7NfEujWfBHtvl4QAAAQQBnnl0Qr8AvqZpEz+w2zgAtLoTsME0O7TZjrd2u+k6F3k9RGeQ\n",
       "4kFr1jn4ztvM0BiiS5ivdUVNdJk9exqCcuUcfm6w87VjVSyhgLolVWpL7j0WqDf94OwZf2BZ3Gok\n",
       "EGTTHyB9cZVGgmGz33454cUtjYjbVFyu1UHyNAqPkKq2gWpihn5UJn7C9etuD6R1gJJub+2KosAE\n",
       "lbspMHUhjkHOaFe2kT7L9sb5XrLvbXT7NFjWpLS43QO/eSlVT7BO48hkBnex/nZe3M029qjD0kzX\n",
       "18ZUHL/Q3SKNZWUgPFWKrYuFA6zpB/hJ9dygH8DOlroVY9ZY1ttT9cLlYo6O/0Y2K+jUIAAAARUB\n",
       "nntqQr8AvthKw6n5gSL7JqskKTumrkAJtpfJ6/rr1ZE0qk52vsU5WhfnX0uq3KkJ/8hq5GeEuANS\n",
       "Yjj2kfS2SDP/HmJ2fZ+0WOS5aI1NgOHye4N/k/6f0Bs+TWl9b5jbdnBSQ2sY4g/jdQSTg7oEfg7r\n",
       "3ItMiEVayLugGNGCo8O4RS0fa1KDeQjeJRn8tjuoVTn926EZ686EmVU1FN6922GcMgoqV4U9sVZB\n",
       "q+SfOvjgt0Xmo2Va3ABbEsmEg9DBcConcdu0dC+Ckvr6wO5wbIcAdVZeKIFwkOTyU+LDkcHUZAut\n",
       "DDIa1reboXY1qRrXF2DgD6VyseDoxwFcVb/uzVk5jZvk9eFniciLJh/z1HDb4gWBAAAD2kGaf0mo\n",
       "QWyZTAh3//6plgBquL9G4HIJUZ5+sbWxTUAH5xfxsV5WohRj9Oqvl5yGJR7l1Rky+5tQ7AYVovCa\n",
       "JiuOtCI+D/0vSui/3eYkLdh51QY9pSMLjT1WuVuEPqtyB6T9BbqhQ3y3hJSBuGqNGGCUNAP3Sf6J\n",
       "kRNeMx6XZmX8jRfG9VfrBGm9xBwTtp5O9Kf9duLsmlHnf5s6rV0a0fQ9MJ7ggc2p7ZCYZ/LDkOty\n",
       "KQrqJodwvh2km0mElXi61F5TnqucXJwDFcbWHrjXEi60vwB0y6VU8sXPAl069dTy8ukqur/QJD2D\n",
       "nHSrhWhrZkmLo+xTez2n0ilDQ/RFp2xP6GwmzANPqkMFvU/iVT6pSuBy3IBh2J0YL7svCk6vMDRs\n",
       "kOW3vzhILEC3ySOyMAbYM35R5fuK/qA38UkFxjfoepO4zeztGi4sJJ6zynQQ0BdDZpCduAjewaZi\n",
       "xs5ShmmTG9L01ho6ULLhX2R2260sh+WecwCfioYoYISF3WnMF+muKev3csFRd6JeD3hesF6E5HHJ\n",
       "RlVo5+8wTIeIPMDOk27EnBvN8q9ssnX0+ZkwJcNw/HvfuGQfXXNkh/OvozxxGsPUn4jJJpTsig7g\n",
       "SprbO6hYEndH6Zhck5t27LMw+g3mGdGPLy4NnUvLJSs0P1HgI2D2D8Erq71kbAx5pcEKFKcbJ5O7\n",
       "CLpwUwszBbHimPUk5a4LxaK5cyaEb8emDjz5XL76vrqEeEQCSXm1SvNhDa+jrmR0xnKa6jOiDQtk\n",
       "bdrA9XI/msqb5A5sli0K4TDoVlyRT0dq1WxwNWqDD2BazDRGqjP0rh9THPW2KxhdCRT9RLunySsi\n",
       "D5UM8db5bmdPzsS5fRgxCvB34YrmlEjKekkeZzvJbfgWuN6uqaK0ZU6FRWaSFwXDCbpsIBdl1+nO\n",
       "e+K2YWWnW7oiDrFjtS/TIPKP03ymDYsw0K3r1vUqhL/Joswse13bYhd+f/uawhLRxc9eAOQlUcEk\n",
       "m25TR7LABJFCJf9akcjU/k0T8NNE7jY3Skv+4c6+I7LARrmeq05vYVv4NADltcpRQDO0JWg/7i2E\n",
       "/0dMDfb10yKJlsjqg1CHbpDj4l5p+y0MusYiBAiE/PiyV685btg6j1B4D6bzfQxcM8DTQ2R8yKzE\n",
       "kPPjmZGNw36/YlLxcykRYl0K4V0ePbR2mEYsGH00h1uRlf/HRhCw4ssHmYridFvAWYr+eVQYWLWC\n",
       "HiEQEa1N7x4XLuMq4HvjhVmC+ZBkdpfygtxaqRfZAl4RHRWxd25iTb/vFjZvInUOT4Vhe06xk10M\n",
       "BsgwzCeiHBxumVsxAAABd0GenUUVLC//AIr52SugwsyxQtjAxLN2XMiTRshfvoAPwwXV64wzFg59\n",
       "t3JEsKK13R7K8mMgcqZrpnZIyCiZVpaaPhYUwX48WOk8SU+8DIlShoKvVd13iKx1naZqVuK+XQVL\n",
       "+OEk66ZfdlHKdIeb+g83l7oqx68/Xc0+Hu+qWhiVG2X9Xh6/jzgal0AcN0XiKnB4gDQNjI/D8nxT\n",
       "4wSIGnkvPSoNhg1ZHuyDLinPQ/WahBf27tYZiBow4+VnyKJUsL3sLJEmBKr+0Pd/jEEM/QBvH4fL\n",
       "46lpBwz0VozFqI0zZROj80wmxSMzMgjOw1pRl3NzjF6U0IEY/R2prESmmDAX0jgWzGfYtGWB2/kx\n",
       "Wvu+jIaVq4MXE8SAuhboE+ldK6H9XR/vyRhmZoYvZ608kDGUQNNvv8h5uErf7r0hIaYlAUYcVm+q\n",
       "xvqYke0ZF7yv5V+YymGRHW8cCTG4C86WMhoWqodYS3vdCMSqNLAeC6U4+egmWHwLgAAAAUkBnr5q\n",
       "Qr8Avtg8fOFsIw4xP39POFMqwAnPou4c4sz/vIdB4ZOHkAgvdtAnrLQ1y0CIgcwd0fOLSRgK94qV\n",
       "kkKSvvbgxeV30MM44LxX6n6rT4HXRgmbDA6ne3zo3lI4UVBIZwhyfTc/53V+og+p64TYLyutmlgQ\n",
       "yVMC+YZ63K35+0PM3vhzlSTwSf35su1ELce9qrEF46hDfQ2zwRmfxrcUdKg+CV1M6NlspQHMIHfu\n",
       "8xw977kaAvt3yTK7nASpxOGxlmV+V2oHxLAsIW3NLOsFuVXeLBz2UQOUZLzLdtTC7FtPTMGue016\n",
       "mUZy5O6M+UB6lLCEII/BssO+8EQL1cWV1aWBi+BLBr6q5xssUEH1cpADBr/ss+eyYhM4aUcrJ8Q+\n",
       "89f/wY9gDaLQYqQkk0715h9cbOH4NIXd4cKl7nqT6cr0GdrpHJR7KAAAA1xBmqJJqEFsmUwId//+\n",
       "qZYAKoiWdERG9tACU/JypM+U7cgwsr9n+4UthxfGIN46VPNwSm2T4SFpzNaSXabVwFQOL6P7Whxc\n",
       "gfRubS4sBVuGWiWZdWivC4NcFD/VF8AhIowgC+Z2cPqHJAM/Zzz8/TWoLifyb91Aeypjt3z70NrC\n",
       "OMP1zPp5vH/xgbLe5oCCur42SXdbgRrC3l177Ilih4zjD8s8aXa/jvelxXATcYoR7SeG6+ax+YAJ\n",
       "gBK23pWvEjzp77DyPqfcXTIeutv/oZCG/4RP3byAPXEv8Oxkt/S+BdzaRXRRbK7IKuJL3F6taMPi\n",
       "mekGxd4poVoTPrwlVMkWE8FYoQVN7Mab0GhSuTAfy0DUsyauQ29ePohKgUVQ2p0d+G0cd06dpDTZ\n",
       "LT5vzTo55/VdVmYBPxQ9xLKJnpwBL9oJ7WzSV0H0SoS30vPw9NfcMwl4zVzPLlhdL1abiNdyCf8f\n",
       "nIiJXlJfqbhlCdAu6xAB2zr4seEJXIMsjOCEz5WnEHF7rixDlcsXcUstBPSI22lyZH3L/SWi04rh\n",
       "ElNWEGIIsS3wYEwzHgYL51eZGlYHbW8GLb0FPf/JM/INssvlH46myts8w9Um/EhYPouPREs9D6Fb\n",
       "WI5gM4S3XbZJZSN4lWSfTALwJHc8xF4TIvXDfsHGgOxBfx5WjNxs/6cbFCI6HmPmBXt61OBtec66\n",
       "EUxxS+QHeZfz6gYaeVqt/pe6zdjonPeBMJ60HUafPU1lv4t9u95kmtv8hVNq7CLQrYS3dQXz23TA\n",
       "4DXYeVhtaPrKJGmvGcA7Ca/bRMfN36B54gEm29sVu8rxRhfQvlp4foC5ThF7PF1h7Iu/PH1hjcr9\n",
       "Cw6h5ZRatqkr8d9bUcU7FLpYM0dRqJTL4SxeVRFGnEQK7k69gJWHNJDZBNg34QCIPweqiAJZl6LV\n",
       "iSY3IguWuDpdx6DX64O2iB91CcgRXD/V8E1MGMDvSkgnCLUQAZZwd7hG/OoyNGnNavPoFiGWwEIV\n",
       "x4qHD595nFjcZrswBBK8HOr7UDEubS+Mbhuq8G4YjAXOmV41yRUlP7aoRKQ/36k92ZKPCtcTOwKJ\n",
       "tN5xBfnwlQuyKj/STgiv6/QjHbetj2tS/E5iRRzlsUwSbXSpKs5EAAvvwSPfUayPdQAAAVZBnsBF\n",
       "FSwv/wCK+ddaOE3GAawX6NZoATTCkFqATg3d2jsQVGgEZDt1Gghc45tYIa2BhWDUv0K42DeZu48t\n",
       "aU3V66dupAWM0Z8Ou4d0e2R+L4qe/+FVFu4ZzpG0iNR5rnkGkWJpFQIRBzYTwIzybxyByVJZOy24\n",
       "gy3YUAvhMnhMEC2MD96xPh+PGgw6wSiKunc2g1klWPaajYvHzsJIgr3wBVebcmCOgX+EhMX2DOY0\n",
       "Rq5OaFKUCGmCu6aU+YRrmfSg+c8LVJx17Fq9H21SKSJq0wfmxSsa8xKfqkU+9DvakpQeEUrikmn8\n",
       "Tannc2C05rq2TB7W0fxLwVqT3lGTZ8H0VyqYf66BOYRYPai/wUpqApUz54Cau0eVWAI9OzuJ9DYf\n",
       "Zy7VF+qQfYDTzKSKBfYe1ib08az94Pig9a3OzkIDW5coPsnVWZ7+QWF9DssZd3WDAgC2dfwAAAEm\n",
       "AZ7hakK/AL7YPHzhZXSuEftjrhZRABZbRRax51BfyR4ocRYghq3JshNNubNHuJmNM8Pi8vq+U/wg\n",
       "ECsfRC5uoJx9Annb/FEYAsYi55elb5LDMToIFA6bzB31jp28z4r2b/CSNAC5p8mJO+Ud8tsN78l3\n",
       "G7dBVIA7u+nxOpamnksmi09iCKm/5OSs3x5VVqxMzDnm7uvYzBu/ICsDqTGMdWS1A0b3W7Xz6WfA\n",
       "3avZ6/lJ3OVDZI0FRm8LShqIrCFb1eNjn7s5QN88lnBz31WSpUfie7UD71mVdL/qez8kbdmpOWUM\n",
       "tYb0EAalh6Te5763wlIflQcBCV/IGa3DiVInTpLivSwi7/hwn4XpbDupa7j0oxKCLEQF4TCMlAxr\n",
       "FZ7IazDmWHv5AAADHkGa5UmoQWyZTAh3//6plgAqnPPGaEXsua6P+ADnCCKCgr94BScC+jnkObpd\n",
       "namxXbkaFbm2UYxKWHt8f48EVzQBgU1bxkF18WA8kPWWhLcj88JQhV2xHLPPYKQMdpIyAQ03JqK4\n",
       "bIJiqArEyssjcOd4I5Xw/FgqDyqQtpSq8qggfAzm4vrvK7mnaovqztQYR2cSuL/dUenz9T8bLTjR\n",
       "DbKTH+9EZKn8qMsrFphcVh/G/4VwKWLKPSbU9OSmtwmnY5SngeX4JGFwTWOnpZRwLQV3OEXduO9U\n",
       "t+acPb4ohyYgaef/749IHYoxf16Xd78G5erswMVqW/Pd23Wj6M5xgwQmezJXucwG/xV6IV3eSVTr\n",
       "aQQQkAM0W73S6eBS+QOBpviXbX0yavFyeEm0Lfd3A8J19r1tYtblP/EcNemIdMQykoRsm1j8fsNw\n",
       "zNAFVtb/rTUCwpN3Pmpmwokh87DMMPbBmzlHLFbkYeh1wDkJ+48PArPGqniT/qr71ZhQql74lFdO\n",
       "4uG0B4tTQ7VFyOYPKqDUqqfT2AJQeSal7W2qJFfZ78t8IM/gjevNH1JGcwx6Uh6vx3bQFOMb99kv\n",
       "w+OVDIEjJDdWDuaF9TtRHlGaZMA7HJNLumu8wG75sDh2tUrH5eyyQw9GtwWBDOOS7s8oHNUQUxAZ\n",
       "OpBB4oL+Mozk67SEfbUSPsam7X7L3PRelmxwyg33y6r1BXbjaJ0bRkRQBJMBJ+90PPvMNrO/kQ15\n",
       "FrH1L4sQdcyW4HsFK0gaJSMch1E26b2hsR+Vj+h2dRke+zP2z/C4Ot50A1xtsSoI0JYesAQUZf+d\n",
       "3V94A7rOLi2wbGNqBcZP2uaiXys6K/m7epVlZjKxYb2riCpyvSvlqRN5EtQA+9etsO7kjZeeBOZH\n",
       "fR7QgZzVlqS6VE6dPxXiFzhgczw0ZL8qEKwMq9r7IfGivwUs3+SZxlTG9v+C07PZJ0glzSu4p/9Y\n",
       "tJ/JUyXWze4IrkjZ67M2pCAqxRzphrjdYM7vOxd39n4BAwFP9+3ImWpxHKneVyHHlJl3pK24H1Rw\n",
       "ve9WsUEYkiyGqGqLgAAAAYJBnwNFFSwv/wCK+cx3iwWg2gA4u7s0R+Vh7tgWAytAG5J//yrZpBMv\n",
       "GWvx2oRw+dqf6heZWeavpuTL8SupLronwY80sJYcTJzkfgm37Qi2kR9EOe+2vVsfCGnDu8UnkkYm\n",
       "XxJSJBdusaIECCrU7SeJfvptocj9yn0A26irWuGptAObOQdwpSuesrvhXllhaGi6HqUAYHWzRNhV\n",
       "43NThbhf0gV39wyR32UmbHt2VQi2eB1xwoXIo38tBbOrZgVdNokJDY0xkvyn/DPVR4QjZo8aXXmQ\n",
       "uvClslk/ntTwKHcAu1KHSJeIwW+R3nQEVrLWWwxMysEp46/01E2SaZA3fjv6sQgDmrCJA0L7Xt3k\n",
       "l5kM5WRCgka8UAS0gBgiz0KgzSD9X/LNXEQLUnLi/6Klreg6r9IMNb4MYrmnTuxb/0bZIBhBsEe3\n",
       "EYJmDXUgqc7/yAlE/J7BPym8huJW1XAQHgmTf1l3o1RIRIShNBhey0dEPrra8wrV3LL18VeeUayq\n",
       "v+2CSQAAARIBnyRqQr8Avtf88qPZ0vy8BVOEX2cAJnfY/jp90ySixu6cf+f+0yweA8uwyhPqY+gF\n",
       "iAwDpVoCAQVSTZrRxwwWozjt7L7vROWzsV1P7U9rbnbf/VYi7GA/Nu4rTfcpq+K2H6mcRfM9fghD\n",
       "3dZ0P6tZ8Pk1GqTyCX8EvczqypOnWxrNZuZcXOqRJuocpNgJD5dF/vZ2fI5uzJKaKWZG7YRusLxQ\n",
       "SQaG9dwGM3XX7FexcsTUPVWBXnDFIYssC4l2104eWMTaYhLh7rAs4MxL+oslywQVr8r6aGOh5AzV\n",
       "RGjlf7800sftNY0laL/K9YXSF/zswNL6cQz8roT+gJzxOPoQUyqY/o1LJoDfMvRgn3ij748LAAAD\n",
       "ZEGbKUmoQWyZTAh3//6plgApfC3wcnEtAF6IAvsnZk8NuvD6PZ+AEvsas3eRTq4Fp7PiSI9aBWWJ\n",
       "AuRqdwFX30feldRGI9mNj5kpWj90Vo57/TsQpW/zaXFS+3Cnz/eZROkIcmbd8wY+uEczTJ98mqC0\n",
       "dB1UC19AIf/Uz8H7ggXoC2geQbKrDacTTWqz2BNZQ9PC07UnxViyfhu0F0zF7i5R9dyIeN+msyS4\n",
       "+fDIeoYBgboviVgHunufUHj4+RlDhV3Ljy0T2J0DYnCUwhbrYXWHR+jJQiPi+56r1OEfW8e61v7w\n",
       "r9UGRGdaSOQmBWBsmqQPP9qVBJKbeyVXJ3xKt0qRSycZy8PhM3D7qezhkWegDJRScibZrHyY7PZX\n",
       "gnRFC5feUAJQccHkzPEMWRCUCUwKcjqFROmmDje/76E0SiABUwa77UtqkRveqMswxeJhs/eSbhQJ\n",
       "dfFT2mQAoRE0Cwwp0aLyW6aK9SpeZNJ++GFAt6GDoZP9SIHOD1dtn8Lm10t4qK8LazRmtP2VUj+1\n",
       "AEuUkJlaaIhqgGhkIEXvRQmp5uTmkXuwQHe2s8GEclzI+6m0HTNDF+UfnJLPESPnGIB9+zMf1imB\n",
       "MfC3noEtQ4uMZ+2fj6v4exw/VfmlJdvNDIdDqpE93XTSOGU/WKwny0KNGcPPs1vVD5Is1Jlx2Nhm\n",
       "HWF0Yp8Fsdq+3dZ/X65IveMlMGMysS3JIJkc7kKoK7qohjr9SSAloMQk2HLqiaEoOG3OXhnQeUzT\n",
       "unzBeNENr4cuv5V1hzHv98gLWaJGCpbAD5/MKBrA5c00bGDHpNx+f6TSnlHjnmqA3oRZtNHvUBFK\n",
       "gGZbs1wE2CnxtEIMOvUgOIODivH3ePHJnWezHktbYgiap9Wj3R88uTjo2i+xpHcw4bY3XceNrjzA\n",
       "Pzf44xHc2xjbQSnaR7Z8oPNKqrhNV+YhGxkpisqXTs0OLpYMyi+gIId/1qbl4uZQVv7EKTndjVsn\n",
       "EzM1Wh8O1pjt4FXZLMSI0+C28lNGiRfT8RvmCort6BqTcSxeSJtvu1jlDQz1WUAW5A+GppN4rVOv\n",
       "ag0HxsKG5pLBVfqGnrCiZmRmeVlmo5Q4AKXIh5sAKc/6UWJpVlwex8UXjDjoia7JYrSsCpKjbgMS\n",
       "hbYxmdTyGBFWwNRGpOEAAAHiQZ9HRRUsM/8AZxh39F/cnlZXGe1gBLVrqeWJeJWdkdoOHDzUOjqe\n",
       "Giw88JVrLCAkX5qLj43NKoqm+PNuMCDsfKCN5V4fxzfp8jbThNqX93rL45E43R3+7rw3NmJe2C6G\n",
       "0d+L1eCgPPQb+P/84I00m0XTc/YXai8B6ppYKl3vNcCN5gQwuUSxvlFcwxLo1/zk79L8bpDlmEHr\n",
       "Jq2D/fcUeI+FAApjCUEGeIfnu50jjFbo7LvvX32MhHxgNUZKE1EFbczW8SXbo1HqXRVMygCL7bvA\n",
       "Db1GRt2X16dAoYs0WuorYs/k6NTmHr1l2ygijDFhYr/AkvxDtTr0wAgNeRw4SabSisb0OJjeh6GG\n",
       "wTV/oE8ULPumv1awJzYkEpNBB8QjfzLEnMshEb2cQp6DkOU0nMkJ+x3kHzOmhH45fbQ0UOvxOkn3\n",
       "V3De5hc40hd5oHjl+JmAczLyqQ4fFI0dv9L6BoXkK47LON8mcvHa17bvYasWUCGu98dTTw00RZdN\n",
       "AJ9R8ZpQnewuCAWOjyXu0Wq97ao/m3DTcTkOJdh1Gd8W8ZapbilcIYdu6OPjcUbZoJNoBU7u2ybu\n",
       "RdN46AaPWxzJg2IM6ur5nb61iwynllHxNXnCLyX6P1ZfyidfzfqoJBourR0AAAEPAZ9mdEK/AL6m\n",
       "Xcpom2MOFCL+yboATVlO3WgQmHbWLIx3nA9qJ7lC0Y5LQYPMQkmg4nKqJfzTJ3l2KZz3Us0MQPsC\n",
       "/tRh0qotxajf8bAcX4QKCqpcWCk6d9BMxKIq5JMkOXt31nWqr167GghI1CS6B93R0OcYABi9tczI\n",
       "HEe3m+i2sOKXjO3xKjPG4LnFL/zEYnlEgUwiNfgkHrTpLkzEvUXTY+CeEJIMmvsDHpFTS8LkIol0\n",
       "T+QzU5+77fU2+j+GXzLC7XDUNh+dv1uFeSIDaUBXHDVq/iFAtwqJrH3iSNeBvaFTlrMbaE0zZxGz\n",
       "Fq1QWc+wDYCVnJV0OluEzVzovDJ3kci8SkB/razRO1uPgAAAARABn2hqQr8Avtf8xUFDBZ/mgAcQ\n",
       "KQSKSW8akUuE08xY3e6vlnD9Dy5+I/CFM1Vt72VdoQYJfswGolgSp0So/eVXnXQOa+X+89lemAUT\n",
       "bAk0x2wEAGuX52uXi0Rb1A6x2a2LWYlTLbojgkHScawr3vYEuHfuvY9xjvNA8MLaYvDZvrpmZNsb\n",
       "EnXHpWNrf8mQNW3QFlEgEa8eW+GucBoRBV6dAOIGe+GE4znz/FwQYILNYXjFSa4uuZloqGseOmMV\n",
       "BccTv5fPpZEwv+WOMhjBFvQn2/XzTf4Up5EFvv3mbO4Xw/+Zvi7KIUtyai82h1tJGV+W6mOJ4mGX\n",
       "CyFESHRo93e7e5VtPTyQDECtApbqNRwQ2gAAAwJBm2xJqEFsmUwId//+qZYAKX71OSFXZm9Kg4ga\n",
       "uOKNgKDVMjFaRPc03lIgRdwPd8dlT09607HffUVSJg9BHRT/oouGPSt9lbvt+Whlfx+p0mFZ/p77\n",
       "6G6NHxyOWsIfn5losSkCAQSu4aUALJ2JIqoDXd9ExWlRNn0z7pEPVPwQQODo46kIS7vHJ5hPZKut\n",
       "lpZ5QUpSI1lA6hXtyNCLPTUw3YaEkP3isHrHweFpE4LUmP/xDDWxQ4Q60r5pbm+OS+emoFeZALPs\n",
       "g3e/s1tFvZY7S3cpcP4hFYF3ciQkwJFSDw4O2+xx8g9YTJKZUrkNZeqwVuds8nrkgEATT05Bd07h\n",
       "hlNy2nB385T+IIVptrzEOxBohI6wPL0N4uXVLIltnEffHLwAwOOdn5raV+8gphuAQ4Zpoc0rVQgh\n",
       "vDvtG0uBQrhi0IlAgQYI91hRD2X1Ocdr8f1oITWZNVaWud8hyJ1CZDUY/QKJOmzbnksJ6RDl8XmQ\n",
       "tvA17mmVhkTW7Gqe7yK6gljFLghVtrEqI4G7oXD4ZPEhyOPatV9GY4o0NjSdBISHkmF3xYPavLVd\n",
       "nIhUXbcibkMt5PCoj6U9OfBSpNuBDagmiR7S+EwKnCkcqNL7gXST/HeFBjL+jdx4A6gNkunq7vDl\n",
       "V5kesQ+BSKQw4XehUp5I1NAqoMY2qvK6QRFgqOh4tEFCbCmMPS/T5i8ulpvlwrP/Vf+wtKQEEHrA\n",
       "uzWCzPtXguUFI5tMCBU6YBOr+M22S8UDAyxyCSPCd7EwlYfiwMArbz6ao7NaZbLFEgaKJei7cY6h\n",
       "L7z2Jhle2qmEEuKhzwihxxtxv0wXUKXv3mLylKxpcday9FOZvg982L7ABDJe1I4XpGxTr5Z7f3Jp\n",
       "cfBL+u1U1rEUYVSmCvLtHdTpPRyCRwdmkZ05eUWbaOx8L2QxCBLFfKXzOnF/yzU5ws2d/0ECl3rS\n",
       "lHTqFWN4eezIgo+/J2OJRCzpsQAtLBzYF19D9d/LQiQuevXyngoBM+TKKLkmW9Sr2fHycVrOYFbP\n",
       "aQAAAVJBn4pFFSwv/wCK+cxuPoItzMXqTrgA7Ybi3j9OZS0PyChc3TyOYfKsWDf+Z3g+jVRcWQYs\n",
       "xus1SqvVS+Mj+eL/5xOLR8V+6Fm31A+SSTRpZA4EdSDgIxffilccdtfbVPklMZGugyUKHmpVqYVN\n",
       "G/PgnzFxKoHNQE86lu/smljCudd4Nxgu3aCSAsG/oqj4rMohWx3PFU1ZIxTZNHijqfTFksYxYe5p\n",
       "mTPxrm51Dy/5GH63gfnyHg9h79+1joaOUtXeuJmUSwNjxJirxZ87Bgs88EcxsC8xWKFDd7RAN8cO\n",
       "kI5vZypRx24xP+O3LsBYtZgZzRUhKAHH1m2ietIKJDocSB18i+/5rKpD9Po5OSOik202vgZr0a94\n",
       "I+j3TdL2CwMQ0fgZtux58N8t9zYWpD6sRZOkEcnhoZNGGHBMmrHR4yg3tGa0lsCzxPChaNwBLOZR\n",
       "JgAAASIBn6tqQr8Avtf8xysUi9NF6VjcaAE0jZ9ZyFevLjn74EDQ+bIPdZTAAgY9/xpJMbwsSUSt\n",
       "r9iBOs0/RnLVslzdi6CsutL4cfpcr/hGcf9DINc7gSAG6eX8RUs6ERclbKNTGeic2NyVI39jOLq0\n",
       "JYRYCB8b2AJS3Yk4Hy3Es+bd6gmZ75ylwVwdT0pg3Xn021wUvq/a7E4XGHzUJBOUqhGQSNKb+J7n\n",
       "cn4fWXlP3XC7U+AsStB21rJeeIF0KXC7NseajtDQEL+OoDWotaGWZ35M8ZF0Gb0fu7n6AZQg8Hjd\n",
       "/3mWvtobBwTHasaTEGgVu6uJ51j5CCf/uXKrx0Hc9dlBJho9azBnNW2pn+MNrBceITlSo1Dq7ObU\n",
       "AuhWWmW6nYEfmAAAAqdBm69JqEFsmUwIb//+p4QAT3C9y72QBEr/P7z9SCXxD99vLuKb9/1McJqP\n",
       "ldhR4RB3wrwk56dlOmNiBTt8QNk/i9kKhDavepKUvu5D6FuWxAbjXFtSeywyrDSZIpIDXNlFdGvG\n",
       "TvYEnp+o2JsBTT4MdfGtcMUqvqNpLKgetVZpZWJu75EVRKIGaGFMAxVgXo6oCXfh9I3BqyPAzAHK\n",
       "WQMP3ysAO8w5ySye+W+OtDmW12FlcsJBhlmaqSMEbTMd/DDdBYVETaq6A135FOdYl+qjP4jfBdTS\n",
       "xLQMUspdVquFnHe60cniXpynFWbOFX8AfGHFybLmHRQgXWWpWgNSXdTZz1BqN9uqkoWLAbrcRKNI\n",
       "EWqYaNUTKI9IB4CSQ6/4PQ7QWIRuHjfQJA0dEk0DzCbtq5DW5ZdJSJVVNW8niMvNsr1P+CQtEQxH\n",
       "a4yguRTT8grX61qLVOKsq7iTjDBDM17JIsuCeKMRaBhJqqaJiAbsX+DT4WEK8GUL6H3dkXLc+g8k\n",
       "7YhL19T6gScSnIefT/KhNJkUR9G9PSmzhBdkuRSksAuSlA7LFl9qsp9avHuEVLGpfObmXOrKjxon\n",
       "SIf5Gw45rJBE/Tb60B7AJ+HVszMelur7rFVXPdlcE91w4HqAymmKkcqB6iYbYbg9GeOU3oICOsRc\n",
       "nWfePh7uVeWDHiPqQYcnjLy3ufqDVeLCR4hgF7z4EDzr59W/FoTcFkXKBdkuOFQLi4SAYjHlzDxL\n",
       "747XuaVEGCyih0NzA3yxas7Cwqka1H7kHnXNKK9R+BgFlmVDuG4qgsxK+DsEoUyS8q8hSfujkZy0\n",
       "gglTbH+1JYFbOv2kQ78VNp0LKr49btEXPnq1+ZEj37larLv6SiOif7HzkwNKGUF8kzIeTKX71MMp\n",
       "AHBoZ0OnjqDhAAABUEGfzUUVLC//AIr5zGTBBdJlfQAfnf+mQmfG5QgsFml2V2hxmZUQe/z70iP+\n",
       "j7zN9vWnHcO/f56Yc6jeDw2EY7VOQuvwkjaTmdlJ3TFluKX7Cg7LuZDadfS0fPkR9UJeRzHe7vzY\n",
       "zamC+RVbGTUB4MwmQ1fpz+ElpRAAkbxgJ0ACVexOsE4LZ91KEgVwM/qlxW6NCrxGgfJ6bKJS/XuQ\n",
       "vJqSE809utE9jAfdm5qESsdKDMN39KrfuPARCLxGLg4dYzJ34PJGWrK3HU+HWatuiTrZrnUmhJQ8\n",
       "JMEpS33g0c/xHz/ON0OmdLB8ZjtFl620gA8qHkGDnCzF96dBb6miVBCmcDE81z65EWYIcfeHN2Q1\n",
       "wT7T1+5DMJVKbzqAv1uy1MMvV2pF3cdHkBqR/1KSULvCXTiaRgcOTx1T0vC1uMl7tiCDUEZ+qe/L\n",
       "SAWqBKo8gQAAAUEBn+5qQr8Avtf8hMRFZvAC2jGQMrmvNDmGQ5jl8uMlsfaHYfM1qM+AfOjlxQ5C\n",
       "o2/LIWbEr/oNynuzRqfWPxfQ+RadvEQ5Z/vWBVC5NrKzKZU7QNqNdlLWISEpu9UtJr9N+OyNRpsO\n",
       "8XvpNq8ZU2qeLRFN8ckDF8QjMkjvs0EIBRHU5czQAALdBOnglzHoRTyFvD05Oh8XrYccJa0srt+J\n",
       "KtKYqXKhuKbjztbbiaqHL0FRbpNzFpaonD4h6L/o0+GQqNLoy2guyIAtQ1B9wv1W/5ZM6nhuBC0V\n",
       "+YBKA6aAj1i4bSQ5hOjI5cep9+RigDkdwDD8XfC06rfpA+qqt3Fgy2bB3taqtr3K7rQ1zGGwoW82\n",
       "dhKNPBQdzW3u8awIc+TmxYtZNGAjwG7ShGMuzk27Fx/yK5wtsI/HGv2BKkm78KsAAAGbQZvySahB\n",
       "bJlMCFf//jhABLvghxOxRs63AqxAMyWsb7EAEzuurgk2dgBvVZco5mLkQkdtXfED2oA9xKGecOqt\n",
       "mIkpVoDO6zedUrmW52MQt42ZSgak7FfimE0+fQW0L/RwIOQoYIc1dSJrYpYAy0sz0F8uJby7FXHP\n",
       "SA/Iu1HAbgA+s/wfpO5atwDFirzEfTNBRAFzaA2fxE/7xGrO8AN/ln22F2A/HpY4IzoMeWjy0faG\n",
       "M//ZseO2NjtLABnnFgWbBI9dA11Myw69F7jOHohQhOJX3hh16kN1vEpm7d5TwNaKbDVl9ma47e/A\n",
       "2NrmSlZDJhukgF4yrdj+NmOAYncLXlXcQGXk16Qwvt/8Yw7eRhM2b2mLtILHL6t7P4xu/CHqC7Zc\n",
       "ZhrZ7SRtlsYgbS5NPeZu9LDd0U+qcSLfbhEAI6ayeho2eVjU+jgtDPyZFCFtSOwFIS/mcWPP3mUd\n",
       "1+x1+BVvINa3nYqouVGJMWbFeIegQYk69q8XIEZtCMwz0U3kTrwNEbcHlc7neWqjZHcX4QxhVAaV\n",
       "ylFvdsCAAAABkEGeEEUVLC//AIr5zGVMnQSTqEEUp9vH81vVNTklkVpZeHpvd5ARrttWUDBL+ubP\n",
       "pjNp31nuUjaXBZblYfiBPR4TXyag4I41WeD42kNuHZsKtIvyBCMeCzZdK4wVzlEEzfsFploWPS69\n",
       "LhKhPSGBXlvKepoamnCCFDtIvNkaMzPrW6ad1Krtj5tCbDaQu2adCWWNP8r8coqfPA3EiaEKKg8A\n",
       "ST7sqTeTrHtWdALQY8ctBosFS2YH8RrVIHjgk6jagFo8lzEvTcmHZWQ8yhJL4nMlAYN2LGS94W8l\n",
       "reOc6e9k6ghUbGhDwWABuvjyJ+z6IoqjLl2sI0g3rOyL+KRRtef7gD322zK9BjOJCX6m4kBP/ClY\n",
       "UxHkIWz37vYQqZKlU7nByd/WGIwKctTQ17GmxXJZby306QWh5WjP4CjW7uQIW7fNE9qF/Wf4olAI\n",
       "0xPAa5FZoytv6iRFt+waZCu0gOWpgpSkU3BOp13XawMxDjDUCNEMATE5uyjXYGpMBQDw24ZZe+NC\n",
       "V27Xws5RDOiF2VgAAAECAZ4xakK/AL7X/JtBl7JaIFRXY+GxFABOCn8gW2NCUIYLNp/4EMdjuZt3\n",
       "WOH7gc5BIFxdC7ORNyPDKEHh8j5V2QMNiNDKIHHSXcfAhelVDxHXfv9/UZUK7hrZNs08bNjeLSCt\n",
       "mT3Cv/KtEVQqq5dSpxhIHs9Mnep3THyqv3CK1bZ7QF06/b0GJpVBqef0NjPsvLcjjXOOlHZ0H4F2\n",
       "9GP+GjVDnzjWJpl+tyg4AV166H+4ZqMDRv1+fl+zuiI9LTbJQRLjThY7FPnmwOmSzQa3HfbG9z4s\n",
       "h8xKGUNxuecBP9t19lUBgYMt2BLA3GTCgrEPK+sNCr3604t05suDFjZyw9MDAAAFK21vb3YAAABs\n",
       "bXZoZAAAAAAAAAAAAAAAAAAAA+gAAAn2AAEAAAEAAAAAAAAAAAAAAAABAAAAAAAAAAAAAAAAAAAA\n",
       "AQAAAAAAAAAAAAAAAAAAQAAAAAAAAAAAAAAAAAAAAAAAAAAAAAAAAAAAAAAAAAIAAARVdHJhawAA\n",
       "AFx0a2hkAAAAAwAAAAAAAAAAAAAAAQAAAAAAAAn2AAAAAAAAAAAAAAAAAAAAAAABAAAAAAAAAAAA\n",
       "AAAAAAAAAQAAAAAAAAAAAAAAAAAAQAAAAAJAAAABaAAAAAAAJGVkdHMAAAAcZWxzdAAAAAAAAAAB\n",
       "AAAJ9gAABAAAAQAAAAADzW1kaWEAAAAgbWRoZAAAAAAAAAAAAAAAAAAAKAAAAGYAVcQAAAAAAC1o\n",
       "ZGxyAAAAAAAAAAB2aWRlAAAAAAAAAAAAAAAAVmlkZW9IYW5kbGVyAAAAA3htaW5mAAAAFHZtaGQA\n",
       "AAABAAAAAAAAAAAAAAAkZGluZgAAABxkcmVmAAAAAAAAAAEAAAAMdXJsIAAAAAEAAAM4c3RibAAA\n",
       "ALRzdHNkAAAAAAAAAAEAAACkYXZjMQAAAAAAAAABAAAAAAAAAAAAAAAAAAAAAAJAAWgASAAAAEgA\n",
       "AAAAAAAAAQAAAAAAAAAAAAAAAAAAAAAAAAAAAAAAAAAAAAAAAAAAABj//wAAADJhdmNDAWQAFv/h\n",
       "ABlnZAAWrNlAkC/5YQAAAwABAAADACgPFi2WAQAGaOvjyyLAAAAAHHV1aWRraEDyXyRPxbo5pRvP\n",
       "AyPzAAAAAAAAABhzdHRzAAAAAAAAAAEAAAAzAAACAAAAABRzdHNzAAAAAAAAAAEAAAABAAABQGN0\n",
       "dHMAAAAAAAAAJgAAAAEAAAQAAAAAAQAABgAAAAABAAACAAAAAAMAAAQAAAAAAQAACgAAAAABAAAE\n",
       "AAAAAAEAAAAAAAAAAQAAAgAAAAABAAAIAAAAAAIAAAIAAAAAAQAACAAAAAACAAACAAAAAAEAAAgA\n",
       "AAAAAgAAAgAAAAABAAAIAAAAAAIAAAIAAAAAAQAACAAAAAACAAACAAAAAAEAAAoAAAAAAQAABAAA\n",
       "AAABAAAAAAAAAAEAAAIAAAAAAQAACAAAAAACAAACAAAAAAEAAAgAAAAAAgAAAgAAAAABAAAIAAAA\n",
       "AAIAAAIAAAAAAQAACgAAAAABAAAEAAAAAAEAAAAAAAAAAQAAAgAAAAABAAAIAAAAAAIAAAIAAAAA\n",
       "AQAACAAAAAACAAACAAAAAAEAAAgAAAAAAgAAAgAAAAAcc3RzYwAAAAAAAAABAAAAAQAAADMAAAAB\n",
       "AAAA4HN0c3oAAAAAAAAAAAAAADMAACALAAAD4gAAAWsAAAKKAAACswAAAvAAAAP3AAAB/AAAATAA\n",
       "AAFvAAADhwAAAawAAAFQAAADzQAAAYoAAAGEAAADiAAAAacAAAFNAAADdwAAAb4AAAE+AAAD0AAA\n",
       "AYIAAAFfAAADiwAAAeQAAAEIAAABGQAAA94AAAF7AAABTQAAA2AAAAFaAAABKgAAAyIAAAGGAAAB\n",
       "FgAAA2gAAAHmAAABEwAAARQAAAMGAAABVgAAASYAAAKrAAABVAAAAUUAAAGfAAABlAAAAQYAAAAU\n",
       "c3RjbwAAAAAAAAABAAAALAAAAGJ1ZHRhAAAAWm1ldGEAAAAAAAAAIWhkbHIAAAAAAAAAAG1kaXJh\n",
       "cHBsAAAAAAAAAAAAAAAALWlsc3QAAAAlqXRvbwAAAB1kYXRhAAAAAQAAAABMYXZmNTcuODMuMTAw\n",
       "\">\n",
       "  Your browser does not support the video tag.\n",
       "</video>"
      ],
      "text/plain": [
       "<IPython.core.display.HTML object>"
      ]
     },
     "execution_count": 37,
     "metadata": {},
     "output_type": "execute_result"
    }
   ],
   "source": [
    "# On définit les axes et autres paramètre de notre animation\n",
    "fig = pyplot.figure(figsize=(8,5))\n",
    "ax = pyplot.axes(xlim=(0,14), ylim=(0,55))\n",
    "line = ax.plot([], [], color='#003366', ls='--', lw=3)[0]\n",
    "pyplot.xlabel('Position en $(km)$\\n',fontsize=20)\n",
    "pyplot.ylabel('Densité en $(voiture/km)$',fontsize=20)\n",
    "pyplot.tick_params(axis='both',labelsize=16)\n",
    "pyplot.tight_layout()\n",
    "pyplot.close()\n",
    "\n",
    "nt=int(t_sim/(dt*60))+1    # Nombre de point requis dans la grille pour la simulation\n",
    "x = numpy.linspace(0,L,nx) # On initialise notre liste des positions\n",
    "\n",
    "# Nos conditions initiales\n",
    "rho = numpy.ones(nx)*CL\n",
    "rho[10:20] = 50\n",
    "rho[0] = CL       # Notre condition au bord\n",
    "    \n",
    "# On définit la fonction qui permet de réaliser et de retenir en mémoire tout les grpahe afin de créer une animation\n",
    "def trafic(i):\n",
    "    line.set_data(x,rho)\n",
    "    rhon    = rho.copy()    # Notre première matrice densité est celle correspondant à nos conditions initiales.\n",
    "    rho[1:] = rhon[1:]-((dt/dx)*v_max*((rhon[1:]*(1-(rhon[1:]/rho_max)))-(rhon[0:-1]*(1 - (rhon[0:-1]/rho_max)))))\n",
    "\n",
    "# On appel la fonction trafic pour produire l'animation    \n",
    "anim = animation.FuncAnimation(fig, trafic,frames=nt, interval=50)\n",
    "HTML(anim.to_html5_video())"
   ]
  },
  {
   "cell_type": "markdown",
   "metadata": {},
   "source": [
    "Ce résultat nous semble tout a fait cohérent avec ce qui a déjà été dit. Notons que nous analyserons tout de même plus amplement tout ceci dans la section suivante."
   ]
  },
  {
   "cell_type": "markdown",
   "metadata": {},
   "source": [
    "---\n",
    "\n",
    "#### Simulation Partie B - discrétisation de l'équation (3).\n",
    "---"
   ]
  },
  {
   "cell_type": "markdown",
   "metadata": {},
   "source": [
    "Nous redéfinissons à nouveau certaine de nos variables et nous créons notre nouvelle animation."
   ]
  },
  {
   "cell_type": "code",
   "execution_count": 38,
   "metadata": {
    "collapsed": true
   },
   "outputs": [],
   "source": [
    "# Déclaration des variables\n",
    "\n",
    "v_max = 136       # En km/h\n",
    "CL    = 20       # Condition limite en voiture/km\n",
    "t_sim = 3        # En min\n",
    "\n",
    "# Déclaration d'un tableau qui va contenir les vitesses \n",
    "w=numpy.empty(3)"
   ]
  },
  {
   "cell_type": "code",
   "execution_count": 39,
   "metadata": {},
   "outputs": [
    {
     "data": {
      "text/html": [
       "<video width=\"576\" height=\"360\" controls autoplay loop>\n",
       "  <source type=\"video/mp4\" src=\"data:video/mp4;base64,AAAAHGZ0eXBNNFYgAAACAGlzb21pc28yYXZjMQAAAAhmcmVlAACCim1kYXQAAAKuBgX//6rcRem9\n",
       "5tlIt5Ys2CDZI+7veDI2NCAtIGNvcmUgMTU1IHIyOTAxIDdkMGZmMjIgLSBILjI2NC9NUEVHLTQg\n",
       "QVZDIGNvZGVjIC0gQ29weWxlZnQgMjAwMy0yMDE4IC0gaHR0cDovL3d3dy52aWRlb2xhbi5vcmcv\n",
       "eDI2NC5odG1sIC0gb3B0aW9uczogY2FiYWM9MSByZWY9MyBkZWJsb2NrPTE6MDowIGFuYWx5c2U9\n",
       "MHgzOjB4MTEzIG1lPWhleCBzdWJtZT03IHBzeT0xIHBzeV9yZD0xLjAwOjAuMDAgbWl4ZWRfcmVm\n",
       "PTEgbWVfcmFuZ2U9MTYgY2hyb21hX21lPTEgdHJlbGxpcz0xIDh4OGRjdD0xIGNxbT0wIGRlYWR6\n",
       "b25lPTIxLDExIGZhc3RfcHNraXA9MSBjaHJvbWFfcXBfb2Zmc2V0PS0yIHRocmVhZHM9NiBsb29r\n",
       "YWhlYWRfdGhyZWFkcz0xIHNsaWNlZF90aHJlYWRzPTAgbnI9MCBkZWNpbWF0ZT0xIGludGVybGFj\n",
       "ZWQ9MCBibHVyYXlfY29tcGF0PTAgY29uc3RyYWluZWRfaW50cmE9MCBiZnJhbWVzPTMgYl9weXJh\n",
       "bWlkPTIgYl9hZGFwdD0xIGJfYmlhcz0wIGRpcmVjdD0xIHdlaWdodGI9MSBvcGVuX2dvcD0wIHdl\n",
       "aWdodHA9MiBrZXlpbnQ9MjUwIGtleWludF9taW49MjAgc2NlbmVjdXQ9NDAgaW50cmFfcmVmcmVz\n",
       "aD0wIHJjX2xvb2thaGVhZD00MCByYz1jcmYgbWJ0cmVlPTEgY3JmPTIzLjAgcWNvbXA9MC42MCBx\n",
       "cG1pbj0wIHFwbWF4PTY5IHFwc3RlcD00IGlwX3JhdGlvPTEuNDAgYXE9MToxLjAwAIAAABvzZYiE\n",
       "ADf//vbw/gU2O5jQlxHN6J0zH78VuLo0N73OAAADAAADAAA3+gxSIXaIIFfzAT94AIggq3CRKcUV\n",
       "i06YuRatpvC0E+YQAAADAGCs13/PkfKtu/GCm7tG5CqgZBd8U/LmiocGT5DaGBub5N+pvOO4ALsi\n",
       "GKYYiZiGcNKbk5tXs3UbcbEq7rXndyo78HIBN3OQ25Hto9GPJn+JQqsip99td07KkTq2B4oxLrP7\n",
       "xc9ZoeVo2IPa7TxXBx8dC9QXsSfjcKtoH0gAJYkfy9h9/wTDEV/Pj8MLTKgbLq43QuzjerfNgs4a\n",
       "7j96nH37jVBCsKsxCBsGsoruFemqzXl69MQ3BJpAr0XAbyp2MfUOqQ9RSAQq3mYs+VDscPhr0yNB\n",
       "NpjUezHS12nEcMQo9+wDGF40kXZhJQWnrxxUKemUB8brSefLCp8y1SFXo1kpMZn+6ARD3RZ3KLKH\n",
       "Iy0znLHe5kG2KnZxpgHPMqoQerwBD9fjf07D/ar1L+DQ0Ap4DAjaxMsnm0oJQPnLD/GxvvjzkHOi\n",
       "La0CbN1NJQNLvzwrBvLQXYhPMusngAAJYh9da3WvWv0uAJnKD5FYV7vfOX3g7MYBCFFCf1JkxiNS\n",
       "b0DsdnjoDXr2oRF80QtStsGvdjLcvWVDh1CGjkJUcM8llzD298otIbDluTFO3DFAEJzQhRMVz3eo\n",
       "tIWh6hUQqcjj2X6Dbbpm52pqauPaYvQfpvS+W6YzMUXhPsr42ZICYXbfdD4DWrHSx6f97+RV8bL6\n",
       "shA/MLeIP064Ma9e4jSmGOdvXugFEQdEUlAV1+or4TFD1bP+LUFNpEuU9mm9MuukVzOK1sA4NLZ0\n",
       "gMQSXiEPkf7zGGMKXB9X/T3v9Ywf0vQv3IiZs8SP8NXiq7nxgudiXY77TQsIQeJilkl7hYITvM8D\n",
       "U3GeBtUEf7SFXOcvGBImmtaWxBDqPVhVL/vJWQAd+1VhgLHTuT0coOdZL1SjtfPlIqBiH7de8H4/\n",
       "C2gTpzfZ9apg5rOg6ixd3LId9OPRyAAE8moTF+yW+8TycFoTYt1VS06vv/3lQLIo0y2Z/AuvhRD0\n",
       "lGUrkrxOtw5P6k2Eikk19aYrAYoNU+BMeHR+phEjxuzue5pr+hOye1wk2bNJkoRwtkM9hOH2ujwp\n",
       "UPprvnPmB7uiwCmKfVczWupJ2rO/qsx2iYNBWhbpDPFdca5WGYYrQJMINLtWYg8ZPgJt1NLbvu20\n",
       "1AVzxLJPxB0lKs7CK3CRVnG+oMV3j9Sx63H1N4D8gGOdHviBK5Zw3flS3UxQlowMU1MHKF3AN0Kn\n",
       "3eYI9zAisf17QP7DC+AZvfyu99BXSvy+t5PhevXM/cIVd24MPSJolCxpLqWitV0qT6ABVjkfjlBg\n",
       "H1RJE6nRefMy3AMWIMDhM2shty255Ca++q/M+cU4uSs0bw67o96bch/U/1INJbWBaI7QjLO/bl54\n",
       "jVnV1sulk+zi2SuXsPeQ1VDYTJIdDN4Mj/w6+bws346tAaqwEOdu/tub9VSKArsa+EEdu8eityVc\n",
       "S9fDczTnThZdu0RG+ga8/23K1uayGFJieVvozw/1+7dAM572ua+herXT92DcO6VCRsZwG/9gl7nL\n",
       "qUqFQnxpshWX3FrtFabb9S3H/kSvKvY0BxFDBaRwRyNkdmwAPICEPiz0bbEozSJa0Pw2ZnqtOb4N\n",
       "LKiSaYaaZOZqa8Q7nmlYWt/Syfun1a/qZkWNEU8X0L1a0feiwc7qb+gAlvLddNvdnVPjKMi0zeqB\n",
       "raK/ljhiHMHnVxSRsAK5IJNWEu2NujmMu4T17mt+JMyhbfr02JfRVvmLlJZedabf2HQBU2qCI4cT\n",
       "nU99YhPmwHj+F2yMERBxcxqa9caSi53LL6x7pIVqDWMPXj7aZVRKqlL4y8rGgk+LygbcFCPN+C7j\n",
       "03/KZNeGbyN99iaV/ak9Yo1hBZAh+hFH8O84ofA3N37OnALz4bTwY9cH+jogQwpZnLHLRo2b7h2e\n",
       "tG7khJIqp4SPLTcjdkB7onBX6zvFjncoeTdD0zRlTzlIZjGpwY3zLeRi/6AN/7KEJeR/LQBaodqO\n",
       "KmGV/eybdMEPDKoL/FkwOk+dsVc+1nRdoVWt/tc2K67/u8uy8IDMwkYfxrmvQz+H/lvG/jXsqc/h\n",
       "chhgX/VmB1YSAdQtmj6e4AJpIUBJOLB1oSZYNm+4WRZszkMoZ/KlXmzX8KuA8BdpAFNdKgsvCyJI\n",
       "anhmjpLuRfuTItKmvwGLvLnSx3GuAEtb9m2MHLdz5BroicvK/YL212mf5Mu/e0lD0bmiuGRz/oqw\n",
       "dKWqXJiqIvCtZcBzFGCpIm0TUJqTxIQfEn/7VvDwfU/kif+btF5dTDocjkJgMeC1LA61anV9Uf4R\n",
       "fEnUmdOwXFpixOAvK+n8adX+vIvT5cA0rQk9DnknxsscyLrVSpyI2VmfgQ5jbbQ0QV/izc5zVeV7\n",
       "1MQVI0ZFM4iEVzQt4+d2ygt/WxWW6jvB4Df5I6L2LIwlj+5QynEgrJ+t0Imonb0GZH0ckrM710S0\n",
       "l7t+tL1SUDzevL6ODJ/Jy6G9bpKtwVshEMx1Cba8j717Y/7f0eBRi8tfepdaV47keMgtYvtPG/W8\n",
       "ueXzoqmvaJF1qgi+MKD1/ccGCPX6grUrGKYGfT85yVDnTZrrpE2nkDI1v/hMVu79al7A7X0djEyf\n",
       "FbOixrDqEZR8mAWZ0Qo+2++DC3dbqDzz3qvzPud1uZ6okG+Bj9DKYkpIJLSnsdXV4UwszrYI15sd\n",
       "rAX2VeRhcq29gUyMzuKiqnI32+KPvuh0LqLeCMEw0IeM9gnrrR7cqk2VM2tiB82xkk1H1REkPc58\n",
       "HVfDz2vdB4J0zNbl5vkx7g9Jm3B+7KyLs+e8XEVDuPaZmKxP9PGArNN00su+PrYUWWBPdmKheFYh\n",
       "jdxaTCsmnRSbXdfLgffPnHNBhsv/d7CfQLtBviFyAqvhzCyTUP6434In/omkP+PzLkFNpj0WC8Oy\n",
       "qo12JcGXCfGw3IlnOmmtK2XP2WjOLn5DEOlRlAdWYkEQmBSo8C3JNe4CdNDp5CdCdRsbvX1RGp1/\n",
       "pDlqpGaqL3Ge5Or+TsfhSpSpNc2jEP6m/s1WgWGf1LKy3k87Zb5bn6p96fgBLNPl5uHm/16Ae4Dp\n",
       "SMMK8zmrNqXst50cGffGOViM1twiOIL8zZLiqUZJU1cZgNTU5SHvG3GjkDjzeT3UFpRmnoJfihiN\n",
       "RSTPIkTsPnR7BLh1236OOL1LjbRcFodwSg76DGQFNEv6ulS4co19K0/KREDYa7CNl8U4zbOuwsO9\n",
       "N6c3Cj2+aG5zfh/GPDukIPQwxvF7y1Fr6N2CLZ0mtERmaG/Nhb44dxZXND0+/6vRyt2PN+7e0ij6\n",
       "HTRShGBzQRZhJraV1IEMreKPsM9iqgGPVr+ztBFaYLGveaFEmcwril8BTV9BaXLL8k04imEbfsSj\n",
       "hvUp4vzs4LQsnWtp7GNso9HD2xwVn//5zftHF+Qrjv0R9TprVJFfnu1aD2haIuYC6fJbhzgdmARm\n",
       "DI7fwnhYAXCYOgP2HEgtIZ28B8hkR1mFP6gBcNIH4ORSV5cnEtQLdfP3koZSuIjFW4MvYwIOPTtH\n",
       "E91fWsBxiecUBmWg/J3ugwoZJhusDP7fEpct9AuIvQXrYoNnv3h3T7Xav/ImA8J6lrbtGE9iT0tS\n",
       "LIG3QIBMfJaIf560IwdZhnNKOQT6A0e5OPX4LkEvMbJ16G6aNv9HsDlKhD95txR0au7lDKXVYrzP\n",
       "IgaJsomdVVio4y8DmnKknbnABLa0wMsW+tyj6C5BoaaWi6QryqhVRRPvp8JOPXLazMcOvZrukSoQ\n",
       "aAAFLL0umnjkDJzuZxQ/LcCEEO2KJ+ANO+1kBr1OaX+SVrAlp39LDo1PjaDozFvY0AmC7XZs60nE\n",
       "+frDSBJ+4mAvRhMUffbm5X48Xfj/4euvutPlmkXbYbskZv55bpw6BoX/Vt/ML2AOQJJn6WtGopU1\n",
       "5erYJ+5dyHAwpCukZ2FtjF1L8sSBqQ/8Xa2f1xyKWGd3qaQZzfXwmN3r1Fg0GL2PgqWAnL0fVVkZ\n",
       "CBxq1yKZLGOqi2Y3TzkUEi77PuCaIdHNXnLJOIKG1dFy/OAzhsdyrgiBnUbjUW9WOBnm14CncfwL\n",
       "tOaQjzt6NSOL9B7K26959ZR+YQtttAHDyCrBGuv9p+PSlDXlFPPyIxkBKZ4PeHRKQX8Qi54qUxq/\n",
       "QuxA/Sy+ADgcTEPM1nN5CNdDfKC84yBe8T+JNT+N7lo0vV5G7zrxbxNI10q7MMWJ0CQ7+wpArLAq\n",
       "5tGfD+jE9M7tsLr88JwF4FZuquD0XQVmAHE6oqnqo4pK1B7oMSMsbg0Jw9s6vLs++Updm+xxDivj\n",
       "LdOphFbxLG580Rh9FSUi2vvMRuoypwH5Xt6EUSgGYpbrIEekCPw5l7QnFurUAhsbOkyP/AjPDiP1\n",
       "r5zEs4lUF3UaEUxytqO7neBCoQzVv50wTds5clDbKh0Duxu6T19BakrJiuhJuA4868F7Pf3T/iGI\n",
       "QswFxbgt/x9ah/1MdMf6cy8EwkmKLehwAEz1cgnirUEYH9N05VnP9QdfsyROGxTngTS1KaS7VLjS\n",
       "1+yvXepn9CY7BwoAXO1jtl9NC213S1euAygfKLDlsOVI5OakbBRrhZi1NXzOKAC3AVC8Fwkq1J70\n",
       "Zf69vf6hzgcD4SotPySTEL7eTvfszbba3wOPT1YPZYbdEhAgyha9jq9VZuoHJzqshNFMzdzXLVk3\n",
       "Q3rN9p+OJxqTcD6WGB/CWdxjk4VFe23Wndm3KpvuonOa0rVFSGNrOk/iqCK0ZpkLOrX74Qz952HL\n",
       "V5grbfejrY2QSOrVlIm+4ACdZTQiuczPlOyEx0sPKC5HY2uknsdA3TczNtLuL9A29VgCLVgbPt08\n",
       "sT9hWYTbdnXct2P3MtSMc/lSr8Oex57i/5mdkaApMrsHvb+Aa0qPyo3rdMLQ/NzY3dw8YJuE42HI\n",
       "EwAHTBYdKLDxXwvFf+LYMaXkWEfo8t/vazmGw3m3y9AGpWyBQrXln4S+YTqrxkFJYZh2AhpuGprp\n",
       "s5EeY3lF/hlIn2XI2bZqPLGgNyj3MKv47KRvA/xPchkQ5n+KpjgWBKdwSPuSubZPpbs2pTKKG21t\n",
       "MvwXitqSdjGNFPJ80zw0f2rGR4/e7qnqTp3mJoDICjHq29Lx+EavhbfztXirieNeqDc9Wb5D/D1r\n",
       "URJci+lFdHwnADIXGZfTX4pPpNy55rKpwXgEh1yV+xLw+GdJ1ne3G8CqYiHwFMJiTeWcJcyqNADy\n",
       "NXER/otVxzwl4NFLd+PwTsIo7GOb97n5L1Tiuod43+9pvfWeKu7pDR6Krk+0hkehfqPI9IH8uxaG\n",
       "asf9rCY0JUC46m2Vy0ZK9tsNag34fUgzH+iYpJFhKK6TUx3wVRpaJsa5ynQMbKBv27Uim3LETEyT\n",
       "nWCBnUqrsEsL////y4MQWf5MT1ET/4+03mOd9tA0iDfdHDnH6BtUtGOlmQOspVMP3MG+FquaW92b\n",
       "+uYyUhQD7idnkaDXJstNj0yijGyz7/R2vdXK8AAAAwASQxWWjvBHjMmWH3cCXGO9+Gf67UXoZHd4\n",
       "6miW3ty+L0fpHtrmD2yVBj83tFRqs2Ig+rKoH6SWzgDksUP1prNE1V1+dSrsCcNq7omjD2NyUp1/\n",
       "W858SPdEFZOuPYQE4VVREHgDWYCJQ4+bvlpMkhgHXnvrC0hr4VOkAUtMvn4h6O+hV3BjmUL6XCWg\n",
       "zwjW4GivuIERqiJVUcj/Q9WfNGzVwIpCNWv7osABfBbpn78pd3f1nzHCX85CJ7JIHIHoQRx586Qf\n",
       "8XxPGP8An/BEG+r+xW9PFuKQjAUSTneEphgzakrkeHkdIO1z023CCccEB93gAdKZTrlqVEGMHTVa\n",
       "S3FH9Qjjhq6M3tevo1bXkakNB2GBumShFIe1e4EYZt87328X4D5wXuq73xXteQtTpEjOXC0jCblc\n",
       "1xTtRgpSqG0daEDu90vxe0WTf9Ytowjlq/9Vm6++5uaUKKXKo6vOhe4knyI4WyBwq41QR1Lyx4o+\n",
       "yvJQrkjDUlEpO0yYUgrBhVN4ua6B0bqxzdchKBSlQvCwgP9bATQr+iJ+dyiY/LPjfALcyM2aEQYD\n",
       "YkiUSPyBMTRDKIudjDvkp1vAIbxeHVuh1U7eFPo2QJso6rKEc60lzcE7ES1Gr4VDVwAPw3kNI3tu\n",
       "34+SnAVr4Vy+KHyt4vbfQ+BjiHuf7EWFe+TuBhuZ6G7uy+JHFN1GKWvYKRkCXkb/CcpPRWljvsm1\n",
       "UohfZu60fVM92174tmkI+WxIIC4thN3cRzRLHHPG3mUvhR5Diu9LjnyeHAV+cuO/2py3i84DnmkG\n",
       "2KOqGbOzyOgFOYzQqe8cdWV1GFZtbhWOB+DfA2RuE2TqN3C7ofMKPCmXLnK1yWNT7kU9ThNbTIKh\n",
       "35N5Ro3aMTI/ksCCez8iwRSrRPVD9VahJ0Vp1f82YRUX45lErYjPsRpVMzJlHX+iCcqlxRo6XQO4\n",
       "I8AjucWg6A4raDsuRVl8VkCFJ2lOnpqwPi5x1P+PlairY2A8BXBvtF9mfWH8zrIFhW2D6QKko8te\n",
       "PsP1FVBp66o6stj2bdK4zinF14V29OaKQT9sGUdi/pf1AsSlTskCiSJUNY+8ikYp2vy4j2kLl8N9\n",
       "IdWwMT1oStSwIAuAMMW241jDew0ZquVElFWVJ87BbZMt+iei75wkzdpKoEq5sO7sLcBaeBvs00wS\n",
       "GZs5Xfdsnk5ctYWeXVMJ0zuWg+HKmixm48sqHCNkU/ra+joK+ySwFYQrbtYOnwkMWGNgwsH7Ltbc\n",
       "2Mtt6iy9spA5wgwUiESSz8eld9VFNWP6zBOD5xEfxe4QODkjUJ0pC3D6N/r/ptCv01w00o6Iu3hn\n",
       "rAkyw3kwLHG/KJyTRV5mWbp0uZnIIn4gDgORzN1vp4YSlgib3ddcL1un7leu1wqWrHUKlchhtHRe\n",
       "ca2Ov5whL6Jh/uU60VTKP53/n7N1zu2CgdgcQgdC1LbvOBW/gyUlS6nViCMMJIuf3Pd4KXiVCutc\n",
       "ZjGjq2TkvXCiVEG29eTM8YYx9tLVbQQXvNP5oxstziK/ygb63bbwTxdJVcWMixkqTe/7leFih7ON\n",
       "JFhOsa8m6y++B6EkG4iBP4Q9tpgyXruJiPcW57Gy7l05PBtydj97J1kpsbUz8XwokJBsQnFOh4ME\n",
       "JXts7B4mZF6SlEKp2YfmfArSqGycvg1gJcVC+DqJ/31JiSdp/B8inf3+C55O1v5B+aBpURKVfy24\n",
       "m1IJr6j3YkgVs7Pfhuf/ms6w+Z+T5qLjm+EEbu9WiWI186WKRzOE6vtyqbQhfavHY9CBkdNO8am5\n",
       "JC2kvtjXvD1pPU6pcenW53aQFmzAnYVCkkLd3OdS33g0joFZ8xnN4uDmE79ZqwtnyMvM3LuDXlG7\n",
       "5iNyb1O/RzWP2HP30R51vB3UorIMxjZogFYMwvksbDjM7GmU/DGRm8BagTniz1UiNo0ZuiMdMsPM\n",
       "7S3Iv1KGFzPN5y32J+l3RWR74t/ESSTE+YPCXWLOh0wOu688UpsETefBvZgy7T66ZTeuqDyCKqme\n",
       "CE2XVzhuMku5L0fsewh5o6vRPR27E2DF43xvDXlV7ZQfpTg6bJF2J3zKJpLAlKrrZ5+19ick+u00\n",
       "yg4jKG5wZgJiB/gIeiYjQ+4IgOLQ/69Q2nm5AW/YPuugCm5XH6xY/5hSKH5g5KIdR3iwx2qpc+qq\n",
       "NqMvmAvX2Olmu5pluB8auYDM6UzrgYqMzI3tqHCMyhS/wEVkr6I+9b2jrm2vRXitiEbk62OdN+rQ\n",
       "yM1GaevjrvwmaPfnuLmTBg1/gjDF1O/wNunbvIfWUgLufHp+pOOL2lBNzvYm1c7KrnBdnr71JiBG\n",
       "j5vKIVPFuz5mXd/RjCJHnbOBPe9LuxrMRSlGq/jju5bdXg8PF6SWZqryETpsl3nMKQTuB7C/kPRq\n",
       "jUO5XIpG0JYk/gHKiY/EwAY4fjLex3p275MBdbETrpL51FNJIlV2HmqAsrXblk8WfkDRZUtKQz9J\n",
       "reVJcCQbDpryLcUZbBALYjenPeCIWsbzarz5nJ3JXgeuu7zaKuNRVa4RXDfnXSbWE0bkYMaBINFl\n",
       "N8qnbTsDxEhzHFf0rP6EPrfFLNiC5V9y0BrGnd/7du57wuZ8Z+Uq+S8oFKrqnBcqj6A93Pqrxpm9\n",
       "k0KYmOvxYFgv/AYN7kD8JUwjkT/WVEYCT0QPcFF3VX3j/Xj059RUwmTU8dVVgQfYHYaEPaClVBPm\n",
       "xfFw6uLdW06omfYKP7J56cmGvGtLv4qwd+Um3nQshnV30NmznJ55wMsxx1xEhw/7iba+FPd1j1iy\n",
       "RbEBxHwFWlyC84E6UQ4LiOk0+57thul4YGcynuwXxrmMw4NiiFR1mpOwzycG7LfvLwASSqm3EY5O\n",
       "niPLufXGH/7to4Mw96rrAYOYNT5UX3aPCrZQiGns6I2Sa9Rkj5I4SemyyhY9fGwQLIEz4mWpupiO\n",
       "ZpneSdvMDhBCtv19R0LPO2xJxsxea0dM0VXvlhUrU6eH5lpRnaJQSO26Zsg+C3V9Eqg9bYGSs4Hh\n",
       "w4DprZYp9ZeTDyAQeYP7V2ZsCI/NNrBpKxct1cuDanmxauuoILdtitHfWyzUhRH2J/lZAUaCkMQD\n",
       "S3YvQMLVy316JcXRPJSv7aDc5N/phLKnXlu7zJuwscVvaCrahE7SpEuJV8hGKc1vOY68QiFo97di\n",
       "mf21226o4eAqYX7systo0okxHaULe94fVKiwUU84srXnMee5klnd9krPz8loSPeIR3ubC0CozaMs\n",
       "Lh+nPQt77CY0/77utJzmDuuNVca0j+Zu/mFlhOpyK5RTy/xc6Bt95uw/wE+b7aGngBtvY2IEXGCi\n",
       "IZIrnjnJgCHwIDKTtYs1mBihMPZ3Z7n50iHzLWrcGaG4rcIgIVnz9M1DN0DK9iAW5a78sjjaU6R5\n",
       "BnX4N3JePV1E+UVHH8toVD0bMqrOsDcryoSBIt8/9xpM9qlRpj6ngthGYiylnqFnGvrKTyDennTp\n",
       "sXwKRaoUdri6LgL+c6dzQeQn4ZTsCwZYt7T6Vxj/u/EsBAiytOcs11CMSh6qLD6golu05q/deI/k\n",
       "vt9e//yq+iDZ/Y9rxdbNEbF6YzmLP+KwM5o9qUoCt5THysKW8wAlA2a0HqlRxz8mMGkN+nPuSfxY\n",
       "cuROwvAI7QmyXPfOmiBEBeYiH5kKsZFTZmpf7AMbG5Yu51l9WOOZzuiFRJmJoK9HCECKem874S2+\n",
       "km1NOknRP4fuxuCVvFCSEFOnzII0tw1N+cUg66qjsRfLRwUhxmjLeAXDMhxRr8mBq7HBY12QK1eX\n",
       "BdhxXhZRQfusLnr8zDjz5f06GxoMGQUgWzbU8Srmm8XzoZKtMW1C1+0vLfgN8xFLYmH8Yq+Xq6er\n",
       "+Td7/YHrY8dVGci67RCWpAk0oPp3ptyOi9NF+fPf+I/xZnfoKIJaZISTDrFTp8CBfaHJ0/YrVTkC\n",
       "/FwH0j0TkLam56ZIbRjZhjMD2x4p8QPLsJ0ZjzSRrTUhbPSVyI8chNmg7drcKu8G6l5/ARRfhgGC\n",
       "j9nWxj5zhlTy5HglpCLzClwhEAAmoiTnJAGbAAADVkGaImxDf/6nhAEUWZXANUc/ysPZqzX8J5Fw\n",
       "1iaWR+ZzjxaFtSHeRNWWWHBNh4KosfMhNi8rx03BDQr8xjOZRpStHASSRCOmdLWiqK8LVk4U9Tsw\n",
       "lYkYIEkLRf3+Z0mCzwGxsrh5iAsNDwxBy3zLQEc5LyFmcAm6hHkFluDToOfbnTBbFqOksP+Dsnfk\n",
       "78Kp2jlOu1vbYyNwxYi8E9VhhUJ57qgjYrxNDbmDBe8iHh09hFvkQgTOYkLcWhBA6v2h8BWpV9dh\n",
       "4GP45EEHSnucugijy8bPqLM3tWbHroPaTOxZNr6f4qp81tyqqfSje7gjFnKd6LsNMP0SNzNrg3lR\n",
       "wrKDctFS3xNtTpeyhvLzY8VAR2ZTYsRijEJRJacmXUjjvKsngVSeLFJOZYKS7i3igrJn8EsrpX8u\n",
       "rU9I/FJOLZtSpsldK0wsfRsIV2H2LvXm9s4SxdAqKBXNYzKAMA5qjY4/2PGFUFOTRPlkyTS0jvF5\n",
       "wiSA5k8PwaM9WURKm3GKUm15IDKI/Cra2cAetwF7gzLa5wM37BxTm1kxnfq2RHk2WlMz+8c+KZ46\n",
       "MP7trZaPfUIKcwXqBZ1iEl4glA++g60O56mrHneAasnBl3qGoc5x4Cht0EVdK4c8v4Js5TNx8EF7\n",
       "SG4uufTtDx1ztUMyKSgoSiG0EpIJUDoo+m41gly7/i5Ohm3BARleaYKmnGLcLAysL5rduG9HWIcO\n",
       "ekX/x22zTGdn/y9L2bOfQE8QKr1E9OdmF3tK3Yn4dFCfGHWyWxGMXGKMPsDkgRuvwSciDXtQTpBy\n",
       "c/mKdLTnqebsEagcaC0htX84KhemRjYatCHCWu9cCr42zWxboXw4RpBHPMPxqOJfz7Ipub8vwq0N\n",
       "ehpYL/MfFTEJ8oPjPzZw5kKEaApeHZm5w45icO9r5meVHs1fX1yG5g3uJmsElNPE3hD7lyJRLP4v\n",
       "qAcvJ7k5Bz1DzoJhh1++oKUVX5L/B0vz95WVzS2sC8qF7vd5feW97w9nR3JcSDbDWEHl1SX3+KLZ\n",
       "REEtXdYKrRQS3Rc8EN7lAbOCiySpA9AyrsCk5owMIYJheNTF/U1JpEIme4Qr/7YfMEKboWedeULv\n",
       "/hjU10MbuYFaUnMQYCuN3Gz5RRR0f7C8RU053/cSAAABjAGeQXkK/wDDj7buweNUJd7poZLJlH2b\n",
       "SfxhYAFg9CHXNFMUH0tIf9+xrT8fGyi2kAYy8K+xfQDQLavP5bde5eGlWUyNqkbkuMt1ziPPRrNV\n",
       "x2Fjf7739Zlr1fKyO7FdmkmLw5gh2DtlHD8C4GfEUJ8UcKWgaxF+isHxltpMlMfm+hTEo7ZjmRzM\n",
       "uQLyI8A2yNESYFLFcRJeP8LNZd5pQ1iFItdMDurETYv8JST/ZGqGCmch/gAK0E7zQqKFeRZgidM4\n",
       "E8Fyx4y4LhMA1a3PaD99uU6rK2BWiNf/OEdEcf7/5pFR9W805olFothhXP9CepmcSjGCErMsnvb6\n",
       "9AvaB21ovFI14s5oGex+yYqMaRGol6Mllc+HhAkMZzFX/axXkdv4sQNirVUmStwftucN4mA+KHnW\n",
       "OG8Ca4ZMv7005eGZ8ovXaF2kiHLJm89cvyu36UH1XbhXeWCAW5G0SdD1dKrDhQeM92TbtyRk3GU7\n",
       "XxoImArvhnopzIgLuWapUichKhiQMFcmdJ0ZS70xoQAAAn9BmkM8IZMphDf//qeEAOfr34GoRAf9\n",
       "yXdX81LGc3QYSLojSo/QeKSREsiKKHyqq0MDi7InkAiAQdyf6tnIJT9W56Aoa3N0VyUD7NUI3hJC\n",
       "MHagCALmQ6MEVK6CNGSJB6tuJPnH5xUfmUobti4g38yhqYghPeewFgLAc5yf4leIiUTsOCB6rS4y\n",
       "Rlmko0hIu75MDQPkmG8qVTsqqxuLbJ0vSKbSRpA4pCutLclkwQl5ropXGY2i77EfR7cWBPWFNzwq\n",
       "RhvAV78Z+bQVDHtX6/RFTJmyS15plDZUUxq/8TCnRrnFump5duYlKihz16za0Tq0Bw8hNIYA+eXR\n",
       "jaV2yBL17unuAXFBNuS6LboxpnW84G3gqG6QPRBHVn6Wwe6M9hfzx04lkmO6Jeup7IIrU+eS8fRV\n",
       "TuUVVgOf/Gbi5kmQzNrXFwMGet+KTnVUps86Ojukq9jdJwIQveg0DrJCZIZmuZdgyRl+miarwGMm\n",
       "TRf7KsSP04mYMHDrjrEpsMS/pxjPRE1SrR7+kKm4t+R40/fakKiik2OS28HUV58QrDq8FGLB8CGn\n",
       "yhY7XCJsh9BfAdSijfX+HcmgLG/1VkWRiE4Pkdrq7YOxfQbDS6nzKyDZHxjHV1ZB0Yoj2ILMRmqY\n",
       "T58O3u0GWE2WVlqN7wyMg9gnwJ3XZ6ynn4z1EzjD9s++pzOL0lU8N5mkwMlD3+gSei9DjpJ7Sm2L\n",
       "U0JMJyrBMG9aitg+HjUW16ziBmfZTgDaOVWp8RwXTLfry/nmleJy3pgStg3tOFyZAYtfTAve4+DW\n",
       "72y296g9CrH1dv8edoan4arGIgBnSPYWS44bTsD5mGf2uDNuo+PGGw3Fc2EeCUAAAALGQZplSeEP\n",
       "JlMFPDf//qeEAOfwnlTFNUqEIR0AATrSpZdl8uCwsPA7wrsnhIZqtyDyUk/z95aZGN3VVFVAP4w6\n",
       "6X82PV7av26j+NhVP1K4f8oiM8Uj+e2rpHUEUptX1xbtBwocty/LMks0HKlMq1HcUmZV/H+nFRfi\n",
       "OPa1wp6zJKkzgzCf1/XvhGOqxPgcZWtjtEhZBfc0UaQXhazKYV/RC58LGR2LKZx0zM9AQJ9nn989\n",
       "bRK3ENVkSjZ5ixKU5+/w4e9WFyn2K1VrmIJaFOew37ZmjYbLpaxhA4Z2uXAgnkEYrQ6B/aNXSLDx\n",
       "zV/GbYP/tqHj71XIqssI5V5ozaGgzf3jxsME8gVKJOXi3JiMnd2DxxuBFJGLSfI7Du/rhdtJoUEz\n",
       "C4aJ1MGCa/Djs35cGUhcX5SgmfFlCbD33bCAgVZ+S5YyMxHosvHVJ7GtIzen1OF/VJMXFcTD3ST8\n",
       "EZsWaNbzXfn1ER7z9a6FADjHjV8/7oY4h5lN4BM6M8VKTRyp1lomMmMQMn79lKx31tI4+7q+jIrI\n",
       "xmUWmSuWkAWBWsjrfBruT8ouuPGMs5U5789HB2t7BYcsZ/ROZ03rv6GiNcCN/kggoyjHm/CJti7v\n",
       "ns7EniX4A2MZ3mtbbrgBTzOoqmi6M/OyvrpSLrlrW/rL6mVhykGE8K/bW/T+KtMpdz4+hiVc01RE\n",
       "IpM1ebgfikJvALOfppZedt2SWiHXKGAF8n5FmnlwMRMK35lTlbW2SDLWAAdjV8pJe9KCnBRaLNcB\n",
       "RceuCC9UdW8Pmd0pyQM9qjoFDB8w5e+Fw/ejJqnAjqf50R2wEwq78/39+Fczr7qwM2THMDahXrA3\n",
       "y8uaAwpyIlujRlVGkSEPCB6KXdv39t7ahgJCJxMzsZb1TWRHzIrUug4OdVD4oLKZWSjJSf4GB21m\n",
       "4mDPR0Y51s/9WDkgY7zeJa+/gKUAAAFeAZ6EakK/AL6ykC5YX8mcAJqfCKcQ3Md+0zDVqCs3xYqO\n",
       "fMWcSDmBMeyVFALvH31C6UPO+BcI945iqZeYO7m6+FlFyEKp79OxyW8t6BFRN5StpEB1GfLvoDSR\n",
       "z3KK55MY/AaUHlsieowiYiUvZsxP4YP5kJC/h18EWT+MOr7OAbFGVld4sk37ptNcBfEAN3YCqa1q\n",
       "oS3FuUoxMj8obcH1vi838kVfU8iWKOXQiNY+jGfA40E8TDBmSpKr0QdHZZN+AVot+OAAUDhlgXwC\n",
       "iVCeyCGRZxM3cWr9QGmAoBlwimc62bPCJZhkkdASDXsWfuhpWi3AJXwlDLmfhu0zEpXJsV2/kdEl\n",
       "SEjnly9G5L+Dj7ywNNHy4QsWT7Fz9tySKcXMs9fRJmklg0CgKgoQiJTNMaOcsdVOzlgPHt6oUBPm\n",
       "RZJBCnV8BYfoMG+5PiFa+orpP1IsPc9427RuoadA1IEAAALUQZqGSeEPJlMCHf/+qZYAcccesQpQ\n",
       "ATtGqQrf3F9Ke+Lvab+v9DPMjXALdAf1qCbypwKJ+iIo3+3UcOCr7lsqLk/gIEfjiERgDGUXbp1e\n",
       "FP8wIp0f4vNlDbbwubC7aU/pqMs4apPJbHSoMRg9g6ko1tcovM2KAdfHHslDG9X3TiE+QYIrsJXf\n",
       "XfbSgYXlqlsBf1AEdkBvBNGIUNGC0WxjPzH/PfsWW5WaK62Bu08CUTZ/ZIFJ6SGVq7FOXfYcGFn/\n",
       "fGfjFny7gmc/5wC2WnCVc3wJmWpHSXm+he9030gyHQTgsBBQyU799ZxVY+SSnGE+5K3KS8z41udg\n",
       "UOmlgd3tjMRy62bQISwx6D+HLSUqZF84KFAJyQo9ArnW2hJvhHMnoCoAq4p+onNTdLDIpDeCIus2\n",
       "1F6LcCct1rtf6bJGPU6V96KmFD2H95MmgYHJXYNiL2t3yIRz8esPHg2jnmeuHuy6pnAoZOj6OWP/\n",
       "hgEaQ4A7Jlrqhmxe84r0Jlkkts+PfWkzChyGIerAQ8/14J4xBL5FspipW2aGezaaeCD3U4xkcMWP\n",
       "CKyypxNMkld0vaGkYNZSe0bpZdVkbV2WfWiG05/j0vvUxNgUd3WezEjXiyyohP/nl3afsKkXiU4R\n",
       "h5dSEIjOCQlS1wmw6fyNsDDmZhJmYy/9ZUuZ1chyyguXCzO/HeeGueMhahKNYNbu5M2YUBH3zebw\n",
       "GYDaqu70O+6HMdEHiyVNjBJahCf7Oo9e06+7qTuB5sG6WZ4+XNMR3EcOOhhIlkE9pWKyH3R95E4U\n",
       "aqyGp0b0j7qgW+hJFnB/brjMqEGCF/uCbuaf2wZ0T9KG+cqzaq2uDWsKv9ShfC+FaEB8me3uUhOu\n",
       "KYpCw172V2TYN+PjLRxQi3d22x4VOfFQK6JvpOjM0/1htElAQ/W9kkSC74HTwZkVo+ijEvfES/0y\n",
       "9aob5edhoUOO1hdD+fkXMTlWwQAAApFBmqhJ4Q8mUwURPDf//qeEAOJwm5Vac7vgAE7dAuM1AH8r\n",
       "jcbpJHJ+t5RkJzUl19Ci8Yo1HiBtXSsszJu40aU77uogVCIf8mJtD0PdamIWBcsmd3+sF6ynM2gp\n",
       "grO+xHLaxRuTm5kvxrHSny2ARRw8gyMh05osZmdBYcWYc+s/XARnPmn7XFRnCV44/y65UwfvsXAQ\n",
       "eqpy0akxbEmKYOf49OPNSyb4YTtcoESClsvewOx2twl2mUmwckEX3gDXsbj0A1dcCFo7fD0hSS5b\n",
       "6vIRa1a2rcCVlkBFmP8OS8A7jdDeXsG2rOBJ8x6XabUO/LCySrbuB+P1CTFTQz/vDq2T6krbBDTx\n",
       "/5omTvh2N+ptSNJr8NlPBKkOJJv6t02WPR5HdS2OuFCqYh4E6IIuenBee9WPVlDv0LbveUJVtJJc\n",
       "IdOn+uz56eYG0n5WzWdG2C/z1+tzfLAKusGcZbl6xuFeqVG2MBg8igvyCEhR8vwLjKjwPLv1ykv+\n",
       "DO1SPmsjftkcukPhVQXL4WfqmLcyrdHBOpVLAQj6w2ffBA1sCIDIbr+FQSBSUY7nPr4w7H/XYGLq\n",
       "yN+tg36Yfa35UMCTNJmIb5fv2jK/JyY/LR1CFgjzhwTmUoegR0A3RDucXCfZ4+gBYcJTy0q1gVLM\n",
       "/olTUNnKxYb59CiAe6S9+YfXYElT4iPz0duGSgChcQmSvJ/x2CIKfgL0bjQTpzZTW7mjfq6ZHYRd\n",
       "5SJNSpEb2iU2Rx8R6pPaZE34jno1RCQbvBcbNfZSQ+nY47cCO7ww3J7W9q80QLNHn0AApdUB0V7n\n",
       "JY5t7njuknxwvOy6gL0+RiGB2w9kI2l66i3K5SpmfAHkwpbNNzfkjyF12yDNrOqNGUXskIEAAAFG\n",
       "AZ7HakK/ALpUDb6koXPi8treAEzYzrDVGB91TPJbRB8ce/mRJt1WNdhaVkaGapVZP3wW0QDRZkII\n",
       "fwoN/ZVmamPl8DXHv2cPGFj8134sB8WB5AMsbOfpvmC7tegbyW1NjkI3xF3PyVbo7fJlExsOGosu\n",
       "aSkcNEXFW3V8ZgzmsofttER5HuMymp9RfhCj8c9GzuIeMwOd5fnsUpcU/INbduG0MH0bh/gfMyUF\n",
       "07jJa/RZkwT5O6IqXBsCzL/whK/hpypcLyap/qSNW9dL8AGOEJfVO7hAbHRKU1cQUIP/aCDLnhCj\n",
       "uNH1MSHKqnLs+iG3MLIISbKH/NpcJP24+Qhl8RXUwjbgfQKkr/ID++AYglEfIgoQFr96ULNJDRXZ\n",
       "8hXp7O9mLowjqGqga91BqXRF/Fg1Vq0+c4W84O8rkanuR0mLnwpABgYAAAKgQZrKSeEPJlMFPDf/\n",
       "/qeEANu6GdLzIAW8mfI2jnhPF7YhsrlL0qlP4UGQPT+Swvg6ssB53nNK65/ZHuPmKjT3GHiZ1ieu\n",
       "GPtad9GkWzKF0rPLEyKe7PwK5qGlabrHyoGWf4DaZbodEDHiMngwnJFQ4U/p7SnEny2AtRIVPZmj\n",
       "b2YtQd9iYJGhhpIdldAjLw5CDZVLJy7SL3d4Q88Pd+TlJXUQq++bdjurCSHuhy5YCX9rcX4jy5/d\n",
       "mX9j9CppUGChWG7IoNUWJVDO3j/uDQr4vmYLWGMlRaEbj8dv+zwdT6/O2/qCLsjoMv/1oG9tGn26\n",
       "Qu60k+UbiN7v5+nlaHKbVN7Va9fbwme/8KqqmnLYWt/6T5zGLlZpE6Mb2JVnVLTAl+tLvgBYUzDy\n",
       "1r6t3eO2C3n+a3i0SunUuu4bEmOE8WKEDMg6AaygtRiq5FNB4G6cEAQ9/WV8i2v97QhSfz/IzqqW\n",
       "PBwtAkIvFQ5ZeGkSkJFhyRLL4Zew1tIb49LvZO9nUQ/j/GOrgDeBjAo7Jl6XloMkPEP290blrwrK\n",
       "FIQpuyxvI0KbwQFibM+s5osBlRklhDWBOWAxR0GWgFU6DtxUB7KmGOlmVxNNQPkUwEqYaEcZpYUO\n",
       "yFhJEFifX+OEgiwe3yllqDBiTRNtCRQMQhtDdeXJaAnwJZIaVmosvRbvQyFqha+nCfaRZIDZHD8a\n",
       "K0AevZoYCdRR7w+G6gbYuRdE2jXkxFzkJTqMQFPeetpcaUPYXv9lUFbMRlfip38MbmAZ9/Uyvu+L\n",
       "C/77LSwmbmvMPOqMc+u/pYWP7IcDCJ7wpjAV/V6My/SdY7yhh4hiPwAwHjrJy2q6VPvtsXKuAyjv\n",
       "HrHKaaNHA/Ypt0+9zB1YscCYRaEZkFFp/6sDmywQingQAAABcwGe6WpCvwC1ZaAKiAFtCfYzFU/W\n",
       "3rhH+U83MrjnpWqUKrLz3TPwc4AqHLUwlcT+qowg9OM0E52mW08UcGRehLyKnufZ69n8IfDISzJU\n",
       "ALZVOuCXvtm1/Fx0L0uohf9MsLSGmtm9j5Hv2KPBmSbpGCJ7YVAHq8ldXmeX1O0y1Lkcx0UuuQcn\n",
       "D6USD4hBqA/UBs/RKJNYJVdrptqrIkt6IkzM14JLvUDsghCcXAMp3RJYZqiFxuis2+uUmpSBwleU\n",
       "Nu0LGk4nab9i8mPUDzGYxCINq9xKnc75iqHVu3LDPFypYZejl3iPdpIwcCSlZqyPWmMWCIeF50VN\n",
       "z1CU0RdQlx208JElBxzhlUzvn20PbylH11w1iNlikpKndLFUkK6LBuW80bTayW0nCacdt6ctQttS\n",
       "Hvv4u7tnZ63sABCLQ6VP4Dt1LHmp1/ymsFX1ZtJjVytkN3GVyEtRM8HyUJNKwQuiQ7HuZMg/4oOf\n",
       "QBpdYTdBgLKBAAACvEGa60nhDyZTAhv//qeEA19zVAQkwpSodYmQsNCStJxnl27SDJPoeDtlqzow\n",
       "n4H35Q3Ha4M6u9hbDzATnCy4MX7i79X6RjyUMyKiR4Tz65FBLi66LcBwHkc48RsEt47xFEVSWYUT\n",
       "gSXg1I8ApgaVMXmZyUhmgKhvvYVYeH+1qianEZ3ubkADefkFl5DzOVpIIc1tv7gJs8vh0jmakXIU\n",
       "ijv8VZojusGAXN/ydTJ7F4Pn834lm98f4tElvGkguFKDkVYvFC0gEWWaguVHkmdS7kjA6+ZinqqE\n",
       "xBYmV2DWJxHdCClSuKgnsBbaigfH4XILZTSwyQiGX1hwM7lZVCoK3FnupKE/OMhhfurH/96p02V6\n",
       "QBH92vqbX9hM0Arfiz4OmVII3gSlrgf0Zq9hLG/Zp5olA+yfksmPMDBze+/K5Z0PXdXCnu9wv36v\n",
       "oQT6axrDi5bUxf9hDTN/nyUdcS59IXOGK+Q10i0Vao76bOJ5d0BEfW4iIUH+VyU/qV5Xv2ZLrE+1\n",
       "SgVQuClKiTeERv1cLH8Mg9VG+l0+lJOPy/tou2PfuLA9yc3jdSv5nAIWdsD/owft60tzgQ78gCwT\n",
       "KxcrYykUEPxfJpDCHg35UXv09w1uhq7jf7PLsOt+otWt/QuIzqbJ9yy8ppHojko1vLd+7lldsr6G\n",
       "Ng+evKZUpBybl0piQWN6YnA9RY1994QNHStNdrcpInLPsSilxN+WuZ42fZL4D1JxOymB+BX81pVP\n",
       "TgBZzRAIBykIwOTKdSglmH+2beDDcUg3ynBky/324mwOMJBdaIfHUua0r/aNww0yrirpJtb0uuq3\n",
       "CNNE5r77dVherb4/4AqmDIjcDYgumme6mDUhUOUnZH9OkG5eLMa7vjIPXaaZo8EGyjDFOdMPRBLm\n",
       "AO6bEgFxfYzRqXuhLWhqCDg4YCdhvf/onDa3KbgAAALSQZsNSeEPJlMFETw3//6nhADc+ts0BCYR\n",
       "sAOFv73eMwiYSI18BUvPK8hGpYFyyfv/vEj9ujv4FkIWhhcmTYlBQjZ1KfLZS9Gv8gFBHuqBq9qr\n",
       "+xNEO7D+Uutg3QvhTi+uIgrypYs/lL8Au38Jb1TgNj/Qrfksy/REOX6TA5amNEmeiqNswAQhe25O\n",
       "sq7w2lMbEW8lqFirXttzcdgKmRZtaEMpd80v6htjrek4Eoc4qWcj2dS8MtlLVggxfwR/2LRpo9VT\n",
       "32Hfsn0P4FZuo1tlk1ufVAm9i8bfVDJ8HAqLrF7sQGW3tqJana9fd2pPfXB61Ass+rt2kvUhxsFP\n",
       "2IiOheZKbeldSIU9smWFY/cgSE5NPGo/0Z0INMuMKui1DYrDTM+SqV9SU2qXxdPMrNfaplSyNxEY\n",
       "nXaWkgV3LYE5iXtOVwyaP2LkEnrH/9Td8QCiVUnpBpLFddoKorfzBE9kot+l6wQpgieYk5MocfmK\n",
       "Z/Miv3S9cQctrp91+n3PUySLKRabklO3nbcdkfOAvV3/OAHwV5nZ+H1altJduYTEPEm1xr85iuwH\n",
       "eMBdsIW8wEzN/Mt7K2fnyJ3IuZmfT6Oh07RZ2ERTaw0KFNsjRANAi6OEnqxXSgCdMS7K/6s1Y50i\n",
       "E6blQF9jS1Zxiccezh3t2XE1u5XHWhrCTkRR9iOZyDsUnJwJ4s3sKxAigrAoFSw0rincrMonXFH7\n",
       "ieFHzdwx6yevyHIymx/7zcyEKD+VcwZE4cDOjxcIp5uzTN3QVLJB8rflyaYJYc/27IneUtxBrwsz\n",
       "c1ug1xxdyXY/qIW38ByfQlHvh/OyzR3Xy5xSZhE97Xos9nIDEmPtF19Mia3LStRQoBwvR1td+EHO\n",
       "+liOc0y/k8pluyPI6xp96aDxdyITL8LxRtG7t0wqfgyZ0fm8bpWrfmhoBkMRdULpPiEiS76EwUw4\n",
       "uHuEEA5hOzs2ubAem4AAAAFjAZ8sakK/ALWykXnRc1eAFuoabuVM1z1X2ILGvWGz+OaEExg05rtq\n",
       "QWjd4FnFo7yhfUricb7oYqEOOjSpd9oDLbwiwRgIXchfRldVKvdI9e0H87Cqw+29BsTy8EwVOkXT\n",
       "15fdfmnsd11tABm7TXao3diqDTwhEEZfWB418cfwPUkwIqrUUwNhySyW9og67HKKjvUUV68zOVxD\n",
       "6jOwv/AfQheyCup4793wvz5tidcNbyqy/MfA7QwHaG3ulv7xN6+7FYS5YtWnWb/lmm7/wRIeYS7y\n",
       "JxibCMSsxUuyKWnmI5bjt9knD1twhTBPYjqyzYwENh4JFR1IT/K1o5MqhLNFHDYuj4C+QFG2vSNd\n",
       "T/Lo5FLv96FVagJ57V8yKolKfBHxb415gjW+h+zxPEoFzPfwCoK0HFJBnNdlrOYUM8xoKJoRSEVJ\n",
       "SeDIAHupGuHXH4XKjgD3mmmmazawh7VjalQgPdif4QAAAr9Bmy5J4Q8mUwIb//6nhADWvhZeZADd\n",
       "O3F477W2l/m9W4DGrQeUE3Zps7R6bbj0v5vLWdZnmo8A55/AodQwVu2XnPuQmnNKeMHXm4uZTvNz\n",
       "Jk+tyr0DnWLXTY3di7Q/LlnG4EgcK+DR0X9sX/mzfeMpoZLy9F0S+Am5r2pZLffwxkM01K5H39+e\n",
       "6L5AAuKXSbIRu9/r32H2tMKmnVhF4Z17kYmQNzrgU7djQE2ce1bakohyf8xz8W8hPD9CLWe1C47Y\n",
       "4jGussXM0GUyvV6Steh4GncigEMDCthdTLKnDq+AwIm6Au8t4MypyYYUicqkv8A6wJwnNiE2ZTzR\n",
       "vFidS0RW08tFSX126CrMR2PxBQVBNaMpeTdnWT1GIT4F/NXoi8+jwL2yAg5Yn40rJHAZjtC+vIgG\n",
       "uRNfCxVvxnaYG0VJIeD2sZUeVIIsjcwyfA/o9YKDf02E3ucM7LxxlQDwJ3Ck+oK9EL7SJuwQDH/y\n",
       "QURRpEh3jaOWFNxdEuuH/GKHYmA4XEYnVNNA9VTZk7BO5G6iCIflaz6G1wzoSXcSzeSXSUwxyLG/\n",
       "/AoxLafk28t4L1eEP3IbXyM7e2uJ1iLWxk9G4xzULOu9mOS//+suP+DEdrPuGm+KroD8EIWK8+Ev\n",
       "7WgZpUlWIpOS4FDioEcOkIEpw8UVjIz4EUhvZJN2AzEItyIMk4LAJ6mqXF0IOs//B4XfH05ek5wH\n",
       "3lp2HapDDaTafGvjrCdzwmjto4r/8COnBTtRxLsxGxdbVbRt9yDChJukSydrEJa5iGvTQi3l/Nco\n",
       "88MYKZ32LRO/mS2WrYeRGsstnknITiEHtQJsgYEIPQw5+v5gaf+3vbFVmSmH+h8FoGiX0LRp+QuH\n",
       "9bJN2lw1BcKXNRQBQA7zaNJ6t95kZyAxhc8FDbbVEUYRX89UFfu1yeyON1HbszwWxK+kXdLxAAAC\n",
       "zEGbUEnhDyZTBRE8N//+p4QA1/CeUKopeY1WAAXVEu44TJgO0mlxllT5UFIep22gPQLxpesV0Y3A\n",
       "JBpRjK4iKN8ZKgAZJFkwOtuW37P8MgRp9bQ6hH91O+vFtcVcKqR1opSZSJ5uesGGUyfJCFGP/n3I\n",
       "9DwZtZHNsGOZWwAHaf5A5wmhy9g1/dOknb0otJ0+uzVRpQkr7CIa90/7DbNNRi+eG4XmWLaOSeOA\n",
       "4ltO4ay5GwmRg580kEV+2Sxshx49/L+txywHVjH0/TdcNibXXIYa9g2YKIFmycVM8RQ+SaGGuZGY\n",
       "EWt/NjfTF4OhqzOvzEMU3LwogAFqUg6jiiRklj3HsJIazPLok22nR1XpFcjnnmTg0iNGMBgGmTUI\n",
       "J0s6FWuZ4kNGgA9M5hWR6vcBokuWrTAePgZ9TkT608rRGz+L0jOm4HBrE4fSIJWiRDavK0QwVlo+\n",
       "HZgHF/3xgn1Ns1POgGKhFqFgp83AxGmvZhzAnAGbagjRsL40PM1TNvNj4YsxkzTtIO2xR8VFadGY\n",
       "zuQCXM5LZa7d4/p+iIQQmy0By/HEozNurBy9HqdvFGip5kZI4dSEvZONn0P3DDIPq8YEnPdXX/dE\n",
       "AQrUPUjdwUgTvbLI1+dh/4rpkvZZjzIoGMcdYYVorrNOqaQrz5QxvMdowI36GHeJh0DIRp77ivPd\n",
       "s17iXhfZIcuQyLXqNbaqUBvLqCp/CngLxlZLbiR3J3QBU/8cv189Bj+LoUIz6ZcOE5Mz0samS2LM\n",
       "T7RRcbD/I0EQN2+xTWU9gFn/eIKw4fhvhWfRgX6CPNhB2/cp6GkRKCqcfhk24VxtsExoMjQBh2Dn\n",
       "/8YSu+1CE4gbxXknM7WOvGzBboZDjbgUYkOTJILzM5FcMdPX7rebfgEvGstlqV/OolGbIiDzmOK3\n",
       "UQBChklbnphRdnbdzLsjm1cPr7YHeNIc5oj1cdZ5vAZ9AAABWAGfb2pCvwCvWX7Ze4VcwAXMt1E6\n",
       "syLa7J3k/p5ss6elK+epE/3vKaX/peRSHbu4WsMTTObGsgjXrq3nOG0/Jab+bemKbN01kUH5CmaA\n",
       "3FaQchcPbRsnSgWeSqQcob0NIDBF7QD76pal3lrgwTs8uWTZ3+5SinfiCMPa/VD4pKW7igiMyDkO\n",
       "a8SnF4chjzv2FWKP0pjqJBmni6dwtFFPBBqrmrPN+ysi7YZOqo1z302wAFfgujhJ7Wceh2SQrGzj\n",
       "+xUw54mCh45Cy3eb14k824ldbFmOyeUdQU3VZ/bHLMUBcpboR9djVgYGa1pzppXzeDYJc1PdnYmR\n",
       "ot0uq8t+4fDmfLkmDQ9AiU8paL8b0s5hBHW4YZwVx1bDsFj4oheQhRakFZE+xI91JyWbKFrG9OQd\n",
       "rBsaMXdacX9rv4Z2TwxuApFuImXDLf6dKTkR4a809qCVXj0BbqPgAAACi0GbcUnhDyZTAhv//qeE\n",
       "ANLr34LeP0AtSA1GsIaZR9lHCX2x2ems9IWIi/MgI50bk9tac4gQkgmvPcEi23qv1pyBvSN1Dgvh\n",
       "4W2HJnaF+Q0LN6Wk3MoZWKd53oTusTXxMOiGWjtbuF05Y6tnYZ69pGDuUJgkw8rziVEIEB+Z62v2\n",
       "BPAargJ+COLnWTqXkUopiP8/rgv/watNU6Qg38EGqPBQdDD4wqt+xpkgM2+v9CTeE5gG2gtaG7hA\n",
       "kZx1bCpZefiD/3UjzDBpUgjdh8T9J256ho6d99tzphsz/mrzOpFDQBGujRpNuV/+epwLubQM/eRo\n",
       "DRQnFgdX3O6cX7rU5HLmhWe1YFrk0tVH9tjpq1X0l0cVX+fN6N0VtzSTDrnf4ATgh3Fzz4s7lEu0\n",
       "jYufBTfHzTJqPG+XXjQDD+yUIuZQbvjQlZ1iudBM4zmoJBg3s9zfTmjUWoWIFHcGgsnpjihkoGt7\n",
       "UtEpb+RcqZG0bSJ48CCTdgbpZ21layJyWWn3msU5EYJicx4AJYFLZM4lGAKB89L2QdU/9/T8WXcf\n",
       "+SyQt0PbkTVL7K+YbeM8+puMGTxUhT2/O+kozJiIb4zqnCib+39kxdPEZEULj5C9cCsYLo3dka22\n",
       "zM2tdT9vMbAo+55NIgtheSagh/ECA/KOjqR4REWjkowIlZOSWHuoVd9DCTtQpowO482HpNDeIrjG\n",
       "sNwHrmt7YmbPzBCzxRprLR+TGpygXyMw1hgUk090rsgHzpSc1QujnjXT+CSQPnmTz/7r0xAICJru\n",
       "+gkkxxPv/v8Tdac+ZFu5NfgZDTHwqryMiAefgPihz6ZKbO6+S+1aGRc7Zmcj7ErfVFotc344gJdJ\n",
       "oFfOATPeJJNMwAAAAplBm5JJ4Q8mUwIb//6nhADR0er7nTkFCITue9Ansm6V4tOanr2kaJj9SDRb\n",
       "e5fGmeh+vYNJuu2rl2pOHGJtmsS/z2AAowCoWtds58xysQ/rf5a59j/E7CwjALglb4tq+eSZHF/k\n",
       "LZBBbnh9EI/uREpJKbw/BMyKBfaAaH96M75H3rJs3AQRtceqX02Xjc2AsAuqxW2Clbx1bju9trgv\n",
       "H3xOwKYQ47AzitX+Z9WVO5V2+QLwwkyWETm9izdXNj2Zm9Ef46At4T8FZZF7wTMeZEr/tTxJSps9\n",
       "FsH509wqbgMsmcrX+PXYjXyrwzPoD1ZfALw9XycwnKkGb3aarNnGmDvnA2wQo/hKGgXrU0PmN+zL\n",
       "6innqfnP5q6I1fucgVXkUqLx7f3qFGlbVOhpjHue6JD34G3D44A0cyDmgMSUgtf9qap/jbP56OZD\n",
       "iMUoMr4T+8tRkMMI/RMwHo9WKKKgqyEI9w7haqS6Mb0n7alzK5hQ2yV3KPhVhbO/rHl9Qe9XE9VN\n",
       "hMH9Q0RoKJ0+8O6hqNf2BGuU5i/Bma033k6BmZk8HtXS8gL3sq4XGGF5AGQBmmaXc1o6lis9pueT\n",
       "U1dAPMiaRxBNFHm++1mvszvL9V+3dHNOtulMlkI3d2YhOPRAnvWLaOWW6pN058Uau9CbhaO3cDTd\n",
       "AySFcHn7FRLnCYVKXl28bYoHwQ31zJ703+cZBg68s0lzfv4BIhC8IfSWc2pB2GrPMFzOr1m4nTIk\n",
       "bSSfLV4a0xIphOVNQRchmp+aGTKQEz7DjuAwmnzX0JAHE9HudUL6iLWQIXiA8g3eYXqtn6NYHQtb\n",
       "gzrFfJtiijw7QaIM0wWQ+EhAj5Sx0ACVxF6K9Us4pZEg5OTPX+pZgXoJv1JB1gIzVLVx6QAAAppB\n",
       "m7NJ4Q8mUwId//6plgBqvXNG354i0YgE0roUw93RozSwDDJ2n1EOq41slcdOQs0hw9/3E8IrmDM5\n",
       "upXSg6szp2FrMgnOOPzb07tdmidU4afSAJ43OtKIQNgyawWXb6SMTZiJgAz1AqDp7Lgqu+Yh8iy/\n",
       "IRbfRtjHkBtP3/n8sdbrgvRFk91CK5POdHRCpl1uVzZk1gOLh+s67lS3FRXmESz7buZlHGNBEG5L\n",
       "2VlF4w4OmghsVSyGEk2QPYQeuMh//TyniK6HfkAlZCFZHS+qMwl3ja5qiQKjCfqrEx5ZUgAo/xsp\n",
       "63Cf3TywEGxbLioglweNzb5CR1fRqE23iI4NOc2CY7nQU3zV7vUcC3mZMRT1SvFOoAo6nbP+48yU\n",
       "9JpwhwU7iK/HzWQxIwm5961GCNtQffKLPk/s3GI4PF+Z0brDTrs2w1TGD7jdWt+aSDXE2eJDzjo5\n",
       "v/bV9X/+nnn4E+Ou5j/DHqVXjE+hwp/tr5UfbSijRna7VTA6T3kHYleugFZT55ya1BrexHl1Gzm4\n",
       "GM6Kx0MSbd8FqTF3sq8BIgX9Mgrlna20nEjR5by+a36iXsmhTFUe83IovmvAjwhIO7C1T31iAzkw\n",
       "yrReQ2PtX7aV7C9edYE0tN3T1SBNtywwGU98b4jkPZIjhS98fyxS9lAyUttnN9eY58i8p0Rz//RN\n",
       "YYkt311VCOgsa5FcU3z65NvLaYcwn02eWpcoAhvBrPmn5Aq2QDFCWcsI4TA/Cqnk875Mjb1KYWog\n",
       "Y5NUB+IVqniKbI0mrLQs0mIwW4Hx/7nLMmqhnp6huJMFNob9OrUfhxZlZVel4wpNXRv80MyMvsfR\n",
       "RxoIYm0O+cUYBajK5KjIGDAAU8Z/UBIxmjWcgod+4fMGhERMAkYAAAL1QZvVSeEPJlMFETw7//6p\n",
       "lgBnqjXrcAr4V6OXQAbKFyOMkm1mtigKrdJMEDRT65Kgpw5s2ASsZftB30IihMFMizHH+FL6rwhW\n",
       "hSh0K6msxDq6XURWUV5I5lEcfC+WPlafcYMEi9yki4RgIurk9D4tf2Zbn7+RyoIb9QOC488P+7Fa\n",
       "umsKtBVS1bBsyT7AoKbzbvJ7n4nrDlEzTDCnWw/cfwywRZtkdDLxgehhAgQinp2bc9o7i4j/hMmi\n",
       "Rrv5w4sT4Gkt2YzzOCfKBTAiX4fJm4BiAsLs0jg21hWjhcIHxOuoPuIgAdKqFnDkNcTtVvFEInju\n",
       "iPWUK5GEnfcWkNGI+gtl8Po2vfIzJlHy0kz+ywQug6VTXBGcwNtvAJJTrlpoTk4qY2Fj4JU3yQg+\n",
       "P0i965cGlyRHK9VizqCcYzucPfZTa5oeewMS7SBgbVQKV8XoT3ZURxwkZ2MXsLiSonRiQW3Jf+vC\n",
       "Z38TpW1unhvRxlrD5qSJ6HbzoS+1zfAEty6kqd9HaM5IvsQBZqFGfeLUeTQA/N7/HieVb7p8sgEi\n",
       "bVzvBqJYYmDNUdpdHbFGi4X4rBLN0p37Vs0MU+wCIdM2NyfwMqpaFvKzBhEML/wyB7E+L+68BL3v\n",
       "Qlb7NWNZBW0LxiDCqDQigiODAsX9q5+ZLvRmIkz70O3QnMpzwZY6aJ747a1AdO8vC49W52ft8WBU\n",
       "nWZ6nBv7MtOelqrvBlYdRqMDiWiG7dlfK2TWnDg5NUknB6Z19nB4rkHkkWobSXYePrBQ8steJmq0\n",
       "okqCEPhiRbHXFHinP7mPhEBIDQS/yJEh3PxVwrpn4NABxJGTPtRw35JyrjVPG1+nhs6aQPdaM1yD\n",
       "SWP0a/Nsilyz9YyR6z0Y6w5h2+T/v7tzDTQio9kQ/j6tYXRHsvVX1NaYTmH7JTioR5sRYMe+z50V\n",
       "mgdQ+nT0pSHNXCunD2ZVxTm59K0bvxx8XURG7vPDlwTyyLv6kQb7M7Yqw6cD29t4q6xvmoWjDBgN\n",
       "mAAAAS0Bn/RqQr8AplmORAZwgSqdQAlt0TaQrc+JhHWehyXKu1kBXjCV2ny1T7rFwT2D8u3xAQxz\n",
       "vNgJuYB8z8zBoPND7mtu3fQD7aujm40l1GzwMDWRHX61jv8R9e+MT51WCzJ9qMBoHnIQACS0oH5K\n",
       "OBCXUh04kR5AEZSCzE1jIAVaLVLvQGzcKJzDEVZSfIxkZmwBGIejwEtFo23U43EPjKi811khKEwa\n",
       "fu4unkVBZsC52eFgSkNA0yJH0m/0I/q0WVtzJqs9REQzu1xMm5zhO9oeFMsbx7RorBEfiZ6M2jLn\n",
       "Y1OLr9/li1SB9Vv+ilNMhLJM7e+nN9wdgWytYI93+W8hHFy5vfqmBswcAAz55/Ne5CxpiWGQbg+7\n",
       "1Qcson8RtJ43AjlI46KJd3v5fkwJAAADG0Gb+EnhDyZTAh3//qmWACqc8zgNvnjBFCpuwADsxWGN\n",
       "C7C/OXgNQTo+yqtnPBXr5JlmtFL3wEJdV9HjEDz2JOjyFJ1oY4uuqu3Tx7FNLxql7CMjdDqE3QEi\n",
       "brUOPqI9ZM37f5EhOoX34d4/lJFq9uiXcFsf33T7eljr32aIcMfCJrU/ibILTECfTPOYHAjW09S7\n",
       "D+KNcc1dPFawkQERgiY0YWvIE7Hy/gkhNjEWG3Mq32bUyrkdumJBZ1MWqbab2wY72Z7C1qVvTS7J\n",
       "bfNwlt8+8gZStbCNC5cjqak339GJVWYgEy6YDT7qKGFXOH9AUph6+UD1Bm8fWerRSPLPVPVvPaBi\n",
       "3CKn7AUfMSV9KPZqMFbMyQulw7t903LqPdLdnafuLrqswYsdpGggTge/HvC05A4URQsqLCKXJqjp\n",
       "0B9CjkfS/N+V5euwjPYVQaKwq8fIwxhH6ByiwQWWQ3KPDdGXyaSgVXy6EpkmT7kiVj5Liqf7/uQf\n",
       "SAK9ytNlGoAbCr7W6VerjPMDCkiRRjzu1t1LwWQcoDBw4kWv37f/aZMmCtlhqhtH9MZd3duIxYLU\n",
       "ckyuUaDK7vH5lnMOFRgNBZ8+NCA6iVm8jLBnY4/4NyvBfQMqciSNyVzAywUKhkUJCo01dI+BIylg\n",
       "9fkNVy9el0r5B4RdgC3wLqXaNgHFGv4kPkjQgNnoLtkqO1RL0D2xj8HQf0X3XR3xgaUD4Zu2BDpb\n",
       "FWoQ4Cdzd1ykrCiQfl8qMDwVzKv9rmm+vUQJ+TDjVmrfYpAy4J7HeA+YOtfefZfn2wfvT9vw1AP1\n",
       "wnX0JmoZz5fzWlmrQLEPztmFLrniCjJ6ABe8yspQCgKwO75A9/82OGQPmnY9iLiSz8kSKCdrY+VM\n",
       "wn+K+CawnsI0LsEusbAdByHni+hl/l8SmmOJ9+eDgkNSymr6OsQqNvS22ERQC29J3vWIkiPOPi64\n",
       "G/6ObfrRw/7eSu+s0AI0DWcDqAEwdLbYdmIPKj9fvPrhrdrLh/bvAfRnFqRJlRQ/0rfTy4euxwFT\n",
       "hiGj0UTu3YckXR2I31WZZS2y7FvltAAAAYJBnhZFETwv/wB5hxNWfgEgyoNaW5OHE2rzXoATLPIf\n",
       "kK3Ok2c7/RYXtHQ7T1aYGJELL2phdFdfPZIAfHynIhe42y2EGtJR0vWUrnXRYfi3ujVSaYaRptno\n",
       "H1w6kWIx4qH9bfJlkjmjgX0dmsoQWXnJl6EkPwJ1TdUPIHZrMSkgtoByNgUoAeBSZdVd2ZwA4xc2\n",
       "1iR8dx2hS2W2iTAseHIuNSqBX7sK41Gv39v4BNHE+AFzxwZyEnQ0PzYIdOEHc6ORdKRqdHYyYcP8\n",
       "aKjhwDEMlhtMFKBLBsb70d8ja+bcL17wHIj5lPLK5PprfhEVy2B52c6F+jNV7ozCV82EaugEP6B1\n",
       "SE/gaq5IcLStd2DaEAwdXAYFPpoZJ75siLiZNgrgRGQPr9V/+9SwMsKeNax5V4vSfjMu1r/cAH7B\n",
       "4Q5R8M5MArdzn+Rwr/Bt65PrQLT36FBUfx1lShfv0gGCl29y1KYxXemiwgZkeVp+q1GS/ugpAkB+\n",
       "ukRPv4spfA+uSa39IQAAASUBnjdqQr8AqEPo03StB3/QFpejvJWYeSIGQATn6XrYrzy6W78wuK52\n",
       "GwxBxzzNlX5Db9u2K7lWPi2NA2/vPJ5RgSHxZ3dVoh0ZnmRc9TV/AofdlxS/cYRS0m9PiWu9byrp\n",
       "fNMiCfaXmTDnt8PXsLA2pZiLUwNwjeQI/LoKmLOiEF6HAvFplj/8QPI/TTQFFdFJGrRtFQ05bCAi\n",
       "fOSaXpBUrT0fGC1ImBgvmJ6QWOaHu8sCt/LK7L0xhxMyere1lGOnZ8S+PVcBkY1y5uWRoUgow89m\n",
       "Z61hCmaMA32dw+kCc/F8LCrEPK+ewdUaMMfpxXGd+9RjL9QnrDtR+xo88gN5XrQavZLuRwz7+FQy\n",
       "NLmcgy1GcDB6lPyjpUdQetVwN7FNCDgZ8QAAApVBmjpJqEFomUwU8O/+qZYAaD20G4GEOXogAX0c\n",
       "s2OREqiFx7HY8Awnf993PdKuAx+y7f9pvBo/1KBX5u0nUdiiXVgZWIQLLbfNZOvFlbqaxXttN1Vr\n",
       "aagPqBX+NEk+LXGpUk1ZI5yfvXwIT+OGT/OOpPqZlJCgamvuLtwMgkLc+c58JgGzDyW9bPOI3GrB\n",
       "WEsVv3agazZKjjOwcBHQHsq8hXeJYoV3maYvKWebniqpeq3K7hiSJ5puNNGCvYSLJvh4RQ0zfFCR\n",
       "5z86HTOli8JDCwpetBC5w2VFllAFa2JM6K/oWSNMHtQyFxUzXlTTkc1QBHOkpbQCrBzxiqSJRXVR\n",
       "Khld2AF7lG7s0NlDf+HmpfPFYZ8YepIlgL4CbFCUrxhbAo8xSxh+MlXOaAFprQ8Xxi9ikPDqOTgw\n",
       "R0fJ5QeWyd03K7f6t0u2klNuauou98XGtYpuvOO9flKQoV/iyQWWwCyk020HLxijPaM8jQDkt2lt\n",
       "CfXZwbCDOoH/fbs9PCOSL7gHhGIwqbtoOewUxtpthocIxfORzo+6oXZ8nSSAm+urkI9O2yxECQIY\n",
       "2XyuZUAHrioQs4Oe8QNuVNMGenFnxpRFl0bYAeDyD7haYjepjbRli8DyiLJd9z7a03RX3JCcdQBx\n",
       "bYRIEsZsOMswIap7S32gVN3zdSqlQm1iRiNOj8hfHhdOYDSllQU6XAYdgC2jTvfmg0/6nB9ZzpCa\n",
       "FXUcC5Gc15tkq4CI3y/xZi0/KVmWXkMAEDHuSZHNof64zZhAlbohl0Wt1Awtxd+JhBj2KU2bvRIN\n",
       "FMQXwOWb4E+LD3bq7lPeY+OJAVHieYXMb3QlTW4lrXKrJxgr0BSWlXsdHMI0fGCVSCl5udBilvDf\n",
       "dmd4/eHzAAABFQGeWWpCvwCj8mcYV8eEznJh6ABKkzMTmVOQ2bqANMmWbg/ylCO2vMdwZ18T1Puw\n",
       "KxBNL2y618TQVAI4zhBURnMhy1/HCsd88nz+Uh7kjY9NgZFqcwyszD58avLBR0ZWg29tID3DvIif\n",
       "Asm9HRegKmwJT6fQhoJvSG8o849mVwuhm4ZVOOoOTydY9hHEUNWn9cJBZCBmb+5LTym3Tx/XbqWc\n",
       "BDFcVULfvsgva4da8FMGmESvq+6KBPFucZAh5Vkz3ekrCxSFlf5yWAc8uBRWyusVuNNOnXVQgJy4\n",
       "CsJrwYdyAJctrMhcZBP8MDBU8Vwfj9gQ8BufNfdNFXgNBmFiAAu/chjNFXUUycCNFzpz+Oz48bof\n",
       "AicAAALbQZpdSeEKUmUwId/+qZYAKXzzOFFH5DYuoLAAAmT6vfYwNvnAGnsTVgVo9geY8CGk8wn+\n",
       "S+GKkFabpyu3H2FwyapcumSNUY3NLyCEQer3LsjNptv+Y2B+g6N0npYuO709AYH9YRLCfxdfsvB3\n",
       "zUjZYiUtB20ZCPG60qAshc8J6pP9vuIGuZUidEoduyJpqYxBIuXYirAdub+OEp4Pz/5A+dSSNksb\n",
       "GBrK1GUo0c/+gqPw8EkrLopoj3pgDEzrzNCpRXGD7d8fcrrNjx8DBOHMPJmcWvBToP9glnxrbudP\n",
       "xF5pSixVSL6bm/obo8XFdIwuK6ZyPy0emAEUET7hToxTvn6S7sXkVh4EKIuOxujkC4y+skpr3cHH\n",
       "x3/WlpyHJE7M9K3HecI8nxIWvh0VKqhBUka6oHt4fiEUUDCjiGNWAtgVg+IhFyYOcDL3uSZbt4mO\n",
       "cZSGVvEt+Fc8m05KvR4ngezxrWwvfC5/WUjF1WyMq7Kq/LQ5unFKGQC9a2ocW538S2l/51dBsEFa\n",
       "qaIVIpOgu1+h/eDfIIwH+jsDyb64HTeqb0auZxuxQjxc6Opb6bZCEqttz6GAAYUoqldbZwfp489p\n",
       "DPtzmYmOXkpAvrZgHo/OupOcE/aDn83Sjt2EcTMPZ/uIeerKfWb2ulOmucT29vrwVDLbUC/zHoxW\n",
       "V9hU/PL16P4Ht7DiG41+5DoNvLYlRUBkFhVGzH32oitQpGFMxounZb4SG8b7tfEycMA5JAyMGDaO\n",
       "qAtpjxEzvOQN38ZPqNGILbYKnw1bUmpwbbPWnnDgFJYlaR0mhl1iTDzpv+UiBffnUCv7xbA2u+4H\n",
       "zDlP6jO+Gk+PFOs4nejgIqLJbBS6mbxH97YsN6JpOa6BYMqGgfu7PY8PoTiPKYDzF4fUd95vlpVG\n",
       "WVfo1ih6UQmwMDySP9wPHGeq3iAVrE9FTfj4rIvAzOxmiAEOVByi20qIXm3WxkMPORbgwIAAAAFd\n",
       "QZ57RTRML/8AdtrAHt3Mb81/FXzFzGpLRlIh0pABD2AJvt1zvdTPx+Hda6JB/WIjLLLJoJCp6c6E\n",
       "SYOOpQRpKGI0rCnRHdtYJKFmXK2ccviuj5UWy7+RgyaMc7BONLW/yZu2diCRakKckfDuVoocDVUF\n",
       "eXpdMYSLvRj0YMGrTj6Wz6wwtmn9MlgKeECEQS1lbvTqiule+GGZGviLfshSxi8mJrVXNTaZB/if\n",
       "N3U2v8VOlOAEt1ESOqUgeBmlcaNkwNVw23+zLtKRqRfuj0OoAi3AhvEjPkNENBuD5phRsfeNroac\n",
       "LBX44fGsqaOZe52F9F+bTR//BLpU2KmG/c9CvVvi629RX6jLstNzQ6/gYXG9DTPzzeMofL/ipK/B\n",
       "EllDlvq0U/ONA3+AtnaJf0dSX8CVdX6JjKuSo0Is99KEdmWaZLLi0CYF4+eNG6hqyFJfWG2/wO2L\n",
       "q1ybuEnNwQAAAVIBnpxqQr8Ao0ioh1ReHmL+tU4w6AAE7V96O6QNCjANBh3bOOlXe9mEp7zRdw2a\n",
       "ec/zBGLpkkFfAlhYJNchcwuJ9teiSKO6wxaBUGuR4rHqsWDJO4XHM9ogF/hzSlORmMfIYXZEofNl\n",
       "qA2ZkKVrrM+utez4rjcuXtI0logrg6rbmo0QC+lDYF59firHrYoKhBL8jAtna5MNVXB021PXpR66\n",
       "1UdvLF18otASik548UQ1i5y42gOugJvk5goFEU/YWa6HWxTMgu683YSJgM9cYhNG6G+GPWu3pZKN\n",
       "jZ3/zHjDLPGJIXtBX/Z5/wdnXm22rwd3ONEYBACISlil2PVcoZlSyzsWaXBGkFRaWu7Szffygoma\n",
       "nYxwtswMBfpUt8eAMBUXbK8Rr+UehFPWdWu2cLkjqid005smL+VvHZSEjj7ylJxPkI8EhlSxktBe\n",
       "GljDZOA0IQAAAmRBmp9JqEFomUwU8O/+qZYAKBpMDqFDX/7pIxXIAClqIB7TmfpI/l3MPkbTHpJ/\n",
       "0nAkFwJgp6DB/NQvUkbmn+QdRV/UvSIpw2Rs7wd99NnS6ty2YxNJOBSizhaPOAPwWqit0v9ifSpF\n",
       "RTGrzRUdE43VBJR8EVSQ1MyIbl9t37LZ9sl8fju+3fYPR2uc6sGsUle2ZgNMrYrMICpA7jgrh8R/\n",
       "LH4LbmEp/+YPOSktesvtwiQ2PoNyuE7bWi48od5+ADxiOFEhPKsWnPMRFnPS+Uon+xSXjLFFdC9X\n",
       "LJvvut5kBu+LzpTJWyWQdq8zwpnfy/leDTQVTb0Lq21oZiogSaq325oQpkg8OPI9I9kb6MFLs19/\n",
       "HPl8iqieSl+kBsn+OSnLBwJFi9uodrkt762lNrL0/cxLO+pcI2kC/4ODXK+JaFXOCZkOTFdreOFx\n",
       "jDlwvJa9Lb75ywYmqpan4jN+cPDzgLUOf3xUa/+q72vPQhaDpKH2DDBaScqI8KrbMJzbwajLXB/r\n",
       "Zb3q7crVyOSHbrlRO0Mz5Zlwb+IPb28NkZ+LwgE76sZMiQutkt3LR0IOW7gPIMhxUTsheVhu4RE0\n",
       "loiOj0QHt30+5fi54PJodzvv8x3mLQVwf1wD1K9lKnLuZiQz2m5ZC/6atoiO4oFrjiLaiqhMSE9r\n",
       "pG12cXX94hb6Ec0mFY86sDutanoWvtY190QGWxKd/+IdxCKxkeV7JDKGpoKcunIBGG9mBc4EYPey\n",
       "SS22SQACAKBl7xN8TNG5vJvZc+xBJ4/vN2pw4REjModgU5sQuPD2s0yoHJGcRHdkfnT1zZgAAAE0\n",
       "AZ6+akK/AKHZkThrRUaABJvSfRjBYy2PLSoYzYFbg3pdX16/J9QZ2H6BZKYM18ZltA7TkU/yAAAQ\n",
       "7usmevHq3fDHO0PT9wh3Q8M6ff/1Q3qzwV04ndv8ssmskX1mMRladkwEgYmEQrz+Ww33F6HqbTRP\n",
       "1aB7UKkzfWgdzQ4w9CwC/b6WobYs2occMmQRGDR5TWXx6jgPwlT+yGsV/fik9eUrFDPAp2n8iBVq\n",
       "S/fFZyMwRyLPZ0Qtlmvzo8Kfho/jP34EAzKpkHV4nwcYCZpvX5hY42wxDmwB8DMNvStXrE8OvH+o\n",
       "6+ZfqpeTHEOqOq1t7e5N/p718UkkR6CJvLpiwnCS7i/cF2LSUUT6ELCw8tS4Gzf4l1I86w4cFAi4\n",
       "jIgPFPyXDBg0V9spdMjILI+JUKEvvjgAAALEQZqhSeEKUmUwUsO//qmWAChc88Y42SkMgBLVztAb\n",
       "bnEVpszsgzINh3mizsdnosV0J0RvuDqXtkvHELvBmBzmSRzDI53tR4xg+DEXguRBcNklLlUA8PQA\n",
       "Ur3iK3nF+DNaxdbZfXLPzrSV+KFJ0q3z6uIjSwLEb1vc8Q9tkofXrM7QfCevaIMrlK2OpuE+0xKj\n",
       "vpD5F8Cr/73lRM4cBJw8y5tzZmF2brTS2qiSL4nm/zrh1eorbonh4Iy+PSkil+8ggDQJ7aK/FMWl\n",
       "C2ch38pf4VB3alcOiEKNGLctT52Fo+rU4vflKMaimRotmdIiKjabMFLJOpB3+9cBzUxFDenpC8y9\n",
       "/DFWcSGmy/Pz36JWgigV1DHAJmA2kGFUsSO+d4yVRfd7niwlP88WM/Lgwx7nnPmM1e+oBaiKIj9g\n",
       "bqG4NGQNNWOw/hWqLZnFg0yNIt60cnHd2HOzmwO1EXi5eWm/ki65n0W/odWimSjrpyfeR2cKvwLi\n",
       "QuvkGGp8q/oNwK14/7wIUaGlo9wQDgQ4iNq0Ag4h33G0GkbqiWSKHXr8V+7l3jzR8Pul959upREh\n",
       "I4ZYlTYxaj+1GeoOX+F37iKv/0uZ0nuJm0u8ZyipH0sUX2VsbWiVypcl+5i8D6JYUP7rMLPxOdNP\n",
       "hMVLqRBsYE4JykZK7EmW42ewpSL/YBj6pHflQE8CSgy8zYA0sCaEx7pc32CK1H9Woh+H0H/m8JeE\n",
       "0DcvqBbC/xHp/7AZrDrB/8d0W+GSCLAWCkDyzgxlY/2BO5IPtBMGtFSMlPFli+pJL5WLYTSWk0oj\n",
       "J9ABC9T4BKxfJfisFnT45Gsjcp1GuddouUwqI/beuUpUmFrALvwwWo6s/RVajcYL9QJYauX8gf7u\n",
       "OwCF9c80/BFZbAotu0gqZ7Q1/rsdWQCBh8ZjSJzqvGaaE+s2LL6UqUW0XhpgCvsrhLGxAAABCAGe\n",
       "wGpCvwA/f9/REhyLlxLlp8AJCieE6jmbGZFKMUOBomqyyEmf28GvGpARhj7x1i2HJrcJ86vVvcO0\n",
       "SQo2SAXVBnIb90aW6VQlMvrWoEgRDtvFwrXT8dARFj88vfufySUJAAAGAnRJza523SrGypLPwVOu\n",
       "IaHFObfZCooc7u96Zqkqk+ZNYjncWQDni/xy3DaXTtGqsW+GvAL2efWKlPJq2mN5as6SKqKOcEpT\n",
       "NdG2n0YxKzm1QdHq8ubijxlk75uPPYIvnhD708yVyJzGeQXIKEpXS4oQwniyb7sGMfLbNKihT0dG\n",
       "0jPqUAFBQ3Z3fYQqgSkhUtLSgGKLkNl7r45YxEa8OjAB+QAAAs1BmsNJ4Q6JlMFEw7/+qZYAJxna\n",
       "MGd3yIALZXetXTJoppQPToa9q9M0VMr3v6wVBkVFFwN2IJduQVaJ5hWH71ABHyiw8U4sQzywjV7u\n",
       "8QRxKIuqLqHeiXCis3TccDI/R1EcqAezS4656w0hM42NOekekqymKiatLZBXmKRndAhn+EWIrVXr\n",
       "sBWAxMsQsOW+/gTm/xpH9i75VDRfUT8UCS9OOJbF67G/drH1sKyPiSIXjc52TXMZXYTftt1cXoaG\n",
       "mjSDT0TWHkhaGklPB5BHdcHx/aLvjf9MotmSNUX8W20/wfIpVWc6XtPgvBWS/O3a9IJsjd+hYnft\n",
       "tnj/i8EH3lAxZgCVCpklitdagYBp3LfpMY2WyjUfLQ2bkXfqr0SpCR3WD/fU9L/E/oARafu/iYM7\n",
       "aj2lZ3IYzZxCHpJjoDWWhu1qtsCHrLjgf9Yw/fIFyaEjqc7Zd7xDOzjWhhBrtACs/lLRgG/TIibp\n",
       "ljKzw9KZhVpIarf5yDZauFQpfpHJgpff9wXtHu6X9uaWz1V0LxjvbwMKkp2wnarHOsFycrp4dJLB\n",
       "/pZSV+MdZY37o+NCZtQMDD9Eyitc1WVOOBYt4ow2f/B05O8o6+3anMdNUkm90srpmuSZ6fNyD+/U\n",
       "s8jIat7OpYNXQPfYjb9tweKchlOtcifyWkhv+aFrFNK7fTaX8JTk7My0YyWswungaBwKpIRjESto\n",
       "lqfFLPAqvDsyg6hwPWcT9FEEHHQh+iv9ZX8fmJ5lGWdPssVesGjLGgsqYz0BvHL+CAgK0ArbibCS\n",
       "qHyZ4s4XypEHZ7y6MIelcvS+DHr5Yv0oVFCnJMBUDt+dsJHb5poD2DnOmEL5ejEUgaa+4qOcHZDb\n",
       "okszrvrmDrEJ67WlmHCkHwYhGaItf6mHbHe3SvT0m3KaKjYYSreR8zo19DcGIwd80OjAIDsHPFbF\n",
       "SooDOt2RqjeOAQ6G0f8AAAEjAZ7iakK/AD4dyeIcAC2PusodjLOD9TNhJOFcGpr5BheHt6oL/C6a\n",
       "hQzty2I9dGwoONvBLwoHHQBmB2lNSa1NUsp/SPlGc8eHTTw0qELlpsycLb9jHOMB7v77jqh8ZBzo\n",
       "DNlRqaODJmOPWVUloUUKfcuNjHHliK5RMtLF3YJRkDRjP+NWsZ+Bv3iUNhS64GocL32Y4udGBcw0\n",
       "5CHTAcqaLchSDXzC4J87ix8xkKnlGHN4B+1jD8rkbyDmnqSj7H9ulVRt8PAWze3zCJAir0Aoj2Mp\n",
       "nrmCwrdXE6Vn/1AgccxAKo1jjabao1qfcjOs0kWtfTZe0p9IIKNX2fCCOaV/a24ktySoNGRyGmAQ\n",
       "JWWhh86VOr1s6PrZYWvx0bYnvbHwFgH+AAAC00Ga5UnhDyZTBTw7//6plgAnPVt0e/gvjcu6AAQ+\n",
       "yhr33T9PZuJ0mc4hWIn83D4btasrLzxWH6jh5llgrzuHcjprdzkp+N4lgU2TFQzIoOrL+s6DM6zn\n",
       "n2jhM49rC/zAjFpGPZWB8M9Bvk47kSvjkxOBzllvhlMWWyBXarAGN+bhlMNtqO72XBt/rO3LW1oC\n",
       "fJvcl2DPkB0jToWMWjRPBBkbb8QaVnH4D3iJ/bZ5Um56RYv6Vx78cCrf0A/3mYF+Vc4zKuLgdmzw\n",
       "W5dG9NNUkFATAd8s40llb+9NygQLnjyXwXTDQKf+UXMIDx77StokYtwH3N1YkPR6qb8AuSssL/JY\n",
       "HOIoSIZNrayfze5pSPQolsJvKQ+LTR03c/npEQ9XBQare87/jfQzDFol/3S3esd/EPxcIeL8TvPq\n",
       "0i1+qtmqf8gNDGrhWXTrVWqVDEybWc4nVvqS1Iokm4k/Tes5qXBO14MeMZBN7H0jE85S8EnJV2e5\n",
       "aj73fTQHCiyhmCYjr8SDwDSjhDhllQnIN5WItEJVoWBWpp6DeAGAAaekUfrZulFIEOVhieL0SaxB\n",
       "jMIqxIYzbEP/A//l+sl3uxbBW7PusjAV9g42AWijpQMB2Xd/VvVhZttn7hJANiB3GO+pHut5VoEp\n",
       "uE5icAGpcDrUsDtz9dZfA3uPntFKx+M3vP4ANTU3iP0TBn27cRQMjEY1yjXjoiYoXH3OyNt6MCLC\n",
       "2u3uDiGHvPx/9njB7JCZZaTzRjiOTd/F1VNCSO8cGWFjooJqSHCuOWJtjRY4SpD8Mp2X/TB36bhn\n",
       "6mOFzV02aG096ytVOtwQeWo2h+Uf6iuobQjndqn1AVuWj/ewMQuoe62mxlPCIQbkBX5vO0YpGBp7\n",
       "MP2H1WD9SdquQUWUKA4V526dQe8PkfvIvmwtKgda304YTUf2Nq3PQNaAP1ZWjmnzeBmBiG5c8H9S\n",
       "ak/DslGt5mhwIQAAATUBnwRqQr8APYnngYEBIbcNAAfzyyBMGiEPZ1f0q5RiZDXAlwdTstd4V7Fs\n",
       "4krjGo99n0tzZfUQSBs4IhIYJwxmpxS0tWSoUktIwBCNoz1hJn2vwJLA9npDicP4EllNC5HdBSBm\n",
       "j9ogaubu/M0sScSbnfLJBqLVbh9SJ7NL0J5zqBV4AdFudxUAe1z1gZ2e+U+aOy7L3rT8PrLLbhce\n",
       "po4PobG1b9fh6OrhYQfi4oBuCdmiVXPlNeyqL7BvwU5ZLRL73wRFJ0aAN92JCVG2U0BGQrJ4ZLSg\n",
       "SyNk9xYp6VqXYWUu19n/twcCtYphif8X8hBFgnong5Lvx8qg8L2tG9a3jSDykeqPW/s236bdIbcV\n",
       "0f8XzkPgammFXV3nueq66Iwqgo1joYbyFwww4OnWiAiiLingbMEAAAK1QZsHSeEPJlMFPDf//qeE\n",
       "AE26bn9Hd5c5c1TWAE01rNkFCq7860dQ1W2nRVwJ6g09Pi/CGH2GZ/5kT4wqsCtlJImfWX2T00Wf\n",
       "bQ1FEuBwPnjIQ50wHM2TqRR/TZDaRwmwqp4xakh6PCt6JuTTfImPMPEmp+kFZgutDMYquZ0t+9Bf\n",
       "OBSUTMjwj9ifxBGs8FM3C3h0UKoDdn2W0nKPjNER/sLy/etE+xwkmCFRYsckrSJe7W1tp9sHgnJz\n",
       "MV+/eQqTMYGC+rRDLir20owLwjj3CEm1BWAEDb/4CXGWsUQH4dtdci4CW8Lcm0gNRMIPZPoD14Dg\n",
       "4k0y4zQHjAAcAVYBI0gu35iKgqCjsqhs/VM1sxmzFnj6M2dTQCi8HiJa36iuAgnurSn+LA0EwP7U\n",
       "xjjvRY6sKXC4Vx2Kn+pdyyqCSaBzy0uZl+ARPCbrayZL6HfrN1pbCUg7AgFzVv4fNI3Wx5pRvluq\n",
       "NZ1mHsxN/33ZFEEdriMYFlMlmpeQjYwXhCqoOXanVsAU6Ydg3tT5xNU8/Iq17gliMFrAstHz1lpI\n",
       "4gZRpd4T18IrrrPkCvYHxCtpReQ7hKi/8bJoew3ray2keZEL1DGJF7lRFJ+IGHj4r5pQUcw7rrvD\n",
       "ksgcqqMNkKmKhUG/z7tH5XVfuDJjAsdLOYHuwmC71wBHQ9MgmWaMFhdjqQpuMMebndRwYv3m+cVu\n",
       "o+ovWM4th3BPVsW1WOrA/jvUPgGpwz5RkyYIevpVmKgwxJ6TiJ46A5Ex1GRCItxMD6RYmBo3Xjde\n",
       "BzirsQ93lZlI13Dyz7m3k56fGrhDMVIc6VvZtX3vxWxbvotagi8YpqVXuRkPiYoCIKSxGqsGHm31\n",
       "OmAXwiyezs3d6TLUKB7OyE5Q/DPKLxrZfhOcd0GqIrHqN6kK3kx5OA/KcfL/IwUjtj5hAAABPwGf\n",
       "JmpCvwA+IDDn8AmvHlfDMZhH3WtqI8f0WdJdAaZjFT/3nEeDAuoFWMc0GRiY4HmS/snTFfuFDeZS\n",
       "lgFGBz//PcIRBrhUlWXw+Wc1qSmYqdl4KaXyLIYn3mW5my326NfOBD+8LotIr+cJG2GL0Wghr+7I\n",
       "evZNez/Yow1sBoc2yBfNkmqaUu+HwpdiisSHv+RwLkdM1jIvV831bV5OFRMlR4rGIkONXnV8UAuK\n",
       "9tk5RDXNItpnBwv50wLhAVBHK5vz1CufiWV4gnG8PnENy9niJr8SHdCJxvs+Fv1sr/T+tEeLN/Cf\n",
       "YUiecb9Wd+9u7i6J/tgWOv3IOOhMxyMbNhXJDhdlQuQ48wqdtAhkscyVEGJcKBmygK6uHgG2cs9+\n",
       "zsTFYQ+3RzpfB9pc3IGeHuXHlvoaQmmU2nhVIpmLBD0AAAKfQZspSeEPJlMFPDf//qeEAEm+RsD2\n",
       "T8MLnyAE7GCITbrrZ+2C5HHvn72rYli7gGnNKRijbtimDi0YNryBCjkqW9EhsbMA7YaPXLhOmUL0\n",
       "MORvydYt/yE1TAqH6v0cRs1SDsFq5vYQGL/6RMcjsLpIg82YPuNoYXusdnmOu5/LcW9FWxEwRqHf\n",
       "usef1rRFVh2xBvNaS1KSqiMOZ+0m6Qk+wvY07p+1zaaRmtS5iCYKra/l5aePk3ZIdFsZBrKeBEso\n",
       "FZ8IJ12CvaKTwT0QOagTnPe7KyERc4aaAQvuw9IhRl4QKznPBtT4eQsuwlrpuq7P574IsL9rs8rS\n",
       "pPtPm7n4irq9mjky0D638XfGXgaZgLAJLiMhRxCS4cBhpFHuS7erZRxbEjQAiozemGtOcfFI6ep+\n",
       "yARmz/rJHdxvv8TSHyO5MsePi/dOUqfJWhXuntXHHzRc4TJfyNIXq2yJZMGnqjl6hPODt2Shwwwz\n",
       "8ugyyxcD6q5SKyDpW3yCtOaTbd/X0SVyz79QmsuT6aBkBhvgiaUGlx13GdvOKu8d9F71WIgDAU9D\n",
       "pv/GQeCGICA+TRrKSy9zh1l6AX+1gM2tZjO07dyKnaH/x8Y6/5WCHYfFX7uz1Bd7dfPczFBShs9v\n",
       "tARdf4aoWV80sawpdg++u7Lbj5HRwcxAFh+b1V97fB11mqBrvqVyzHIJeVUeT/S0Bi+kmMTSBDRO\n",
       "AuEjka9tzA5H5d3avT33ijWrStxkN4KaYgCv6XgfcDyxmnrRaStRiyPxVXK5hpurQeZR2RV3LnjM\n",
       "xkOlW4i5DtRNyOGlIQhFvybA7zR6g14/kQFfAyDzUOGiY63BtQuteH/j0JxZsryNzOUQMzUB0gsS\n",
       "duajhB4oJKzUd0wfbHf+CWeHVPMm64AAAAEKAZ9IakK/ADqtoID7/YDiGEgKFjALmeIACdpFlj6u\n",
       "a2E0LWf1Ox+S80BTrnc5N8y3UgRSswaN7+o0OaR41dOe+4Qhs/tbJXbwogBOQFuzmjC8+vX78uNw\n",
       "MeKXiG10Rqw1UCirFgvD6Ez4FzF4C90AH7cggWo19QAY8+d7KvUkBp/oFGHvgM7IoXmtv0x4phYH\n",
       "FdEmrebVyGno0+CcJzg0LyG6pa8aKhRgdxLOxuZC+Cojs09tb+tJGW+uUr9dUUs20BvPSGni2mBd\n",
       "cRSS0nHJfJu2mvHf+WIKEccQsHCoU0CWhrzrlV3Kg9YBMzIX81gdl2e6P3V7h/JnusdADRdeHBed\n",
       "Tm5xYB2jF6AAAAIzQZtKSeEPJlMCHf/+qZYADujx+fS0AJU/qgfwjjHvTpI5MBQ7C4OvD3x0l2cY\n",
       "Jacigz1Ivook+BugqzfP8ChMmx85eoX763L7yvvEozkUIA5EDPt/qE+VGOvAhNWBoIyzyYim/lXT\n",
       "cznrLVm+YgL8ua7TLj+dPcuYEOYjWxfXmWksbaBvIYDR2JsjPb7yu57UE0FHJbj7/Wa0zn2Bty65\n",
       "62JMt/OzxvyVHK0YSt/KUtdjmesZa4AZ8EX11foDYJmIikwNb/IhsvtMc2y1SVYydVKdtCCeE4Yn\n",
       "c5iH0Pbj4O2m7Gl8/Fb4AnJFcwrrtRoT0QXfrffOIBK5QyKOdGpsBHHkPE3Ja5/vD4RYoqCvVTlR\n",
       "7+Qe2rndWO4jaRI//82DAdjAFW7nNHjm3dMyxPDDXCbja79Jk2Wxmiwtx/MXpg6FMFPzpjohz311\n",
       "z6dR8xSVokHYxThNFVLyOyHn0YfxyT4eqinBQolApM7UX3UIwMxPyHPtGLeMAE67X7/7jSgmpDHl\n",
       "fY85dp+XBxbvVWbqeo7dGcOV0Gxeqr3P/6EOQtWamTmB/NRM0KhOyaRecGNNgNiAUDyp2II2x6t8\n",
       "ZQPzPLIh99aKNgPxbmGk0Ck95wopRZvdYeaXVTwH83cn8branIdHeYlGXyKgFjPx1lSsi9LZ1g+F\n",
       "l+GO+p/27xu48qQfzWkT+afNMjoemx4GIDVGxE0UIbpyNSZrc7I/9UMVFx0+2pv8/eHGBVFbNHBs\n",
       "gdBKDmkAAAHtQZtsSeEPJlMFETw7//6plgAO/8lyTY8Ve0OtIAJWpQjBExVw1xhVKeO6m5jHTS9p\n",
       "1dRGVC7D8CowTwcL5U7j2D/SWn8fQviLuOcfP4BxC1u8aSOL9z6jfUpSjtqxDhZS6cFfAW8qr131\n",
       "ntNN37CHj+tAf2lVekgcws5tjfBvKaAP3QtxdSaCTsJAUmesgg1c4SpGQYWaRFmHbj/sWLUvJjBl\n",
       "9neiGgxKa/6XwSEX5UPgkXBgYYyA09XfMBCUGNsHcLM9kPSMg1BauFI69vMhyxb7MUKoC5L0QJPU\n",
       "W0rR86gAg7l7Ggo+YnDKeP15Itd0y8mEIeHjH/YIRU7JnPteB4GKOxMGOjctxaeqdHqGxdg5tyeH\n",
       "gZojqxvKlJE4zFqpzJv2ggqmE3cudaLcxnHTI3dJUrd6peK3hxKgLcbGCk1aF7cHz6frikaF9cii\n",
       "b7kPEOMBhUqqymTQqBK7KAZ+zoOEQzjAWr3UnYXeGalYClVLu0StiAWqT6l3KxK653rs5ziQIp6o\n",
       "WN/GK/6IcLFn6xAw7ScPxQ52X5KVLiwKTPTiSxtX+c5TmTQMvSfZycWGgHpJKN7eWlelW27EtwkQ\n",
       "Pl+sUGaLGPQBAfOGixHSNiHTcRrtQRfZ1EKXtqxRDgMh19FJywcqdzzR9bWL2AAAAPcBn4tqQr8A\n",
       "OWo54sNnkWuX5g+l5j4AcCcUAExXf0e+z/w8Ep8yZqiNGXWB+T1LzNJakA/EsDk0xacRDOttIw6W\n",
       "sIBoHHU3PRLO12O2VJmks30Ti5kaBDE1d/78lCl1zfxSZY9SfyoEWgPXEgkBsM25Q1qJrdBvFIK6\n",
       "q6lLvG12CJ6gNCFKKr2B0GgXq3h9B7IrLErbgqx08IuRHBYv+fyAQqP3DRkQX2bNQOFNL5+5UPTJ\n",
       "RjIKuhUyCZPeXCkX/UwXj8eFmhLJcUwlctOEDXDOtKjQcOPn1EkAkI4h78e8bUJS6rzbTuZA2WAg\n",
       "UmjtJEqSh3NMEGzAAAACD0Gbj0nhDyZTAhv//qeEAB0eW4C8qcaHQ8MJ0NlKAB2lyYQOtU6G1q74\n",
       "F4DAa5aoVV2LWyh+18ohY3+biBBhFnVICoSa+HuCE/KzwNWRub2+zV6o0kYzHXCclbYiFQi/uRye\n",
       "sRyNc1U8yajSVzfOIdxFKLw2l1UMMOluxBD882vWTzDTNl5jIS0DOjKpLy264A3mAaa43JEPxljE\n",
       "cnBbEd7xF9F2J/zNpvK8vDHqamioQY9GOsC7xpRe03LCYudlU0aMBtFMhGa58fvPusbmDuVW70Z7\n",
       "kL6LdW8JxwAf5EYOHOJ4PkVdAdpMVuJ1E8QMpTiYiB9djPjlLqqfaC18oKzaJpzUf/Wa1R5w6rip\n",
       "3lhtIt4+KMWjlwmSoHReaCiSg/WoQfGdY6I+SqjKBYT1YoiNdoHjtYYnoTJn7kk53ybE/kVvU/I0\n",
       "FwgF47CfNgkaVudsJHRB2h14dQZW0MOJL9MTiVjIPN7Uoo1kweY4GTWWivN4AK3PhLNupvImcvQv\n",
       "M4jctVIzX1O5ZvOBBRkCY2UtW5znEUmketnetF6oO3N27qLOoQARLz6cpdGvnOfejSjC7u/ZRCZZ\n",
       "0GHU4DuQqU5xerOEGBvGYD0wtBmc/CJ7liOOnp49jXL1LzsTBYSHdtAUKM0IuHu6+Zx5s2C/H/A/\n",
       "4SxlqwWEq6Pj2u/b70JaaaKXl2mY04sIhD0EoS2hAAABNkGfrUURPC//ACxWqyPA0trTnUAD+MjC\n",
       "LfC1qfIAdZLYORkXcueDgXw8vHrLwRKWxTCaTc/7/U212JsFRAIPDt8c61SCLvZE4H/S0VYHGggI\n",
       "alU5SRAFFKJCkSTV5Az3o1TxisJcDYrAhPx3k3nzYdS8WQa4g5Piz0YtyfGqDRVxMB5l5PUNpMp5\n",
       "JyWJ1yNjkvdWNFZacr8KX2DKBAgZQpCraDbE+CeP2Z8da3QOrajdqCE9pZap8skRLvRz514RVh43\n",
       "1J+mZRSetKHBiS555fNvtof14vSqxH1OYVaLJ76O8DT9VdMIzjx2+jFnX8Ve2BHpGJ0JL7We+duo\n",
       "ZvOJbRWKyH+brw0JpKCmR/RPACr+vAp+GtoVZA0gigpJ1uEWNQCaITc7JC28BpK65X/0hVOTArLN\n",
       "AeEAAADaAZ/OakK/ADoAbiei3aBHAN6xwjORcAD9RmQAhqvUEc4359RLN5vFDf6Kud5tNmVkkqN/\n",
       "oIqbClBzIZl6pPW0pizSOx8s5ZEhc1ho5S17miTg8l7Idz8BLzFQlw9woYKaoJk8L2mlZDPgEuc3\n",
       "kpgsnP4v9S0nSQSLnmBnXnk6KldT9+aQCqSc+o7x8pwY3TUg9LCbCnU256oYGGh/csEb92BjhGDG\n",
       "Sfn0WIzEGKQaXqMwk28fzIKEuUrWVJvK2rZS4wqguoGMJm3XbEvE3aJIWE0SD9WhNZgQQ8EAAAF8\n",
       "QZvRSahBaJlMFPDP/p4QAHG4S2YOWITMA+/AATNZcFevtCtHIW+2QaQWyInkLtddtjqkMTfH6ebg\n",
       "iIuP0SN/f8GHdiwVjIXGA7rOLTX7zd7jUtqj3GKvKHBc9Tz4y1LcQt4Ie/RPHwU6fFBJRf62Rl86\n",
       "Km+jqR3prA+flXr1ezUQJbWh1MEmRYY43ZCVnbWWCjTBFvgjxsyABTRsedY4t3p8MM6wkcxQjaP5\n",
       "eMcwpgTYWYC8O2+u+wcvXySsure9hk1zCiNBOpFsHU/XAAAluRJAPgXd8wJe57Yqnc1zj3SBTQVi\n",
       "FqG4Naw9UQTSJ7obh4q2UIYGBqme6AblRbXGe/hRS5JJAtHbZ3d8a2K9Vx5TPKC/BmUhrZ+J2T2x\n",
       "an+Rn+Sqn2yevJi7czbN9QXiyzZyy8HcISVyT7+H6of0vd4VTAhTPaEqf2ZkWCrjJb/Zmkigqb2v\n",
       "xI0Vyt0Jgz1HE+cGmp4Sjw9I7olo3sA4ITx0vBl0UDp8/kh+AfMAAAEyAZ/wakK/ADt16D+FuobW\n",
       "t+nPUyAE1POOGv1qYFPycGsPPeKWIBHYJoGIC0FZ0RBlJEVaHIDr3QvJXXFPzz3AjOWIe7V4mi7I\n",
       "6qSbKbSWTOxW7Pucq6k+n7K8vMoPGXT0DDivgUDCYL0bhko9G88L51w/NCFixLa7JaiYuyEb6Spz\n",
       "D3fepS/4R6b+76Ooe8z4IN6au7wAAFcNJ7JgUo91hQTVWjv7Ng+n/9kw9Vb+qOAV/mQUBIlhdWcT\n",
       "L871d1RUCpu/zE6jlzxD/1OaYRQjUUdEzaJifRFaw8alIW4vDERCmZ+QF5vCgoagJekTpD739OiD\n",
       "5Xg76eHeEQ4QC4UFEeVxGT5O78NJokXhgN8wyFuBUlJsxfaAmhLoR9pHFOr8VwCzC7EyD1WzwF+z\n",
       "S8Z2iFtAAAABR0Gb8knhClJlMCFf/jhAAa9GyjJsABZVyXhe7btvtTrX8mQHaKE0midhYXM+aJPn\n",
       "NcDdc3Tm7+VvntO+HRUc7P75/NXZT1WHUz2eSAMXadPQ5eV/3Rzx4vhdw588GRpxl3LWpgO1vuMI\n",
       "2vJbkxs7fUQ0fXAKDUbyanUpO2RUNOrtyDTMS9vQg0BjokiPwB2SYORewq9k8jp/tvjhA/qyXdR+\n",
       "dQb8FCLrY4sxF/lg1WHrBTKWjvj2aJGQ97Cwy1KkZueKeY0ST4Tp+x1d/Jh8ik6k6LquDE3ZqtLu\n",
       "HTR6TG1rly3Bb/79ExzvjQG1ThFGj/JM3Iu7dlOM4/ExEv76DDhYdtR6xsCeNBFCuhlDK5GZ2WZd\n",
       "rV7CAGBO7SzDQXWAdBF84eyjrPe2TUAUMnsIZMwavb218lHUQnLmV8JPuWVRanSEg+HFgQAABWtt\n",
       "b292AAAAbG12aGQAAAAAAAAAAAAAAAAAAAPoAAAJ9gABAAABAAAAAAAAAAAAAAAAAQAAAAAAAAAA\n",
       "AAAAAAAAAAEAAAAAAAAAAAAAAAAAAEAAAAAAAAAAAAAAAAAAAAAAAAAAAAAAAAAAAAAAAAACAAAE\n",
       "lXRyYWsAAABcdGtoZAAAAAMAAAAAAAAAAAAAAAEAAAAAAAAJ9gAAAAAAAAAAAAAAAAAAAAAAAQAA\n",
       "AAAAAAAAAAAAAAAAAAEAAAAAAAAAAAAAAAAAAEAAAAACQAAAAWgAAAAAACRlZHRzAAAAHGVsc3QA\n",
       "AAAAAAAAAQAACfYAAAQAAAEAAAAABA1tZGlhAAAAIG1kaGQAAAAAAAAAAAAAAAAAACgAAABmAFXE\n",
       "AAAAAAAtaGRscgAAAAAAAAAAdmlkZQAAAAAAAAAAAAAAAFZpZGVvSGFuZGxlcgAAAAO4bWluZgAA\n",
       "ABR2bWhkAAAAAQAAAAAAAAAAAAAAJGRpbmYAAAAcZHJlZgAAAAAAAAABAAAADHVybCAAAAABAAAD\n",
       "eHN0YmwAAAC0c3RzZAAAAAAAAAABAAAApGF2YzEAAAAAAAAAAQAAAAAAAAAAAAAAAAAAAAACQAFo\n",
       "AEgAAABIAAAAAAAAAAEAAAAAAAAAAAAAAAAAAAAAAAAAAAAAAAAAAAAAAAAAAAAY//8AAAAyYXZj\n",
       "QwFkABb/4QAZZ2QAFqzZQJAv+WEAAAMAAQAAAwAoDxYtlgEABmjr48siwAAAABx1dWlka2hA8l8k\n",
       "T8W6OaUbzwMj8wAAAAAAAAAYc3R0cwAAAAAAAAABAAAAMwAAAgAAAAAUc3RzcwAAAAAAAAABAAAA\n",
       "AQAAAYBjdHRzAAAAAAAAAC4AAAABAAAEAAAAAAEAAAYAAAAAAQAAAgAAAAABAAAEAAAAAAEAAAYA\n",
       "AAAAAQAAAgAAAAABAAAEAAAAAAEAAAYAAAAAAQAAAgAAAAABAAAGAAAAAAEAAAIAAAAAAQAABAAA\n",
       "AAABAAAGAAAAAAEAAAIAAAAAAQAABAAAAAABAAAGAAAAAAEAAAIAAAAAAwAABAAAAAABAAAGAAAA\n",
       "AAEAAAIAAAAAAQAACAAAAAACAAACAAAAAAEAAAYAAAAAAQAAAgAAAAABAAAIAAAAAAIAAAIAAAAA\n",
       "AQAABgAAAAABAAACAAAAAAEAAAYAAAAAAQAAAgAAAAABAAAGAAAAAAEAAAIAAAAAAQAABgAAAAAB\n",
       "AAACAAAAAAEAAAYAAAAAAQAAAgAAAAABAAAGAAAAAAEAAAIAAAAAAQAABAAAAAABAAAGAAAAAAEA\n",
       "AAIAAAAAAQAACAAAAAACAAACAAAAAAEAAAYAAAAAAQAAAgAAAAABAAAEAAAAABxzdHNjAAAAAAAA\n",
       "AAEAAAABAAAAMwAAAAEAAADgc3RzegAAAAAAAAAAAAAAMwAAHqkAAANaAAABkAAAAoMAAALKAAAB\n",
       "YgAAAtgAAAKVAAABSgAAAqQAAAF3AAACwAAAAtYAAAFnAAACwwAAAtAAAAFcAAACjwAAAp0AAAKe\n",
       "AAAC+QAAATEAAAMfAAABhgAAASkAAAKZAAABGQAAAt8AAAFhAAABVgAAAmgAAAE4AAACyAAAAQwA\n",
       "AALRAAABJwAAAtcAAAE5AAACuQAAAUMAAAKjAAABDgAAAjcAAAHxAAAA+wAAAhMAAAE6AAAA3gAA\n",
       "AYAAAAE2AAABSwAAABRzdGNvAAAAAAAAAAEAAAAsAAAAYnVkdGEAAABabWV0YQAAAAAAAAAhaGRs\n",
       "cgAAAAAAAAAAbWRpcmFwcGwAAAAAAAAAAAAAAAAtaWxzdAAAACWpdG9vAAAAHWRhdGEAAAABAAAA\n",
       "AExhdmY1Ny44My4xMDA=\n",
       "\">\n",
       "  Your browser does not support the video tag.\n",
       "</video>"
      ],
      "text/plain": [
       "<IPython.core.display.HTML object>"
      ]
     },
     "execution_count": 39,
     "metadata": {},
     "output_type": "execute_result"
    }
   ],
   "source": [
    "# On définit les axes et autres paramètre de notre animation\n",
    "fig = pyplot.figure(figsize=(8,5))\n",
    "ax = pyplot.axes(xlim=(0,14), ylim=(0,55))\n",
    "line = ax.plot([], [], color='#003366', ls='--', lw=3)[0]\n",
    "pyplot.xlabel('Position en $(km)$',fontsize=20)\n",
    "pyplot.ylabel('Densité en $(voiture/km)$',fontsize=20)\n",
    "pyplot.tick_params(axis='both',labelsize=16)\n",
    "pyplot.tight_layout()\n",
    "pyplot.close()\n",
    "\n",
    "nt=int(t_sim/(dt*60))+1    # Nombre de point requis dans la grille pour la simulation\n",
    "x = numpy.linspace(0,L,nx) # On initialise notre liste des positions\n",
    "\n",
    "# Nos conditions initiales\n",
    "rho = numpy.ones(nx)*CL\n",
    "rho[10:20] = 50\n",
    "rho[0] = CL       # Notre condition au bord\n",
    "\n",
    "# On définit la fonction qui permet de réaliser et de retenir en mémoire tout les grpahe afin de créer une animation\n",
    "def trafic(i):\n",
    "    line.set_data(x,rho)\n",
    "    rhon   = rho.copy()    # Notre première matrice densité est celle correspondant à nos conditions initiales.\n",
    "    rho[1:] = rhon[1:]-((dt/dx)*v_max*((rhon[1:]*(1-(rhon[1:]/rho_max)))-(rhon[0:-1]*(1 - (rhon[0:-1]/rho_max)))))\n",
    "\n",
    "# On appel la fonction trafic pour produire l'animation      \n",
    "anim = animation.FuncAnimation(fig, trafic,frames=nt, interval=50)\n",
    "HTML(anim.to_html5_video())"
   ]
  },
  {
   "cell_type": "markdown",
   "metadata": {},
   "source": [
    "Ce qui parrait à nouveau physiquement cohérent et correspond à nos attentes. Passons enfin à l'analyse des résultats obtenus."
   ]
  },
  {
   "cell_type": "markdown",
   "metadata": {},
   "source": [
    "---\n",
    "\n",
    "##### 5. Analyse et comparaisons des résultats:\n",
    "---\n",
    "\n",
    "#### Synthèse des résultats obtenus.\n",
    "\n",
    "---\n",
    "\n",
    "Pour plus de lisibilité nous avons repris dans le tableau ci-dessous l'ensembles des résultats obtenus.\n",
    "\n",
    "\n",
    "![Image](./figures/tableau_synthese.png)\n",
    "\n",
    "---\n",
    "###### figure 1 : Synthèse des résultats obtenues tout au long de la résolution du problème posé.\n",
    "\n",
    "___"
   ]
  },
  {
   "cell_type": "markdown",
   "metadata": {},
   "source": [
    "Nous allons tout d'abord comparer les résultats obtenus vis à vis d'une discrétisation ou d'une autre. Nous analyserons ensuite pour une discrétisation donnée, les résultats obtenus pour chacune des deux parties."
   ]
  },
  {
   "cell_type": "markdown",
   "metadata": {},
   "source": [
    "---\n",
    "#### Comparaison des discrétisations.\n",
    "\n",
    "---\n",
    "\n",
    "En vérifiant les valeurs obtenues via la discrétisation de l'équation (1) sur le site http://openedx.seas.gwu.edu/courses/GW/MAE6286/2014_fall/about, nous constatons que les résultats sont valides mais diffèrent quelque peu des vraies valeurs. Si nous vérifions maintenant les résultats obtenus pour la discrétisation de l'équation (3), nous obtenons les résultats \"exacts\".\n",
    "\n",
    "La raisons de cette différence de valeur vient directement de l'équation que l'on discrétise. En effet, discrétiser l'éq. (1) ou discrétiser l'éq. (3) et y substituer l'expression de F discrétisé ne revient pas a faire la même chose même si cela semble revenir au même. On peut pour cela s'en rendre compte en observant les deux expressions discrétisées:\n",
    "\n",
    "$$\n",
    "\\left\\{\n",
    "    \\begin{array}{}\n",
    "        \\rho_{i}^{n+1} & = \\rho_{i}^{n} - v_{max} \\frac{\\Delta t}{\\Delta x} \\left( 1- \\frac{2 \\rho_{i}^{n}}{\\rho_{max}} \\right) \\left( \\rho_{i}^n - \\rho_{i-1}^n \\right)\\\\\n",
    "        \\rho_{i}^{n+1} & = \\rho_{i}^{n} - v_{max} \\frac{\\Delta t}{\\Delta x} \\left[\\rho_{i}^{n} \\left( 1- \\frac{ \\rho_{i}^{n}}{\\rho_{max}} \\right) - \\rho_{i-1}^n\\left( 1 - \\frac{ \\rho_{i-1}^{n}}{\\rho_{max}} \\right) \\right]\n",
    "    \\end{array}{}\n",
    "\\right.\n",
    "$$\n",
    "\n",
    "Ces deux discrétisations ne vont pas nous données les mêmes valeurs de $\\rho_{i}^{n+1}$ et de fait, ne vont pas nous donner les mêmes valeurs recherchées.\n",
    "\n",
    "En outre, la seconde discrétisation (discrétisation de l'éq. (3)) est celle qui nous fournira les valeurs correctes et ce car il s'agit de la discrétisation d'une équation qui ressemble à une équation de continuité (équation bilan de la masse). Elle rend compte de ce qui se passe physiquement à savoir la conservation de la densité globale e.g. qu'il ne peut pas y avoir création de 0.36 voiture par exemple (ce dont l'éq. (1) ne rend pas compte)."
   ]
  },
  {
   "cell_type": "markdown",
   "metadata": {},
   "source": [
    "---\n",
    "#### Analyse des résultats obtenus pour la discrétisation de l'équation (3).\n",
    "\n",
    "---\n",
    "\n",
    "→ On constate tout d'abord que le changement des CL (passage de 10 à 20 $voitures/km$) n'a pas d'impact sur l'allure générale de nos graphiques. Il a par contre pour conséquence de diminuer légèrement la vitesse minimale pour un temps donné (non-nul) ainsi que la vitesse moyenne. En effet, si nous effectuons l'exercice de remettre la CL à 10 au lieux de 20 dans la partie B (de la discrétisation de l'éq. (3)) afin de garder la $v_{max}$ constante, nous obtenons une valeur de $v_{moy}(t = 3 min)$ de $35.10$ $m/s$ au lieux de $33.87$ $m/s$. \n",
    "Ceci s'explique par le fait qu'augmenter la CL a pour conséquence de \"densifier\" le système. Par conséquent, le trafic peut évoluer moins rapidemment et donc la vitesse moyenne comme minimale y est moins élevée. C'est précisémment ce qui se passe lors d'un embouteillage.\n",
    "\n",
    "\n",
    "→ L'augmentation de la vitesse maximale du trafic a quant elle pour conséquence d'augmenter la valeur de l'ensemble des résultats et donc de modifier quelque peu l'allure de nos graphiques. Ceci nous semble tout a fait cohérent car comme nous l'avons expliquer auparavant, une augmentation de la vitesse maximale permet au système d'évoluer plus rapidemment et c'est précisémment ce que l'on observe si l'on compare les graphiques de la partie A et de la partie B pour une même question.\n",
    "A nouveau, pour bien s'en convaincre nous pouvons effectuer l'exercice de rechanger la valeur de $v_{max}$ pour la seconde discrétisation dans la partie B (et ce afin de garder la CL constante). Nous obtenons ainsi une valeur de $v_{moy}(t = 3 min)$ de $19.92$ $m/s$ ($v_{max}=80 m/s$) au lieu de $33.87$ $m/s$ ($v_{max}=136 m/s$). Nous voyons une augmentation significative de la vitesse moyenne lors de l'augmentation de $v_{max}$, conformément a ce que nous avons expliqué."
   ]
  },
  {
   "cell_type": "markdown",
   "metadata": {},
   "source": [
    "---\n",
    "\n",
    "##### 6. Conclusions:\n",
    "---\n",
    "\n",
    "\n",
    "Ce nouveau problème nous à permis de mettre en pratique certaines choses vues au cours des quatres notebook constituant cette nouvelle leçon. Citons notamment l'emplois de double indice (indexation) qui permet d'écrire plus succinctement une boucle for mais aussi la fonctionnalité proposée par sympy, e.g. le calcul sans effort de dérivée partielle. \n",
    "\n",
    "Il nous a également permis de vérifier notre bonne compréhension de la discrétisation d'une EDP mais à surtout mis en évidence qu'une discrétisation pouvait différée numériquement d'une autre même si aux premiers abords elles semblent similaires. Une étude plus approfondies nous auraient cependant permis de mieux comprendre les causes de la différence des valeurs obtenues.\n",
    "\n",
    "En outre nous avons pus modéliser des conditions assez réalistes de trafic et vu l'impact de certain paramètre comme la densité et la vitesse sur ce dernier."
   ]
  },
  {
   "cell_type": "markdown",
   "metadata": {},
   "source": [
    "---\n",
    "\n",
    "##### 7. Sources:\n",
    "---\n",
    "\n",
    "\n",
    "[1] Cours de MATH-F-101 (Calcul Différentiel et Intégral 1) présenté par M. Joel Fine et M. Denis Bonheure, professeurs à l'ULB.\n",
    "\n",
    "[2] Notebook *02.04 - 1D Burgers* de la série *Space and Time — Introduction to Finite-difference solutions of PDEs*"
   ]
  },
  {
   "cell_type": "markdown",
   "metadata": {},
   "source": [
    "---\n",
    "\n",
    "###### The cell below loads the style of the notebook."
   ]
  },
  {
   "cell_type": "code",
   "execution_count": 40,
   "metadata": {},
   "outputs": [
    {
     "data": {
      "text/html": [
       "<link href='http://fonts.googleapis.com/css?family=Alegreya+Sans:100,300,400,500,700,800,900,100italic,300italic,400italic,500italic,700italic,800italic,900italic' rel='stylesheet' type='text/css'>\n",
       "<link href='http://fonts.googleapis.com/css?family=Arvo:400,700,400italic' rel='stylesheet' type='text/css'>\n",
       "<link href='http://fonts.googleapis.com/css?family=PT+Mono' rel='stylesheet' type='text/css'>\n",
       "<link href='http://fonts.googleapis.com/css?family=Shadows+Into+Light' rel='stylesheet' type='text/css'>\n",
       "<link href='http://fonts.googleapis.com/css?family=Nixie+One' rel='stylesheet' type='text/css'>\n",
       "<link href='https://fonts.googleapis.com/css?family=Source+Code+Pro' rel='stylesheet' type='text/css'>\n",
       "<style>\n",
       "\n",
       "@font-face {\n",
       "    font-family: \"Computer Modern\";\n",
       "    src: url('http://mirrors.ctan.org/fonts/cm-unicode/fonts/otf/cmunss.otf');\n",
       "}\n",
       "\n",
       "#notebook_panel { /* main background */\n",
       "    background: rgb(245,245,245);\n",
       "}\n",
       "\n",
       "div.cell { /* set cell width */\n",
       "    width: 750px;\n",
       "}\n",
       "\n",
       "div #notebook { /* centre the content */\n",
       "    background: #fff; /* white background for content */\n",
       "    width: 1000px;\n",
       "    margin: auto;\n",
       "    padding-left: 0em;\n",
       "}\n",
       "\n",
       "#notebook li { /* More space between bullet points */\n",
       "    margin-top:0.8em;\n",
       "}\n",
       "\n",
       "/* draw border around running cells */\n",
       "div.cell.border-box-sizing.code_cell.running { \n",
       "    border: 1px solid #111;\n",
       "}\n",
       "\n",
       "/* Put a solid color box around each cell and its output, visually linking them*/\n",
       "div.cell.code_cell {\n",
       "    background-color: rgb(256,256,256); \n",
       "    border-radius: 0px; \n",
       "    padding: 0.5em;\n",
       "    margin-left:1em;\n",
       "    margin-top: 1em;\n",
       "}\n",
       "\n",
       "div.text_cell_render{\n",
       "    font-family: 'Alegreya Sans' sans-serif;\n",
       "    line-height: 140%;\n",
       "    font-size: 125%;\n",
       "    font-weight: 400;\n",
       "    width:600px;\n",
       "    margin-left:auto;\n",
       "    margin-right:auto;\n",
       "}\n",
       "\n",
       "\n",
       "/* Formatting for header cells */\n",
       ".text_cell_render h1 {\n",
       "    font-family: 'Nixie One', serif;\n",
       "    font-style:regular;\n",
       "    font-weight: 400;    \n",
       "    font-size: 45pt;\n",
       "    line-height: 100%;\n",
       "    color: rgb(0,51,102);\n",
       "    margin-bottom: 0.5em;\n",
       "    margin-top: 0.5em;\n",
       "    display: block;\n",
       "}\n",
       "\n",
       ".text_cell_render h2 {\n",
       "    font-family: 'Nixie One', serif;\n",
       "    font-weight: 400;\n",
       "    font-size: 30pt;\n",
       "    line-height: 100%;\n",
       "    color: rgb(0,51,102);\n",
       "    margin-bottom: 0.1em;\n",
       "    margin-top: 0.3em;\n",
       "    display: block;\n",
       "}\t\n",
       "\n",
       ".text_cell_render h3 {\n",
       "    font-family: 'Nixie One', serif;\n",
       "    margin-top:16px;\n",
       "    font-size: 22pt;\n",
       "    font-weight: 600;\n",
       "    margin-bottom: 3px;\n",
       "    font-style: regular;\n",
       "    color: rgb(102,102,0);\n",
       "}\n",
       "\n",
       ".text_cell_render h4 {    /*Use this for captions*/\n",
       "    font-family: 'Nixie One', serif;\n",
       "    font-size: 14pt;\n",
       "    text-align: center;\n",
       "    margin-top: 0em;\n",
       "    margin-bottom: 2em;\n",
       "    font-style: regular;\n",
       "}\n",
       "\n",
       ".text_cell_render h5 {  /*Use this for small titles*/\n",
       "    font-family: 'Nixie One', sans-serif;\n",
       "    font-weight: 400;\n",
       "    font-size: 16pt;\n",
       "    color: rgb(163,0,0);\n",
       "    font-style: italic;\n",
       "    margin-bottom: .1em;\n",
       "    margin-top: 0.8em;\n",
       "    display: block;\n",
       "}\n",
       "\n",
       ".text_cell_render h6 { /*use this for copyright note*/\n",
       "    font-family: 'PT Mono', sans-serif;\n",
       "    font-weight: 300;\n",
       "    font-size: 9pt;\n",
       "    line-height: 100%;\n",
       "    color: grey;\n",
       "    margin-bottom: 1px;\n",
       "    margin-top: 1px;\n",
       "}\n",
       "\n",
       ".CodeMirror{\n",
       "    font-family: \"Source Code Pro\";\n",
       "    font-size: 90%;\n",
       "}\n",
       "\n",
       ".alert-box {\n",
       "    padding:10px 10px 10px 36px;\n",
       "    margin:5px;\n",
       "}\n",
       "\n",
       ".success {\n",
       "    color:#666600;\n",
       "    background:rgb(240,242,229);\n",
       "}\n",
       "</style>\n",
       "<script>\n",
       "    MathJax.Hub.Config({\n",
       "                        TeX: {\n",
       "                           extensions: [\"AMSmath.js\"],\n",
       "                           equationNumbers: { autoNumber: \"AMS\", useLabelIds: true}\n",
       "                           },\n",
       "                tex2jax: {\n",
       "                    inlineMath: [ ['$','$'], [\"\\\\(\",\"\\\\)\"] ],\n",
       "                    displayMath: [ ['$$','$$'], [\"\\\\[\",\"\\\\]\"] ]\n",
       "                },\n",
       "                displayAlign: 'center', // Change this to 'center' to center equations.\n",
       "                \"HTML-CSS\": {\n",
       "                    styles: {'.MathJax_Display': {\"margin\": 4}}\n",
       "                }\n",
       "        });\n",
       "</script>\n"
      ],
      "text/plain": [
       "<IPython.core.display.HTML object>"
      ]
     },
     "execution_count": 40,
     "metadata": {},
     "output_type": "execute_result"
    }
   ],
   "source": [
    "from IPython.core.display import HTML\n",
    "css_file = 'styles/numericalmoocstyle.css'\n",
    "HTML(open(css_file, \"r\").read())"
   ]
  },
  {
   "cell_type": "code",
   "execution_count": null,
   "metadata": {
    "collapsed": true
   },
   "outputs": [],
   "source": []
  }
 ],
 "metadata": {
  "anaconda-cloud": {},
  "kernelspec": {
   "display_name": "Python 3",
   "language": "python",
   "name": "python3"
  },
  "language_info": {
   "codemirror_mode": {
    "name": "ipython",
    "version": 3
   },
   "file_extension": ".py",
   "mimetype": "text/x-python",
   "name": "python",
   "nbconvert_exporter": "python",
   "pygments_lexer": "ipython3",
   "version": "3.5.4"
  }
 },
 "nbformat": 4,
 "nbformat_minor": 1
}
